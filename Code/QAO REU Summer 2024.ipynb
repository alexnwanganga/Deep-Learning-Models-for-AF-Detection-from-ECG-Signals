{
 "cells": [
  {
   "cell_type": "markdown",
   "metadata": {},
   "source": [
    "# Deep Learning Models for AF Detection from ECG Signals\n",
    "\n",
    "<strong> Atrial fibrillation </strong> (AF) is the most common <strong> cardiac arrhythmia</strong>, a heart condition characterized\n",
    "by uncoordinated electrical pulses in the heart. These pulses can be read through <strong>ECG</strong>\n",
    "readings and a medical professional can diagnose AF by analyzing the ECG data. However,\n",
    "the intermittent nature of atrial fibrillation makes it challenging to detect AF in short ECG\n",
    "readings.\n",
    "\n",
    "• Our goal is to develop a machine learning model that can accurately diagnose AF despite its\n",
    "intermittent and random symptoms\n",
    "\n",
    "• Our model also must overcome the challenge of noisy ECG signals"
   ]
  },
  {
   "cell_type": "markdown",
   "metadata": {},
   "source": [
    "Imports the necessary libraris for the classical CNN (mostly torch) and for the quantum CNN (pennylane libraries)"
   ]
  },
  {
   "cell_type": "code",
   "execution_count": 12,
   "metadata": {},
   "outputs": [],
   "source": [
    "#-------------------------- OS & Waveform Libraries ----------------------------------------------------------\n",
    "\n",
    "import pandas as pd\n",
    "import scipy.io\n",
    "import csv\n",
    "import wfdb\n",
    "import os\n",
    "import shutil\n",
    "import time\n",
    "import random\n",
    "\n",
    "\n",
    "#---------------------------CNN Libraries---------------------------------------------------------\n",
    "\n",
    "import torch\n",
    "import torch.nn as nn\n",
    "import torch.optim as optim\n",
    "import numpy as np\n",
    "import matplotlib.pyplot as plt\n",
    "from sklearn.model_selection import train_test_split\n",
    "from sklearn.metrics import confusion_matrix, precision_score, recall_score, f1_score, accuracy_score, roc_auc_score, average_precision_score\n",
    "from torch.utils.data import DataLoader, TensorDataset, random_split\n",
    "from torch.optim import Adam\n",
    "\n",
    "#---------------------------Quantum Libraries---------------------------------------------------------\n",
    "\n",
    "import pennylane as qml\n",
    "from sklearn.preprocessing import normalize\n",
    "from sklearn.preprocessing import StandardScaler\n",
    "from pennylane.templates.embeddings import AngleEmbedding, AmplitudeEmbedding, BasisEmbedding, SqueezingEmbedding, DisplacementEmbedding, IQPEmbedding\n",
    "from math import ceil\n",
    "import pickle\n",
    "import traceback\n",
    "\n",
    "#---------------------------Hyper-parameter Tuniung Libraries---------------------------------------------------------\n",
    "\n",
    "from skopt import gp_minimize\n",
    "from skopt.space import Real, Integer\n",
    "from skopt.utils import use_named_args\n",
    "\n",
    "#--------------------------- Quantum PreProcessing/Embedding Libraries---------------------------------------------------------\n",
    "\n",
    "from scipy.fft import fft, fftshift\n",
    "from sklearn.decomposition import PCA\n",
    "from sklearn.manifold import TSNE\n",
    "from sklearn.metrics import log_loss\n",
    "from sklearn.preprocessing import normalize\n",
    "from sklearn.manifold import SpectralEmbedding\n",
    "from lpproj import LocalityPreservingProjection "
   ]
  },
  {
   "cell_type": "markdown",
   "metadata": {},
   "source": [
    "# 1. Sorting the Data\n",
    " We were given ECG Data in the form of .mat files with their respective header files (.hea) in one large folder, along with a referenece table in the form of a (.csv) file. Our first goal was to sort these data files to allow us ot be able to easily create a database in which we could train our Deep Learning Models. \n",
    " \n",
    " This first cell declares the paths to each folder."
   ]
  },
  {
   "cell_type": "code",
   "execution_count": 7,
   "metadata": {},
   "outputs": [],
   "source": [
    "#/path/to/your/respective/directory\n",
    "\n",
    "# Determines path to orgin as well as each destination  \n",
    "folder_A = '/Users/mateo/Repos/Deep-Learning-of-ECG-signals/Data/Class_A'\n",
    "folder_N = '/Users/mateo/Repos/Deep-Learning-of-ECG-signals/Data/Class_N'\n",
    "folder_O = '/Users/mateo/Repos/Deep-Learning-of-ECG-signals/Data/Class_O'\n",
    "source_dir = '/Users/mateo/Repos/Deep-Learning-of-ECG-signals/Data'\n",
    "ref_dir = '/Users/mateo/Repos/Deep-Learning-of-ECG-signals/References'"
   ]
  },
  {
   "cell_type": "markdown",
   "metadata": {},
   "source": [
    "This for loop cycles through the data in the source directory and reads, plots, and sorts the data into their respective folders according to the \"Reference.csv\" file. Our data consisted of 8,528 .mat files 59% of which were ECG signals from patients with a normal heartbeat and 9% of which is from patients diagnosed with AF, and the rest unclassfied. \n",
    "\n",
    "<strong> NOTICE: If running on Mac or PC with a small amount RAM or CPU cores this next cell will need to be run in a small number of cycles in the for loop. Try increments of 500 instead of all 8,528 at once can otherwise this can cause program or computer to crash. </strong>"
   ]
  },
  {
   "cell_type": "code",
   "execution_count": 8,
   "metadata": {},
   "outputs": [
    {
     "name": "stdout",
     "output_type": "stream",
     "text": [
      "File A00001 not found. Skipping.\n",
      "File A00002 not found. Skipping.\n",
      "File A00003 not found. Skipping.\n",
      "File A00004 not found. Skipping.\n",
      "File A00005 not found. Skipping.\n",
      "File A00006 not found. Skipping.\n",
      "File A00007 not found. Skipping.\n",
      "File A00008 not found. Skipping.\n",
      "File A00009 not found. Skipping.\n",
      "File A00010 not found. Skipping.\n"
     ]
    }
   ],
   "source": [
    "# Total number of files is 8528\n",
    "for i in range(0, 8528):\n",
    "    #Declares file name in each cycle \n",
    "    file_name = f'A{i+1:05d}' \n",
    "    \n",
    "    #Path to Header and Data files\n",
    "    data_path = os.path.join(source_dir, file_name)\n",
    "    \n",
    "    try:\n",
    "        \n",
    "        \n",
    "        #Reads header file \n",
    "        header = wfdb.rdheader(data_path)\n",
    "        print(f\"Header of file: {file_name}:\")\n",
    "        print(header)\n",
    "        \n",
    "        #Reads data file \n",
    "        record = wfdb.rdrecord(data_path)\n",
    "        print(f\"Signal Data of file: {file_name}:\")\n",
    "        print(record)\n",
    "        \n",
    "        #Extracts the signal data\n",
    "        for idx, signal in enumerate(record.p_signal.T):\n",
    "            print(f\"\\nSignal data for {file_name}:\")\n",
    "            print(signal)\n",
    "        \n",
    "        #Plots the signal data on graph \n",
    "        wfdb.plot_wfdb(record=record, title = f'Signal Data for {file_name}')\n",
    "            \n",
    "        \n",
    "        #Scans through csv file data \n",
    "        \n",
    "        #Finds path to reference file and scans thru new line in reference file \n",
    "        with open (os.path.join(ref_dir, 'REFERENCE.csv'), newline = '') as csvfile:\n",
    "            csv_reader = csv.reader(csvfile)\n",
    "            for row in csv_reader:\n",
    "                file_id, category = row\n",
    "                \n",
    "                #Checks if the current file read corresponds to the classifaication being read\n",
    "                if file_id == file_name:\n",
    "                \n",
    "                    #Determines destination based on category\n",
    "                    if category == 'N':\n",
    "                        target_dir = folder_N\n",
    "                    elif category == 'A':\n",
    "                        target_dir = folder_A\n",
    "                    else:\n",
    "                        target_dir = folder_O\n",
    "                    \n",
    "                    # Source and destination paths\n",
    "                    source_path_mat = os.path.join(source_dir, f'{file_name}.mat')\n",
    "                    dest_path_mat = os.path.join(target_dir, f'{file_name}.mat')\n",
    "                    source_path_hea = os.path.join(source_dir, f'{file_name}.hea')\n",
    "                    dest_path_hea = os.path.join(target_dir, f'{file_name}.hea')\n",
    "                    \n",
    "                    # Moves the .mat and .hea file to the target directory\n",
    "                    if os.path.exists(source_path_mat):\n",
    "                        shutil.move(source_path_mat, dest_path_mat)\n",
    "                        shutil.move(source_path_hea, dest_path_hea)\n",
    "                        print(f\"Moved from {source_path_mat} to {dest_path_mat}\")\n",
    "                    else:\n",
    "                        print(f\"File in {source_path_mat} not found. Skipping.\")\n",
    "\n",
    "        \n",
    "    # Allows program to continue if the expected file is not in the original specified location   \n",
    "    except FileNotFoundError:\n",
    "        print(f\"File {file_name} not found. Skipping.\")\n",
    "        continue\n",
    "        "
   ]
  },
  {
   "cell_type": "markdown",
   "metadata": {},
   "source": [
    "# 2. Creating DataFrame\n",
    "\n",
    "Our next step was to load the sorted data files into our program in a format the CNN could process."
   ]
  },
  {
   "cell_type": "markdown",
   "metadata": {},
   "source": [
    "This first cell defines the functions for the creationn of the dataframe. "
   ]
  },
  {
   "cell_type": "code",
   "execution_count": 9,
   "metadata": {},
   "outputs": [],
   "source": [
    "#--------------------------Read and Combine Funtions----------------------------------------------------------\n",
    "\n",
    "def read_mat_files(folder_path, label):\n",
    "    data_list = [] \n",
    "    label_list = []\n",
    "\n",
    "    #Loads all the mat files in the folder\n",
    "    for filename in os.listdir(folder_path):\n",
    "        if filename.endswith(\".mat\"):\n",
    "            file_path = os.path.join(folder_path, filename)\n",
    "            mat_data = scipy.io.loadmat(file_path)\n",
    "            \n",
    "            data_list.append(mat_data)\n",
    "            label_list.append(label)\n",
    "\n",
    "    return data_list, label_list\n",
    "\n",
    "def combine_data(folder_paths):\n",
    "    all_data = []\n",
    "    all_labels = []\n",
    "    signals_array = []\n",
    "\n",
    "    #\n",
    "    for label, folder_path in enumerate(folder_paths):\n",
    "        data_list, labels = read_mat_files(folder_path, label)\n",
    "        all_data.extend(data_list)\n",
    "        all_labels.extend(labels)\n",
    "\n",
    "        # Process each .mat file in the folder\n",
    "        for filename in os.listdir(folder_path):\n",
    "            if filename.endswith(\".mat\"):\n",
    "                file_path = os.path.join(folder_path, filename)\n",
    "                record = wfdb.rdrecord(file_path.replace(\".mat\", \"\"))\n",
    "                \n",
    "                for idx, signal in enumerate(record.p_signal.T):\n",
    "                    signals_array.append(signal)\n",
    "\n",
    "    # Convert to DataFrame\n",
    "    dataFrame = pd.DataFrame(signals_array)\n",
    "    labelSeries = pd.Series(all_labels, name='label')\n",
    "\n",
    "    return dataFrame, labelSeries\n",
    "    \n",
    "def set_seed(seed):\n",
    "    random.seed(seed)\n",
    "    np.random.seed(seed)\n",
    "    torch.manual_seed(seed)\n",
    "    if torch.cuda.is_available():\n",
    "        torch.cuda.manual_seed(seed)\n",
    "        torch.cuda.manual_seed_all(seed)\n",
    "    torch.backends.cudnn.deterministic = True\n",
    "    torch.backends.cudnn.benchmark = False\n"
   ]
  },
  {
   "cell_type": "markdown",
   "metadata": {},
   "source": [
    "In this block we create the dataframe by calling the previous functions and save the dataframe as a .csv file for easy reference for any other programs working with this data. \n",
    "\n",
    "Since folder O contains unclassified data and we want to create a binary classifier we only use the data from folders A and N. Of the data we are actually using in our model 88% is from patients with a normal heartbeat, and 12% from those diagnosed with AF."
   ]
  },
  {
   "cell_type": "code",
   "execution_count": 10,
   "metadata": {},
   "outputs": [
    {
     "name": "stdout",
     "output_type": "stream",
     "text": [
      "DataFrame shape: (5788, 18286)\n",
      "Label Series shape: (5788,)\n",
      "Combined and randomized DataFrame shape: (5788, 18287)\n",
      "CSV file created successfully.\n"
     ]
    }
   ],
   "source": [
    "#---------------------------------Defining Database Structure---------------------------------------------------\n",
    "\n",
    "# Determines path to each class folder\n",
    "folder_paths = [\n",
    "    '/Users/mateo/Repos/Deep-Learning-of-ECG-signals/Data/Class_A',\n",
    "    '/Users/mateo/Repos/Deep-Learning-of-ECG-signals/Data/Class_N'  #Removed Folder O since we want binary classification\n",
    "]\n",
    "\n",
    "# Combine data\n",
    "dataFrame, labelSeries = combine_data(folder_paths)\n",
    " \n",
    "# Verify that DataFrame and Series are created properly\n",
    "print(f\"DataFrame shape: {dataFrame.shape}\")\n",
    "print(f\"Label Series shape: {labelSeries.shape}\")\n",
    "\n",
    "# Combine DataFrame and Series\n",
    "dataFrame = pd.concat([labelSeries, dataFrame], axis=1)\n",
    "\n",
    "# Randomize the rows in the DataFrame\n",
    "dataFrame = dataFrame.sample(frac=1, random_state=43).reset_index(drop=True)\n",
    "\n",
    "# Verify the combined DataFrame\n",
    "print(f\"Combined and randomized DataFrame shape: {dataFrame.shape}\")\n",
    "\n",
    "# Save to CSV\n",
    "try:\n",
    "    dataFrame.to_csv('combined_ECG_Data.csv', index=False)\n",
    "    print(\"CSV file created successfully.\")\n",
    "except Exception as e:\n",
    "    print(f\"Error saving CSV file: {e}\")\n"
   ]
  },
  {
   "cell_type": "markdown",
   "metadata": {},
   "source": [
    "# 3. Create and Train the Convolutional Neural Network\n",
    "\n",
    "First step is to designate the training and testing sets as well as the length of ECG signal to analyze. We also randomize the the dataframe rows to help distribute the amount of normal data and AF data between the training and testing sets."
   ]
  },
  {
   "cell_type": "code",
   "execution_count": 13,
   "metadata": {},
   "outputs": [
    {
     "name": "stdout",
     "output_type": "stream",
     "text": [
      "Shape of train DataFrame: (4000, 18287)\n",
      "Train Shape - voltages, label:\n",
      "(4000, 960) (4000,)\n",
      "Test Shape - voltages, label:\n",
      "(1787, 960) (1787,)\n"
     ]
    }
   ],
   "source": [
    "#---------------------------------Designating Training and Testing Sets--------------------------------------------\n",
    "\n",
    "# --- Train and Test split manually (total # of recordings is 5788) ---\n",
    "# --- Dataset: Previously sectioned ECG recordings into 2-second (360 Hz) windows ---\n",
    "\n",
    "train = dataFrame.iloc[0:4000] \n",
    "test = dataFrame.iloc[4001:]\n",
    "\n",
    "sub_timewindow = 960\n",
    "\n",
    "# Print the shape of train to understand its dimensions\n",
    "print(\"Shape of train DataFrame:\", train.shape)\n",
    "\n",
    "X_train = train.iloc[:, 0:sub_timewindow].values  # voltages, train\n",
    "X_test = test.iloc[:, 0:sub_timewindow].values    # voltages, test\n",
    "Y_train = train['label'].values      # results, train\n",
    "Y_test = test['label'].values        # results, test\n",
    "\n",
    "print('Train Shape - voltages, label:')\n",
    "print(X_train.shape, Y_train.shape)\n",
    "print('Test Shape - voltages, label:')\n",
    "print(X_test.shape, Y_test.shape)\n",
    "\n",
    "# Convert to PyTorch tensors\n",
    "X_train_tensor = torch.tensor(X_train, dtype=torch.float32).unsqueeze(2)\n",
    "X_test_tensor = torch.tensor(X_test, dtype=torch.float32).unsqueeze(2)\n",
    "Y_train_tensor = torch.tensor(Y_train, dtype=torch.float32)\n",
    "Y_test_tensor = torch.tensor(Y_test, dtype=torch.float32)\n",
    "\n",
    "# ---------------------------------- Create training and validation sets -----------------------------------------\n",
    "\n",
    "# Set a seed value\n",
    "seed = 43\n",
    "set_seed(seed)\n",
    "\n",
    "# Split the training set into training and validation\n",
    "val_split = 0.2\n",
    "train_size = int((1 - val_split) * len(X_train_tensor))\n",
    "val_size = len(X_train_tensor) - train_size\n",
    "train_dataset, val_dataset = random_split(TensorDataset(X_train_tensor, Y_train_tensor), [train_size, val_size])\n",
    "\n",
    "# DataLoaders for training, validation, and test setsr\n",
    "batch_size = 16\n",
    "train_loader = DataLoader(train_dataset, batch_size=batch_size, shuffle=True)\n",
    "val_loader = DataLoader(val_dataset, batch_size=batch_size, shuffle=False)\n",
    "test_loader = DataLoader(TensorDataset(X_test_tensor, Y_test_tensor), batch_size=batch_size, shuffle=False)\n"
   ]
  },
  {
   "cell_type": "markdown",
   "metadata": {},
   "source": [
    "In this next block we define our CNN model. 1D Convolutional Neural Networks are good at learning and extracting import features from the data set so we let the model determine the parameters and patterns ot look for without telling it what to look for.  "
   ]
  },
  {
   "cell_type": "code",
   "execution_count": 14,
   "metadata": {},
   "outputs": [],
   "source": [
    "#---------------------------------Defining Model---------------------------------------------------\n",
    "\n",
    "# Define the model architecture in PyTorch\n",
    "class ECGModel(nn.Module):\n",
    "    def __init__(self, num_filters, kernel_size, dropout_rate): # Allows for inout of hyperparameter changes\n",
    "        super(ECGModel, self).__init__()\n",
    "        self.conv1 = nn.Conv1d(in_channels=1, out_channels=num_filters, kernel_size=kernel_size)\n",
    "        self.conv2 = nn.Conv1d(in_channels=num_filters, out_channels=num_filters*2, kernel_size=kernel_size)\n",
    "        self.pool = nn.MaxPool1d(3)\n",
    "        self.conv3 = nn.Conv1d(in_channels=num_filters*2, out_channels=num_filters*4, kernel_size=kernel_size)\n",
    "        self.global_avg_pool = nn.AdaptiveAvgPool1d(1)  # Equivalent to GlobalAveragePooling1D\n",
    "        self.dropout = nn.Dropout(p=dropout_rate)\n",
    "        self.fc = nn.Linear(num_filters*4, 1)\n",
    "    \n",
    "    def forward(self, x):\n",
    "        x = x.view(x.size(0), 1, -1)  # Reshape to (batch_size, channels, sequence_length)\n",
    "        x = torch.relu(self.conv1(x))\n",
    "        x = torch.relu(self.conv2(x))\n",
    "        x = self.pool(x)\n",
    "        x = torch.relu(self.conv3(x))\n",
    "        x = self.global_avg_pool(x).squeeze(-1)\n",
    "        x = torch.sigmoid(self.fc(x))\n",
    "        return x"
   ]
  },
  {
   "cell_type": "markdown",
   "metadata": {},
   "source": [
    "Below we optimize the hyperparameters of our model to help improve the results. We also declare the device to run on and ensure that Apple Silicon Macs are able to use GPU acceleration as well as PCs. If running on Apple Silicon Mac check out the PyTorch documentation to ensure that your version of PyTorch required for GPU acceleration (PyTorch Preview(Nightly)). \n",
    "\n",
    "https://pytorch.org/get-started/locally/"
   ]
  },
  {
   "cell_type": "code",
   "execution_count": 15,
   "metadata": {},
   "outputs": [
    {
     "name": "stdout",
     "output_type": "stream",
     "text": [
      "Params: {'num_filters': 104, 'kernel_size': 4, 'learning_rate': 0.0021830968390524623, 'dropout_rate': 0.33874006317859484, 'batch_size': 61}\n",
      "Params: {'num_filters': 20, 'kernel_size': 5, 'learning_rate': 0.00010025956902289566, 'dropout_rate': 0.15714672716877634, 'batch_size': 86}\n",
      "Params: {'num_filters': 15, 'kernel_size': 6, 'learning_rate': 0.006541210527692739, 'dropout_rate': 0.10031150633640573, 'batch_size': 127}\n",
      "Params: {'num_filters': 82, 'kernel_size': 5, 'learning_rate': 1.0500232504231345e-05, 'dropout_rate': 0.10922497001656631, 'batch_size': 71}\n",
      "Params: {'num_filters': 56, 'kernel_size': 3, 'learning_rate': 0.008341930294140789, 'dropout_rate': 0.19310853617212173, 'batch_size': 19}\n",
      "Params: {'num_filters': 82, 'kernel_size': 5, 'learning_rate': 0.008906204386161689, 'dropout_rate': 0.286705157299192, 'batch_size': 111}\n",
      "Params: {'num_filters': 90, 'kernel_size': 5, 'learning_rate': 1.0959604536925834e-05, 'dropout_rate': 0.4768807022739412, 'batch_size': 76}\n",
      "Params: {'num_filters': 54, 'kernel_size': 3, 'learning_rate': 4.9281222976955033e-05, 'dropout_rate': 0.19641018641040472, 'batch_size': 90}\n",
      "Params: {'num_filters': 81, 'kernel_size': 6, 'learning_rate': 3.3120277014659436e-05, 'dropout_rate': 0.25642424302929634, 'batch_size': 30}\n",
      "Params: {'num_filters': 99, 'kernel_size': 5, 'learning_rate': 4.205571187007204e-05, 'dropout_rate': 0.3270801311279966, 'batch_size': 12}\n",
      "Params: {'num_filters': 125, 'kernel_size': 7, 'learning_rate': 0.007431034872994811, 'dropout_rate': 0.4774751730992949, 'batch_size': 9}\n",
      "Params: {'num_filters': 9, 'kernel_size': 7, 'learning_rate': 1.1606912998044582e-05, 'dropout_rate': 0.4929143315025507, 'batch_size': 107}\n",
      "Params: {'num_filters': 120, 'kernel_size': 3, 'learning_rate': 1.2116293541995353e-05, 'dropout_rate': 0.49287779343460403, 'batch_size': 120}\n",
      "Params: {'num_filters': 13, 'kernel_size': 3, 'learning_rate': 0.009084544776431072, 'dropout_rate': 0.4886786406343878, 'batch_size': 32}\n",
      "Params: {'num_filters': 124, 'kernel_size': 7, 'learning_rate': 0.007276567376464547, 'dropout_rate': 0.11371390902318652, 'batch_size': 23}\n",
      "Params: {'num_filters': 10, 'kernel_size': 7, 'learning_rate': 0.008632545353044425, 'dropout_rate': 0.4808905335102358, 'batch_size': 118}\n",
      "Params: {'num_filters': 128, 'kernel_size': 3, 'learning_rate': 1.055799979667384e-05, 'dropout_rate': 0.11882162434320925, 'batch_size': 8}\n",
      "Params: {'num_filters': 122, 'kernel_size': 7, 'learning_rate': 1.1362730148781455e-05, 'dropout_rate': 0.13620345049855875, 'batch_size': 125}\n",
      "Params: {'num_filters': 116, 'kernel_size': 3, 'learning_rate': 0.009224790515723818, 'dropout_rate': 0.10897187542488612, 'batch_size': 126}\n",
      "Params: {'num_filters': 21, 'kernel_size': 3, 'learning_rate': 1.276800038243293e-05, 'dropout_rate': 0.49331925306866775, 'batch_size': 127}\n",
      "Params: {'num_filters': 8, 'kernel_size': 7, 'learning_rate': 1.351953511794178e-05, 'dropout_rate': 0.18120001985109224, 'batch_size': 8}\n",
      "Params: {'num_filters': 126, 'kernel_size': 7, 'learning_rate': 0.00506580739567963, 'dropout_rate': 0.4827760488781234, 'batch_size': 13}\n",
      "Params: {'num_filters': 8, 'kernel_size': 7, 'learning_rate': 2.9439578635089032e-05, 'dropout_rate': 0.12817117162178804, 'batch_size': 9}\n",
      "Params: {'num_filters': 15, 'kernel_size': 3, 'learning_rate': 0.009353996795366618, 'dropout_rate': 0.1328139264916799, 'batch_size': 8}\n",
      "Params: {'num_filters': 121, 'kernel_size': 7, 'learning_rate': 0.009127874650088727, 'dropout_rate': 0.48328285899263657, 'batch_size': 118}\n",
      "Params: {'num_filters': 128, 'kernel_size': 3, 'learning_rate': 1.175212840970289e-05, 'dropout_rate': 0.11434727105943342, 'batch_size': 123}\n",
      "Params: {'num_filters': 11, 'kernel_size': 3, 'learning_rate': 0.003836654770329779, 'dropout_rate': 0.47039956524120885, 'batch_size': 13}\n",
      "Params: {'num_filters': 126, 'kernel_size': 3, 'learning_rate': 1.0439162989293253e-05, 'dropout_rate': 0.44640945306483615, 'batch_size': 12}\n",
      "Params: {'num_filters': 123, 'kernel_size': 7, 'learning_rate': 0.009661408750878092, 'dropout_rate': 0.4998833875338897, 'batch_size': 114}\n",
      "Params: {'num_filters': 17, 'kernel_size': 3, 'learning_rate': 1.0964519251953667e-05, 'dropout_rate': 0.4861842420863888, 'batch_size': 128}\n",
      "Params: {'num_filters': 9, 'kernel_size': 6, 'learning_rate': 1.0295038162954981e-05, 'dropout_rate': 0.496439539454135, 'batch_size': 12}\n",
      "Params: {'num_filters': 13, 'kernel_size': 7, 'learning_rate': 0.006195964616478144, 'dropout_rate': 0.12381623051210287, 'batch_size': 121}\n",
      "Params: {'num_filters': 9, 'kernel_size': 7, 'learning_rate': 1.1897291428773525e-05, 'dropout_rate': 0.10190822372017068, 'batch_size': 107}\n",
      "Params: {'num_filters': 123, 'kernel_size': 3, 'learning_rate': 0.007358511820975764, 'dropout_rate': 0.13496844332622265, 'batch_size': 121}\n",
      "Params: {'num_filters': 24, 'kernel_size': 3, 'learning_rate': 0.00724741520707123, 'dropout_rate': 0.49980650296883866, 'batch_size': 128}\n",
      "Params: {'num_filters': 113, 'kernel_size': 7, 'learning_rate': 1.018185631544344e-05, 'dropout_rate': 0.4866431662484467, 'batch_size': 119}\n",
      "Params: {'num_filters': 126, 'kernel_size': 7, 'learning_rate': 1.0128298099798756e-05, 'dropout_rate': 0.12151709887360908, 'batch_size': 24}\n",
      "Params: {'num_filters': 9, 'kernel_size': 7, 'learning_rate': 1.986325026086052e-05, 'dropout_rate': 0.11673945216765864, 'batch_size': 9}\n",
      "Params: {'num_filters': 124, 'kernel_size': 3, 'learning_rate': 1.1905735662649026e-05, 'dropout_rate': 0.1011792906000856, 'batch_size': 124}\n",
      "Params: {'num_filters': 19, 'kernel_size': 3, 'learning_rate': 1.0857576676769688e-05, 'dropout_rate': 0.4929344946158095, 'batch_size': 9}\n",
      "Params: {'num_filters': 128, 'kernel_size': 7, 'learning_rate': 0.008573116529432072, 'dropout_rate': 0.12338695826865885, 'batch_size': 16}\n",
      "Params: {'num_filters': 115, 'kernel_size': 3, 'learning_rate': 0.0031542236908068022, 'dropout_rate': 0.49082788363267416, 'batch_size': 9}\n",
      "Params: {'num_filters': 13, 'kernel_size': 3, 'learning_rate': 0.005285294238087775, 'dropout_rate': 0.12264752836135379, 'batch_size': 113}\n",
      "Params: {'num_filters': 15, 'kernel_size': 7, 'learning_rate': 0.007088308757844122, 'dropout_rate': 0.495083364242605, 'batch_size': 118}\n",
      "Params: {'num_filters': 15, 'kernel_size': 3, 'learning_rate': 1.052368720813108e-05, 'dropout_rate': 0.10971275081010406, 'batch_size': 122}\n",
      "Params: {'num_filters': 10, 'kernel_size': 3, 'learning_rate': 0.009906984247852505, 'dropout_rate': 0.11498737638609222, 'batch_size': 19}\n",
      "Params: {'num_filters': 19, 'kernel_size': 7, 'learning_rate': 0.008898245638193908, 'dropout_rate': 0.4945271942970815, 'batch_size': 128}\n",
      "Params: {'num_filters': 123, 'kernel_size': 7, 'learning_rate': 1.376649461498903e-05, 'dropout_rate': 0.48592438173417196, 'batch_size': 10}\n",
      "Params: {'num_filters': 15, 'kernel_size': 3, 'learning_rate': 0.008298391738221498, 'dropout_rate': 0.47651840852520366, 'batch_size': 15}\n",
      "Params: {'num_filters': 18, 'kernel_size': 7, 'learning_rate': 0.006777836268436683, 'dropout_rate': 0.10997412030455711, 'batch_size': 12}\n"
     ]
    }
   ],
   "source": [
    "#---------------------------------Define Space---------------------------------------------------\n",
    "\n",
    "space = [\n",
    "    Integer(8, 128, name='num_filters'),\n",
    "    Integer(3, 7, name='kernel_size'),\n",
    "    Real(1e-5, 1e-2, \"log-uniform\", name='learning_rate'),\n",
    "    Real(0.1, 0.5, name='dropout_rate'),\n",
    "    Integer(8, 128, name='batch_size')\n",
    "]\n",
    "\n",
    "#---------------------------------Determining Hyperparameters---------------------------------------------------\n",
    "\n",
    "# Define the objective function\n",
    "@use_named_args(space)\n",
    "def objective(**params):\n",
    "    num_filters = params['num_filters']\n",
    "    kernel_size = params['kernel_size']\n",
    "    learning_rate = params['learning_rate']\n",
    "    dropout_rate = params['dropout_rate']\n",
    "    batch_size = params['batch_size']\n",
    "\n",
    "    # Print parameters for debugging\n",
    "    print(f'Params: {params}')\n",
    "\n",
    "    # Check if batch_size is valid\n",
    "    if not isinstance(batch_size, int) or batch_size <= 0:\n",
    "        return -1e10\n",
    "\n",
    "    # Create data loaders\n",
    "    train_loader = DataLoader(train_dataset, batch_size=batch_size, shuffle=True)\n",
    "    val_loader = DataLoader(val_dataset, batch_size=batch_size, shuffle=False)\n",
    "\n",
    "    # Create model\n",
    "    model = ECGModel(num_filters, kernel_size, dropout_rate).to(device)\n",
    "    criterion = nn.BCELoss()\n",
    "    optimizer = optim.Adam(model.parameters(), lr=learning_rate)\n",
    "\n",
    "    # Training loop\n",
    "    epochs = 100\n",
    "    for epoch in range(epochs):\n",
    "        model.train()\n",
    "        running_train_loss = 0.0\n",
    "        for inputs, labels in train_loader:\n",
    "            inputs, labels = inputs.to(device), labels.to(device)\n",
    "            optimizer.zero_grad()\n",
    "            outputs = model(inputs)\n",
    "            loss = criterion(outputs.squeeze(), labels)\n",
    "            loss.backward()\n",
    "            optimizer.step()\n",
    "            running_train_loss += loss.item()\n",
    "        \n",
    "        avg_train_loss = running_train_loss / len(train_loader)\n",
    "\n",
    "    # Validation\n",
    "    model.eval()\n",
    "    y_true, y_pred = [], []\n",
    "    with torch.no_grad():\n",
    "        for inputs, labels in val_loader:\n",
    "            inputs, labels = inputs.to(device), labels.to(device)\n",
    "            outputs = model(inputs)\n",
    "            y_true.extend(labels.cpu().numpy())\n",
    "            y_pred.extend(outputs.squeeze().cpu().numpy())\n",
    "    \n",
    "    y_true = np.array(y_true)\n",
    "    y_pred = np.array(y_pred)\n",
    "    auroc = roc_auc_score(y_true, y_pred)\n",
    "    auprc = average_precision_score(y_true, y_pred)\n",
    "\n",
    "    # Check for large values\n",
    "    if np.isnan(auroc) or np.isnan(auprc) or np.isinf(auroc) or np.isinf(auprc):\n",
    "        return -1e10  # Assign a large negative value if nan or inf is encountered\n",
    "    print('AUROC: ', auroc)\n",
    "    print('AUPRC: ', auprc)\n",
    "    # Return the negative value since we want to maximize these scores\n",
    "    return -(auroc + auprc)\n",
    "\n",
    "# Device configuration\n",
    "\n",
    "# Check for MPS availability \n",
    "if torch.backends.mps.is_available():\n",
    "    device = torch.device(\"mps\")\n",
    "else:\n",
    "    device = torch.device(\"cuda\" if torch.cuda.is_available() else \"cpu\")\n",
    "\n",
    "\n",
    "# Perform Bayesian Optimization\n",
    "res = gp_minimize(objective, space, n_calls=50, random_state=42)"
   ]
  },
  {
   "cell_type": "markdown",
   "metadata": {},
   "source": [
    "The cell cycles thru the data according to teh specified number of \"epochs\" training the data each time. It is desiged to stop early of the \"learning rate\" is below a certain threshold after the specified time \"patience\". The validation phase records the learning loss in each iteration. "
   ]
  },
  {
   "cell_type": "code",
   "execution_count": 16,
   "metadata": {},
   "outputs": [
    {
     "name": "stdout",
     "output_type": "stream",
     "text": [
      "Best parameters: [104, 4, 0.0021830968390524623, 0.33874006317859484, 61]\n",
      "ECGModel(\n",
      "  (conv1): Conv1d(1, 104, kernel_size=(4,), stride=(1,))\n",
      "  (conv2): Conv1d(104, 208, kernel_size=(4,), stride=(1,))\n",
      "  (pool): MaxPool1d(kernel_size=3, stride=3, padding=0, dilation=1, ceil_mode=False)\n",
      "  (conv3): Conv1d(208, 416, kernel_size=(4,), stride=(1,))\n",
      "  (global_avg_pool): AdaptiveAvgPool1d(output_size=1)\n",
      "  (dropout): Dropout(p=0.33874006317859484, inplace=False)\n",
      "  (fc): Linear(in_features=416, out_features=1, bias=True)\n",
      ")\n",
      "Epoch 1/100, Training Loss: 0.3938, Validation Loss: 0.3778\n",
      "Epoch 2/100, Training Loss: 0.3829, Validation Loss: 0.3883\n",
      "Epoch 3/100, Training Loss: 0.3865, Validation Loss: 0.3741\n",
      "Epoch 4/100, Training Loss: 0.3836, Validation Loss: 0.3687\n",
      "Epoch 5/100, Training Loss: 0.3841, Validation Loss: 0.3718\n",
      "Epoch 6/100, Training Loss: 0.3819, Validation Loss: 0.3700\n",
      "Epoch 7/100, Training Loss: 0.3833, Validation Loss: 0.3654\n",
      "Epoch 8/100, Training Loss: 0.3821, Validation Loss: 0.3675\n",
      "Epoch 9/100, Training Loss: 0.3820, Validation Loss: 0.3655\n",
      "Epoch 10/100, Training Loss: 0.3804, Validation Loss: 0.3643\n",
      "Epoch 11/100, Training Loss: 0.3808, Validation Loss: 0.3696\n",
      "Epoch 12/100, Training Loss: 0.3832, Validation Loss: 0.3729\n",
      "Epoch 13/100, Training Loss: 0.3799, Validation Loss: 0.3692\n",
      "Epoch 14/100, Training Loss: 0.3841, Validation Loss: 0.3673\n",
      "Epoch 15/100, Training Loss: 0.3835, Validation Loss: 0.3631\n",
      "Epoch 16/100, Training Loss: 0.3831, Validation Loss: 0.3631\n",
      "Epoch 17/100, Training Loss: 0.3792, Validation Loss: 0.3621\n",
      "Epoch 18/100, Training Loss: 0.3739, Validation Loss: 0.3553\n",
      "Epoch 19/100, Training Loss: 0.3561, Validation Loss: 0.3167\n",
      "Epoch 20/100, Training Loss: 0.3006, Validation Loss: 0.2314\n",
      "Epoch 21/100, Training Loss: 0.1886, Validation Loss: 0.1162\n",
      "Epoch 22/100, Training Loss: 0.1005, Validation Loss: 0.0685\n",
      "Epoch 23/100, Training Loss: 0.0617, Validation Loss: 0.0427\n",
      "Epoch 24/100, Training Loss: 0.0417, Validation Loss: 0.0447\n",
      "Epoch 25/100, Training Loss: 0.0356, Validation Loss: 0.0359\n",
      "Epoch 26/100, Training Loss: 0.0304, Validation Loss: 0.0233\n",
      "Epoch 27/100, Training Loss: 0.0214, Validation Loss: 0.0217\n",
      "Epoch 28/100, Training Loss: 0.0256, Validation Loss: 0.0199\n",
      "Epoch 29/100, Training Loss: 0.0187, Validation Loss: 0.0172\n",
      "Epoch 30/100, Training Loss: 0.0202, Validation Loss: 0.0208\n",
      "Epoch 31/100, Training Loss: 0.0171, Validation Loss: 0.0160\n",
      "Epoch 32/100, Training Loss: 0.0165, Validation Loss: 0.0148\n",
      "Epoch 33/100, Training Loss: 0.0161, Validation Loss: 0.0171\n",
      "Epoch 34/100, Training Loss: 0.0192, Validation Loss: 0.0229\n",
      "Epoch 35/100, Training Loss: 0.0142, Validation Loss: 0.0190\n",
      "Epoch 36/100, Training Loss: 0.0193, Validation Loss: 0.0138\n",
      "Epoch 37/100, Training Loss: 0.0130, Validation Loss: 0.0132\n",
      "Epoch 38/100, Training Loss: 0.0151, Validation Loss: 0.0131\n",
      "Epoch 39/100, Training Loss: 0.0115, Validation Loss: 0.0124\n",
      "Epoch 40/100, Training Loss: 0.0141, Validation Loss: 0.0183\n",
      "Epoch 41/100, Training Loss: 0.0127, Validation Loss: 0.0136\n",
      "Epoch 42/100, Training Loss: 0.0113, Validation Loss: 0.0150\n",
      "Epoch 43/100, Training Loss: 0.0143, Validation Loss: 0.0115\n",
      "Epoch 44/100, Training Loss: 0.0105, Validation Loss: 0.0141\n",
      "Epoch 45/100, Training Loss: 0.0094, Validation Loss: 0.0130\n",
      "Epoch 46/100, Training Loss: 0.0175, Validation Loss: 0.0135\n",
      "Epoch 47/100, Training Loss: 0.0113, Validation Loss: 0.0123\n",
      "Epoch 48/100, Training Loss: 0.0098, Validation Loss: 0.0101\n",
      "Epoch 49/100, Training Loss: 0.0079, Validation Loss: 0.0111\n",
      "Epoch 50/100, Training Loss: 0.0106, Validation Loss: 0.0102\n",
      "Epoch 51/100, Training Loss: 0.0079, Validation Loss: 0.0170\n",
      "Epoch 52/100, Training Loss: 0.0081, Validation Loss: 0.0109\n",
      "Epoch 53/100, Training Loss: 0.0167, Validation Loss: 0.0151\n",
      "Epoch 54/100, Training Loss: 0.0118, Validation Loss: 0.0113\n",
      "Epoch 55/100, Training Loss: 0.0089, Validation Loss: 0.0097\n",
      "Epoch 56/100, Training Loss: 0.0087, Validation Loss: 0.0091\n",
      "Epoch 57/100, Training Loss: 0.0123, Validation Loss: 0.0095\n",
      "Epoch 58/100, Training Loss: 0.0077, Validation Loss: 0.0115\n",
      "Epoch 59/100, Training Loss: 0.0082, Validation Loss: 0.0098\n",
      "Epoch 60/100, Training Loss: 0.0157, Validation Loss: 0.0186\n",
      "Epoch 61/100, Training Loss: 0.0099, Validation Loss: 0.0106\n",
      "Epoch 62/100, Training Loss: 0.0089, Validation Loss: 0.0105\n",
      "Epoch 63/100, Training Loss: 0.0077, Validation Loss: 0.0076\n",
      "Epoch 64/100, Training Loss: 0.0110, Validation Loss: 0.0108\n",
      "Epoch 65/100, Training Loss: 0.0119, Validation Loss: 0.0120\n",
      "Epoch 66/100, Training Loss: 0.0106, Validation Loss: 0.0080\n",
      "Epoch 67/100, Training Loss: 0.0080, Validation Loss: 0.0074\n",
      "Epoch 68/100, Training Loss: 0.0078, Validation Loss: 0.0102\n",
      "Epoch 69/100, Training Loss: 0.0100, Validation Loss: 0.0094\n",
      "Epoch 70/100, Training Loss: 0.0068, Validation Loss: 0.0083\n",
      "Epoch 71/100, Training Loss: 0.0097, Validation Loss: 0.0278\n",
      "Epoch 72/100, Training Loss: 0.0112, Validation Loss: 0.0087\n",
      "Epoch 73/100, Training Loss: 0.0060, Validation Loss: 0.0078\n",
      "Epoch 74/100, Training Loss: 0.0078, Validation Loss: 0.0168\n",
      "Epoch 75/100, Training Loss: 0.0083, Validation Loss: 0.0082\n",
      "Epoch 76/100, Training Loss: 0.0069, Validation Loss: 0.0074\n",
      "Epoch 77/100, Training Loss: 0.0068, Validation Loss: 0.0076\n",
      "Epoch 78/100, Training Loss: 0.0073, Validation Loss: 0.0060\n",
      "Epoch 79/100, Training Loss: 0.0086, Validation Loss: 0.0106\n",
      "Epoch 80/100, Training Loss: 0.0075, Validation Loss: 0.0071\n",
      "Epoch 81/100, Training Loss: 0.0064, Validation Loss: 0.0071\n",
      "Epoch 82/100, Training Loss: 0.0096, Validation Loss: 0.0121\n",
      "Epoch 83/100, Training Loss: 0.0100, Validation Loss: 0.0084\n",
      "Epoch 84/100, Training Loss: 0.0062, Validation Loss: 0.0071\n",
      "Epoch 85/100, Training Loss: 0.0063, Validation Loss: 0.0116\n",
      "Epoch 86/100, Training Loss: 0.0103, Validation Loss: 0.0062\n",
      "Epoch 87/100, Training Loss: 0.0062, Validation Loss: 0.0064\n",
      "Epoch 88/100, Training Loss: 0.0061, Validation Loss: 0.0053\n",
      "Epoch 89/100, Training Loss: 0.0114, Validation Loss: 0.0282\n",
      "Epoch 90/100, Training Loss: 0.0112, Validation Loss: 0.0070\n",
      "Epoch 91/100, Training Loss: 0.0058, Validation Loss: 0.0076\n",
      "Epoch 92/100, Training Loss: 0.0182, Validation Loss: 0.0087\n",
      "Epoch 93/100, Training Loss: 0.0067, Validation Loss: 0.0071\n",
      "Epoch 94/100, Training Loss: 0.0085, Validation Loss: 0.0100\n",
      "Epoch 95/100, Training Loss: 0.0051, Validation Loss: 0.0081\n",
      "Epoch 96/100, Training Loss: 0.0077, Validation Loss: 0.0055\n",
      "Epoch 97/100, Training Loss: 0.0053, Validation Loss: 0.0053\n",
      "Epoch 98/100, Training Loss: 0.0076, Validation Loss: 0.0128\n",
      "Epoch 99/100, Training Loss: 0.0072, Validation Loss: 0.0052\n",
      "Epoch 100/100, Training Loss: 0.0086, Validation Loss: 0.0057\n",
      "Training completed after 100 epochs\n"
     ]
    }
   ],
   "source": [
    "#---------------------------------Training and Validation Loop---------------------------------------------------\n",
    "# Best parameters\n",
    "best_params = res.x\n",
    "print(f'Best parameters: {best_params}')\n",
    "\n",
    "# Use the best parameters to retrain the model on the entire training set\n",
    "num_filters = best_params[0]\n",
    "kernel_size = best_params[1]\n",
    "learning_rate = best_params[2]\n",
    "dropout_rate = best_params[3]\n",
    "batch_size = int(best_params[4])\n",
    "\n",
    "# Create data loaders with the best batch size\n",
    "train_loader = DataLoader(TensorDataset(X_train_tensor, Y_train_tensor), batch_size=batch_size, shuffle=True)\n",
    "val_loader = DataLoader(val_dataset, batch_size=batch_size, shuffle=False)\n",
    "test_loader = DataLoader(TensorDataset(X_test_tensor, Y_test_tensor), batch_size=batch_size, shuffle=False)\n",
    "\n",
    "\n",
    "# Model instance\n",
    "model = ECGModel(num_filters, kernel_size, dropout_rate).to(device)\n",
    "print(model)\n",
    "\n",
    "# Define loss function and optimizer\n",
    "criterion = nn.BCELoss()\n",
    "optimizer = optim.Adam(model.parameters(), lr=0.001)\n",
    "\n",
    "# Epochs was 100\n",
    "epochs = 100\n",
    "patience = 30 # Number of ecpoch program will wait for before stopping\n",
    "best_val_loss = float('inf')\n",
    "epochs_of_no_improve = 0\n",
    "early_stop = False \n",
    "\n",
    "# Check for MPS availability \n",
    "if torch.backends.mps.is_available():\n",
    "    device = torch.device(\"mps\")\n",
    "else:\n",
    "    device = torch.device(\"cuda\" if torch.cuda.is_available() else \"cpu\")\n",
    "\n",
    "model.to(device)\n",
    "\n",
    "train_losses, val_losses = [], []\n",
    "\n",
    "for epoch in range(epochs):\n",
    "    # Training Phase\n",
    "    model.train()\n",
    "    running_train_loss = 0.0\n",
    "    for inputs, labels in train_loader:\n",
    "        inputs, labels = inputs.to(device), labels.to(device)\n",
    "        optimizer.zero_grad()\n",
    "        outputs = model(inputs)\n",
    "        loss = criterion(outputs.squeeze(), labels)\n",
    "        loss.backward()\n",
    "        optimizer.step()\n",
    "        running_train_loss += loss.item()\n",
    "    \n",
    "    avg_train_loss = running_train_loss / len(train_loader)\n",
    "    train_losses.append(avg_train_loss)\n",
    "    \n",
    "    # Validation Phase\n",
    "    model.eval()\n",
    "    running_val_loss = 0.0\n",
    "    with torch.no_grad():\n",
    "        for inputs, labels in val_loader:\n",
    "            inputs, labels = inputs.to(device), labels.to(device)\n",
    "            outputs = model(inputs)\n",
    "            loss = criterion(outputs.squeeze(), labels)\n",
    "            running_val_loss += loss.item()\n",
    "    \n",
    "    avg_val_loss = running_val_loss / len(val_loader)\n",
    "    val_losses.append(avg_val_loss)\n",
    "    \n",
    "    print(f'Epoch {epoch+1}/{epochs}, Training Loss: {avg_train_loss:.4f}, Validation Loss: {avg_val_loss:.4f}')\n",
    "\n",
    "    # Determine whether or not to implement an Early Stop\n",
    "    if avg_val_loss < best_val_loss:\n",
    "        best_val_loss = avg_val_loss\n",
    "        epochs_no_improve = 0\n",
    "    else:\n",
    "        epochs_no_improve += 1\n",
    "    \n",
    "    if epochs_no_improve >= patience:\n",
    "        print(f'Early stopping at epoch {epoch+1}')\n",
    "        early_stop = True\n",
    "        break\n",
    "\n",
    " # Message to show how many epochs were completed before stopping   \n",
    "if not early_stop:\n",
    "    print(f'Training completed after {epochs} epochs')\n"
   ]
  },
  {
   "cell_type": "markdown",
   "metadata": {},
   "source": [
    "Plots Trainging and Validation loss. The commented out areas are annotations that can be manually adjusted to show Underfitting and Overfitting regions as well as the region that is an exact fit (transition from Underfit to Overfit range) "
   ]
  },
  {
   "cell_type": "code",
   "execution_count": 17,
   "metadata": {},
   "outputs": [
    {
     "data": {
      "image/png": "[encoded data removed]",
      "text/plain": [
       "<Figure size 1000x500 with 1 Axes>"
      ]
     },
     "metadata": {},
     "output_type": "display_data"
    }
   ],
   "source": [
    "# ---------------------------------- Plot Training and Validation Loss ----------------------------------\n",
    "\n",
    "plt.figure(figsize=(10, 5))\n",
    "plt.plot(range(1, len(train_losses) + 1), train_losses, label='Training Loss')\n",
    "plt.plot(range(1, len(train_losses) + 1), val_losses, label='Validation Loss')\n",
    "plt.xlabel('Epochs',fontsize = 14)\n",
    "plt.ylabel('Loss', fontsize = 14)\n",
    "#plt.axvline(x=40, color='r', linestyle='--', alpha=0.5)\n",
    "\n",
    "\"\"\"\n",
    "plt.annotate('Underfitting',\n",
    "             fontsize=16,\n",
    "             color='red',\n",
    "             xy=(5, 0.3),        # Point to annotate\n",
    "             xytext=(10, 0.4),   # Text location\n",
    "             arrowprops=dict(facecolor='red', shrink=0.05))\n",
    "\n",
    "plt.annotate('Overfitting',\n",
    "             fontsize=16,\n",
    "             color='red',\n",
    "             xy=(85, 0.15),      \n",
    "             xytext=(75, 0.3), \n",
    "             arrowprops=dict(facecolor='red', shrink=0.05))\n",
    "             \n",
    "             \"\"\"\n",
    "\n",
    "plt.title('Training and Validation Loss', fontsize = 20)\n",
    "plt.legend(fontsize = 14)\n",
    "plt.show()\n",
    "\n"
   ]
  },
  {
   "cell_type": "markdown",
   "metadata": {},
   "source": [
    "Shows the evaluaiton on the testing set using metrics such as Accuracy, Precision, Recall, F1 Score, AUROC, and AUPRC. This cell of code also calculates and displays the Confusion Matrix for the models performance on the test set. \n",
    "\n",
    "• Accuracy = NumOfCorrectPred / TotalPred\n",
    "\n",
    "• Precision = TruPos / TotalPos\n",
    "\n",
    "• Recall = TruPos/ (TruPos + FalseNeg)\n",
    "\n",
    "• F1 Score = 2 * (Precision * Recall) / (Precision + Recall)\n",
    "\n",
    "• AUROC = Area Under Reciever Operator Curve\n",
    "\n",
    "• AUPRC = Area Under Precsion Recall Curve\n"
   ]
  },
  {
   "cell_type": "code",
   "execution_count": 18,
   "metadata": {},
   "outputs": [
    {
     "name": "stdout",
     "output_type": "stream",
     "text": [
      "Confusion Matrix:\n",
      "[[ 226    3]\n",
      " [   4 1554]]\n",
      "Accuracy: 0.9961\n",
      "Precision: 0.9981\n",
      "Recall: 0.9974\n",
      "F1 Score: 0.9978\n",
      "AUROC: 0.9999\n",
      "AUPRC: 1.0000\n"
     ]
    }
   ],
   "source": [
    "# ------------------------------------- Evaluation on Test Set -------------------------------------\n",
    "\n",
    "model.eval()\n",
    "y_pred = []\n",
    "y_true = []\n",
    "\n",
    "with torch.no_grad():\n",
    "    for inputs, labels in test_loader:\n",
    "        inputs, labels = inputs.to(device), labels.to(device)\n",
    "        outputs = model(inputs)\n",
    "        y_pred.extend(outputs.cpu().numpy())\n",
    "        y_true.extend(labels.cpu().numpy())\n",
    "\n",
    "y_pred = np.array(y_pred).flatten()\n",
    "y_pred_binary = (y_pred > 0.5).astype(int)\n",
    "\n",
    "# Calculate performance metrics\n",
    "accuracy = accuracy_score(y_true, y_pred_binary)\n",
    "precision = precision_score(y_true, y_pred_binary)\n",
    "recall = recall_score(y_true, y_pred_binary)\n",
    "f1 = f1_score(y_true, y_pred_binary)\n",
    "auroc = roc_auc_score(y_true, y_pred)\n",
    "auprc = average_precision_score(y_true, y_pred)\n",
    "\n",
    "# Saves the performance scores to file in performance folder\n",
    "with open('/Users/mateo/Repos/Deep-Learning-of-ECG-signals/Performance/CNN_Performance_Scores.csv', mode='a', newline='') as file:\n",
    "    writer = csv.writer(file)\n",
    "    writer.writerow(['Accuracy','Precision', 'Recall' ,'F1 Score' , 'AUROC' , 'AUPRC', 'Confusion Matrix'])\n",
    "    writer.writerow([accuracy, precision, recall , f1 , auroc , auprc,  confusion_matrix(y_true, y_pred_binary)])\n",
    "\n",
    "print(\"Confusion Matrix:\")\n",
    "print(confusion_matrix(y_true, y_pred_binary))\n",
    "\n",
    "print(f'Accuracy: {accuracy:.4f}')\n",
    "print(f'Precision: {precision:.4f}')\n",
    "print(f'Recall: {recall:.4f}')\n",
    "print(f'F1 Score: {f1:.4f}')\n",
    "print(f'AUROC: {auroc:.4f}')\n",
    "print(f'AUPRC: {auprc:.4f}')"
   ]
  },
  {
   "cell_type": "markdown",
   "metadata": {},
   "source": [
    "# 4. Define Components of the Quantum Convolutional Neural Network\n"
   ]
  },
  {
   "cell_type": "markdown",
   "metadata": {},
   "source": [
    "After creating the database the first time in the previous code run this cell to load in the database if bypassing teh previous CNN code. "
   ]
  },
  {
   "cell_type": "code",
   "execution_count": 19,
   "metadata": {},
   "outputs": [
    {
     "name": "stdout",
     "output_type": "stream",
     "text": [
      "Combined and randomized DataFrame shape: (5788, 18287)\n",
      "x-shape: \n",
      "(5788, 360)\n",
      "y-shape: \n",
      "(5788,)\n"
     ]
    }
   ],
   "source": [
    "#---------------------------------------Load Database---------------------------------------------\n",
    "\n",
    "dataFrame = pd.read_csv('/Users/mateo/combined_ECG_Data.csv')\n",
    "\n",
    "# Verify the combined DataFrame\n",
    "print(f\"Combined and randomized DataFrame shape: {dataFrame.shape}\")\n",
    "\n",
    "#-------------------------Designating Training and Testing Sets--------------------------------------\n",
    "\n",
    "# --- Dataset: Previously sectioned ECG recordings into 2-second (360 Hz) windows ---\n",
    "\n",
    "sub_timewindow = 360\n",
    "\n",
    "x, y = dataFrame.iloc[:, 0:sub_timewindow].values, dataFrame['label'].values\n",
    "\n",
    "print('x-shape: ')\n",
    "print(x.shape)\n",
    "print('y-shape: ')\n",
    "print(y.shape)\n"
   ]
  },
  {
   "cell_type": "markdown",
   "metadata": {},
   "source": [
    "### Define Preprocessing Techniques\n",
    "\n",
    "In order to reduce the dimensionality of the data, we choose a preprocessing technique (PCA or a classical autoencoder) and apply it to the dataset. This allows us to have a smaller quntum circuit of an appropriate amounbt of wires (ex. 8) instead of all 360 features (360 wires). This can help the quantum circuit to focus on the more important features (exclude noise and inconsistant patterns) in the data and reduce the computational complexity. "
   ]
  },
  {
   "cell_type": "code",
   "execution_count": 20,
   "metadata": {},
   "outputs": [],
   "source": [
    "#--------------------------------- Defining PreProcessing Techniques that Reduce Dimensionality of Data ---------------------------------------------------\n",
    "\n",
    "# defines classical data preprocessing techniques\n",
    "def pca(x, c):\n",
    "    pca = PCA(n_components=c)\n",
    "    x = pca.fit_transform(x)\n",
    "    return x\n",
    "\n",
    "def autoencoder(x, c, verbose=False):\n",
    "    class Autoencoder(nn.Module):\n",
    "        def __init__(self, input_dim, encoding_dim):\n",
    "            super(Autoencoder, self).__init__()\n",
    "\n",
    "            # Encoding layer\n",
    "            self.encoder = nn.Linear(input_dim, encoding_dim)\n",
    "\n",
    "            # Decoding layer\n",
    "            self.decoder = nn.Linear(encoding_dim, input_dim)\n",
    "\n",
    "        def forward(self, x):\n",
    "            x = torch.relu(self.encoder(x))\n",
    "            x = torch.sigmoid(self.decoder(x))\n",
    "            return x\n",
    "\n",
    "    input_dim = x.shape[1]  # Number of features in the input\n",
    "\n",
    "    # Create the model\n",
    "    model = Autoencoder(input_dim, c)\n",
    "\n",
    "    # Loss function\n",
    "    criterion = nn.MSELoss()\n",
    "\n",
    "    # Optimizer\n",
    "    optimizer = optim.Adam(model.parameters(), lr=0.001)\n",
    "\n",
    "    # Number of epochs\n",
    "    num_epochs = 1000\n",
    "\n",
    "    # Train the model\n",
    "    x = torch.from_numpy(x).float()\n",
    "    for epoch in range(num_epochs):\n",
    "        # Forward pass\n",
    "        outputs = model(x)\n",
    "        loss = criterion(outputs, x)\n",
    "\n",
    "        # Backward pass and optimization\n",
    "        optimizer.zero_grad()\n",
    "        loss.backward()\n",
    "        optimizer.step()\n",
    "\n",
    "        if (epoch + 1) % 10 == 0:\n",
    "            print(f'Epoch:{epoch + 1}, Loss:{loss.item()}')\n",
    "\n",
    "    # Use the encoder to produce the encoded array\n",
    "    encoded_x = model.encoder(x).data\n",
    "\n",
    "    return encoded_x\n",
    "\n",
    "def undersampling(x, c):\n",
    "    indices = np.linspace(0, x.shape[1]-1, c).astype(int)\n",
    "    x_undersampled = x[:, indices]\n",
    "    \n",
    "    assert x_undersampled.shape == (x.shape[0], c), x_undersampled.shape\n",
    "\n",
    "    return x_undersampled\n",
    "\n",
    "def laplacian_eigenmaps(x, c):\n",
    "    embedding = SpectralEmbedding(n_components=c)\n",
    "    x = embedding.fit_transform(x)\n",
    "    return x\n",
    "\n",
    "def locality_preserving_projections(x, c):\n",
    "    embedding = LocalityPreservingProjection(n_components=c)\n",
    "    x = embedding.fit_transform(x)\n",
    "    return x\n",
    "\n",
    "def compressive_sensing_fft(x, c):\n",
    "    x_fft = fftshift(fft(x)) # compute the centered Fourier transform\n",
    "    Xr = (10/8) * x_fft * np.random.permutation(np.repeat([0,0,1,1,1,1,1,1,1,1], x.shape[1]/10) ) # 10/8 is the scaling factor to make sure the amplitude is preserved\n",
    "    Xr_no_zeros = [row[row.nonzero()] for row in Xr]\n",
    "    Xr_2d = np.vstack(Xr_no_zeros)\n",
    "    return Xr_2d\n",
    "\n",
    "def compressive_sensing(x, c):\n",
    "    phi = np.random.randn(256, 320)\n",
    "    y = np.dot(phi, x.T)\n",
    "    return y.T\n"
   ]
  },
  {
   "cell_type": "markdown",
   "metadata": {},
   "source": [
    "### Define Encoding Methods\n",
    "\n",
    "Quantum circuits can't process calssical data directly. It must be encodiged into a quantum state for it to be processed by a quantum computer. There are multiple techniques for this process. Some of the ones wed use below are <strong> Angle Embedding, Amplitude Embedding, </strong> and  <strong>Flexible Representaion of Quantum Images Encoding. </strong>"
   ]
  },
  {
   "cell_type": "code",
   "execution_count": 21,
   "metadata": {},
   "outputs": [],
   "source": [
    "def FRQI(datapoints, wires):\n",
    "    for wire in wires[:-1]:\n",
    "        qml.Hadamard(wires=wire)\n",
    "    controls = [i for i in range(len(wires) - 1)] # num_qubits-1\n",
    "\n",
    "    for pos in range(len(datapoints)):\n",
    "        bin = format(pos, '08b')\n",
    "        clist = []\n",
    "        for i in bin:\n",
    "            clist.append(int(i))\n",
    "        # set up the x's corresponding to the clist\n",
    "        for i in range(len(clist)):\n",
    "            if clist[i] == 0:\n",
    "                qml.PauliX(controls[i])\n",
    "\n",
    "        # apply the controlled phase gate\n",
    "        qml.ctrl(qml.RY(phi=2*datapoints[pos], wires=wires[-1]), control=controls)\n",
    "\n",
    "        # undo the x's\n",
    "        for i in range(len(clist)):\n",
    "            if clist[i] == 0:\n",
    "                qml.PauliX(controls[i])\n"
   ]
  },
  {
   "cell_type": "markdown",
   "metadata": {},
   "source": [
    "### Defining Quantum Convolutional Layer Architectures\n",
    "\n",
    "These are some quantum convolutional layer architectures which consist of different combinations of gates. These gates span across one or two wires in a quantum circuit and mimic the learning and feature extraction capabilities of a classical convolutional layer.  "
   ]
  },
  {
   "cell_type": "code",
   "execution_count": 22,
   "metadata": {},
   "outputs": [],
   "source": [
    "def conv1(params, wires):\n",
    "    qml.RZ(-np.pi/2, wires=wires[1])\n",
    "    qml.CNOT(wires=[wires[1], wires[0]])\n",
    "    qml.RZ(params[0], wires=wires[0])\n",
    "    qml.RY(params[1], wires=wires[1])\n",
    "    qml.CNOT(wires=[wires[0], wires[1]])\n",
    "    qml.RY(params[2], wires=wires[1])\n",
    "    qml.CNOT(wires=[wires[1], wires[0]])\n",
    "    qml.RZ(np.pi/2, wires=wires[0])\n",
    "\n",
    "def conv2(params, wires):\n",
    "    qml.RX(params[0], wires=wires[0])\n",
    "    qml.RY(params[1], wires=wires[0])\n",
    "    qml.RZ(params[2], wires=wires[0])\n",
    "    qml.RX(params[3], wires=wires[1])\n",
    "    qml.RY(params[4], wires=wires[1])\n",
    "    qml.RZ(params[5], wires=wires[1])\n",
    "    qml.IsingZZ(params[6], wires=[wires[0], wires[1]])\n",
    "    qml.IsingYY(params[7], wires=[wires[0], wires[1]])\n",
    "    qml.IsingXX(params[8], wires=[wires[0], wires[1]])\n",
    "    qml.RX(params[9], wires=wires[0])\n",
    "    qml.RY(params[10], wires=wires[0])\n",
    "    qml.RZ(params[11], wires=wires[0])\n",
    "    qml.RX(params[12], wires=wires[1])\n",
    "    qml.RY(params[13], wires=wires[1])\n",
    "    qml.RZ(params[14], wires=wires[1])\n",
    "\n",
    "def conv3(params, wires):\n",
    "    qml.RY(params[0], wires=wires[0])\n",
    "    qml.RY(params[1], wires=wires[1])\n",
    "    qml.CNOT(wires=[wires[0], wires[1]])\n",
    "\n",
    "def conv4(params, wires):\n",
    "    qml.Hadamard(wires=wires[0])\n",
    "    qml.Hadamard(wires=wires[1])\n",
    "    qml.CZ(wires=[wires[0], wires[1]])\n",
    "    qml.RX(params[0], wires=wires[0])\n",
    "    qml.RX(params[1], wires=wires[1])\n",
    "\n",
    "def conv5(params, wires):\n",
    "    qml.RY(params[0], wires=wires[0])\n",
    "    qml.RY(params[1], wires=wires[1])\n",
    "    qml.CNOT(wires=[wires[1], wires[0]])\n",
    "    qml.RY(params[2], wires=wires[0])\n",
    "    qml.RY(params[3], wires=wires[1])\n",
    "    qml.CNOT(wires=[wires[0], wires[1]])\n",
    "\n",
    "def conv6(params, wires):\n",
    "    qml.RY(params[0], wires=wires[0])\n",
    "    qml.RY(params[1], wires=wires[1])\n",
    "    qml.CRZ(params[2], wires=[wires[1], wires[0]])\n",
    "    qml.RY(params[3], wires=wires[0])\n",
    "    qml.RY(params[4], wires=wires[1])\n",
    "    qml.CRZ(params[5], wires=[wires[0], wires[1]])\n",
    "\n",
    "def conv7(params, wires):\n",
    "    qml.RY(params[0], wires=wires[0])\n",
    "    qml.RY(params[1], wires=wires[1])\n",
    "    qml.CRX(params[2], wires=[wires[1], wires[0]])\n",
    "    qml.RY(params[3], wires=wires[0])\n",
    "    qml.RY(params[4], wires=wires[1])\n",
    "    qml.CRX(params[5], wires=[wires[0], wires[1]])\n",
    "\n",
    "def conv8(params, wires):\n",
    "    qml.RY(params[0], wires=wires[0])\n",
    "    qml.RY(params[1], wires=wires[1])\n",
    "    qml.CNOT(wires=[wires[0], wires[1]])\n",
    "    qml.RY(params[2], wires=wires[0])\n",
    "    qml.RY(params[3], wires=wires[1])\n",
    "    qml.CNOT(wires=[wires[0], wires[1]])\n",
    "    qml.RY(params[4], wires=wires[0])\n",
    "    qml.RY(params[5], wires=wires[1])\n",
    "\n",
    "def conv9(params, wires):\n",
    "    qml.RX(params[0], wires=wires[0])\n",
    "    qml.RX(params[1], wires=wires[1])\n",
    "    qml.RZ(params[2], wires=wires[0])\n",
    "    qml.RZ(params[3], wires=wires[1])\n",
    "    qml.CRZ(params[4], wires=[wires[1], wires[0]])\n",
    "    qml.CRZ(params[5], wires=[wires[0], wires[1]])\n",
    "    qml.RX(params[6], wires=wires[0])\n",
    "    qml.RX(params[7], wires=wires[1])\n",
    "    qml.RZ(params[8], wires=wires[0])\n",
    "    qml.RZ(params[9], wires=wires[1])\n",
    "\n",
    "def conv10(params, wires):\n",
    "    qml.RX(params[0], wires=wires[0])\n",
    "    qml.RX(params[1], wires=wires[1])\n",
    "    qml.RZ(params[2], wires=wires[0])\n",
    "    qml.RZ(params[3], wires=wires[1])\n",
    "    qml.CRX(params[4], wires=[wires[1], wires[0]])\n",
    "    qml.CRX(params[5], wires=[wires[0], wires[1]])\n",
    "    qml.RX(params[6], wires=wires[0])\n",
    "    qml.RX(params[7], wires=wires[1])\n",
    "    qml.RZ(params[8], wires=wires[0])\n",
    "    qml.RZ(params[9], wires=wires[1])\n",
    "\n",
    "def conv11(params, wires):\n",
    "    qml.U3(params[0], params[1], params[2], wires=wires[0])\n",
    "    qml.U3(params[3], params[4], params[5], wires=wires[1])\n",
    "    qml.CNOT(wires=[wires[0], wires[1]])\n",
    "    qml.RY(params[6], wires=wires[0])\n",
    "    qml.RZ(params[7], wires=wires[1])\n",
    "    qml.CNOT(wires=[wires[1], wires[0]])\n",
    "    qml.RY(params[8], wires=wires[0])\n",
    "    qml.CNOT(wires=[wires[0], wires[1]])\n",
    "    qml.U3(params[9], params[10], params[11], wires=wires[0])\n",
    "    qml.U3(params[12], params[13], params[14], wires=wires[1])"
   ]
  },
  {
   "cell_type": "markdown",
   "metadata": {},
   "source": [
    "### Defining Pooling Layer Architectures\n",
    "\n",
    "These are some quantum pooling layer architectures which also consist of different combinations of gates. These gates span across one or two wires in a quantum circuit and mimic the properties of a classical pooling layer by reducing the dimensionality of the input data through a series of of quantum gates. "
   ]
  },
  {
   "cell_type": "code",
   "execution_count": 23,
   "metadata": {},
   "outputs": [],
   "source": [
    "# taken from https://qiskit.org/ecosystem/machine-learning/tutorials/11_quantum_convolutional_neural_networks.html\n",
    "def pool1(params, wires):\n",
    "    qml.RZ(-np.pi/2, wires=wires[1])\n",
    "    qml.CNOT(wires=[wires[1], wires[0]])\n",
    "    qml.RZ(params[0], wires=wires[0])\n",
    "    qml.RY(params[1], wires=wires[1])\n",
    "    qml.CNOT(wires=[wires[0], wires[1]])\n",
    "    qml.RY(params[2], wires=wires[1])\n",
    "\n",
    "# taken from https://www.tensorflow.org/quantum/tutorials/qcnn\n",
    "def pool2(params, wires):\n",
    "    qml.RX(params[0], wires=wires[1])\n",
    "    qml.RY(params[1], wires=wires[1])\n",
    "    qml.RZ(params[2], wires=wires[1])\n",
    "    qml.RX(params[3], wires=wires[0])\n",
    "    qml.RY(params[4], wires=wires[0])\n",
    "    qml.RZ(params[5], wires=wires[0])\n",
    "    qml.CNOT(wires=[wires[0], wires[1]])\n",
    "    qml.RZ(-params[6], wires=wires[1])\n",
    "    qml.RY(-params[7], wires=wires[1])\n",
    "    qml.RX(-params[8], wires=wires[1])\n",
    "\n",
    "# taken from https://arxiv.org/abs/2108.00661\n",
    "def pool3(params, wires):\n",
    "    qml.CRZ(params[0], wires=[wires[0], wires[1]])\n",
    "    qml.PauliX(wires=wires[0])\n",
    "    qml.CRX(params[1], wires=[wires[0], wires[1]])\n",
    "\n",
    "# inspired by https://www.nature.com/articles/s41567-019-0648-8\n",
    "def pool4(params, wires):\n",
    "    measurement = qml.measure(wires=wires[0])\n",
    "    qml.cond(measurement==0, qml.RZ)(params[0], wires=wires[1])\n",
    "\n"
   ]
  },
  {
   "cell_type": "markdown",
   "metadata": {},
   "source": [
    "# Testing QCNN Configurations \n",
    "\n",
    "<strong>QCNN Construction/Training/Testing Workflow</strong>\n",
    "\n",
    "What we have done in the previous cell blocks\n",
    "\n",
    "1. Define Preprocess Data\n",
    "2. Define Encoding Methods\n",
    "3. Define Convlolutional Layer Architecture\n",
    "4. Define Pooling Layer Architecture\n",
    "\n",
    "What this next cell block will do...\n",
    "\n",
    "5. Cycle through the different consigurations we have defined previously (Preprocess Methods, Encoding Methods, Convolutional Layers, Pooling Layers) "
   ]
  },
  {
   "cell_type": "code",
   "execution_count": 26,
   "metadata": {},
   "outputs": [
    {
     "name": "stdout",
     "output_type": "stream",
     "text": [
      "(5788, 8)\n",
      "3\n"
     ]
    },
    {
     "name": "stderr",
     "output_type": "stream",
     "text": [
      "186it [00:02, 64.15it/s]                         \n",
      "186it [00:02, 78.56it/s]                         \n",
      "186it [00:02, 77.84it/s]                         \n",
      "186it [00:02, 70.54it/s]                         \n",
      "186it [00:02, 65.88it/s]                         \n",
      "186it [00:02, 72.15it/s]                         \n",
      "186it [00:02, 69.84it/s]                         \n",
      "186it [00:02, 71.02it/s]                         \n",
      "186it [00:02, 62.32it/s]                         \n",
      "186it [00:02, 71.06it/s]                         \n",
      "186it [00:02, 65.66it/s]                         \n",
      "186it [00:02, 71.41it/s]                         \n",
      "186it [00:02, 66.92it/s]                         \n",
      "186it [00:02, 69.39it/s]                         \n",
      "186it [00:02, 70.14it/s]                         \n",
      "186it [00:02, 69.63it/s]                         \n",
      "186it [00:02, 75.25it/s]                         \n",
      "186it [00:02, 62.53it/s]                         \n"
     ]
    },
    {
     "name": "stdout",
     "output_type": "stream",
     "text": [
      "15\n"
     ]
    },
    {
     "name": "stderr",
     "output_type": "stream",
     "text": [
      "186it [00:02, 75.26it/s]                         \n",
      "186it [00:02, 75.60it/s]                         \n",
      "186it [00:03, 61.76it/s]                         \n",
      "186it [00:02, 77.02it/s]                         \n",
      "186it [00:02, 78.52it/s]                         \n",
      "186it [00:02, 73.18it/s]                         \n",
      "186it [00:02, 77.51it/s]                         \n",
      "186it [00:02, 77.08it/s]                         \n",
      "186it [00:02, 70.91it/s]                         \n",
      "186it [00:02, 71.72it/s]                         \n",
      "186it [00:02, 73.45it/s]                         \n",
      "186it [00:02, 70.34it/s]                         \n",
      "186it [00:03, 60.56it/s]                         \n",
      "186it [00:02, 68.09it/s]                         \n",
      "186it [00:02, 67.44it/s]                         \n",
      "186it [00:02, 69.48it/s]                         \n",
      "186it [00:02, 72.38it/s]                         \n",
      "186it [00:02, 73.95it/s]                         \n"
     ]
    },
    {
     "name": "stdout",
     "output_type": "stream",
     "text": [
      "2\n"
     ]
    },
    {
     "name": "stderr",
     "output_type": "stream",
     "text": [
      "186it [00:02, 75.38it/s]                         \n",
      "186it [00:02, 66.23it/s]                         \n",
      "186it [00:02, 72.51it/s]                         \n",
      "186it [00:02, 68.93it/s]                         \n",
      "186it [00:02, 68.19it/s]                         \n",
      "186it [00:02, 69.81it/s]                         \n",
      "186it [00:02, 68.34it/s]                         \n",
      "186it [00:02, 74.83it/s]                         \n",
      "186it [00:02, 76.01it/s]                         \n",
      "186it [00:02, 78.04it/s]                         \n",
      "186it [00:02, 80.27it/s]                         \n",
      "186it [00:02, 77.79it/s]                         \n",
      "186it [00:02, 81.05it/s]                         \n",
      "186it [00:02, 80.72it/s]                         \n",
      "186it [00:02, 81.21it/s]                         \n",
      "186it [00:02, 77.58it/s]                         \n",
      "186it [00:02, 81.22it/s]                         \n",
      "186it [00:02, 76.06it/s]                         \n"
     ]
    },
    {
     "name": "stdout",
     "output_type": "stream",
     "text": [
      "2\n"
     ]
    },
    {
     "name": "stderr",
     "output_type": "stream",
     "text": [
      "186it [00:02, 75.39it/s]                         \n",
      "186it [00:02, 81.63it/s]                         \n",
      "186it [00:02, 81.37it/s]                         \n",
      "186it [00:02, 81.33it/s]                         \n",
      "186it [00:02, 77.92it/s]                         \n",
      "186it [00:02, 81.13it/s]                         \n",
      "186it [00:02, 81.26it/s]                         \n",
      "186it [00:02, 80.76it/s]                         \n",
      "186it [00:02, 77.64it/s]                         \n",
      "186it [00:02, 79.45it/s]                         \n",
      "186it [00:02, 71.68it/s]                         \n",
      "186it [00:02, 69.76it/s]                         \n",
      "186it [00:02, 73.70it/s]                         \n",
      "186it [00:02, 77.51it/s]                         \n",
      "186it [00:02, 64.36it/s]                         \n",
      "186it [00:02, 73.68it/s]                         \n",
      "186it [00:02, 73.79it/s]                         \n",
      "186it [00:02, 76.51it/s]                         \n"
     ]
    },
    {
     "name": "stdout",
     "output_type": "stream",
     "text": [
      "4\n"
     ]
    },
    {
     "name": "stderr",
     "output_type": "stream",
     "text": [
      "186it [00:02, 79.13it/s]                         \n",
      "186it [00:02, 79.01it/s]                         \n",
      "186it [00:02, 77.04it/s]                         \n",
      "186it [00:02, 75.53it/s]                         \n",
      "186it [00:02, 79.82it/s]                         \n",
      "186it [00:02, 73.33it/s]                         \n",
      "186it [00:02, 66.28it/s]                         \n",
      "186it [00:03, 57.91it/s]                         \n",
      "186it [00:02, 70.09it/s]                         \n",
      "186it [00:02, 71.10it/s]                         \n",
      "186it [00:02, 66.20it/s]                         \n",
      "186it [00:02, 71.82it/s]                         \n",
      "186it [00:02, 74.62it/s]                         \n",
      "186it [00:02, 72.70it/s]                         \n",
      "186it [00:02, 80.05it/s]                         \n",
      "186it [00:02, 74.65it/s]                         \n",
      "186it [00:02, 65.67it/s]                         \n",
      "186it [00:02, 67.29it/s]                         \n"
     ]
    },
    {
     "name": "stdout",
     "output_type": "stream",
     "text": [
      "6\n"
     ]
    },
    {
     "name": "stderr",
     "output_type": "stream",
     "text": [
      "186it [00:02, 70.22it/s]                         \n",
      "186it [00:02, 71.02it/s]                         \n",
      "186it [00:02, 78.42it/s]                         \n",
      "186it [00:02, 78.74it/s]                         \n",
      "186it [00:02, 75.38it/s]                         \n",
      "186it [00:02, 77.83it/s]                         \n",
      "186it [00:02, 78.55it/s]                         \n",
      "186it [00:02, 74.81it/s]                         \n",
      "186it [00:02, 77.94it/s]                         \n",
      "186it [00:02, 77.27it/s]                         \n",
      "186it [00:03, 60.22it/s]                         \n",
      "186it [00:02, 78.12it/s]                         \n",
      "186it [00:02, 77.58it/s]                         \n",
      "186it [00:02, 78.23it/s]                         \n",
      "186it [00:02, 75.77it/s]                         \n",
      "186it [00:02, 76.56it/s]                         \n",
      "186it [00:02, 77.04it/s]                         \n",
      "186it [00:02, 74.94it/s]                         \n"
     ]
    },
    {
     "name": "stdout",
     "output_type": "stream",
     "text": [
      "6\n"
     ]
    },
    {
     "name": "stderr",
     "output_type": "stream",
     "text": [
      "186it [00:02, 77.07it/s]                         \n",
      "186it [00:02, 75.71it/s]                         \n",
      "186it [00:02, 72.32it/s]                         \n",
      "186it [00:02, 77.43it/s]                         \n",
      "186it [00:02, 78.48it/s]                         \n",
      "186it [00:02, 72.72it/s]                         \n",
      "186it [00:02, 77.27it/s]                         \n",
      "186it [00:02, 76.72it/s]                         \n",
      "186it [00:02, 73.98it/s]                         \n",
      "186it [00:02, 76.35it/s]                         \n",
      "186it [00:02, 75.37it/s]                         \n",
      "186it [00:02, 74.86it/s]                         \n",
      "186it [00:02, 75.74it/s]                         \n",
      "186it [00:02, 73.85it/s]                         \n",
      "186it [00:02, 76.97it/s]                         \n",
      "186it [00:02, 72.91it/s]                         \n",
      "186it [00:02, 72.58it/s]                         \n",
      "186it [00:02, 75.48it/s]                         \n"
     ]
    },
    {
     "name": "stdout",
     "output_type": "stream",
     "text": [
      "6\n"
     ]
    },
    {
     "name": "stderr",
     "output_type": "stream",
     "text": [
      "186it [00:02, 75.50it/s]                         \n",
      "186it [00:02, 77.07it/s]                         \n",
      "186it [00:02, 74.62it/s]                         \n",
      "186it [00:02, 74.16it/s]                         \n",
      "186it [00:02, 76.91it/s]                         \n",
      "186it [00:02, 77.50it/s]                         \n",
      "186it [00:02, 77.70it/s]                         \n",
      "186it [00:02, 73.07it/s]                         \n",
      "186it [00:02, 69.29it/s]                         \n",
      "186it [00:02, 65.25it/s]                         \n",
      "186it [00:02, 72.94it/s]                         \n",
      "186it [00:02, 73.97it/s]                         \n",
      "186it [00:02, 76.19it/s]                         \n",
      "186it [00:02, 76.06it/s]                         \n",
      "186it [00:02, 78.15it/s]                         \n",
      "186it [00:02, 76.51it/s]                         \n",
      "186it [00:02, 75.83it/s]                         \n",
      "186it [00:02, 80.01it/s]                         \n"
     ]
    },
    {
     "name": "stdout",
     "output_type": "stream",
     "text": [
      "10\n"
     ]
    },
    {
     "name": "stderr",
     "output_type": "stream",
     "text": [
      "186it [00:02, 79.49it/s]                         \n",
      "186it [00:02, 76.28it/s]                         \n",
      "186it [00:02, 79.93it/s]                         \n",
      "186it [00:02, 76.18it/s]                         \n",
      "186it [00:02, 80.04it/s]                         \n",
      "186it [00:02, 76.48it/s]                         \n",
      "186it [00:02, 79.14it/s]                         \n",
      "186it [00:02, 79.82it/s]                         \n",
      "186it [00:02, 79.04it/s]                         \n",
      "186it [00:02, 76.29it/s]                         \n",
      "186it [00:02, 78.88it/s]                         \n",
      "186it [00:02, 79.10it/s]                         \n",
      "186it [00:02, 76.57it/s]                         \n",
      "186it [00:02, 74.92it/s]                         \n",
      "186it [00:02, 68.40it/s]                         \n",
      "186it [00:02, 78.06it/s]                         \n",
      "186it [00:02, 80.09it/s]                         \n",
      "186it [00:02, 80.64it/s]                         \n"
     ]
    },
    {
     "name": "stdout",
     "output_type": "stream",
     "text": [
      "10\n"
     ]
    },
    {
     "name": "stderr",
     "output_type": "stream",
     "text": [
      "186it [00:02, 81.26it/s]                         \n",
      "186it [00:02, 81.43it/s]                         \n",
      "186it [00:02, 81.02it/s]                         \n",
      "186it [00:02, 78.44it/s]                         \n",
      "186it [00:02, 80.54it/s]                         \n",
      "186it [00:02, 74.09it/s]                         \n",
      "186it [00:02, 74.65it/s]                         \n",
      "186it [00:02, 77.18it/s]                         \n",
      "186it [00:02, 73.22it/s]                         \n",
      "186it [00:02, 71.70it/s]                         \n",
      "186it [00:02, 77.89it/s]                         \n",
      "186it [00:02, 75.10it/s]                         \n",
      "186it [00:02, 79.31it/s]                         \n",
      "186it [00:02, 79.48it/s]                         \n",
      "186it [00:02, 78.60it/s]                         \n",
      "186it [00:02, 80.19it/s]                         \n",
      "186it [00:02, 79.25it/s]                         \n",
      "186it [00:02, 72.66it/s]                         \n"
     ]
    },
    {
     "name": "stdout",
     "output_type": "stream",
     "text": [
      "3\n"
     ]
    },
    {
     "name": "stderr",
     "output_type": "stream",
     "text": [
      "  0%|          | 0/185 [00:00<?, ?it/s]\n",
      "Traceback (most recent call last):\n",
      "  File \"/var/folders/wl/7wlprxgn5hxbwxmhbsvvsyj40000gs/T/ipykernel_28212/106676976.py\", line 320, in <module>\n",
      "    out = cost(param_init, train_x[i:i+25], train_y[i:i+25])\n",
      "          ^^^^^^^^^^^^^^^^^^^^^^^^^^^^^^^^^^^^^^^^^^^^^^^^^^\n",
      "  File \"/var/folders/wl/7wlprxgn5hxbwxmhbsvvsyj40000gs/T/ipykernel_28212/106676976.py\", line 312, in cost\n",
      "    predictions = m(circuit(weights, X))\n",
      "                    ^^^^^^^^^^^^^^^^^^^\n",
      "  File \"/Users/mateo/anaconda3/lib/python3.11/site-packages/pennylane/workflow/qnode.py\", line 1098, in __call__\n",
      "    res = self._execution_component(args, kwargs, override_shots=override_shots)\n",
      "          ^^^^^^^^^^^^^^^^^^^^^^^^^^^^^^^^^^^^^^^^^^^^^^^^^^^^^^^^^^^^^^^^^^^^^^\n",
      "  File \"/Users/mateo/anaconda3/lib/python3.11/site-packages/pennylane/workflow/qnode.py\", line 1052, in _execution_component\n",
      "    res = qml.execute(\n",
      "          ^^^^^^^^^^^^\n",
      "  File \"/Users/mateo/anaconda3/lib/python3.11/site-packages/pennylane/workflow/execution.py\", line 600, in execute\n",
      "    tapes, post_processing = transform_program(tapes)\n",
      "                             ^^^^^^^^^^^^^^^^^^^^^^^^\n",
      "  File \"/Users/mateo/anaconda3/lib/python3.11/site-packages/pennylane/transforms/core/transform_program.py\", line 509, in __call__\n",
      "    new_tapes, fn = transform(tape, *targs, **tkwargs)\n",
      "                    ^^^^^^^^^^^^^^^^^^^^^^^^^^^^^^^^^^\n",
      "  File \"/Users/mateo/anaconda3/lib/python3.11/site-packages/pennylane/devices/preprocess.py\", line 131, in validate_device_wires\n",
      "    raise WireError(\n",
      "pennylane.wires.WireError: Cannot run circuit(s) on default.qubit as they contain wires not found on the device: {7}\n"
     ]
    },
    {
     "name": "stdout",
     "output_type": "stream",
     "text": [
      "Error during execution: Cannot run circuit(s) on default.qubit as they contain wires not found on the device: {7}\n"
     ]
    },
    {
     "name": "stderr",
     "output_type": "stream",
     "text": [
      "  0%|          | 0/185 [00:00<?, ?it/s]\n",
      "Traceback (most recent call last):\n",
      "  File \"/var/folders/wl/7wlprxgn5hxbwxmhbsvvsyj40000gs/T/ipykernel_28212/106676976.py\", line 320, in <module>\n",
      "    out = cost(param_init, train_x[i:i+25], train_y[i:i+25])\n",
      "          ^^^^^^^^^^^^^^^^^^^^^^^^^^^^^^^^^^^^^^^^^^^^^^^^^^\n",
      "  File \"/var/folders/wl/7wlprxgn5hxbwxmhbsvvsyj40000gs/T/ipykernel_28212/106676976.py\", line 312, in cost\n",
      "    predictions = m(circuit(weights, X))\n",
      "                    ^^^^^^^^^^^^^^^^^^^\n",
      "  File \"/Users/mateo/anaconda3/lib/python3.11/site-packages/pennylane/workflow/qnode.py\", line 1098, in __call__\n",
      "    res = self._execution_component(args, kwargs, override_shots=override_shots)\n",
      "          ^^^^^^^^^^^^^^^^^^^^^^^^^^^^^^^^^^^^^^^^^^^^^^^^^^^^^^^^^^^^^^^^^^^^^^\n",
      "  File \"/Users/mateo/anaconda3/lib/python3.11/site-packages/pennylane/workflow/qnode.py\", line 1052, in _execution_component\n",
      "    res = qml.execute(\n",
      "          ^^^^^^^^^^^^\n",
      "  File \"/Users/mateo/anaconda3/lib/python3.11/site-packages/pennylane/workflow/execution.py\", line 600, in execute\n",
      "    tapes, post_processing = transform_program(tapes)\n",
      "                             ^^^^^^^^^^^^^^^^^^^^^^^^\n",
      "  File \"/Users/mateo/anaconda3/lib/python3.11/site-packages/pennylane/transforms/core/transform_program.py\", line 509, in __call__\n",
      "    new_tapes, fn = transform(tape, *targs, **tkwargs)\n",
      "                    ^^^^^^^^^^^^^^^^^^^^^^^^^^^^^^^^^^\n",
      "  File \"/Users/mateo/anaconda3/lib/python3.11/site-packages/pennylane/devices/preprocess.py\", line 131, in validate_device_wires\n",
      "    raise WireError(\n",
      "pennylane.wires.WireError: Cannot run circuit(s) on default.qubit as they contain wires not found on the device: {7}\n"
     ]
    },
    {
     "name": "stdout",
     "output_type": "stream",
     "text": [
      "Error during execution: Cannot run circuit(s) on default.qubit as they contain wires not found on the device: {7}\n"
     ]
    },
    {
     "name": "stderr",
     "output_type": "stream",
     "text": [
      "  0%|          | 0/185 [00:00<?, ?it/s]\n",
      "Traceback (most recent call last):\n",
      "  File \"/var/folders/wl/7wlprxgn5hxbwxmhbsvvsyj40000gs/T/ipykernel_28212/106676976.py\", line 320, in <module>\n",
      "    out = cost(param_init, train_x[i:i+25], train_y[i:i+25])\n",
      "          ^^^^^^^^^^^^^^^^^^^^^^^^^^^^^^^^^^^^^^^^^^^^^^^^^^\n",
      "  File \"/var/folders/wl/7wlprxgn5hxbwxmhbsvvsyj40000gs/T/ipykernel_28212/106676976.py\", line 312, in cost\n",
      "    predictions = m(circuit(weights, X))\n",
      "                    ^^^^^^^^^^^^^^^^^^^\n",
      "  File \"/Users/mateo/anaconda3/lib/python3.11/site-packages/pennylane/workflow/qnode.py\", line 1098, in __call__\n",
      "    res = self._execution_component(args, kwargs, override_shots=override_shots)\n",
      "          ^^^^^^^^^^^^^^^^^^^^^^^^^^^^^^^^^^^^^^^^^^^^^^^^^^^^^^^^^^^^^^^^^^^^^^\n",
      "  File \"/Users/mateo/anaconda3/lib/python3.11/site-packages/pennylane/workflow/qnode.py\", line 1052, in _execution_component\n",
      "    res = qml.execute(\n",
      "          ^^^^^^^^^^^^\n",
      "  File \"/Users/mateo/anaconda3/lib/python3.11/site-packages/pennylane/workflow/execution.py\", line 600, in execute\n",
      "    tapes, post_processing = transform_program(tapes)\n",
      "                             ^^^^^^^^^^^^^^^^^^^^^^^^\n",
      "  File \"/Users/mateo/anaconda3/lib/python3.11/site-packages/pennylane/transforms/core/transform_program.py\", line 509, in __call__\n",
      "    new_tapes, fn = transform(tape, *targs, **tkwargs)\n",
      "                    ^^^^^^^^^^^^^^^^^^^^^^^^^^^^^^^^^^\n",
      "  File \"/Users/mateo/anaconda3/lib/python3.11/site-packages/pennylane/devices/preprocess.py\", line 131, in validate_device_wires\n",
      "    raise WireError(\n",
      "pennylane.wires.WireError: Cannot run circuit(s) on default.qubit as they contain wires not found on the device: {7}\n"
     ]
    },
    {
     "name": "stdout",
     "output_type": "stream",
     "text": [
      "Error during execution: Cannot run circuit(s) on default.qubit as they contain wires not found on the device: {7}\n"
     ]
    },
    {
     "name": "stderr",
     "output_type": "stream",
     "text": [
      "  0%|          | 0/185 [00:00<?, ?it/s]\n",
      "Traceback (most recent call last):\n",
      "  File \"/var/folders/wl/7wlprxgn5hxbwxmhbsvvsyj40000gs/T/ipykernel_28212/106676976.py\", line 320, in <module>\n",
      "    out = cost(param_init, train_x[i:i+25], train_y[i:i+25])\n",
      "          ^^^^^^^^^^^^^^^^^^^^^^^^^^^^^^^^^^^^^^^^^^^^^^^^^^\n",
      "  File \"/var/folders/wl/7wlprxgn5hxbwxmhbsvvsyj40000gs/T/ipykernel_28212/106676976.py\", line 312, in cost\n",
      "    predictions = m(circuit(weights, X))\n",
      "                    ^^^^^^^^^^^^^^^^^^^\n",
      "  File \"/Users/mateo/anaconda3/lib/python3.11/site-packages/pennylane/workflow/qnode.py\", line 1098, in __call__\n",
      "    res = self._execution_component(args, kwargs, override_shots=override_shots)\n",
      "          ^^^^^^^^^^^^^^^^^^^^^^^^^^^^^^^^^^^^^^^^^^^^^^^^^^^^^^^^^^^^^^^^^^^^^^\n",
      "  File \"/Users/mateo/anaconda3/lib/python3.11/site-packages/pennylane/workflow/qnode.py\", line 1052, in _execution_component\n",
      "    res = qml.execute(\n",
      "          ^^^^^^^^^^^^\n",
      "  File \"/Users/mateo/anaconda3/lib/python3.11/site-packages/pennylane/workflow/execution.py\", line 600, in execute\n",
      "    tapes, post_processing = transform_program(tapes)\n",
      "                             ^^^^^^^^^^^^^^^^^^^^^^^^\n",
      "  File \"/Users/mateo/anaconda3/lib/python3.11/site-packages/pennylane/transforms/core/transform_program.py\", line 509, in __call__\n",
      "    new_tapes, fn = transform(tape, *targs, **tkwargs)\n",
      "                    ^^^^^^^^^^^^^^^^^^^^^^^^^^^^^^^^^^\n",
      "  File \"/Users/mateo/anaconda3/lib/python3.11/site-packages/pennylane/devices/preprocess.py\", line 131, in validate_device_wires\n",
      "    raise WireError(\n",
      "pennylane.wires.WireError: Cannot run circuit(s) on default.qubit as they contain wires not found on the device: {7}\n"
     ]
    },
    {
     "name": "stdout",
     "output_type": "stream",
     "text": [
      "Error during execution: Cannot run circuit(s) on default.qubit as they contain wires not found on the device: {7}\n"
     ]
    },
    {
     "name": "stderr",
     "output_type": "stream",
     "text": [
      "  0%|          | 0/185 [00:00<?, ?it/s]\n",
      "Traceback (most recent call last):\n",
      "  File \"/var/folders/wl/7wlprxgn5hxbwxmhbsvvsyj40000gs/T/ipykernel_28212/106676976.py\", line 320, in <module>\n",
      "    out = cost(param_init, train_x[i:i+25], train_y[i:i+25])\n",
      "          ^^^^^^^^^^^^^^^^^^^^^^^^^^^^^^^^^^^^^^^^^^^^^^^^^^\n",
      "  File \"/var/folders/wl/7wlprxgn5hxbwxmhbsvvsyj40000gs/T/ipykernel_28212/106676976.py\", line 312, in cost\n",
      "    predictions = m(circuit(weights, X))\n",
      "                    ^^^^^^^^^^^^^^^^^^^\n",
      "  File \"/Users/mateo/anaconda3/lib/python3.11/site-packages/pennylane/workflow/qnode.py\", line 1098, in __call__\n",
      "    res = self._execution_component(args, kwargs, override_shots=override_shots)\n",
      "          ^^^^^^^^^^^^^^^^^^^^^^^^^^^^^^^^^^^^^^^^^^^^^^^^^^^^^^^^^^^^^^^^^^^^^^\n",
      "  File \"/Users/mateo/anaconda3/lib/python3.11/site-packages/pennylane/workflow/qnode.py\", line 1052, in _execution_component\n",
      "    res = qml.execute(\n",
      "          ^^^^^^^^^^^^\n",
      "  File \"/Users/mateo/anaconda3/lib/python3.11/site-packages/pennylane/workflow/execution.py\", line 600, in execute\n",
      "    tapes, post_processing = transform_program(tapes)\n",
      "                             ^^^^^^^^^^^^^^^^^^^^^^^^\n",
      "  File \"/Users/mateo/anaconda3/lib/python3.11/site-packages/pennylane/transforms/core/transform_program.py\", line 509, in __call__\n",
      "    new_tapes, fn = transform(tape, *targs, **tkwargs)\n",
      "                    ^^^^^^^^^^^^^^^^^^^^^^^^^^^^^^^^^^\n",
      "  File \"/Users/mateo/anaconda3/lib/python3.11/site-packages/pennylane/devices/preprocess.py\", line 131, in validate_device_wires\n",
      "    raise WireError(\n",
      "pennylane.wires.WireError: Cannot run circuit(s) on default.qubit as they contain wires not found on the device: {7}\n"
     ]
    },
    {
     "name": "stdout",
     "output_type": "stream",
     "text": [
      "Error during execution: Cannot run circuit(s) on default.qubit as they contain wires not found on the device: {7}\n"
     ]
    },
    {
     "name": "stderr",
     "output_type": "stream",
     "text": [
      "  0%|          | 0/185 [00:00<?, ?it/s]\n",
      "Traceback (most recent call last):\n",
      "  File \"/var/folders/wl/7wlprxgn5hxbwxmhbsvvsyj40000gs/T/ipykernel_28212/106676976.py\", line 320, in <module>\n",
      "    out = cost(param_init, train_x[i:i+25], train_y[i:i+25])\n",
      "          ^^^^^^^^^^^^^^^^^^^^^^^^^^^^^^^^^^^^^^^^^^^^^^^^^^\n",
      "  File \"/var/folders/wl/7wlprxgn5hxbwxmhbsvvsyj40000gs/T/ipykernel_28212/106676976.py\", line 312, in cost\n",
      "    predictions = m(circuit(weights, X))\n",
      "                    ^^^^^^^^^^^^^^^^^^^\n",
      "  File \"/Users/mateo/anaconda3/lib/python3.11/site-packages/pennylane/workflow/qnode.py\", line 1098, in __call__\n",
      "    res = self._execution_component(args, kwargs, override_shots=override_shots)\n",
      "          ^^^^^^^^^^^^^^^^^^^^^^^^^^^^^^^^^^^^^^^^^^^^^^^^^^^^^^^^^^^^^^^^^^^^^^\n",
      "  File \"/Users/mateo/anaconda3/lib/python3.11/site-packages/pennylane/workflow/qnode.py\", line 1052, in _execution_component\n",
      "    res = qml.execute(\n",
      "          ^^^^^^^^^^^^\n",
      "  File \"/Users/mateo/anaconda3/lib/python3.11/site-packages/pennylane/workflow/execution.py\", line 600, in execute\n",
      "    tapes, post_processing = transform_program(tapes)\n",
      "                             ^^^^^^^^^^^^^^^^^^^^^^^^\n",
      "  File \"/Users/mateo/anaconda3/lib/python3.11/site-packages/pennylane/transforms/core/transform_program.py\", line 509, in __call__\n",
      "    new_tapes, fn = transform(tape, *targs, **tkwargs)\n",
      "                    ^^^^^^^^^^^^^^^^^^^^^^^^^^^^^^^^^^\n",
      "  File \"/Users/mateo/anaconda3/lib/python3.11/site-packages/pennylane/devices/preprocess.py\", line 131, in validate_device_wires\n",
      "    raise WireError(\n",
      "pennylane.wires.WireError: Cannot run circuit(s) on default.qubit as they contain wires not found on the device: {7}\n"
     ]
    },
    {
     "name": "stdout",
     "output_type": "stream",
     "text": [
      "Error during execution: Cannot run circuit(s) on default.qubit as they contain wires not found on the device: {7}\n",
      "15\n"
     ]
    },
    {
     "name": "stderr",
     "output_type": "stream",
     "text": [
      "  0%|          | 0/185 [00:00<?, ?it/s]\n",
      "Traceback (most recent call last):\n",
      "  File \"/var/folders/wl/7wlprxgn5hxbwxmhbsvvsyj40000gs/T/ipykernel_28212/106676976.py\", line 320, in <module>\n",
      "    out = cost(param_init, train_x[i:i+25], train_y[i:i+25])\n",
      "          ^^^^^^^^^^^^^^^^^^^^^^^^^^^^^^^^^^^^^^^^^^^^^^^^^^\n",
      "  File \"/var/folders/wl/7wlprxgn5hxbwxmhbsvvsyj40000gs/T/ipykernel_28212/106676976.py\", line 312, in cost\n",
      "    predictions = m(circuit(weights, X))\n",
      "                    ^^^^^^^^^^^^^^^^^^^\n",
      "  File \"/Users/mateo/anaconda3/lib/python3.11/site-packages/pennylane/workflow/qnode.py\", line 1098, in __call__\n",
      "    res = self._execution_component(args, kwargs, override_shots=override_shots)\n",
      "          ^^^^^^^^^^^^^^^^^^^^^^^^^^^^^^^^^^^^^^^^^^^^^^^^^^^^^^^^^^^^^^^^^^^^^^\n",
      "  File \"/Users/mateo/anaconda3/lib/python3.11/site-packages/pennylane/workflow/qnode.py\", line 1052, in _execution_component\n",
      "    res = qml.execute(\n",
      "          ^^^^^^^^^^^^\n",
      "  File \"/Users/mateo/anaconda3/lib/python3.11/site-packages/pennylane/workflow/execution.py\", line 600, in execute\n",
      "    tapes, post_processing = transform_program(tapes)\n",
      "                             ^^^^^^^^^^^^^^^^^^^^^^^^\n",
      "  File \"/Users/mateo/anaconda3/lib/python3.11/site-packages/pennylane/transforms/core/transform_program.py\", line 509, in __call__\n",
      "    new_tapes, fn = transform(tape, *targs, **tkwargs)\n",
      "                    ^^^^^^^^^^^^^^^^^^^^^^^^^^^^^^^^^^\n",
      "  File \"/Users/mateo/anaconda3/lib/python3.11/site-packages/pennylane/devices/preprocess.py\", line 131, in validate_device_wires\n",
      "    raise WireError(\n",
      "pennylane.wires.WireError: Cannot run circuit(s) on default.qubit as they contain wires not found on the device: {7}\n"
     ]
    },
    {
     "name": "stdout",
     "output_type": "stream",
     "text": [
      "Error during execution: Cannot run circuit(s) on default.qubit as they contain wires not found on the device: {7}\n"
     ]
    },
    {
     "name": "stderr",
     "output_type": "stream",
     "text": [
      "  0%|          | 0/185 [00:00<?, ?it/s]\n",
      "Traceback (most recent call last):\n",
      "  File \"/var/folders/wl/7wlprxgn5hxbwxmhbsvvsyj40000gs/T/ipykernel_28212/106676976.py\", line 320, in <module>\n",
      "    out = cost(param_init, train_x[i:i+25], train_y[i:i+25])\n",
      "          ^^^^^^^^^^^^^^^^^^^^^^^^^^^^^^^^^^^^^^^^^^^^^^^^^^\n",
      "  File \"/var/folders/wl/7wlprxgn5hxbwxmhbsvvsyj40000gs/T/ipykernel_28212/106676976.py\", line 312, in cost\n",
      "    predictions = m(circuit(weights, X))\n",
      "                    ^^^^^^^^^^^^^^^^^^^\n",
      "  File \"/Users/mateo/anaconda3/lib/python3.11/site-packages/pennylane/workflow/qnode.py\", line 1098, in __call__\n",
      "    res = self._execution_component(args, kwargs, override_shots=override_shots)\n",
      "          ^^^^^^^^^^^^^^^^^^^^^^^^^^^^^^^^^^^^^^^^^^^^^^^^^^^^^^^^^^^^^^^^^^^^^^\n",
      "  File \"/Users/mateo/anaconda3/lib/python3.11/site-packages/pennylane/workflow/qnode.py\", line 1052, in _execution_component\n",
      "    res = qml.execute(\n",
      "          ^^^^^^^^^^^^\n",
      "  File \"/Users/mateo/anaconda3/lib/python3.11/site-packages/pennylane/workflow/execution.py\", line 600, in execute\n",
      "    tapes, post_processing = transform_program(tapes)\n",
      "                             ^^^^^^^^^^^^^^^^^^^^^^^^\n",
      "  File \"/Users/mateo/anaconda3/lib/python3.11/site-packages/pennylane/transforms/core/transform_program.py\", line 509, in __call__\n",
      "    new_tapes, fn = transform(tape, *targs, **tkwargs)\n",
      "                    ^^^^^^^^^^^^^^^^^^^^^^^^^^^^^^^^^^\n",
      "  File \"/Users/mateo/anaconda3/lib/python3.11/site-packages/pennylane/devices/preprocess.py\", line 131, in validate_device_wires\n",
      "    raise WireError(\n",
      "pennylane.wires.WireError: Cannot run circuit(s) on default.qubit as they contain wires not found on the device: {7}\n"
     ]
    },
    {
     "name": "stdout",
     "output_type": "stream",
     "text": [
      "Error during execution: Cannot run circuit(s) on default.qubit as they contain wires not found on the device: {7}\n"
     ]
    },
    {
     "name": "stderr",
     "output_type": "stream",
     "text": [
      "  0%|          | 0/185 [00:00<?, ?it/s]\n",
      "Traceback (most recent call last):\n",
      "  File \"/var/folders/wl/7wlprxgn5hxbwxmhbsvvsyj40000gs/T/ipykernel_28212/106676976.py\", line 320, in <module>\n",
      "    out = cost(param_init, train_x[i:i+25], train_y[i:i+25])\n",
      "          ^^^^^^^^^^^^^^^^^^^^^^^^^^^^^^^^^^^^^^^^^^^^^^^^^^\n",
      "  File \"/var/folders/wl/7wlprxgn5hxbwxmhbsvvsyj40000gs/T/ipykernel_28212/106676976.py\", line 312, in cost\n",
      "    predictions = m(circuit(weights, X))\n",
      "                    ^^^^^^^^^^^^^^^^^^^\n",
      "  File \"/Users/mateo/anaconda3/lib/python3.11/site-packages/pennylane/workflow/qnode.py\", line 1098, in __call__\n",
      "    res = self._execution_component(args, kwargs, override_shots=override_shots)\n",
      "          ^^^^^^^^^^^^^^^^^^^^^^^^^^^^^^^^^^^^^^^^^^^^^^^^^^^^^^^^^^^^^^^^^^^^^^\n",
      "  File \"/Users/mateo/anaconda3/lib/python3.11/site-packages/pennylane/workflow/qnode.py\", line 1052, in _execution_component\n",
      "    res = qml.execute(\n",
      "          ^^^^^^^^^^^^\n",
      "  File \"/Users/mateo/anaconda3/lib/python3.11/site-packages/pennylane/workflow/execution.py\", line 600, in execute\n",
      "    tapes, post_processing = transform_program(tapes)\n",
      "                             ^^^^^^^^^^^^^^^^^^^^^^^^\n",
      "  File \"/Users/mateo/anaconda3/lib/python3.11/site-packages/pennylane/transforms/core/transform_program.py\", line 509, in __call__\n",
      "    new_tapes, fn = transform(tape, *targs, **tkwargs)\n",
      "                    ^^^^^^^^^^^^^^^^^^^^^^^^^^^^^^^^^^\n",
      "  File \"/Users/mateo/anaconda3/lib/python3.11/site-packages/pennylane/devices/preprocess.py\", line 131, in validate_device_wires\n",
      "    raise WireError(\n",
      "pennylane.wires.WireError: Cannot run circuit(s) on default.qubit as they contain wires not found on the device: {7}\n"
     ]
    },
    {
     "name": "stdout",
     "output_type": "stream",
     "text": [
      "Error during execution: Cannot run circuit(s) on default.qubit as they contain wires not found on the device: {7}\n"
     ]
    },
    {
     "name": "stderr",
     "output_type": "stream",
     "text": [
      "  0%|          | 0/185 [00:00<?, ?it/s]\n",
      "Traceback (most recent call last):\n",
      "  File \"/var/folders/wl/7wlprxgn5hxbwxmhbsvvsyj40000gs/T/ipykernel_28212/106676976.py\", line 320, in <module>\n",
      "    out = cost(param_init, train_x[i:i+25], train_y[i:i+25])\n",
      "          ^^^^^^^^^^^^^^^^^^^^^^^^^^^^^^^^^^^^^^^^^^^^^^^^^^\n",
      "  File \"/var/folders/wl/7wlprxgn5hxbwxmhbsvvsyj40000gs/T/ipykernel_28212/106676976.py\", line 312, in cost\n",
      "    predictions = m(circuit(weights, X))\n",
      "                    ^^^^^^^^^^^^^^^^^^^\n",
      "  File \"/Users/mateo/anaconda3/lib/python3.11/site-packages/pennylane/workflow/qnode.py\", line 1098, in __call__\n",
      "    res = self._execution_component(args, kwargs, override_shots=override_shots)\n",
      "          ^^^^^^^^^^^^^^^^^^^^^^^^^^^^^^^^^^^^^^^^^^^^^^^^^^^^^^^^^^^^^^^^^^^^^^\n",
      "  File \"/Users/mateo/anaconda3/lib/python3.11/site-packages/pennylane/workflow/qnode.py\", line 1052, in _execution_component\n",
      "    res = qml.execute(\n",
      "          ^^^^^^^^^^^^\n",
      "  File \"/Users/mateo/anaconda3/lib/python3.11/site-packages/pennylane/workflow/execution.py\", line 600, in execute\n",
      "    tapes, post_processing = transform_program(tapes)\n",
      "                             ^^^^^^^^^^^^^^^^^^^^^^^^\n",
      "  File \"/Users/mateo/anaconda3/lib/python3.11/site-packages/pennylane/transforms/core/transform_program.py\", line 509, in __call__\n",
      "    new_tapes, fn = transform(tape, *targs, **tkwargs)\n",
      "                    ^^^^^^^^^^^^^^^^^^^^^^^^^^^^^^^^^^\n",
      "  File \"/Users/mateo/anaconda3/lib/python3.11/site-packages/pennylane/devices/preprocess.py\", line 131, in validate_device_wires\n",
      "    raise WireError(\n",
      "pennylane.wires.WireError: Cannot run circuit(s) on default.qubit as they contain wires not found on the device: {7}\n"
     ]
    },
    {
     "name": "stdout",
     "output_type": "stream",
     "text": [
      "Error during execution: Cannot run circuit(s) on default.qubit as they contain wires not found on the device: {7}\n"
     ]
    },
    {
     "name": "stderr",
     "output_type": "stream",
     "text": [
      "  0%|          | 0/185 [00:00<?, ?it/s]\n",
      "Traceback (most recent call last):\n",
      "  File \"/var/folders/wl/7wlprxgn5hxbwxmhbsvvsyj40000gs/T/ipykernel_28212/106676976.py\", line 320, in <module>\n",
      "    out = cost(param_init, train_x[i:i+25], train_y[i:i+25])\n",
      "          ^^^^^^^^^^^^^^^^^^^^^^^^^^^^^^^^^^^^^^^^^^^^^^^^^^\n",
      "  File \"/var/folders/wl/7wlprxgn5hxbwxmhbsvvsyj40000gs/T/ipykernel_28212/106676976.py\", line 312, in cost\n",
      "    predictions = m(circuit(weights, X))\n",
      "                    ^^^^^^^^^^^^^^^^^^^\n",
      "  File \"/Users/mateo/anaconda3/lib/python3.11/site-packages/pennylane/workflow/qnode.py\", line 1098, in __call__\n",
      "    res = self._execution_component(args, kwargs, override_shots=override_shots)\n",
      "          ^^^^^^^^^^^^^^^^^^^^^^^^^^^^^^^^^^^^^^^^^^^^^^^^^^^^^^^^^^^^^^^^^^^^^^\n",
      "  File \"/Users/mateo/anaconda3/lib/python3.11/site-packages/pennylane/workflow/qnode.py\", line 1052, in _execution_component\n",
      "    res = qml.execute(\n",
      "          ^^^^^^^^^^^^\n",
      "  File \"/Users/mateo/anaconda3/lib/python3.11/site-packages/pennylane/workflow/execution.py\", line 600, in execute\n",
      "    tapes, post_processing = transform_program(tapes)\n",
      "                             ^^^^^^^^^^^^^^^^^^^^^^^^\n",
      "  File \"/Users/mateo/anaconda3/lib/python3.11/site-packages/pennylane/transforms/core/transform_program.py\", line 509, in __call__\n",
      "    new_tapes, fn = transform(tape, *targs, **tkwargs)\n",
      "                    ^^^^^^^^^^^^^^^^^^^^^^^^^^^^^^^^^^\n",
      "  File \"/Users/mateo/anaconda3/lib/python3.11/site-packages/pennylane/devices/preprocess.py\", line 131, in validate_device_wires\n",
      "    raise WireError(\n",
      "pennylane.wires.WireError: Cannot run circuit(s) on default.qubit as they contain wires not found on the device: {7}\n"
     ]
    },
    {
     "name": "stdout",
     "output_type": "stream",
     "text": [
      "Error during execution: Cannot run circuit(s) on default.qubit as they contain wires not found on the device: {7}\n"
     ]
    },
    {
     "name": "stderr",
     "output_type": "stream",
     "text": [
      "  0%|          | 0/185 [00:00<?, ?it/s]\n",
      "Traceback (most recent call last):\n",
      "  File \"/var/folders/wl/7wlprxgn5hxbwxmhbsvvsyj40000gs/T/ipykernel_28212/106676976.py\", line 320, in <module>\n",
      "    out = cost(param_init, train_x[i:i+25], train_y[i:i+25])\n",
      "          ^^^^^^^^^^^^^^^^^^^^^^^^^^^^^^^^^^^^^^^^^^^^^^^^^^\n",
      "  File \"/var/folders/wl/7wlprxgn5hxbwxmhbsvvsyj40000gs/T/ipykernel_28212/106676976.py\", line 312, in cost\n",
      "    predictions = m(circuit(weights, X))\n",
      "                    ^^^^^^^^^^^^^^^^^^^\n",
      "  File \"/Users/mateo/anaconda3/lib/python3.11/site-packages/pennylane/workflow/qnode.py\", line 1098, in __call__\n",
      "    res = self._execution_component(args, kwargs, override_shots=override_shots)\n",
      "          ^^^^^^^^^^^^^^^^^^^^^^^^^^^^^^^^^^^^^^^^^^^^^^^^^^^^^^^^^^^^^^^^^^^^^^\n",
      "  File \"/Users/mateo/anaconda3/lib/python3.11/site-packages/pennylane/workflow/qnode.py\", line 1052, in _execution_component\n",
      "    res = qml.execute(\n",
      "          ^^^^^^^^^^^^\n",
      "  File \"/Users/mateo/anaconda3/lib/python3.11/site-packages/pennylane/workflow/execution.py\", line 600, in execute\n",
      "    tapes, post_processing = transform_program(tapes)\n",
      "                             ^^^^^^^^^^^^^^^^^^^^^^^^\n",
      "  File \"/Users/mateo/anaconda3/lib/python3.11/site-packages/pennylane/transforms/core/transform_program.py\", line 509, in __call__\n",
      "    new_tapes, fn = transform(tape, *targs, **tkwargs)\n",
      "                    ^^^^^^^^^^^^^^^^^^^^^^^^^^^^^^^^^^\n",
      "  File \"/Users/mateo/anaconda3/lib/python3.11/site-packages/pennylane/devices/preprocess.py\", line 131, in validate_device_wires\n",
      "    raise WireError(\n",
      "pennylane.wires.WireError: Cannot run circuit(s) on default.qubit as they contain wires not found on the device: {7}\n"
     ]
    },
    {
     "name": "stdout",
     "output_type": "stream",
     "text": [
      "Error during execution: Cannot run circuit(s) on default.qubit as they contain wires not found on the device: {7}\n",
      "2\n"
     ]
    },
    {
     "name": "stderr",
     "output_type": "stream",
     "text": [
      "  0%|          | 0/185 [00:00<?, ?it/s]\n",
      "Traceback (most recent call last):\n",
      "  File \"/var/folders/wl/7wlprxgn5hxbwxmhbsvvsyj40000gs/T/ipykernel_28212/106676976.py\", line 320, in <module>\n",
      "    out = cost(param_init, train_x[i:i+25], train_y[i:i+25])\n",
      "          ^^^^^^^^^^^^^^^^^^^^^^^^^^^^^^^^^^^^^^^^^^^^^^^^^^\n",
      "  File \"/var/folders/wl/7wlprxgn5hxbwxmhbsvvsyj40000gs/T/ipykernel_28212/106676976.py\", line 312, in cost\n",
      "    predictions = m(circuit(weights, X))\n",
      "                    ^^^^^^^^^^^^^^^^^^^\n",
      "  File \"/Users/mateo/anaconda3/lib/python3.11/site-packages/pennylane/workflow/qnode.py\", line 1098, in __call__\n",
      "    res = self._execution_component(args, kwargs, override_shots=override_shots)\n",
      "          ^^^^^^^^^^^^^^^^^^^^^^^^^^^^^^^^^^^^^^^^^^^^^^^^^^^^^^^^^^^^^^^^^^^^^^\n",
      "  File \"/Users/mateo/anaconda3/lib/python3.11/site-packages/pennylane/workflow/qnode.py\", line 1052, in _execution_component\n",
      "    res = qml.execute(\n",
      "          ^^^^^^^^^^^^\n",
      "  File \"/Users/mateo/anaconda3/lib/python3.11/site-packages/pennylane/workflow/execution.py\", line 600, in execute\n",
      "    tapes, post_processing = transform_program(tapes)\n",
      "                             ^^^^^^^^^^^^^^^^^^^^^^^^\n",
      "  File \"/Users/mateo/anaconda3/lib/python3.11/site-packages/pennylane/transforms/core/transform_program.py\", line 509, in __call__\n",
      "    new_tapes, fn = transform(tape, *targs, **tkwargs)\n",
      "                    ^^^^^^^^^^^^^^^^^^^^^^^^^^^^^^^^^^\n",
      "  File \"/Users/mateo/anaconda3/lib/python3.11/site-packages/pennylane/devices/preprocess.py\", line 131, in validate_device_wires\n",
      "    raise WireError(\n",
      "pennylane.wires.WireError: Cannot run circuit(s) on default.qubit as they contain wires not found on the device: {7}\n"
     ]
    },
    {
     "name": "stdout",
     "output_type": "stream",
     "text": [
      "Error during execution: Cannot run circuit(s) on default.qubit as they contain wires not found on the device: {7}\n"
     ]
    },
    {
     "name": "stderr",
     "output_type": "stream",
     "text": [
      "  0%|          | 0/185 [00:00<?, ?it/s]\n",
      "Traceback (most recent call last):\n",
      "  File \"/var/folders/wl/7wlprxgn5hxbwxmhbsvvsyj40000gs/T/ipykernel_28212/106676976.py\", line 320, in <module>\n",
      "    out = cost(param_init, train_x[i:i+25], train_y[i:i+25])\n",
      "          ^^^^^^^^^^^^^^^^^^^^^^^^^^^^^^^^^^^^^^^^^^^^^^^^^^\n",
      "  File \"/var/folders/wl/7wlprxgn5hxbwxmhbsvvsyj40000gs/T/ipykernel_28212/106676976.py\", line 312, in cost\n",
      "    predictions = m(circuit(weights, X))\n",
      "                    ^^^^^^^^^^^^^^^^^^^\n",
      "  File \"/Users/mateo/anaconda3/lib/python3.11/site-packages/pennylane/workflow/qnode.py\", line 1098, in __call__\n",
      "    res = self._execution_component(args, kwargs, override_shots=override_shots)\n",
      "          ^^^^^^^^^^^^^^^^^^^^^^^^^^^^^^^^^^^^^^^^^^^^^^^^^^^^^^^^^^^^^^^^^^^^^^\n",
      "  File \"/Users/mateo/anaconda3/lib/python3.11/site-packages/pennylane/workflow/qnode.py\", line 1052, in _execution_component\n",
      "    res = qml.execute(\n",
      "          ^^^^^^^^^^^^\n",
      "  File \"/Users/mateo/anaconda3/lib/python3.11/site-packages/pennylane/workflow/execution.py\", line 600, in execute\n",
      "    tapes, post_processing = transform_program(tapes)\n",
      "                             ^^^^^^^^^^^^^^^^^^^^^^^^\n",
      "  File \"/Users/mateo/anaconda3/lib/python3.11/site-packages/pennylane/transforms/core/transform_program.py\", line 509, in __call__\n",
      "    new_tapes, fn = transform(tape, *targs, **tkwargs)\n",
      "                    ^^^^^^^^^^^^^^^^^^^^^^^^^^^^^^^^^^\n",
      "  File \"/Users/mateo/anaconda3/lib/python3.11/site-packages/pennylane/devices/preprocess.py\", line 131, in validate_device_wires\n",
      "    raise WireError(\n",
      "pennylane.wires.WireError: Cannot run circuit(s) on default.qubit as they contain wires not found on the device: {7}\n"
     ]
    },
    {
     "name": "stdout",
     "output_type": "stream",
     "text": [
      "Error during execution: Cannot run circuit(s) on default.qubit as they contain wires not found on the device: {7}\n"
     ]
    },
    {
     "name": "stderr",
     "output_type": "stream",
     "text": [
      "  0%|          | 0/185 [00:00<?, ?it/s]\n",
      "Traceback (most recent call last):\n",
      "  File \"/var/folders/wl/7wlprxgn5hxbwxmhbsvvsyj40000gs/T/ipykernel_28212/106676976.py\", line 320, in <module>\n",
      "    out = cost(param_init, train_x[i:i+25], train_y[i:i+25])\n",
      "          ^^^^^^^^^^^^^^^^^^^^^^^^^^^^^^^^^^^^^^^^^^^^^^^^^^\n",
      "  File \"/var/folders/wl/7wlprxgn5hxbwxmhbsvvsyj40000gs/T/ipykernel_28212/106676976.py\", line 312, in cost\n",
      "    predictions = m(circuit(weights, X))\n",
      "                    ^^^^^^^^^^^^^^^^^^^\n",
      "  File \"/Users/mateo/anaconda3/lib/python3.11/site-packages/pennylane/workflow/qnode.py\", line 1098, in __call__\n",
      "    res = self._execution_component(args, kwargs, override_shots=override_shots)\n",
      "          ^^^^^^^^^^^^^^^^^^^^^^^^^^^^^^^^^^^^^^^^^^^^^^^^^^^^^^^^^^^^^^^^^^^^^^\n",
      "  File \"/Users/mateo/anaconda3/lib/python3.11/site-packages/pennylane/workflow/qnode.py\", line 1052, in _execution_component\n",
      "    res = qml.execute(\n",
      "          ^^^^^^^^^^^^\n",
      "  File \"/Users/mateo/anaconda3/lib/python3.11/site-packages/pennylane/workflow/execution.py\", line 600, in execute\n",
      "    tapes, post_processing = transform_program(tapes)\n",
      "                             ^^^^^^^^^^^^^^^^^^^^^^^^\n",
      "  File \"/Users/mateo/anaconda3/lib/python3.11/site-packages/pennylane/transforms/core/transform_program.py\", line 509, in __call__\n",
      "    new_tapes, fn = transform(tape, *targs, **tkwargs)\n",
      "                    ^^^^^^^^^^^^^^^^^^^^^^^^^^^^^^^^^^\n",
      "  File \"/Users/mateo/anaconda3/lib/python3.11/site-packages/pennylane/devices/preprocess.py\", line 131, in validate_device_wires\n",
      "    raise WireError(\n",
      "pennylane.wires.WireError: Cannot run circuit(s) on default.qubit as they contain wires not found on the device: {7}\n"
     ]
    },
    {
     "name": "stdout",
     "output_type": "stream",
     "text": [
      "Error during execution: Cannot run circuit(s) on default.qubit as they contain wires not found on the device: {7}\n"
     ]
    },
    {
     "name": "stderr",
     "output_type": "stream",
     "text": [
      "  0%|          | 0/185 [00:00<?, ?it/s]\n",
      "Traceback (most recent call last):\n",
      "  File \"/var/folders/wl/7wlprxgn5hxbwxmhbsvvsyj40000gs/T/ipykernel_28212/106676976.py\", line 320, in <module>\n",
      "    out = cost(param_init, train_x[i:i+25], train_y[i:i+25])\n",
      "          ^^^^^^^^^^^^^^^^^^^^^^^^^^^^^^^^^^^^^^^^^^^^^^^^^^\n",
      "  File \"/var/folders/wl/7wlprxgn5hxbwxmhbsvvsyj40000gs/T/ipykernel_28212/106676976.py\", line 312, in cost\n",
      "    predictions = m(circuit(weights, X))\n",
      "                    ^^^^^^^^^^^^^^^^^^^\n",
      "  File \"/Users/mateo/anaconda3/lib/python3.11/site-packages/pennylane/workflow/qnode.py\", line 1098, in __call__\n",
      "    res = self._execution_component(args, kwargs, override_shots=override_shots)\n",
      "          ^^^^^^^^^^^^^^^^^^^^^^^^^^^^^^^^^^^^^^^^^^^^^^^^^^^^^^^^^^^^^^^^^^^^^^\n",
      "  File \"/Users/mateo/anaconda3/lib/python3.11/site-packages/pennylane/workflow/qnode.py\", line 1052, in _execution_component\n",
      "    res = qml.execute(\n",
      "          ^^^^^^^^^^^^\n",
      "  File \"/Users/mateo/anaconda3/lib/python3.11/site-packages/pennylane/workflow/execution.py\", line 600, in execute\n",
      "    tapes, post_processing = transform_program(tapes)\n",
      "                             ^^^^^^^^^^^^^^^^^^^^^^^^\n",
      "  File \"/Users/mateo/anaconda3/lib/python3.11/site-packages/pennylane/transforms/core/transform_program.py\", line 509, in __call__\n",
      "    new_tapes, fn = transform(tape, *targs, **tkwargs)\n",
      "                    ^^^^^^^^^^^^^^^^^^^^^^^^^^^^^^^^^^\n",
      "  File \"/Users/mateo/anaconda3/lib/python3.11/site-packages/pennylane/devices/preprocess.py\", line 131, in validate_device_wires\n",
      "    raise WireError(\n",
      "pennylane.wires.WireError: Cannot run circuit(s) on default.qubit as they contain wires not found on the device: {7}\n"
     ]
    },
    {
     "name": "stdout",
     "output_type": "stream",
     "text": [
      "Error during execution: Cannot run circuit(s) on default.qubit as they contain wires not found on the device: {7}\n"
     ]
    },
    {
     "name": "stderr",
     "output_type": "stream",
     "text": [
      "  0%|          | 0/185 [00:00<?, ?it/s]\n",
      "Traceback (most recent call last):\n",
      "  File \"/var/folders/wl/7wlprxgn5hxbwxmhbsvvsyj40000gs/T/ipykernel_28212/106676976.py\", line 320, in <module>\n",
      "    out = cost(param_init, train_x[i:i+25], train_y[i:i+25])\n",
      "          ^^^^^^^^^^^^^^^^^^^^^^^^^^^^^^^^^^^^^^^^^^^^^^^^^^\n",
      "  File \"/var/folders/wl/7wlprxgn5hxbwxmhbsvvsyj40000gs/T/ipykernel_28212/106676976.py\", line 312, in cost\n",
      "    predictions = m(circuit(weights, X))\n",
      "                    ^^^^^^^^^^^^^^^^^^^\n",
      "  File \"/Users/mateo/anaconda3/lib/python3.11/site-packages/pennylane/workflow/qnode.py\", line 1098, in __call__\n",
      "    res = self._execution_component(args, kwargs, override_shots=override_shots)\n",
      "          ^^^^^^^^^^^^^^^^^^^^^^^^^^^^^^^^^^^^^^^^^^^^^^^^^^^^^^^^^^^^^^^^^^^^^^\n",
      "  File \"/Users/mateo/anaconda3/lib/python3.11/site-packages/pennylane/workflow/qnode.py\", line 1052, in _execution_component\n",
      "    res = qml.execute(\n",
      "          ^^^^^^^^^^^^\n",
      "  File \"/Users/mateo/anaconda3/lib/python3.11/site-packages/pennylane/workflow/execution.py\", line 600, in execute\n",
      "    tapes, post_processing = transform_program(tapes)\n",
      "                             ^^^^^^^^^^^^^^^^^^^^^^^^\n",
      "  File \"/Users/mateo/anaconda3/lib/python3.11/site-packages/pennylane/transforms/core/transform_program.py\", line 509, in __call__\n",
      "    new_tapes, fn = transform(tape, *targs, **tkwargs)\n",
      "                    ^^^^^^^^^^^^^^^^^^^^^^^^^^^^^^^^^^\n",
      "  File \"/Users/mateo/anaconda3/lib/python3.11/site-packages/pennylane/devices/preprocess.py\", line 131, in validate_device_wires\n",
      "    raise WireError(\n",
      "pennylane.wires.WireError: Cannot run circuit(s) on default.qubit as they contain wires not found on the device: {7}\n"
     ]
    },
    {
     "name": "stdout",
     "output_type": "stream",
     "text": [
      "Error during execution: Cannot run circuit(s) on default.qubit as they contain wires not found on the device: {7}\n"
     ]
    },
    {
     "name": "stderr",
     "output_type": "stream",
     "text": [
      "  0%|          | 0/185 [00:00<?, ?it/s]\n",
      "Traceback (most recent call last):\n",
      "  File \"/var/folders/wl/7wlprxgn5hxbwxmhbsvvsyj40000gs/T/ipykernel_28212/106676976.py\", line 320, in <module>\n",
      "    out = cost(param_init, train_x[i:i+25], train_y[i:i+25])\n",
      "          ^^^^^^^^^^^^^^^^^^^^^^^^^^^^^^^^^^^^^^^^^^^^^^^^^^\n",
      "  File \"/var/folders/wl/7wlprxgn5hxbwxmhbsvvsyj40000gs/T/ipykernel_28212/106676976.py\", line 312, in cost\n",
      "    predictions = m(circuit(weights, X))\n",
      "                    ^^^^^^^^^^^^^^^^^^^\n",
      "  File \"/Users/mateo/anaconda3/lib/python3.11/site-packages/pennylane/workflow/qnode.py\", line 1098, in __call__\n",
      "    res = self._execution_component(args, kwargs, override_shots=override_shots)\n",
      "          ^^^^^^^^^^^^^^^^^^^^^^^^^^^^^^^^^^^^^^^^^^^^^^^^^^^^^^^^^^^^^^^^^^^^^^\n",
      "  File \"/Users/mateo/anaconda3/lib/python3.11/site-packages/pennylane/workflow/qnode.py\", line 1052, in _execution_component\n",
      "    res = qml.execute(\n",
      "          ^^^^^^^^^^^^\n",
      "  File \"/Users/mateo/anaconda3/lib/python3.11/site-packages/pennylane/workflow/execution.py\", line 600, in execute\n",
      "    tapes, post_processing = transform_program(tapes)\n",
      "                             ^^^^^^^^^^^^^^^^^^^^^^^^\n",
      "  File \"/Users/mateo/anaconda3/lib/python3.11/site-packages/pennylane/transforms/core/transform_program.py\", line 509, in __call__\n",
      "    new_tapes, fn = transform(tape, *targs, **tkwargs)\n",
      "                    ^^^^^^^^^^^^^^^^^^^^^^^^^^^^^^^^^^\n",
      "  File \"/Users/mateo/anaconda3/lib/python3.11/site-packages/pennylane/devices/preprocess.py\", line 131, in validate_device_wires\n",
      "    raise WireError(\n",
      "pennylane.wires.WireError: Cannot run circuit(s) on default.qubit as they contain wires not found on the device: {7}\n"
     ]
    },
    {
     "name": "stdout",
     "output_type": "stream",
     "text": [
      "Error during execution: Cannot run circuit(s) on default.qubit as they contain wires not found on the device: {7}\n",
      "2\n"
     ]
    },
    {
     "name": "stderr",
     "output_type": "stream",
     "text": [
      "  0%|          | 0/185 [00:00<?, ?it/s]\n",
      "Traceback (most recent call last):\n",
      "  File \"/var/folders/wl/7wlprxgn5hxbwxmhbsvvsyj40000gs/T/ipykernel_28212/106676976.py\", line 320, in <module>\n",
      "    out = cost(param_init, train_x[i:i+25], train_y[i:i+25])\n",
      "          ^^^^^^^^^^^^^^^^^^^^^^^^^^^^^^^^^^^^^^^^^^^^^^^^^^\n",
      "  File \"/var/folders/wl/7wlprxgn5hxbwxmhbsvvsyj40000gs/T/ipykernel_28212/106676976.py\", line 312, in cost\n",
      "    predictions = m(circuit(weights, X))\n",
      "                    ^^^^^^^^^^^^^^^^^^^\n",
      "  File \"/Users/mateo/anaconda3/lib/python3.11/site-packages/pennylane/workflow/qnode.py\", line 1098, in __call__\n",
      "    res = self._execution_component(args, kwargs, override_shots=override_shots)\n",
      "          ^^^^^^^^^^^^^^^^^^^^^^^^^^^^^^^^^^^^^^^^^^^^^^^^^^^^^^^^^^^^^^^^^^^^^^\n",
      "  File \"/Users/mateo/anaconda3/lib/python3.11/site-packages/pennylane/workflow/qnode.py\", line 1052, in _execution_component\n",
      "    res = qml.execute(\n",
      "          ^^^^^^^^^^^^\n",
      "  File \"/Users/mateo/anaconda3/lib/python3.11/site-packages/pennylane/workflow/execution.py\", line 600, in execute\n",
      "    tapes, post_processing = transform_program(tapes)\n",
      "                             ^^^^^^^^^^^^^^^^^^^^^^^^\n",
      "  File \"/Users/mateo/anaconda3/lib/python3.11/site-packages/pennylane/transforms/core/transform_program.py\", line 509, in __call__\n",
      "    new_tapes, fn = transform(tape, *targs, **tkwargs)\n",
      "                    ^^^^^^^^^^^^^^^^^^^^^^^^^^^^^^^^^^\n",
      "  File \"/Users/mateo/anaconda3/lib/python3.11/site-packages/pennylane/devices/preprocess.py\", line 131, in validate_device_wires\n",
      "    raise WireError(\n",
      "pennylane.wires.WireError: Cannot run circuit(s) on default.qubit as they contain wires not found on the device: {7}\n"
     ]
    },
    {
     "name": "stdout",
     "output_type": "stream",
     "text": [
      "Error during execution: Cannot run circuit(s) on default.qubit as they contain wires not found on the device: {7}\n"
     ]
    },
    {
     "name": "stderr",
     "output_type": "stream",
     "text": [
      "  0%|          | 0/185 [00:00<?, ?it/s]\n",
      "Traceback (most recent call last):\n",
      "  File \"/var/folders/wl/7wlprxgn5hxbwxmhbsvvsyj40000gs/T/ipykernel_28212/106676976.py\", line 320, in <module>\n",
      "    out = cost(param_init, train_x[i:i+25], train_y[i:i+25])\n",
      "          ^^^^^^^^^^^^^^^^^^^^^^^^^^^^^^^^^^^^^^^^^^^^^^^^^^\n",
      "  File \"/var/folders/wl/7wlprxgn5hxbwxmhbsvvsyj40000gs/T/ipykernel_28212/106676976.py\", line 312, in cost\n",
      "    predictions = m(circuit(weights, X))\n",
      "                    ^^^^^^^^^^^^^^^^^^^\n",
      "  File \"/Users/mateo/anaconda3/lib/python3.11/site-packages/pennylane/workflow/qnode.py\", line 1098, in __call__\n",
      "    res = self._execution_component(args, kwargs, override_shots=override_shots)\n",
      "          ^^^^^^^^^^^^^^^^^^^^^^^^^^^^^^^^^^^^^^^^^^^^^^^^^^^^^^^^^^^^^^^^^^^^^^\n",
      "  File \"/Users/mateo/anaconda3/lib/python3.11/site-packages/pennylane/workflow/qnode.py\", line 1052, in _execution_component\n",
      "    res = qml.execute(\n",
      "          ^^^^^^^^^^^^\n",
      "  File \"/Users/mateo/anaconda3/lib/python3.11/site-packages/pennylane/workflow/execution.py\", line 600, in execute\n",
      "    tapes, post_processing = transform_program(tapes)\n",
      "                             ^^^^^^^^^^^^^^^^^^^^^^^^\n",
      "  File \"/Users/mateo/anaconda3/lib/python3.11/site-packages/pennylane/transforms/core/transform_program.py\", line 509, in __call__\n",
      "    new_tapes, fn = transform(tape, *targs, **tkwargs)\n",
      "                    ^^^^^^^^^^^^^^^^^^^^^^^^^^^^^^^^^^\n",
      "  File \"/Users/mateo/anaconda3/lib/python3.11/site-packages/pennylane/devices/preprocess.py\", line 131, in validate_device_wires\n",
      "    raise WireError(\n",
      "pennylane.wires.WireError: Cannot run circuit(s) on default.qubit as they contain wires not found on the device: {7}\n"
     ]
    },
    {
     "name": "stdout",
     "output_type": "stream",
     "text": [
      "Error during execution: Cannot run circuit(s) on default.qubit as they contain wires not found on the device: {7}\n"
     ]
    },
    {
     "name": "stderr",
     "output_type": "stream",
     "text": [
      "  0%|          | 0/185 [00:00<?, ?it/s]\n",
      "Traceback (most recent call last):\n",
      "  File \"/var/folders/wl/7wlprxgn5hxbwxmhbsvvsyj40000gs/T/ipykernel_28212/106676976.py\", line 320, in <module>\n",
      "    out = cost(param_init, train_x[i:i+25], train_y[i:i+25])\n",
      "          ^^^^^^^^^^^^^^^^^^^^^^^^^^^^^^^^^^^^^^^^^^^^^^^^^^\n",
      "  File \"/var/folders/wl/7wlprxgn5hxbwxmhbsvvsyj40000gs/T/ipykernel_28212/106676976.py\", line 312, in cost\n",
      "    predictions = m(circuit(weights, X))\n",
      "                    ^^^^^^^^^^^^^^^^^^^\n",
      "  File \"/Users/mateo/anaconda3/lib/python3.11/site-packages/pennylane/workflow/qnode.py\", line 1098, in __call__\n",
      "    res = self._execution_component(args, kwargs, override_shots=override_shots)\n",
      "          ^^^^^^^^^^^^^^^^^^^^^^^^^^^^^^^^^^^^^^^^^^^^^^^^^^^^^^^^^^^^^^^^^^^^^^\n",
      "  File \"/Users/mateo/anaconda3/lib/python3.11/site-packages/pennylane/workflow/qnode.py\", line 1052, in _execution_component\n",
      "    res = qml.execute(\n",
      "          ^^^^^^^^^^^^\n",
      "  File \"/Users/mateo/anaconda3/lib/python3.11/site-packages/pennylane/workflow/execution.py\", line 600, in execute\n",
      "    tapes, post_processing = transform_program(tapes)\n",
      "                             ^^^^^^^^^^^^^^^^^^^^^^^^\n",
      "  File \"/Users/mateo/anaconda3/lib/python3.11/site-packages/pennylane/transforms/core/transform_program.py\", line 509, in __call__\n",
      "    new_tapes, fn = transform(tape, *targs, **tkwargs)\n",
      "                    ^^^^^^^^^^^^^^^^^^^^^^^^^^^^^^^^^^\n",
      "  File \"/Users/mateo/anaconda3/lib/python3.11/site-packages/pennylane/devices/preprocess.py\", line 131, in validate_device_wires\n",
      "    raise WireError(\n",
      "pennylane.wires.WireError: Cannot run circuit(s) on default.qubit as they contain wires not found on the device: {7}\n"
     ]
    },
    {
     "name": "stdout",
     "output_type": "stream",
     "text": [
      "Error during execution: Cannot run circuit(s) on default.qubit as they contain wires not found on the device: {7}\n"
     ]
    },
    {
     "name": "stderr",
     "output_type": "stream",
     "text": [
      "  0%|          | 0/185 [00:00<?, ?it/s]\n",
      "Traceback (most recent call last):\n",
      "  File \"/var/folders/wl/7wlprxgn5hxbwxmhbsvvsyj40000gs/T/ipykernel_28212/106676976.py\", line 320, in <module>\n",
      "    out = cost(param_init, train_x[i:i+25], train_y[i:i+25])\n",
      "          ^^^^^^^^^^^^^^^^^^^^^^^^^^^^^^^^^^^^^^^^^^^^^^^^^^\n",
      "  File \"/var/folders/wl/7wlprxgn5hxbwxmhbsvvsyj40000gs/T/ipykernel_28212/106676976.py\", line 312, in cost\n",
      "    predictions = m(circuit(weights, X))\n",
      "                    ^^^^^^^^^^^^^^^^^^^\n",
      "  File \"/Users/mateo/anaconda3/lib/python3.11/site-packages/pennylane/workflow/qnode.py\", line 1098, in __call__\n",
      "    res = self._execution_component(args, kwargs, override_shots=override_shots)\n",
      "          ^^^^^^^^^^^^^^^^^^^^^^^^^^^^^^^^^^^^^^^^^^^^^^^^^^^^^^^^^^^^^^^^^^^^^^\n",
      "  File \"/Users/mateo/anaconda3/lib/python3.11/site-packages/pennylane/workflow/qnode.py\", line 1052, in _execution_component\n",
      "    res = qml.execute(\n",
      "          ^^^^^^^^^^^^\n",
      "  File \"/Users/mateo/anaconda3/lib/python3.11/site-packages/pennylane/workflow/execution.py\", line 600, in execute\n",
      "    tapes, post_processing = transform_program(tapes)\n",
      "                             ^^^^^^^^^^^^^^^^^^^^^^^^\n",
      "  File \"/Users/mateo/anaconda3/lib/python3.11/site-packages/pennylane/transforms/core/transform_program.py\", line 509, in __call__\n",
      "    new_tapes, fn = transform(tape, *targs, **tkwargs)\n",
      "                    ^^^^^^^^^^^^^^^^^^^^^^^^^^^^^^^^^^\n",
      "  File \"/Users/mateo/anaconda3/lib/python3.11/site-packages/pennylane/devices/preprocess.py\", line 131, in validate_device_wires\n",
      "    raise WireError(\n",
      "pennylane.wires.WireError: Cannot run circuit(s) on default.qubit as they contain wires not found on the device: {7}\n"
     ]
    },
    {
     "name": "stdout",
     "output_type": "stream",
     "text": [
      "Error during execution: Cannot run circuit(s) on default.qubit as they contain wires not found on the device: {7}\n"
     ]
    },
    {
     "name": "stderr",
     "output_type": "stream",
     "text": [
      "  0%|          | 0/185 [00:00<?, ?it/s]\n",
      "Traceback (most recent call last):\n",
      "  File \"/var/folders/wl/7wlprxgn5hxbwxmhbsvvsyj40000gs/T/ipykernel_28212/106676976.py\", line 320, in <module>\n",
      "    out = cost(param_init, train_x[i:i+25], train_y[i:i+25])\n",
      "          ^^^^^^^^^^^^^^^^^^^^^^^^^^^^^^^^^^^^^^^^^^^^^^^^^^\n",
      "  File \"/var/folders/wl/7wlprxgn5hxbwxmhbsvvsyj40000gs/T/ipykernel_28212/106676976.py\", line 312, in cost\n",
      "    predictions = m(circuit(weights, X))\n",
      "                    ^^^^^^^^^^^^^^^^^^^\n",
      "  File \"/Users/mateo/anaconda3/lib/python3.11/site-packages/pennylane/workflow/qnode.py\", line 1098, in __call__\n",
      "    res = self._execution_component(args, kwargs, override_shots=override_shots)\n",
      "          ^^^^^^^^^^^^^^^^^^^^^^^^^^^^^^^^^^^^^^^^^^^^^^^^^^^^^^^^^^^^^^^^^^^^^^\n",
      "  File \"/Users/mateo/anaconda3/lib/python3.11/site-packages/pennylane/workflow/qnode.py\", line 1052, in _execution_component\n",
      "    res = qml.execute(\n",
      "          ^^^^^^^^^^^^\n",
      "  File \"/Users/mateo/anaconda3/lib/python3.11/site-packages/pennylane/workflow/execution.py\", line 600, in execute\n",
      "    tapes, post_processing = transform_program(tapes)\n",
      "                             ^^^^^^^^^^^^^^^^^^^^^^^^\n",
      "  File \"/Users/mateo/anaconda3/lib/python3.11/site-packages/pennylane/transforms/core/transform_program.py\", line 509, in __call__\n",
      "    new_tapes, fn = transform(tape, *targs, **tkwargs)\n",
      "                    ^^^^^^^^^^^^^^^^^^^^^^^^^^^^^^^^^^\n",
      "  File \"/Users/mateo/anaconda3/lib/python3.11/site-packages/pennylane/devices/preprocess.py\", line 131, in validate_device_wires\n",
      "    raise WireError(\n",
      "pennylane.wires.WireError: Cannot run circuit(s) on default.qubit as they contain wires not found on the device: {7}\n"
     ]
    },
    {
     "name": "stdout",
     "output_type": "stream",
     "text": [
      "Error during execution: Cannot run circuit(s) on default.qubit as they contain wires not found on the device: {7}\n"
     ]
    },
    {
     "name": "stderr",
     "output_type": "stream",
     "text": [
      "  0%|          | 0/185 [00:00<?, ?it/s]\n",
      "Traceback (most recent call last):\n",
      "  File \"/var/folders/wl/7wlprxgn5hxbwxmhbsvvsyj40000gs/T/ipykernel_28212/106676976.py\", line 320, in <module>\n",
      "    out = cost(param_init, train_x[i:i+25], train_y[i:i+25])\n",
      "          ^^^^^^^^^^^^^^^^^^^^^^^^^^^^^^^^^^^^^^^^^^^^^^^^^^\n",
      "  File \"/var/folders/wl/7wlprxgn5hxbwxmhbsvvsyj40000gs/T/ipykernel_28212/106676976.py\", line 312, in cost\n",
      "    predictions = m(circuit(weights, X))\n",
      "                    ^^^^^^^^^^^^^^^^^^^\n",
      "  File \"/Users/mateo/anaconda3/lib/python3.11/site-packages/pennylane/workflow/qnode.py\", line 1098, in __call__\n",
      "    res = self._execution_component(args, kwargs, override_shots=override_shots)\n",
      "          ^^^^^^^^^^^^^^^^^^^^^^^^^^^^^^^^^^^^^^^^^^^^^^^^^^^^^^^^^^^^^^^^^^^^^^\n",
      "  File \"/Users/mateo/anaconda3/lib/python3.11/site-packages/pennylane/workflow/qnode.py\", line 1052, in _execution_component\n",
      "    res = qml.execute(\n",
      "          ^^^^^^^^^^^^\n",
      "  File \"/Users/mateo/anaconda3/lib/python3.11/site-packages/pennylane/workflow/execution.py\", line 600, in execute\n",
      "    tapes, post_processing = transform_program(tapes)\n",
      "                             ^^^^^^^^^^^^^^^^^^^^^^^^\n",
      "  File \"/Users/mateo/anaconda3/lib/python3.11/site-packages/pennylane/transforms/core/transform_program.py\", line 509, in __call__\n",
      "    new_tapes, fn = transform(tape, *targs, **tkwargs)\n",
      "                    ^^^^^^^^^^^^^^^^^^^^^^^^^^^^^^^^^^\n",
      "  File \"/Users/mateo/anaconda3/lib/python3.11/site-packages/pennylane/devices/preprocess.py\", line 131, in validate_device_wires\n",
      "    raise WireError(\n",
      "pennylane.wires.WireError: Cannot run circuit(s) on default.qubit as they contain wires not found on the device: {7}\n"
     ]
    },
    {
     "name": "stdout",
     "output_type": "stream",
     "text": [
      "Error during execution: Cannot run circuit(s) on default.qubit as they contain wires not found on the device: {7}\n",
      "4\n"
     ]
    },
    {
     "name": "stderr",
     "output_type": "stream",
     "text": [
      "  0%|          | 0/185 [00:00<?, ?it/s]\n",
      "Traceback (most recent call last):\n",
      "  File \"/var/folders/wl/7wlprxgn5hxbwxmhbsvvsyj40000gs/T/ipykernel_28212/106676976.py\", line 320, in <module>\n",
      "    out = cost(param_init, train_x[i:i+25], train_y[i:i+25])\n",
      "          ^^^^^^^^^^^^^^^^^^^^^^^^^^^^^^^^^^^^^^^^^^^^^^^^^^\n",
      "  File \"/var/folders/wl/7wlprxgn5hxbwxmhbsvvsyj40000gs/T/ipykernel_28212/106676976.py\", line 312, in cost\n",
      "    predictions = m(circuit(weights, X))\n",
      "                    ^^^^^^^^^^^^^^^^^^^\n",
      "  File \"/Users/mateo/anaconda3/lib/python3.11/site-packages/pennylane/workflow/qnode.py\", line 1098, in __call__\n",
      "    res = self._execution_component(args, kwargs, override_shots=override_shots)\n",
      "          ^^^^^^^^^^^^^^^^^^^^^^^^^^^^^^^^^^^^^^^^^^^^^^^^^^^^^^^^^^^^^^^^^^^^^^\n",
      "  File \"/Users/mateo/anaconda3/lib/python3.11/site-packages/pennylane/workflow/qnode.py\", line 1052, in _execution_component\n",
      "    res = qml.execute(\n",
      "          ^^^^^^^^^^^^\n",
      "  File \"/Users/mateo/anaconda3/lib/python3.11/site-packages/pennylane/workflow/execution.py\", line 600, in execute\n",
      "    tapes, post_processing = transform_program(tapes)\n",
      "                             ^^^^^^^^^^^^^^^^^^^^^^^^\n",
      "  File \"/Users/mateo/anaconda3/lib/python3.11/site-packages/pennylane/transforms/core/transform_program.py\", line 509, in __call__\n",
      "    new_tapes, fn = transform(tape, *targs, **tkwargs)\n",
      "                    ^^^^^^^^^^^^^^^^^^^^^^^^^^^^^^^^^^\n",
      "  File \"/Users/mateo/anaconda3/lib/python3.11/site-packages/pennylane/devices/preprocess.py\", line 131, in validate_device_wires\n",
      "    raise WireError(\n",
      "pennylane.wires.WireError: Cannot run circuit(s) on default.qubit as they contain wires not found on the device: {7}\n"
     ]
    },
    {
     "name": "stdout",
     "output_type": "stream",
     "text": [
      "Error during execution: Cannot run circuit(s) on default.qubit as they contain wires not found on the device: {7}\n"
     ]
    },
    {
     "name": "stderr",
     "output_type": "stream",
     "text": [
      "  0%|          | 0/185 [00:00<?, ?it/s]\n",
      "Traceback (most recent call last):\n",
      "  File \"/var/folders/wl/7wlprxgn5hxbwxmhbsvvsyj40000gs/T/ipykernel_28212/106676976.py\", line 320, in <module>\n",
      "    out = cost(param_init, train_x[i:i+25], train_y[i:i+25])\n",
      "          ^^^^^^^^^^^^^^^^^^^^^^^^^^^^^^^^^^^^^^^^^^^^^^^^^^\n",
      "  File \"/var/folders/wl/7wlprxgn5hxbwxmhbsvvsyj40000gs/T/ipykernel_28212/106676976.py\", line 312, in cost\n",
      "    predictions = m(circuit(weights, X))\n",
      "                    ^^^^^^^^^^^^^^^^^^^\n",
      "  File \"/Users/mateo/anaconda3/lib/python3.11/site-packages/pennylane/workflow/qnode.py\", line 1098, in __call__\n",
      "    res = self._execution_component(args, kwargs, override_shots=override_shots)\n",
      "          ^^^^^^^^^^^^^^^^^^^^^^^^^^^^^^^^^^^^^^^^^^^^^^^^^^^^^^^^^^^^^^^^^^^^^^\n",
      "  File \"/Users/mateo/anaconda3/lib/python3.11/site-packages/pennylane/workflow/qnode.py\", line 1052, in _execution_component\n",
      "    res = qml.execute(\n",
      "          ^^^^^^^^^^^^\n",
      "  File \"/Users/mateo/anaconda3/lib/python3.11/site-packages/pennylane/workflow/execution.py\", line 600, in execute\n",
      "    tapes, post_processing = transform_program(tapes)\n",
      "                             ^^^^^^^^^^^^^^^^^^^^^^^^\n",
      "  File \"/Users/mateo/anaconda3/lib/python3.11/site-packages/pennylane/transforms/core/transform_program.py\", line 509, in __call__\n",
      "    new_tapes, fn = transform(tape, *targs, **tkwargs)\n",
      "                    ^^^^^^^^^^^^^^^^^^^^^^^^^^^^^^^^^^\n",
      "  File \"/Users/mateo/anaconda3/lib/python3.11/site-packages/pennylane/devices/preprocess.py\", line 131, in validate_device_wires\n",
      "    raise WireError(\n",
      "pennylane.wires.WireError: Cannot run circuit(s) on default.qubit as they contain wires not found on the device: {7}\n"
     ]
    },
    {
     "name": "stdout",
     "output_type": "stream",
     "text": [
      "Error during execution: Cannot run circuit(s) on default.qubit as they contain wires not found on the device: {7}\n"
     ]
    },
    {
     "name": "stderr",
     "output_type": "stream",
     "text": [
      "  0%|          | 0/185 [00:00<?, ?it/s]"
     ]
    },
    {
     "name": "stdout",
     "output_type": "stream",
     "text": [
      "Error during execution: Cannot run circuit(s) on default.qubit as they contain wires not found on the device: {7}\n"
     ]
    },
    {
     "name": "stderr",
     "output_type": "stream",
     "text": [
      "\n",
      "Traceback (most recent call last):\n",
      "  File \"/var/folders/wl/7wlprxgn5hxbwxmhbsvvsyj40000gs/T/ipykernel_28212/106676976.py\", line 320, in <module>\n",
      "    out = cost(param_init, train_x[i:i+25], train_y[i:i+25])\n",
      "          ^^^^^^^^^^^^^^^^^^^^^^^^^^^^^^^^^^^^^^^^^^^^^^^^^^\n",
      "  File \"/var/folders/wl/7wlprxgn5hxbwxmhbsvvsyj40000gs/T/ipykernel_28212/106676976.py\", line 312, in cost\n",
      "    predictions = m(circuit(weights, X))\n",
      "                    ^^^^^^^^^^^^^^^^^^^\n",
      "  File \"/Users/mateo/anaconda3/lib/python3.11/site-packages/pennylane/workflow/qnode.py\", line 1098, in __call__\n",
      "    res = self._execution_component(args, kwargs, override_shots=override_shots)\n",
      "          ^^^^^^^^^^^^^^^^^^^^^^^^^^^^^^^^^^^^^^^^^^^^^^^^^^^^^^^^^^^^^^^^^^^^^^\n",
      "  File \"/Users/mateo/anaconda3/lib/python3.11/site-packages/pennylane/workflow/qnode.py\", line 1052, in _execution_component\n",
      "    res = qml.execute(\n",
      "          ^^^^^^^^^^^^\n",
      "  File \"/Users/mateo/anaconda3/lib/python3.11/site-packages/pennylane/workflow/execution.py\", line 600, in execute\n",
      "    tapes, post_processing = transform_program(tapes)\n",
      "                             ^^^^^^^^^^^^^^^^^^^^^^^^\n",
      "  File \"/Users/mateo/anaconda3/lib/python3.11/site-packages/pennylane/transforms/core/transform_program.py\", line 509, in __call__\n",
      "    new_tapes, fn = transform(tape, *targs, **tkwargs)\n",
      "                    ^^^^^^^^^^^^^^^^^^^^^^^^^^^^^^^^^^\n",
      "  File \"/Users/mateo/anaconda3/lib/python3.11/site-packages/pennylane/devices/preprocess.py\", line 131, in validate_device_wires\n",
      "    raise WireError(\n",
      "pennylane.wires.WireError: Cannot run circuit(s) on default.qubit as they contain wires not found on the device: {7}\n",
      "  0%|          | 0/185 [00:00<?, ?it/s]\n",
      "Traceback (most recent call last):\n",
      "  File \"/var/folders/wl/7wlprxgn5hxbwxmhbsvvsyj40000gs/T/ipykernel_28212/106676976.py\", line 320, in <module>\n",
      "    out = cost(param_init, train_x[i:i+25], train_y[i:i+25])\n",
      "          ^^^^^^^^^^^^^^^^^^^^^^^^^^^^^^^^^^^^^^^^^^^^^^^^^^\n",
      "  File \"/var/folders/wl/7wlprxgn5hxbwxmhbsvvsyj40000gs/T/ipykernel_28212/106676976.py\", line 312, in cost\n",
      "    predictions = m(circuit(weights, X))\n",
      "                    ^^^^^^^^^^^^^^^^^^^\n",
      "  File \"/Users/mateo/anaconda3/lib/python3.11/site-packages/pennylane/workflow/qnode.py\", line 1098, in __call__\n",
      "    res = self._execution_component(args, kwargs, override_shots=override_shots)\n",
      "          ^^^^^^^^^^^^^^^^^^^^^^^^^^^^^^^^^^^^^^^^^^^^^^^^^^^^^^^^^^^^^^^^^^^^^^\n",
      "  File \"/Users/mateo/anaconda3/lib/python3.11/site-packages/pennylane/workflow/qnode.py\", line 1052, in _execution_component\n",
      "    res = qml.execute(\n",
      "          ^^^^^^^^^^^^\n",
      "  File \"/Users/mateo/anaconda3/lib/python3.11/site-packages/pennylane/workflow/execution.py\", line 600, in execute\n",
      "    tapes, post_processing = transform_program(tapes)\n",
      "                             ^^^^^^^^^^^^^^^^^^^^^^^^\n",
      "  File \"/Users/mateo/anaconda3/lib/python3.11/site-packages/pennylane/transforms/core/transform_program.py\", line 509, in __call__\n",
      "    new_tapes, fn = transform(tape, *targs, **tkwargs)\n",
      "                    ^^^^^^^^^^^^^^^^^^^^^^^^^^^^^^^^^^\n",
      "  File \"/Users/mateo/anaconda3/lib/python3.11/site-packages/pennylane/devices/preprocess.py\", line 131, in validate_device_wires\n",
      "    raise WireError(\n",
      "pennylane.wires.WireError: Cannot run circuit(s) on default.qubit as they contain wires not found on the device: {7}\n"
     ]
    },
    {
     "name": "stdout",
     "output_type": "stream",
     "text": [
      "Error during execution: Cannot run circuit(s) on default.qubit as they contain wires not found on the device: {7}\n"
     ]
    },
    {
     "name": "stderr",
     "output_type": "stream",
     "text": [
      "  0%|          | 0/185 [00:00<?, ?it/s]\n",
      "Traceback (most recent call last):\n",
      "  File \"/var/folders/wl/7wlprxgn5hxbwxmhbsvvsyj40000gs/T/ipykernel_28212/106676976.py\", line 320, in <module>\n",
      "    out = cost(param_init, train_x[i:i+25], train_y[i:i+25])\n",
      "          ^^^^^^^^^^^^^^^^^^^^^^^^^^^^^^^^^^^^^^^^^^^^^^^^^^\n",
      "  File \"/var/folders/wl/7wlprxgn5hxbwxmhbsvvsyj40000gs/T/ipykernel_28212/106676976.py\", line 312, in cost\n",
      "    predictions = m(circuit(weights, X))\n",
      "                    ^^^^^^^^^^^^^^^^^^^\n",
      "  File \"/Users/mateo/anaconda3/lib/python3.11/site-packages/pennylane/workflow/qnode.py\", line 1098, in __call__\n",
      "    res = self._execution_component(args, kwargs, override_shots=override_shots)\n",
      "          ^^^^^^^^^^^^^^^^^^^^^^^^^^^^^^^^^^^^^^^^^^^^^^^^^^^^^^^^^^^^^^^^^^^^^^\n",
      "  File \"/Users/mateo/anaconda3/lib/python3.11/site-packages/pennylane/workflow/qnode.py\", line 1052, in _execution_component\n",
      "    res = qml.execute(\n",
      "          ^^^^^^^^^^^^\n",
      "  File \"/Users/mateo/anaconda3/lib/python3.11/site-packages/pennylane/workflow/execution.py\", line 600, in execute\n",
      "    tapes, post_processing = transform_program(tapes)\n",
      "                             ^^^^^^^^^^^^^^^^^^^^^^^^\n",
      "  File \"/Users/mateo/anaconda3/lib/python3.11/site-packages/pennylane/transforms/core/transform_program.py\", line 509, in __call__\n",
      "    new_tapes, fn = transform(tape, *targs, **tkwargs)\n",
      "                    ^^^^^^^^^^^^^^^^^^^^^^^^^^^^^^^^^^\n",
      "  File \"/Users/mateo/anaconda3/lib/python3.11/site-packages/pennylane/devices/preprocess.py\", line 131, in validate_device_wires\n",
      "    raise WireError(\n",
      "pennylane.wires.WireError: Cannot run circuit(s) on default.qubit as they contain wires not found on the device: {7}\n"
     ]
    },
    {
     "name": "stdout",
     "output_type": "stream",
     "text": [
      "Error during execution: Cannot run circuit(s) on default.qubit as they contain wires not found on the device: {7}\n"
     ]
    },
    {
     "name": "stderr",
     "output_type": "stream",
     "text": [
      "  0%|          | 0/185 [00:00<?, ?it/s]\n",
      "Traceback (most recent call last):\n",
      "  File \"/var/folders/wl/7wlprxgn5hxbwxmhbsvvsyj40000gs/T/ipykernel_28212/106676976.py\", line 320, in <module>\n",
      "    out = cost(param_init, train_x[i:i+25], train_y[i:i+25])\n",
      "          ^^^^^^^^^^^^^^^^^^^^^^^^^^^^^^^^^^^^^^^^^^^^^^^^^^\n",
      "  File \"/var/folders/wl/7wlprxgn5hxbwxmhbsvvsyj40000gs/T/ipykernel_28212/106676976.py\", line 312, in cost\n",
      "    predictions = m(circuit(weights, X))\n",
      "                    ^^^^^^^^^^^^^^^^^^^\n",
      "  File \"/Users/mateo/anaconda3/lib/python3.11/site-packages/pennylane/workflow/qnode.py\", line 1098, in __call__\n",
      "    res = self._execution_component(args, kwargs, override_shots=override_shots)\n",
      "          ^^^^^^^^^^^^^^^^^^^^^^^^^^^^^^^^^^^^^^^^^^^^^^^^^^^^^^^^^^^^^^^^^^^^^^\n",
      "  File \"/Users/mateo/anaconda3/lib/python3.11/site-packages/pennylane/workflow/qnode.py\", line 1052, in _execution_component\n",
      "    res = qml.execute(\n",
      "          ^^^^^^^^^^^^\n",
      "  File \"/Users/mateo/anaconda3/lib/python3.11/site-packages/pennylane/workflow/execution.py\", line 600, in execute\n",
      "    tapes, post_processing = transform_program(tapes)\n",
      "                             ^^^^^^^^^^^^^^^^^^^^^^^^\n",
      "  File \"/Users/mateo/anaconda3/lib/python3.11/site-packages/pennylane/transforms/core/transform_program.py\", line 509, in __call__\n",
      "    new_tapes, fn = transform(tape, *targs, **tkwargs)\n",
      "                    ^^^^^^^^^^^^^^^^^^^^^^^^^^^^^^^^^^\n",
      "  File \"/Users/mateo/anaconda3/lib/python3.11/site-packages/pennylane/devices/preprocess.py\", line 131, in validate_device_wires\n",
      "    raise WireError(\n",
      "pennylane.wires.WireError: Cannot run circuit(s) on default.qubit as they contain wires not found on the device: {7}\n"
     ]
    },
    {
     "name": "stdout",
     "output_type": "stream",
     "text": [
      "Error during execution: Cannot run circuit(s) on default.qubit as they contain wires not found on the device: {7}\n",
      "6\n"
     ]
    },
    {
     "name": "stderr",
     "output_type": "stream",
     "text": [
      "  0%|          | 0/185 [00:00<?, ?it/s]\n",
      "Traceback (most recent call last):\n",
      "  File \"/var/folders/wl/7wlprxgn5hxbwxmhbsvvsyj40000gs/T/ipykernel_28212/106676976.py\", line 320, in <module>\n",
      "    out = cost(param_init, train_x[i:i+25], train_y[i:i+25])\n",
      "          ^^^^^^^^^^^^^^^^^^^^^^^^^^^^^^^^^^^^^^^^^^^^^^^^^^\n",
      "  File \"/var/folders/wl/7wlprxgn5hxbwxmhbsvvsyj40000gs/T/ipykernel_28212/106676976.py\", line 312, in cost\n",
      "    predictions = m(circuit(weights, X))\n",
      "                    ^^^^^^^^^^^^^^^^^^^\n",
      "  File \"/Users/mateo/anaconda3/lib/python3.11/site-packages/pennylane/workflow/qnode.py\", line 1098, in __call__\n",
      "    res = self._execution_component(args, kwargs, override_shots=override_shots)\n",
      "          ^^^^^^^^^^^^^^^^^^^^^^^^^^^^^^^^^^^^^^^^^^^^^^^^^^^^^^^^^^^^^^^^^^^^^^\n",
      "  File \"/Users/mateo/anaconda3/lib/python3.11/site-packages/pennylane/workflow/qnode.py\", line 1052, in _execution_component\n",
      "    res = qml.execute(\n",
      "          ^^^^^^^^^^^^\n",
      "  File \"/Users/mateo/anaconda3/lib/python3.11/site-packages/pennylane/workflow/execution.py\", line 600, in execute\n",
      "    tapes, post_processing = transform_program(tapes)\n",
      "                             ^^^^^^^^^^^^^^^^^^^^^^^^\n",
      "  File \"/Users/mateo/anaconda3/lib/python3.11/site-packages/pennylane/transforms/core/transform_program.py\", line 509, in __call__\n",
      "    new_tapes, fn = transform(tape, *targs, **tkwargs)\n",
      "                    ^^^^^^^^^^^^^^^^^^^^^^^^^^^^^^^^^^\n",
      "  File \"/Users/mateo/anaconda3/lib/python3.11/site-packages/pennylane/devices/preprocess.py\", line 131, in validate_device_wires\n",
      "    raise WireError(\n",
      "pennylane.wires.WireError: Cannot run circuit(s) on default.qubit as they contain wires not found on the device: {7}\n"
     ]
    },
    {
     "name": "stdout",
     "output_type": "stream",
     "text": [
      "Error during execution: Cannot run circuit(s) on default.qubit as they contain wires not found on the device: {7}\n"
     ]
    },
    {
     "name": "stderr",
     "output_type": "stream",
     "text": [
      "  0%|          | 0/185 [00:00<?, ?it/s]\n",
      "Traceback (most recent call last):\n",
      "  File \"/var/folders/wl/7wlprxgn5hxbwxmhbsvvsyj40000gs/T/ipykernel_28212/106676976.py\", line 320, in <module>\n",
      "    out = cost(param_init, train_x[i:i+25], train_y[i:i+25])\n",
      "          ^^^^^^^^^^^^^^^^^^^^^^^^^^^^^^^^^^^^^^^^^^^^^^^^^^\n",
      "  File \"/var/folders/wl/7wlprxgn5hxbwxmhbsvvsyj40000gs/T/ipykernel_28212/106676976.py\", line 312, in cost\n",
      "    predictions = m(circuit(weights, X))\n",
      "                    ^^^^^^^^^^^^^^^^^^^\n",
      "  File \"/Users/mateo/anaconda3/lib/python3.11/site-packages/pennylane/workflow/qnode.py\", line 1098, in __call__\n",
      "    res = self._execution_component(args, kwargs, override_shots=override_shots)\n",
      "          ^^^^^^^^^^^^^^^^^^^^^^^^^^^^^^^^^^^^^^^^^^^^^^^^^^^^^^^^^^^^^^^^^^^^^^\n",
      "  File \"/Users/mateo/anaconda3/lib/python3.11/site-packages/pennylane/workflow/qnode.py\", line 1052, in _execution_component\n",
      "    res = qml.execute(\n",
      "          ^^^^^^^^^^^^\n",
      "  File \"/Users/mateo/anaconda3/lib/python3.11/site-packages/pennylane/workflow/execution.py\", line 600, in execute\n",
      "    tapes, post_processing = transform_program(tapes)\n",
      "                             ^^^^^^^^^^^^^^^^^^^^^^^^\n",
      "  File \"/Users/mateo/anaconda3/lib/python3.11/site-packages/pennylane/transforms/core/transform_program.py\", line 509, in __call__\n",
      "    new_tapes, fn = transform(tape, *targs, **tkwargs)\n",
      "                    ^^^^^^^^^^^^^^^^^^^^^^^^^^^^^^^^^^\n",
      "  File \"/Users/mateo/anaconda3/lib/python3.11/site-packages/pennylane/devices/preprocess.py\", line 131, in validate_device_wires\n",
      "    raise WireError(\n",
      "pennylane.wires.WireError: Cannot run circuit(s) on default.qubit as they contain wires not found on the device: {7}\n"
     ]
    },
    {
     "name": "stdout",
     "output_type": "stream",
     "text": [
      "Error during execution: Cannot run circuit(s) on default.qubit as they contain wires not found on the device: {7}\n"
     ]
    },
    {
     "name": "stderr",
     "output_type": "stream",
     "text": [
      "  0%|          | 0/185 [00:00<?, ?it/s]\n",
      "Traceback (most recent call last):\n",
      "  File \"/var/folders/wl/7wlprxgn5hxbwxmhbsvvsyj40000gs/T/ipykernel_28212/106676976.py\", line 320, in <module>\n",
      "    out = cost(param_init, train_x[i:i+25], train_y[i:i+25])\n",
      "          ^^^^^^^^^^^^^^^^^^^^^^^^^^^^^^^^^^^^^^^^^^^^^^^^^^\n",
      "  File \"/var/folders/wl/7wlprxgn5hxbwxmhbsvvsyj40000gs/T/ipykernel_28212/106676976.py\", line 312, in cost\n",
      "    predictions = m(circuit(weights, X))\n",
      "                    ^^^^^^^^^^^^^^^^^^^\n",
      "  File \"/Users/mateo/anaconda3/lib/python3.11/site-packages/pennylane/workflow/qnode.py\", line 1098, in __call__\n",
      "    res = self._execution_component(args, kwargs, override_shots=override_shots)\n",
      "          ^^^^^^^^^^^^^^^^^^^^^^^^^^^^^^^^^^^^^^^^^^^^^^^^^^^^^^^^^^^^^^^^^^^^^^\n",
      "  File \"/Users/mateo/anaconda3/lib/python3.11/site-packages/pennylane/workflow/qnode.py\", line 1052, in _execution_component\n",
      "    res = qml.execute(\n",
      "          ^^^^^^^^^^^^\n",
      "  File \"/Users/mateo/anaconda3/lib/python3.11/site-packages/pennylane/workflow/execution.py\", line 600, in execute\n",
      "    tapes, post_processing = transform_program(tapes)\n",
      "                             ^^^^^^^^^^^^^^^^^^^^^^^^\n",
      "  File \"/Users/mateo/anaconda3/lib/python3.11/site-packages/pennylane/transforms/core/transform_program.py\", line 509, in __call__\n",
      "    new_tapes, fn = transform(tape, *targs, **tkwargs)\n",
      "                    ^^^^^^^^^^^^^^^^^^^^^^^^^^^^^^^^^^\n",
      "  File \"/Users/mateo/anaconda3/lib/python3.11/site-packages/pennylane/devices/preprocess.py\", line 131, in validate_device_wires\n",
      "    raise WireError(\n",
      "pennylane.wires.WireError: Cannot run circuit(s) on default.qubit as they contain wires not found on the device: {7}\n"
     ]
    },
    {
     "name": "stdout",
     "output_type": "stream",
     "text": [
      "Error during execution: Cannot run circuit(s) on default.qubit as they contain wires not found on the device: {7}\n"
     ]
    },
    {
     "name": "stderr",
     "output_type": "stream",
     "text": [
      "  0%|          | 0/185 [00:00<?, ?it/s]\n",
      "Traceback (most recent call last):\n",
      "  File \"/var/folders/wl/7wlprxgn5hxbwxmhbsvvsyj40000gs/T/ipykernel_28212/106676976.py\", line 320, in <module>\n",
      "    out = cost(param_init, train_x[i:i+25], train_y[i:i+25])\n",
      "          ^^^^^^^^^^^^^^^^^^^^^^^^^^^^^^^^^^^^^^^^^^^^^^^^^^\n",
      "  File \"/var/folders/wl/7wlprxgn5hxbwxmhbsvvsyj40000gs/T/ipykernel_28212/106676976.py\", line 312, in cost\n",
      "    predictions = m(circuit(weights, X))\n",
      "                    ^^^^^^^^^^^^^^^^^^^\n",
      "  File \"/Users/mateo/anaconda3/lib/python3.11/site-packages/pennylane/workflow/qnode.py\", line 1098, in __call__\n",
      "    res = self._execution_component(args, kwargs, override_shots=override_shots)\n",
      "          ^^^^^^^^^^^^^^^^^^^^^^^^^^^^^^^^^^^^^^^^^^^^^^^^^^^^^^^^^^^^^^^^^^^^^^\n",
      "  File \"/Users/mateo/anaconda3/lib/python3.11/site-packages/pennylane/workflow/qnode.py\", line 1052, in _execution_component\n",
      "    res = qml.execute(\n",
      "          ^^^^^^^^^^^^\n",
      "  File \"/Users/mateo/anaconda3/lib/python3.11/site-packages/pennylane/workflow/execution.py\", line 600, in execute\n",
      "    tapes, post_processing = transform_program(tapes)\n",
      "                             ^^^^^^^^^^^^^^^^^^^^^^^^\n",
      "  File \"/Users/mateo/anaconda3/lib/python3.11/site-packages/pennylane/transforms/core/transform_program.py\", line 509, in __call__\n",
      "    new_tapes, fn = transform(tape, *targs, **tkwargs)\n",
      "                    ^^^^^^^^^^^^^^^^^^^^^^^^^^^^^^^^^^\n",
      "  File \"/Users/mateo/anaconda3/lib/python3.11/site-packages/pennylane/devices/preprocess.py\", line 131, in validate_device_wires\n",
      "    raise WireError(\n",
      "pennylane.wires.WireError: Cannot run circuit(s) on default.qubit as they contain wires not found on the device: {7}\n"
     ]
    },
    {
     "name": "stdout",
     "output_type": "stream",
     "text": [
      "Error during execution: Cannot run circuit(s) on default.qubit as they contain wires not found on the device: {7}\n"
     ]
    },
    {
     "name": "stderr",
     "output_type": "stream",
     "text": [
      "  0%|          | 0/185 [00:00<?, ?it/s]\n",
      "Traceback (most recent call last):\n",
      "  File \"/var/folders/wl/7wlprxgn5hxbwxmhbsvvsyj40000gs/T/ipykernel_28212/106676976.py\", line 320, in <module>\n",
      "    out = cost(param_init, train_x[i:i+25], train_y[i:i+25])\n",
      "          ^^^^^^^^^^^^^^^^^^^^^^^^^^^^^^^^^^^^^^^^^^^^^^^^^^\n",
      "  File \"/var/folders/wl/7wlprxgn5hxbwxmhbsvvsyj40000gs/T/ipykernel_28212/106676976.py\", line 312, in cost\n",
      "    predictions = m(circuit(weights, X))\n",
      "                    ^^^^^^^^^^^^^^^^^^^\n",
      "  File \"/Users/mateo/anaconda3/lib/python3.11/site-packages/pennylane/workflow/qnode.py\", line 1098, in __call__\n",
      "    res = self._execution_component(args, kwargs, override_shots=override_shots)\n",
      "          ^^^^^^^^^^^^^^^^^^^^^^^^^^^^^^^^^^^^^^^^^^^^^^^^^^^^^^^^^^^^^^^^^^^^^^\n",
      "  File \"/Users/mateo/anaconda3/lib/python3.11/site-packages/pennylane/workflow/qnode.py\", line 1052, in _execution_component\n",
      "    res = qml.execute(\n",
      "          ^^^^^^^^^^^^\n",
      "  File \"/Users/mateo/anaconda3/lib/python3.11/site-packages/pennylane/workflow/execution.py\", line 600, in execute\n",
      "    tapes, post_processing = transform_program(tapes)\n",
      "                             ^^^^^^^^^^^^^^^^^^^^^^^^\n",
      "  File \"/Users/mateo/anaconda3/lib/python3.11/site-packages/pennylane/transforms/core/transform_program.py\", line 509, in __call__\n",
      "    new_tapes, fn = transform(tape, *targs, **tkwargs)\n",
      "                    ^^^^^^^^^^^^^^^^^^^^^^^^^^^^^^^^^^\n",
      "  File \"/Users/mateo/anaconda3/lib/python3.11/site-packages/pennylane/devices/preprocess.py\", line 131, in validate_device_wires\n",
      "    raise WireError(\n",
      "pennylane.wires.WireError: Cannot run circuit(s) on default.qubit as they contain wires not found on the device: {7}\n"
     ]
    },
    {
     "name": "stdout",
     "output_type": "stream",
     "text": [
      "Error during execution: Cannot run circuit(s) on default.qubit as they contain wires not found on the device: {7}\n"
     ]
    },
    {
     "name": "stderr",
     "output_type": "stream",
     "text": [
      "  0%|          | 0/185 [00:00<?, ?it/s]\n",
      "Traceback (most recent call last):\n",
      "  File \"/var/folders/wl/7wlprxgn5hxbwxmhbsvvsyj40000gs/T/ipykernel_28212/106676976.py\", line 320, in <module>\n",
      "    out = cost(param_init, train_x[i:i+25], train_y[i:i+25])\n",
      "          ^^^^^^^^^^^^^^^^^^^^^^^^^^^^^^^^^^^^^^^^^^^^^^^^^^\n",
      "  File \"/var/folders/wl/7wlprxgn5hxbwxmhbsvvsyj40000gs/T/ipykernel_28212/106676976.py\", line 312, in cost\n",
      "    predictions = m(circuit(weights, X))\n",
      "                    ^^^^^^^^^^^^^^^^^^^\n",
      "  File \"/Users/mateo/anaconda3/lib/python3.11/site-packages/pennylane/workflow/qnode.py\", line 1098, in __call__\n",
      "    res = self._execution_component(args, kwargs, override_shots=override_shots)\n",
      "          ^^^^^^^^^^^^^^^^^^^^^^^^^^^^^^^^^^^^^^^^^^^^^^^^^^^^^^^^^^^^^^^^^^^^^^\n",
      "  File \"/Users/mateo/anaconda3/lib/python3.11/site-packages/pennylane/workflow/qnode.py\", line 1052, in _execution_component\n",
      "    res = qml.execute(\n",
      "          ^^^^^^^^^^^^\n",
      "  File \"/Users/mateo/anaconda3/lib/python3.11/site-packages/pennylane/workflow/execution.py\", line 600, in execute\n",
      "    tapes, post_processing = transform_program(tapes)\n",
      "                             ^^^^^^^^^^^^^^^^^^^^^^^^\n",
      "  File \"/Users/mateo/anaconda3/lib/python3.11/site-packages/pennylane/transforms/core/transform_program.py\", line 509, in __call__\n",
      "    new_tapes, fn = transform(tape, *targs, **tkwargs)\n",
      "                    ^^^^^^^^^^^^^^^^^^^^^^^^^^^^^^^^^^\n",
      "  File \"/Users/mateo/anaconda3/lib/python3.11/site-packages/pennylane/devices/preprocess.py\", line 131, in validate_device_wires\n",
      "    raise WireError(\n",
      "pennylane.wires.WireError: Cannot run circuit(s) on default.qubit as they contain wires not found on the device: {7}\n"
     ]
    },
    {
     "name": "stdout",
     "output_type": "stream",
     "text": [
      "Error during execution: Cannot run circuit(s) on default.qubit as they contain wires not found on the device: {7}\n",
      "6\n"
     ]
    },
    {
     "name": "stderr",
     "output_type": "stream",
     "text": [
      "  0%|          | 0/185 [00:00<?, ?it/s]\n",
      "Traceback (most recent call last):\n",
      "  File \"/var/folders/wl/7wlprxgn5hxbwxmhbsvvsyj40000gs/T/ipykernel_28212/106676976.py\", line 320, in <module>\n",
      "    out = cost(param_init, train_x[i:i+25], train_y[i:i+25])\n",
      "          ^^^^^^^^^^^^^^^^^^^^^^^^^^^^^^^^^^^^^^^^^^^^^^^^^^\n",
      "  File \"/var/folders/wl/7wlprxgn5hxbwxmhbsvvsyj40000gs/T/ipykernel_28212/106676976.py\", line 312, in cost\n",
      "    predictions = m(circuit(weights, X))\n",
      "                    ^^^^^^^^^^^^^^^^^^^\n",
      "  File \"/Users/mateo/anaconda3/lib/python3.11/site-packages/pennylane/workflow/qnode.py\", line 1098, in __call__\n",
      "    res = self._execution_component(args, kwargs, override_shots=override_shots)\n",
      "          ^^^^^^^^^^^^^^^^^^^^^^^^^^^^^^^^^^^^^^^^^^^^^^^^^^^^^^^^^^^^^^^^^^^^^^\n",
      "  File \"/Users/mateo/anaconda3/lib/python3.11/site-packages/pennylane/workflow/qnode.py\", line 1052, in _execution_component\n",
      "    res = qml.execute(\n",
      "          ^^^^^^^^^^^^\n",
      "  File \"/Users/mateo/anaconda3/lib/python3.11/site-packages/pennylane/workflow/execution.py\", line 600, in execute\n",
      "    tapes, post_processing = transform_program(tapes)\n",
      "                             ^^^^^^^^^^^^^^^^^^^^^^^^\n",
      "  File \"/Users/mateo/anaconda3/lib/python3.11/site-packages/pennylane/transforms/core/transform_program.py\", line 509, in __call__\n",
      "    new_tapes, fn = transform(tape, *targs, **tkwargs)\n",
      "                    ^^^^^^^^^^^^^^^^^^^^^^^^^^^^^^^^^^\n",
      "  File \"/Users/mateo/anaconda3/lib/python3.11/site-packages/pennylane/devices/preprocess.py\", line 131, in validate_device_wires\n",
      "    raise WireError(\n",
      "pennylane.wires.WireError: Cannot run circuit(s) on default.qubit as they contain wires not found on the device: {7}\n"
     ]
    },
    {
     "name": "stdout",
     "output_type": "stream",
     "text": [
      "Error during execution: Cannot run circuit(s) on default.qubit as they contain wires not found on the device: {7}\n"
     ]
    },
    {
     "name": "stderr",
     "output_type": "stream",
     "text": [
      "  0%|          | 0/185 [00:00<?, ?it/s]\n",
      "Traceback (most recent call last):\n",
      "  File \"/var/folders/wl/7wlprxgn5hxbwxmhbsvvsyj40000gs/T/ipykernel_28212/106676976.py\", line 320, in <module>\n",
      "    out = cost(param_init, train_x[i:i+25], train_y[i:i+25])\n",
      "          ^^^^^^^^^^^^^^^^^^^^^^^^^^^^^^^^^^^^^^^^^^^^^^^^^^\n",
      "  File \"/var/folders/wl/7wlprxgn5hxbwxmhbsvvsyj40000gs/T/ipykernel_28212/106676976.py\", line 312, in cost\n",
      "    predictions = m(circuit(weights, X))\n",
      "                    ^^^^^^^^^^^^^^^^^^^\n",
      "  File \"/Users/mateo/anaconda3/lib/python3.11/site-packages/pennylane/workflow/qnode.py\", line 1098, in __call__\n",
      "    res = self._execution_component(args, kwargs, override_shots=override_shots)\n",
      "          ^^^^^^^^^^^^^^^^^^^^^^^^^^^^^^^^^^^^^^^^^^^^^^^^^^^^^^^^^^^^^^^^^^^^^^\n",
      "  File \"/Users/mateo/anaconda3/lib/python3.11/site-packages/pennylane/workflow/qnode.py\", line 1052, in _execution_component\n",
      "    res = qml.execute(\n",
      "          ^^^^^^^^^^^^\n",
      "  File \"/Users/mateo/anaconda3/lib/python3.11/site-packages/pennylane/workflow/execution.py\", line 600, in execute\n",
      "    tapes, post_processing = transform_program(tapes)\n",
      "                             ^^^^^^^^^^^^^^^^^^^^^^^^\n",
      "  File \"/Users/mateo/anaconda3/lib/python3.11/site-packages/pennylane/transforms/core/transform_program.py\", line 509, in __call__\n",
      "    new_tapes, fn = transform(tape, *targs, **tkwargs)\n",
      "                    ^^^^^^^^^^^^^^^^^^^^^^^^^^^^^^^^^^\n",
      "  File \"/Users/mateo/anaconda3/lib/python3.11/site-packages/pennylane/devices/preprocess.py\", line 131, in validate_device_wires\n",
      "    raise WireError(\n",
      "pennylane.wires.WireError: Cannot run circuit(s) on default.qubit as they contain wires not found on the device: {7}\n"
     ]
    },
    {
     "name": "stdout",
     "output_type": "stream",
     "text": [
      "Error during execution: Cannot run circuit(s) on default.qubit as they contain wires not found on the device: {7}\n"
     ]
    },
    {
     "name": "stderr",
     "output_type": "stream",
     "text": [
      "  0%|          | 0/185 [00:00<?, ?it/s]\n",
      "Traceback (most recent call last):\n",
      "  File \"/var/folders/wl/7wlprxgn5hxbwxmhbsvvsyj40000gs/T/ipykernel_28212/106676976.py\", line 320, in <module>\n",
      "    out = cost(param_init, train_x[i:i+25], train_y[i:i+25])\n",
      "          ^^^^^^^^^^^^^^^^^^^^^^^^^^^^^^^^^^^^^^^^^^^^^^^^^^\n",
      "  File \"/var/folders/wl/7wlprxgn5hxbwxmhbsvvsyj40000gs/T/ipykernel_28212/106676976.py\", line 312, in cost\n",
      "    predictions = m(circuit(weights, X))\n",
      "                    ^^^^^^^^^^^^^^^^^^^\n",
      "  File \"/Users/mateo/anaconda3/lib/python3.11/site-packages/pennylane/workflow/qnode.py\", line 1098, in __call__\n",
      "    res = self._execution_component(args, kwargs, override_shots=override_shots)\n",
      "          ^^^^^^^^^^^^^^^^^^^^^^^^^^^^^^^^^^^^^^^^^^^^^^^^^^^^^^^^^^^^^^^^^^^^^^\n",
      "  File \"/Users/mateo/anaconda3/lib/python3.11/site-packages/pennylane/workflow/qnode.py\", line 1052, in _execution_component\n",
      "    res = qml.execute(\n",
      "          ^^^^^^^^^^^^\n",
      "  File \"/Users/mateo/anaconda3/lib/python3.11/site-packages/pennylane/workflow/execution.py\", line 600, in execute\n",
      "    tapes, post_processing = transform_program(tapes)\n",
      "                             ^^^^^^^^^^^^^^^^^^^^^^^^\n",
      "  File \"/Users/mateo/anaconda3/lib/python3.11/site-packages/pennylane/transforms/core/transform_program.py\", line 509, in __call__\n",
      "    new_tapes, fn = transform(tape, *targs, **tkwargs)\n",
      "                    ^^^^^^^^^^^^^^^^^^^^^^^^^^^^^^^^^^\n",
      "  File \"/Users/mateo/anaconda3/lib/python3.11/site-packages/pennylane/devices/preprocess.py\", line 131, in validate_device_wires\n",
      "    raise WireError(\n",
      "pennylane.wires.WireError: Cannot run circuit(s) on default.qubit as they contain wires not found on the device: {7}\n"
     ]
    },
    {
     "name": "stdout",
     "output_type": "stream",
     "text": [
      "Error during execution: Cannot run circuit(s) on default.qubit as they contain wires not found on the device: {7}\n"
     ]
    },
    {
     "name": "stderr",
     "output_type": "stream",
     "text": [
      "  0%|          | 0/185 [00:00<?, ?it/s]\n",
      "Traceback (most recent call last):\n",
      "  File \"/var/folders/wl/7wlprxgn5hxbwxmhbsvvsyj40000gs/T/ipykernel_28212/106676976.py\", line 320, in <module>\n",
      "    out = cost(param_init, train_x[i:i+25], train_y[i:i+25])\n",
      "          ^^^^^^^^^^^^^^^^^^^^^^^^^^^^^^^^^^^^^^^^^^^^^^^^^^\n",
      "  File \"/var/folders/wl/7wlprxgn5hxbwxmhbsvvsyj40000gs/T/ipykernel_28212/106676976.py\", line 312, in cost\n",
      "    predictions = m(circuit(weights, X))\n",
      "                    ^^^^^^^^^^^^^^^^^^^\n",
      "  File \"/Users/mateo/anaconda3/lib/python3.11/site-packages/pennylane/workflow/qnode.py\", line 1098, in __call__\n",
      "    res = self._execution_component(args, kwargs, override_shots=override_shots)\n",
      "          ^^^^^^^^^^^^^^^^^^^^^^^^^^^^^^^^^^^^^^^^^^^^^^^^^^^^^^^^^^^^^^^^^^^^^^\n",
      "  File \"/Users/mateo/anaconda3/lib/python3.11/site-packages/pennylane/workflow/qnode.py\", line 1052, in _execution_component\n",
      "    res = qml.execute(\n",
      "          ^^^^^^^^^^^^\n",
      "  File \"/Users/mateo/anaconda3/lib/python3.11/site-packages/pennylane/workflow/execution.py\", line 600, in execute\n",
      "    tapes, post_processing = transform_program(tapes)\n",
      "                             ^^^^^^^^^^^^^^^^^^^^^^^^\n",
      "  File \"/Users/mateo/anaconda3/lib/python3.11/site-packages/pennylane/transforms/core/transform_program.py\", line 509, in __call__\n",
      "    new_tapes, fn = transform(tape, *targs, **tkwargs)\n",
      "                    ^^^^^^^^^^^^^^^^^^^^^^^^^^^^^^^^^^\n",
      "  File \"/Users/mateo/anaconda3/lib/python3.11/site-packages/pennylane/devices/preprocess.py\", line 131, in validate_device_wires\n",
      "    raise WireError(\n",
      "pennylane.wires.WireError: Cannot run circuit(s) on default.qubit as they contain wires not found on the device: {7}\n"
     ]
    },
    {
     "name": "stdout",
     "output_type": "stream",
     "text": [
      "Error during execution: Cannot run circuit(s) on default.qubit as they contain wires not found on the device: {7}\n"
     ]
    },
    {
     "name": "stderr",
     "output_type": "stream",
     "text": [
      "  0%|          | 0/185 [00:00<?, ?it/s]\n",
      "Traceback (most recent call last):\n",
      "  File \"/var/folders/wl/7wlprxgn5hxbwxmhbsvvsyj40000gs/T/ipykernel_28212/106676976.py\", line 320, in <module>\n",
      "    out = cost(param_init, train_x[i:i+25], train_y[i:i+25])\n",
      "          ^^^^^^^^^^^^^^^^^^^^^^^^^^^^^^^^^^^^^^^^^^^^^^^^^^\n",
      "  File \"/var/folders/wl/7wlprxgn5hxbwxmhbsvvsyj40000gs/T/ipykernel_28212/106676976.py\", line 312, in cost\n",
      "    predictions = m(circuit(weights, X))\n",
      "                    ^^^^^^^^^^^^^^^^^^^\n",
      "  File \"/Users/mateo/anaconda3/lib/python3.11/site-packages/pennylane/workflow/qnode.py\", line 1098, in __call__\n",
      "    res = self._execution_component(args, kwargs, override_shots=override_shots)\n",
      "          ^^^^^^^^^^^^^^^^^^^^^^^^^^^^^^^^^^^^^^^^^^^^^^^^^^^^^^^^^^^^^^^^^^^^^^\n",
      "  File \"/Users/mateo/anaconda3/lib/python3.11/site-packages/pennylane/workflow/qnode.py\", line 1052, in _execution_component\n",
      "    res = qml.execute(\n",
      "          ^^^^^^^^^^^^\n",
      "  File \"/Users/mateo/anaconda3/lib/python3.11/site-packages/pennylane/workflow/execution.py\", line 600, in execute\n",
      "    tapes, post_processing = transform_program(tapes)\n",
      "                             ^^^^^^^^^^^^^^^^^^^^^^^^\n",
      "  File \"/Users/mateo/anaconda3/lib/python3.11/site-packages/pennylane/transforms/core/transform_program.py\", line 509, in __call__\n",
      "    new_tapes, fn = transform(tape, *targs, **tkwargs)\n",
      "                    ^^^^^^^^^^^^^^^^^^^^^^^^^^^^^^^^^^\n",
      "  File \"/Users/mateo/anaconda3/lib/python3.11/site-packages/pennylane/devices/preprocess.py\", line 131, in validate_device_wires\n",
      "    raise WireError(\n",
      "pennylane.wires.WireError: Cannot run circuit(s) on default.qubit as they contain wires not found on the device: {7}\n"
     ]
    },
    {
     "name": "stdout",
     "output_type": "stream",
     "text": [
      "Error during execution: Cannot run circuit(s) on default.qubit as they contain wires not found on the device: {7}\n"
     ]
    },
    {
     "name": "stderr",
     "output_type": "stream",
     "text": [
      "  0%|          | 0/185 [00:00<?, ?it/s]\n",
      "Traceback (most recent call last):\n",
      "  File \"/var/folders/wl/7wlprxgn5hxbwxmhbsvvsyj40000gs/T/ipykernel_28212/106676976.py\", line 320, in <module>\n",
      "    out = cost(param_init, train_x[i:i+25], train_y[i:i+25])\n",
      "          ^^^^^^^^^^^^^^^^^^^^^^^^^^^^^^^^^^^^^^^^^^^^^^^^^^\n",
      "  File \"/var/folders/wl/7wlprxgn5hxbwxmhbsvvsyj40000gs/T/ipykernel_28212/106676976.py\", line 312, in cost\n",
      "    predictions = m(circuit(weights, X))\n",
      "                    ^^^^^^^^^^^^^^^^^^^\n",
      "  File \"/Users/mateo/anaconda3/lib/python3.11/site-packages/pennylane/workflow/qnode.py\", line 1098, in __call__\n",
      "    res = self._execution_component(args, kwargs, override_shots=override_shots)\n",
      "          ^^^^^^^^^^^^^^^^^^^^^^^^^^^^^^^^^^^^^^^^^^^^^^^^^^^^^^^^^^^^^^^^^^^^^^\n",
      "  File \"/Users/mateo/anaconda3/lib/python3.11/site-packages/pennylane/workflow/qnode.py\", line 1052, in _execution_component\n",
      "    res = qml.execute(\n",
      "          ^^^^^^^^^^^^\n",
      "  File \"/Users/mateo/anaconda3/lib/python3.11/site-packages/pennylane/workflow/execution.py\", line 600, in execute\n",
      "    tapes, post_processing = transform_program(tapes)\n",
      "                             ^^^^^^^^^^^^^^^^^^^^^^^^\n",
      "  File \"/Users/mateo/anaconda3/lib/python3.11/site-packages/pennylane/transforms/core/transform_program.py\", line 509, in __call__\n",
      "    new_tapes, fn = transform(tape, *targs, **tkwargs)\n",
      "                    ^^^^^^^^^^^^^^^^^^^^^^^^^^^^^^^^^^\n",
      "  File \"/Users/mateo/anaconda3/lib/python3.11/site-packages/pennylane/devices/preprocess.py\", line 131, in validate_device_wires\n",
      "    raise WireError(\n",
      "pennylane.wires.WireError: Cannot run circuit(s) on default.qubit as they contain wires not found on the device: {7}\n"
     ]
    },
    {
     "name": "stdout",
     "output_type": "stream",
     "text": [
      "Error during execution: Cannot run circuit(s) on default.qubit as they contain wires not found on the device: {7}\n",
      "6\n"
     ]
    },
    {
     "name": "stderr",
     "output_type": "stream",
     "text": [
      "  0%|          | 0/185 [00:00<?, ?it/s]\n",
      "Traceback (most recent call last):\n",
      "  File \"/var/folders/wl/7wlprxgn5hxbwxmhbsvvsyj40000gs/T/ipykernel_28212/106676976.py\", line 320, in <module>\n",
      "    out = cost(param_init, train_x[i:i+25], train_y[i:i+25])\n",
      "          ^^^^^^^^^^^^^^^^^^^^^^^^^^^^^^^^^^^^^^^^^^^^^^^^^^\n",
      "  File \"/var/folders/wl/7wlprxgn5hxbwxmhbsvvsyj40000gs/T/ipykernel_28212/106676976.py\", line 312, in cost\n",
      "    predictions = m(circuit(weights, X))\n",
      "                    ^^^^^^^^^^^^^^^^^^^\n",
      "  File \"/Users/mateo/anaconda3/lib/python3.11/site-packages/pennylane/workflow/qnode.py\", line 1098, in __call__\n",
      "    res = self._execution_component(args, kwargs, override_shots=override_shots)\n",
      "          ^^^^^^^^^^^^^^^^^^^^^^^^^^^^^^^^^^^^^^^^^^^^^^^^^^^^^^^^^^^^^^^^^^^^^^\n",
      "  File \"/Users/mateo/anaconda3/lib/python3.11/site-packages/pennylane/workflow/qnode.py\", line 1052, in _execution_component\n",
      "    res = qml.execute(\n",
      "          ^^^^^^^^^^^^\n",
      "  File \"/Users/mateo/anaconda3/lib/python3.11/site-packages/pennylane/workflow/execution.py\", line 600, in execute\n",
      "    tapes, post_processing = transform_program(tapes)\n",
      "                             ^^^^^^^^^^^^^^^^^^^^^^^^\n",
      "  File \"/Users/mateo/anaconda3/lib/python3.11/site-packages/pennylane/transforms/core/transform_program.py\", line 509, in __call__\n",
      "    new_tapes, fn = transform(tape, *targs, **tkwargs)\n",
      "                    ^^^^^^^^^^^^^^^^^^^^^^^^^^^^^^^^^^\n",
      "  File \"/Users/mateo/anaconda3/lib/python3.11/site-packages/pennylane/devices/preprocess.py\", line 131, in validate_device_wires\n",
      "    raise WireError(\n",
      "pennylane.wires.WireError: Cannot run circuit(s) on default.qubit as they contain wires not found on the device: {7}\n"
     ]
    },
    {
     "name": "stdout",
     "output_type": "stream",
     "text": [
      "Error during execution: Cannot run circuit(s) on default.qubit as they contain wires not found on the device: {7}\n"
     ]
    },
    {
     "name": "stderr",
     "output_type": "stream",
     "text": [
      "  0%|          | 0/185 [00:00<?, ?it/s]\n",
      "Traceback (most recent call last):\n",
      "  File \"/var/folders/wl/7wlprxgn5hxbwxmhbsvvsyj40000gs/T/ipykernel_28212/106676976.py\", line 320, in <module>\n",
      "    out = cost(param_init, train_x[i:i+25], train_y[i:i+25])\n",
      "          ^^^^^^^^^^^^^^^^^^^^^^^^^^^^^^^^^^^^^^^^^^^^^^^^^^\n",
      "  File \"/var/folders/wl/7wlprxgn5hxbwxmhbsvvsyj40000gs/T/ipykernel_28212/106676976.py\", line 312, in cost\n",
      "    predictions = m(circuit(weights, X))\n",
      "                    ^^^^^^^^^^^^^^^^^^^\n",
      "  File \"/Users/mateo/anaconda3/lib/python3.11/site-packages/pennylane/workflow/qnode.py\", line 1098, in __call__\n",
      "    res = self._execution_component(args, kwargs, override_shots=override_shots)\n",
      "          ^^^^^^^^^^^^^^^^^^^^^^^^^^^^^^^^^^^^^^^^^^^^^^^^^^^^^^^^^^^^^^^^^^^^^^\n",
      "  File \"/Users/mateo/anaconda3/lib/python3.11/site-packages/pennylane/workflow/qnode.py\", line 1052, in _execution_component\n",
      "    res = qml.execute(\n",
      "          ^^^^^^^^^^^^\n",
      "  File \"/Users/mateo/anaconda3/lib/python3.11/site-packages/pennylane/workflow/execution.py\", line 600, in execute\n",
      "    tapes, post_processing = transform_program(tapes)\n",
      "                             ^^^^^^^^^^^^^^^^^^^^^^^^\n",
      "  File \"/Users/mateo/anaconda3/lib/python3.11/site-packages/pennylane/transforms/core/transform_program.py\", line 509, in __call__\n",
      "    new_tapes, fn = transform(tape, *targs, **tkwargs)\n",
      "                    ^^^^^^^^^^^^^^^^^^^^^^^^^^^^^^^^^^\n",
      "  File \"/Users/mateo/anaconda3/lib/python3.11/site-packages/pennylane/devices/preprocess.py\", line 131, in validate_device_wires\n",
      "    raise WireError(\n",
      "pennylane.wires.WireError: Cannot run circuit(s) on default.qubit as they contain wires not found on the device: {7}\n"
     ]
    },
    {
     "name": "stdout",
     "output_type": "stream",
     "text": [
      "Error during execution: Cannot run circuit(s) on default.qubit as they contain wires not found on the device: {7}\n"
     ]
    },
    {
     "name": "stderr",
     "output_type": "stream",
     "text": [
      "  0%|          | 0/185 [00:00<?, ?it/s]\n",
      "Traceback (most recent call last):\n",
      "  File \"/var/folders/wl/7wlprxgn5hxbwxmhbsvvsyj40000gs/T/ipykernel_28212/106676976.py\", line 320, in <module>\n",
      "    out = cost(param_init, train_x[i:i+25], train_y[i:i+25])\n",
      "          ^^^^^^^^^^^^^^^^^^^^^^^^^^^^^^^^^^^^^^^^^^^^^^^^^^\n",
      "  File \"/var/folders/wl/7wlprxgn5hxbwxmhbsvvsyj40000gs/T/ipykernel_28212/106676976.py\", line 312, in cost\n",
      "    predictions = m(circuit(weights, X))\n",
      "                    ^^^^^^^^^^^^^^^^^^^\n",
      "  File \"/Users/mateo/anaconda3/lib/python3.11/site-packages/pennylane/workflow/qnode.py\", line 1098, in __call__\n",
      "    res = self._execution_component(args, kwargs, override_shots=override_shots)\n",
      "          ^^^^^^^^^^^^^^^^^^^^^^^^^^^^^^^^^^^^^^^^^^^^^^^^^^^^^^^^^^^^^^^^^^^^^^\n",
      "  File \"/Users/mateo/anaconda3/lib/python3.11/site-packages/pennylane/workflow/qnode.py\", line 1052, in _execution_component\n",
      "    res = qml.execute(\n",
      "          ^^^^^^^^^^^^\n",
      "  File \"/Users/mateo/anaconda3/lib/python3.11/site-packages/pennylane/workflow/execution.py\", line 600, in execute\n",
      "    tapes, post_processing = transform_program(tapes)\n",
      "                             ^^^^^^^^^^^^^^^^^^^^^^^^\n",
      "  File \"/Users/mateo/anaconda3/lib/python3.11/site-packages/pennylane/transforms/core/transform_program.py\", line 509, in __call__\n",
      "    new_tapes, fn = transform(tape, *targs, **tkwargs)\n",
      "                    ^^^^^^^^^^^^^^^^^^^^^^^^^^^^^^^^^^\n",
      "  File \"/Users/mateo/anaconda3/lib/python3.11/site-packages/pennylane/devices/preprocess.py\", line 131, in validate_device_wires\n",
      "    raise WireError(\n",
      "pennylane.wires.WireError: Cannot run circuit(s) on default.qubit as they contain wires not found on the device: {7}\n"
     ]
    },
    {
     "name": "stdout",
     "output_type": "stream",
     "text": [
      "Error during execution: Cannot run circuit(s) on default.qubit as they contain wires not found on the device: {7}\n"
     ]
    },
    {
     "name": "stderr",
     "output_type": "stream",
     "text": [
      "  0%|          | 0/185 [00:00<?, ?it/s]\n",
      "Traceback (most recent call last):\n",
      "  File \"/var/folders/wl/7wlprxgn5hxbwxmhbsvvsyj40000gs/T/ipykernel_28212/106676976.py\", line 320, in <module>\n",
      "    out = cost(param_init, train_x[i:i+25], train_y[i:i+25])\n",
      "          ^^^^^^^^^^^^^^^^^^^^^^^^^^^^^^^^^^^^^^^^^^^^^^^^^^\n",
      "  File \"/var/folders/wl/7wlprxgn5hxbwxmhbsvvsyj40000gs/T/ipykernel_28212/106676976.py\", line 312, in cost\n",
      "    predictions = m(circuit(weights, X))\n",
      "                    ^^^^^^^^^^^^^^^^^^^\n",
      "  File \"/Users/mateo/anaconda3/lib/python3.11/site-packages/pennylane/workflow/qnode.py\", line 1098, in __call__\n",
      "    res = self._execution_component(args, kwargs, override_shots=override_shots)\n",
      "          ^^^^^^^^^^^^^^^^^^^^^^^^^^^^^^^^^^^^^^^^^^^^^^^^^^^^^^^^^^^^^^^^^^^^^^\n",
      "  File \"/Users/mateo/anaconda3/lib/python3.11/site-packages/pennylane/workflow/qnode.py\", line 1052, in _execution_component\n",
      "    res = qml.execute(\n",
      "          ^^^^^^^^^^^^\n",
      "  File \"/Users/mateo/anaconda3/lib/python3.11/site-packages/pennylane/workflow/execution.py\", line 600, in execute\n",
      "    tapes, post_processing = transform_program(tapes)\n",
      "                             ^^^^^^^^^^^^^^^^^^^^^^^^\n",
      "  File \"/Users/mateo/anaconda3/lib/python3.11/site-packages/pennylane/transforms/core/transform_program.py\", line 509, in __call__\n",
      "    new_tapes, fn = transform(tape, *targs, **tkwargs)\n",
      "                    ^^^^^^^^^^^^^^^^^^^^^^^^^^^^^^^^^^\n",
      "  File \"/Users/mateo/anaconda3/lib/python3.11/site-packages/pennylane/devices/preprocess.py\", line 131, in validate_device_wires\n",
      "    raise WireError(\n",
      "pennylane.wires.WireError: Cannot run circuit(s) on default.qubit as they contain wires not found on the device: {7}\n"
     ]
    },
    {
     "name": "stdout",
     "output_type": "stream",
     "text": [
      "Error during execution: Cannot run circuit(s) on default.qubit as they contain wires not found on the device: {7}\n"
     ]
    },
    {
     "name": "stderr",
     "output_type": "stream",
     "text": [
      "  0%|          | 0/185 [00:00<?, ?it/s]\n",
      "Traceback (most recent call last):\n",
      "  File \"/var/folders/wl/7wlprxgn5hxbwxmhbsvvsyj40000gs/T/ipykernel_28212/106676976.py\", line 320, in <module>\n",
      "    out = cost(param_init, train_x[i:i+25], train_y[i:i+25])\n",
      "          ^^^^^^^^^^^^^^^^^^^^^^^^^^^^^^^^^^^^^^^^^^^^^^^^^^\n",
      "  File \"/var/folders/wl/7wlprxgn5hxbwxmhbsvvsyj40000gs/T/ipykernel_28212/106676976.py\", line 312, in cost\n",
      "    predictions = m(circuit(weights, X))\n",
      "                    ^^^^^^^^^^^^^^^^^^^\n",
      "  File \"/Users/mateo/anaconda3/lib/python3.11/site-packages/pennylane/workflow/qnode.py\", line 1098, in __call__\n",
      "    res = self._execution_component(args, kwargs, override_shots=override_shots)\n",
      "          ^^^^^^^^^^^^^^^^^^^^^^^^^^^^^^^^^^^^^^^^^^^^^^^^^^^^^^^^^^^^^^^^^^^^^^\n",
      "  File \"/Users/mateo/anaconda3/lib/python3.11/site-packages/pennylane/workflow/qnode.py\", line 1052, in _execution_component\n",
      "    res = qml.execute(\n",
      "          ^^^^^^^^^^^^\n",
      "  File \"/Users/mateo/anaconda3/lib/python3.11/site-packages/pennylane/workflow/execution.py\", line 600, in execute\n",
      "    tapes, post_processing = transform_program(tapes)\n",
      "                             ^^^^^^^^^^^^^^^^^^^^^^^^\n",
      "  File \"/Users/mateo/anaconda3/lib/python3.11/site-packages/pennylane/transforms/core/transform_program.py\", line 509, in __call__\n",
      "    new_tapes, fn = transform(tape, *targs, **tkwargs)\n",
      "                    ^^^^^^^^^^^^^^^^^^^^^^^^^^^^^^^^^^\n",
      "  File \"/Users/mateo/anaconda3/lib/python3.11/site-packages/pennylane/devices/preprocess.py\", line 131, in validate_device_wires\n",
      "    raise WireError(\n",
      "pennylane.wires.WireError: Cannot run circuit(s) on default.qubit as they contain wires not found on the device: {7}\n"
     ]
    },
    {
     "name": "stdout",
     "output_type": "stream",
     "text": [
      "Error during execution: Cannot run circuit(s) on default.qubit as they contain wires not found on the device: {7}\n"
     ]
    },
    {
     "name": "stderr",
     "output_type": "stream",
     "text": [
      "  0%|          | 0/185 [00:00<?, ?it/s]\n",
      "Traceback (most recent call last):\n",
      "  File \"/var/folders/wl/7wlprxgn5hxbwxmhbsvvsyj40000gs/T/ipykernel_28212/106676976.py\", line 320, in <module>\n",
      "    out = cost(param_init, train_x[i:i+25], train_y[i:i+25])\n",
      "          ^^^^^^^^^^^^^^^^^^^^^^^^^^^^^^^^^^^^^^^^^^^^^^^^^^\n",
      "  File \"/var/folders/wl/7wlprxgn5hxbwxmhbsvvsyj40000gs/T/ipykernel_28212/106676976.py\", line 312, in cost\n",
      "    predictions = m(circuit(weights, X))\n",
      "                    ^^^^^^^^^^^^^^^^^^^\n",
      "  File \"/Users/mateo/anaconda3/lib/python3.11/site-packages/pennylane/workflow/qnode.py\", line 1098, in __call__\n",
      "    res = self._execution_component(args, kwargs, override_shots=override_shots)\n",
      "          ^^^^^^^^^^^^^^^^^^^^^^^^^^^^^^^^^^^^^^^^^^^^^^^^^^^^^^^^^^^^^^^^^^^^^^\n",
      "  File \"/Users/mateo/anaconda3/lib/python3.11/site-packages/pennylane/workflow/qnode.py\", line 1052, in _execution_component\n",
      "    res = qml.execute(\n",
      "          ^^^^^^^^^^^^\n",
      "  File \"/Users/mateo/anaconda3/lib/python3.11/site-packages/pennylane/workflow/execution.py\", line 600, in execute\n",
      "    tapes, post_processing = transform_program(tapes)\n",
      "                             ^^^^^^^^^^^^^^^^^^^^^^^^\n",
      "  File \"/Users/mateo/anaconda3/lib/python3.11/site-packages/pennylane/transforms/core/transform_program.py\", line 509, in __call__\n",
      "    new_tapes, fn = transform(tape, *targs, **tkwargs)\n",
      "                    ^^^^^^^^^^^^^^^^^^^^^^^^^^^^^^^^^^\n",
      "  File \"/Users/mateo/anaconda3/lib/python3.11/site-packages/pennylane/devices/preprocess.py\", line 131, in validate_device_wires\n",
      "    raise WireError(\n",
      "pennylane.wires.WireError: Cannot run circuit(s) on default.qubit as they contain wires not found on the device: {7}\n"
     ]
    },
    {
     "name": "stdout",
     "output_type": "stream",
     "text": [
      "Error during execution: Cannot run circuit(s) on default.qubit as they contain wires not found on the device: {7}\n",
      "10\n"
     ]
    },
    {
     "name": "stderr",
     "output_type": "stream",
     "text": [
      "  0%|          | 0/185 [00:00<?, ?it/s]\n",
      "Traceback (most recent call last):\n",
      "  File \"/var/folders/wl/7wlprxgn5hxbwxmhbsvvsyj40000gs/T/ipykernel_28212/106676976.py\", line 320, in <module>\n",
      "    out = cost(param_init, train_x[i:i+25], train_y[i:i+25])\n",
      "          ^^^^^^^^^^^^^^^^^^^^^^^^^^^^^^^^^^^^^^^^^^^^^^^^^^\n",
      "  File \"/var/folders/wl/7wlprxgn5hxbwxmhbsvvsyj40000gs/T/ipykernel_28212/106676976.py\", line 312, in cost\n",
      "    predictions = m(circuit(weights, X))\n",
      "                    ^^^^^^^^^^^^^^^^^^^\n",
      "  File \"/Users/mateo/anaconda3/lib/python3.11/site-packages/pennylane/workflow/qnode.py\", line 1098, in __call__\n",
      "    res = self._execution_component(args, kwargs, override_shots=override_shots)\n",
      "          ^^^^^^^^^^^^^^^^^^^^^^^^^^^^^^^^^^^^^^^^^^^^^^^^^^^^^^^^^^^^^^^^^^^^^^\n",
      "  File \"/Users/mateo/anaconda3/lib/python3.11/site-packages/pennylane/workflow/qnode.py\", line 1052, in _execution_component\n",
      "    res = qml.execute(\n",
      "          ^^^^^^^^^^^^\n",
      "  File \"/Users/mateo/anaconda3/lib/python3.11/site-packages/pennylane/workflow/execution.py\", line 600, in execute\n",
      "    tapes, post_processing = transform_program(tapes)\n",
      "                             ^^^^^^^^^^^^^^^^^^^^^^^^\n",
      "  File \"/Users/mateo/anaconda3/lib/python3.11/site-packages/pennylane/transforms/core/transform_program.py\", line 509, in __call__\n",
      "    new_tapes, fn = transform(tape, *targs, **tkwargs)\n",
      "                    ^^^^^^^^^^^^^^^^^^^^^^^^^^^^^^^^^^\n",
      "  File \"/Users/mateo/anaconda3/lib/python3.11/site-packages/pennylane/devices/preprocess.py\", line 131, in validate_device_wires\n",
      "    raise WireError(\n",
      "pennylane.wires.WireError: Cannot run circuit(s) on default.qubit as they contain wires not found on the device: {7}\n"
     ]
    },
    {
     "name": "stdout",
     "output_type": "stream",
     "text": [
      "Error during execution: Cannot run circuit(s) on default.qubit as they contain wires not found on the device: {7}\n"
     ]
    },
    {
     "name": "stderr",
     "output_type": "stream",
     "text": [
      "  0%|          | 0/185 [00:00<?, ?it/s]\n",
      "Traceback (most recent call last):\n",
      "  File \"/var/folders/wl/7wlprxgn5hxbwxmhbsvvsyj40000gs/T/ipykernel_28212/106676976.py\", line 320, in <module>\n",
      "    out = cost(param_init, train_x[i:i+25], train_y[i:i+25])\n",
      "          ^^^^^^^^^^^^^^^^^^^^^^^^^^^^^^^^^^^^^^^^^^^^^^^^^^\n",
      "  File \"/var/folders/wl/7wlprxgn5hxbwxmhbsvvsyj40000gs/T/ipykernel_28212/106676976.py\", line 312, in cost\n",
      "    predictions = m(circuit(weights, X))\n",
      "                    ^^^^^^^^^^^^^^^^^^^\n",
      "  File \"/Users/mateo/anaconda3/lib/python3.11/site-packages/pennylane/workflow/qnode.py\", line 1098, in __call__\n",
      "    res = self._execution_component(args, kwargs, override_shots=override_shots)\n",
      "          ^^^^^^^^^^^^^^^^^^^^^^^^^^^^^^^^^^^^^^^^^^^^^^^^^^^^^^^^^^^^^^^^^^^^^^\n",
      "  File \"/Users/mateo/anaconda3/lib/python3.11/site-packages/pennylane/workflow/qnode.py\", line 1052, in _execution_component\n",
      "    res = qml.execute(\n",
      "          ^^^^^^^^^^^^\n",
      "  File \"/Users/mateo/anaconda3/lib/python3.11/site-packages/pennylane/workflow/execution.py\", line 600, in execute\n",
      "    tapes, post_processing = transform_program(tapes)\n",
      "                             ^^^^^^^^^^^^^^^^^^^^^^^^\n",
      "  File \"/Users/mateo/anaconda3/lib/python3.11/site-packages/pennylane/transforms/core/transform_program.py\", line 509, in __call__\n",
      "    new_tapes, fn = transform(tape, *targs, **tkwargs)\n",
      "                    ^^^^^^^^^^^^^^^^^^^^^^^^^^^^^^^^^^\n",
      "  File \"/Users/mateo/anaconda3/lib/python3.11/site-packages/pennylane/devices/preprocess.py\", line 131, in validate_device_wires\n",
      "    raise WireError(\n",
      "pennylane.wires.WireError: Cannot run circuit(s) on default.qubit as they contain wires not found on the device: {7}\n"
     ]
    },
    {
     "name": "stdout",
     "output_type": "stream",
     "text": [
      "Error during execution: Cannot run circuit(s) on default.qubit as they contain wires not found on the device: {7}\n"
     ]
    },
    {
     "name": "stderr",
     "output_type": "stream",
     "text": [
      "  0%|          | 0/185 [00:00<?, ?it/s]\n",
      "Traceback (most recent call last):\n",
      "  File \"/var/folders/wl/7wlprxgn5hxbwxmhbsvvsyj40000gs/T/ipykernel_28212/106676976.py\", line 320, in <module>\n",
      "    out = cost(param_init, train_x[i:i+25], train_y[i:i+25])\n",
      "          ^^^^^^^^^^^^^^^^^^^^^^^^^^^^^^^^^^^^^^^^^^^^^^^^^^\n",
      "  File \"/var/folders/wl/7wlprxgn5hxbwxmhbsvvsyj40000gs/T/ipykernel_28212/106676976.py\", line 312, in cost\n",
      "    predictions = m(circuit(weights, X))\n",
      "                    ^^^^^^^^^^^^^^^^^^^\n",
      "  File \"/Users/mateo/anaconda3/lib/python3.11/site-packages/pennylane/workflow/qnode.py\", line 1098, in __call__\n",
      "    res = self._execution_component(args, kwargs, override_shots=override_shots)\n",
      "          ^^^^^^^^^^^^^^^^^^^^^^^^^^^^^^^^^^^^^^^^^^^^^^^^^^^^^^^^^^^^^^^^^^^^^^\n",
      "  File \"/Users/mateo/anaconda3/lib/python3.11/site-packages/pennylane/workflow/qnode.py\", line 1052, in _execution_component\n",
      "    res = qml.execute(\n",
      "          ^^^^^^^^^^^^\n",
      "  File \"/Users/mateo/anaconda3/lib/python3.11/site-packages/pennylane/workflow/execution.py\", line 600, in execute\n",
      "    tapes, post_processing = transform_program(tapes)\n",
      "                             ^^^^^^^^^^^^^^^^^^^^^^^^\n",
      "  File \"/Users/mateo/anaconda3/lib/python3.11/site-packages/pennylane/transforms/core/transform_program.py\", line 509, in __call__\n",
      "    new_tapes, fn = transform(tape, *targs, **tkwargs)\n",
      "                    ^^^^^^^^^^^^^^^^^^^^^^^^^^^^^^^^^^\n",
      "  File \"/Users/mateo/anaconda3/lib/python3.11/site-packages/pennylane/devices/preprocess.py\", line 131, in validate_device_wires\n",
      "    raise WireError(\n",
      "pennylane.wires.WireError: Cannot run circuit(s) on default.qubit as they contain wires not found on the device: {7}\n"
     ]
    },
    {
     "name": "stdout",
     "output_type": "stream",
     "text": [
      "Error during execution: Cannot run circuit(s) on default.qubit as they contain wires not found on the device: {7}\n"
     ]
    },
    {
     "name": "stderr",
     "output_type": "stream",
     "text": [
      "  0%|          | 0/185 [00:00<?, ?it/s]\n",
      "Traceback (most recent call last):\n",
      "  File \"/var/folders/wl/7wlprxgn5hxbwxmhbsvvsyj40000gs/T/ipykernel_28212/106676976.py\", line 320, in <module>\n",
      "    out = cost(param_init, train_x[i:i+25], train_y[i:i+25])\n",
      "          ^^^^^^^^^^^^^^^^^^^^^^^^^^^^^^^^^^^^^^^^^^^^^^^^^^\n",
      "  File \"/var/folders/wl/7wlprxgn5hxbwxmhbsvvsyj40000gs/T/ipykernel_28212/106676976.py\", line 312, in cost\n",
      "    predictions = m(circuit(weights, X))\n",
      "                    ^^^^^^^^^^^^^^^^^^^\n",
      "  File \"/Users/mateo/anaconda3/lib/python3.11/site-packages/pennylane/workflow/qnode.py\", line 1098, in __call__\n",
      "    res = self._execution_component(args, kwargs, override_shots=override_shots)\n",
      "          ^^^^^^^^^^^^^^^^^^^^^^^^^^^^^^^^^^^^^^^^^^^^^^^^^^^^^^^^^^^^^^^^^^^^^^\n",
      "  File \"/Users/mateo/anaconda3/lib/python3.11/site-packages/pennylane/workflow/qnode.py\", line 1052, in _execution_component\n",
      "    res = qml.execute(\n",
      "          ^^^^^^^^^^^^\n",
      "  File \"/Users/mateo/anaconda3/lib/python3.11/site-packages/pennylane/workflow/execution.py\", line 600, in execute\n",
      "    tapes, post_processing = transform_program(tapes)\n",
      "                             ^^^^^^^^^^^^^^^^^^^^^^^^\n",
      "  File \"/Users/mateo/anaconda3/lib/python3.11/site-packages/pennylane/transforms/core/transform_program.py\", line 509, in __call__\n",
      "    new_tapes, fn = transform(tape, *targs, **tkwargs)\n",
      "                    ^^^^^^^^^^^^^^^^^^^^^^^^^^^^^^^^^^\n",
      "  File \"/Users/mateo/anaconda3/lib/python3.11/site-packages/pennylane/devices/preprocess.py\", line 131, in validate_device_wires\n",
      "    raise WireError(\n",
      "pennylane.wires.WireError: Cannot run circuit(s) on default.qubit as they contain wires not found on the device: {7}\n"
     ]
    },
    {
     "name": "stdout",
     "output_type": "stream",
     "text": [
      "Error during execution: Cannot run circuit(s) on default.qubit as they contain wires not found on the device: {7}\n"
     ]
    },
    {
     "name": "stderr",
     "output_type": "stream",
     "text": [
      "  0%|          | 0/185 [00:00<?, ?it/s]\n",
      "Traceback (most recent call last):\n",
      "  File \"/var/folders/wl/7wlprxgn5hxbwxmhbsvvsyj40000gs/T/ipykernel_28212/106676976.py\", line 320, in <module>\n",
      "    out = cost(param_init, train_x[i:i+25], train_y[i:i+25])\n",
      "          ^^^^^^^^^^^^^^^^^^^^^^^^^^^^^^^^^^^^^^^^^^^^^^^^^^\n",
      "  File \"/var/folders/wl/7wlprxgn5hxbwxmhbsvvsyj40000gs/T/ipykernel_28212/106676976.py\", line 312, in cost\n",
      "    predictions = m(circuit(weights, X))\n",
      "                    ^^^^^^^^^^^^^^^^^^^\n",
      "  File \"/Users/mateo/anaconda3/lib/python3.11/site-packages/pennylane/workflow/qnode.py\", line 1098, in __call__\n",
      "    res = self._execution_component(args, kwargs, override_shots=override_shots)\n",
      "          ^^^^^^^^^^^^^^^^^^^^^^^^^^^^^^^^^^^^^^^^^^^^^^^^^^^^^^^^^^^^^^^^^^^^^^\n",
      "  File \"/Users/mateo/anaconda3/lib/python3.11/site-packages/pennylane/workflow/qnode.py\", line 1052, in _execution_component\n",
      "    res = qml.execute(\n",
      "          ^^^^^^^^^^^^\n",
      "  File \"/Users/mateo/anaconda3/lib/python3.11/site-packages/pennylane/workflow/execution.py\", line 600, in execute\n",
      "    tapes, post_processing = transform_program(tapes)\n",
      "                             ^^^^^^^^^^^^^^^^^^^^^^^^\n",
      "  File \"/Users/mateo/anaconda3/lib/python3.11/site-packages/pennylane/transforms/core/transform_program.py\", line 509, in __call__\n",
      "    new_tapes, fn = transform(tape, *targs, **tkwargs)\n",
      "                    ^^^^^^^^^^^^^^^^^^^^^^^^^^^^^^^^^^\n",
      "  File \"/Users/mateo/anaconda3/lib/python3.11/site-packages/pennylane/devices/preprocess.py\", line 131, in validate_device_wires\n",
      "    raise WireError(\n",
      "pennylane.wires.WireError: Cannot run circuit(s) on default.qubit as they contain wires not found on the device: {7}\n"
     ]
    },
    {
     "name": "stdout",
     "output_type": "stream",
     "text": [
      "Error during execution: Cannot run circuit(s) on default.qubit as they contain wires not found on the device: {7}\n"
     ]
    },
    {
     "name": "stderr",
     "output_type": "stream",
     "text": [
      "  0%|          | 0/185 [00:00<?, ?it/s]\n",
      "Traceback (most recent call last):\n",
      "  File \"/var/folders/wl/7wlprxgn5hxbwxmhbsvvsyj40000gs/T/ipykernel_28212/106676976.py\", line 320, in <module>\n",
      "    out = cost(param_init, train_x[i:i+25], train_y[i:i+25])\n",
      "          ^^^^^^^^^^^^^^^^^^^^^^^^^^^^^^^^^^^^^^^^^^^^^^^^^^\n",
      "  File \"/var/folders/wl/7wlprxgn5hxbwxmhbsvvsyj40000gs/T/ipykernel_28212/106676976.py\", line 312, in cost\n",
      "    predictions = m(circuit(weights, X))\n",
      "                    ^^^^^^^^^^^^^^^^^^^\n",
      "  File \"/Users/mateo/anaconda3/lib/python3.11/site-packages/pennylane/workflow/qnode.py\", line 1098, in __call__\n",
      "    res = self._execution_component(args, kwargs, override_shots=override_shots)\n",
      "          ^^^^^^^^^^^^^^^^^^^^^^^^^^^^^^^^^^^^^^^^^^^^^^^^^^^^^^^^^^^^^^^^^^^^^^\n",
      "  File \"/Users/mateo/anaconda3/lib/python3.11/site-packages/pennylane/workflow/qnode.py\", line 1052, in _execution_component\n",
      "    res = qml.execute(\n",
      "          ^^^^^^^^^^^^\n",
      "  File \"/Users/mateo/anaconda3/lib/python3.11/site-packages/pennylane/workflow/execution.py\", line 600, in execute\n",
      "    tapes, post_processing = transform_program(tapes)\n",
      "                             ^^^^^^^^^^^^^^^^^^^^^^^^\n",
      "  File \"/Users/mateo/anaconda3/lib/python3.11/site-packages/pennylane/transforms/core/transform_program.py\", line 509, in __call__\n",
      "    new_tapes, fn = transform(tape, *targs, **tkwargs)\n",
      "                    ^^^^^^^^^^^^^^^^^^^^^^^^^^^^^^^^^^\n",
      "  File \"/Users/mateo/anaconda3/lib/python3.11/site-packages/pennylane/devices/preprocess.py\", line 131, in validate_device_wires\n",
      "    raise WireError(\n",
      "pennylane.wires.WireError: Cannot run circuit(s) on default.qubit as they contain wires not found on the device: {7}\n"
     ]
    },
    {
     "name": "stdout",
     "output_type": "stream",
     "text": [
      "Error during execution: Cannot run circuit(s) on default.qubit as they contain wires not found on the device: {7}\n",
      "10\n"
     ]
    },
    {
     "name": "stderr",
     "output_type": "stream",
     "text": [
      "  0%|          | 0/185 [00:00<?, ?it/s]\n",
      "Traceback (most recent call last):\n",
      "  File \"/var/folders/wl/7wlprxgn5hxbwxmhbsvvsyj40000gs/T/ipykernel_28212/106676976.py\", line 320, in <module>\n",
      "    out = cost(param_init, train_x[i:i+25], train_y[i:i+25])\n",
      "          ^^^^^^^^^^^^^^^^^^^^^^^^^^^^^^^^^^^^^^^^^^^^^^^^^^\n",
      "  File \"/var/folders/wl/7wlprxgn5hxbwxmhbsvvsyj40000gs/T/ipykernel_28212/106676976.py\", line 312, in cost\n",
      "    predictions = m(circuit(weights, X))\n",
      "                    ^^^^^^^^^^^^^^^^^^^\n",
      "  File \"/Users/mateo/anaconda3/lib/python3.11/site-packages/pennylane/workflow/qnode.py\", line 1098, in __call__\n",
      "    res = self._execution_component(args, kwargs, override_shots=override_shots)\n",
      "          ^^^^^^^^^^^^^^^^^^^^^^^^^^^^^^^^^^^^^^^^^^^^^^^^^^^^^^^^^^^^^^^^^^^^^^\n",
      "  File \"/Users/mateo/anaconda3/lib/python3.11/site-packages/pennylane/workflow/qnode.py\", line 1052, in _execution_component\n",
      "    res = qml.execute(\n",
      "          ^^^^^^^^^^^^\n",
      "  File \"/Users/mateo/anaconda3/lib/python3.11/site-packages/pennylane/workflow/execution.py\", line 600, in execute\n",
      "    tapes, post_processing = transform_program(tapes)\n",
      "                             ^^^^^^^^^^^^^^^^^^^^^^^^\n",
      "  File \"/Users/mateo/anaconda3/lib/python3.11/site-packages/pennylane/transforms/core/transform_program.py\", line 509, in __call__\n",
      "    new_tapes, fn = transform(tape, *targs, **tkwargs)\n",
      "                    ^^^^^^^^^^^^^^^^^^^^^^^^^^^^^^^^^^\n",
      "  File \"/Users/mateo/anaconda3/lib/python3.11/site-packages/pennylane/devices/preprocess.py\", line 131, in validate_device_wires\n",
      "    raise WireError(\n",
      "pennylane.wires.WireError: Cannot run circuit(s) on default.qubit as they contain wires not found on the device: {7}\n"
     ]
    },
    {
     "name": "stdout",
     "output_type": "stream",
     "text": [
      "Error during execution: Cannot run circuit(s) on default.qubit as they contain wires not found on the device: {7}\n"
     ]
    },
    {
     "name": "stderr",
     "output_type": "stream",
     "text": [
      "  0%|          | 0/185 [00:00<?, ?it/s]\n",
      "Traceback (most recent call last):\n",
      "  File \"/var/folders/wl/7wlprxgn5hxbwxmhbsvvsyj40000gs/T/ipykernel_28212/106676976.py\", line 320, in <module>\n",
      "    out = cost(param_init, train_x[i:i+25], train_y[i:i+25])\n",
      "          ^^^^^^^^^^^^^^^^^^^^^^^^^^^^^^^^^^^^^^^^^^^^^^^^^^\n",
      "  File \"/var/folders/wl/7wlprxgn5hxbwxmhbsvvsyj40000gs/T/ipykernel_28212/106676976.py\", line 312, in cost\n",
      "    predictions = m(circuit(weights, X))\n",
      "                    ^^^^^^^^^^^^^^^^^^^\n",
      "  File \"/Users/mateo/anaconda3/lib/python3.11/site-packages/pennylane/workflow/qnode.py\", line 1098, in __call__\n",
      "    res = self._execution_component(args, kwargs, override_shots=override_shots)\n",
      "          ^^^^^^^^^^^^^^^^^^^^^^^^^^^^^^^^^^^^^^^^^^^^^^^^^^^^^^^^^^^^^^^^^^^^^^\n",
      "  File \"/Users/mateo/anaconda3/lib/python3.11/site-packages/pennylane/workflow/qnode.py\", line 1052, in _execution_component\n",
      "    res = qml.execute(\n",
      "          ^^^^^^^^^^^^\n",
      "  File \"/Users/mateo/anaconda3/lib/python3.11/site-packages/pennylane/workflow/execution.py\", line 600, in execute\n",
      "    tapes, post_processing = transform_program(tapes)\n",
      "                             ^^^^^^^^^^^^^^^^^^^^^^^^\n",
      "  File \"/Users/mateo/anaconda3/lib/python3.11/site-packages/pennylane/transforms/core/transform_program.py\", line 509, in __call__\n",
      "    new_tapes, fn = transform(tape, *targs, **tkwargs)\n",
      "                    ^^^^^^^^^^^^^^^^^^^^^^^^^^^^^^^^^^\n",
      "  File \"/Users/mateo/anaconda3/lib/python3.11/site-packages/pennylane/devices/preprocess.py\", line 131, in validate_device_wires\n",
      "    raise WireError(\n",
      "pennylane.wires.WireError: Cannot run circuit(s) on default.qubit as they contain wires not found on the device: {7}\n"
     ]
    },
    {
     "name": "stdout",
     "output_type": "stream",
     "text": [
      "Error during execution: Cannot run circuit(s) on default.qubit as they contain wires not found on the device: {7}\n"
     ]
    },
    {
     "name": "stderr",
     "output_type": "stream",
     "text": [
      "  0%|          | 0/185 [00:00<?, ?it/s]\n",
      "Traceback (most recent call last):\n",
      "  File \"/var/folders/wl/7wlprxgn5hxbwxmhbsvvsyj40000gs/T/ipykernel_28212/106676976.py\", line 320, in <module>\n",
      "    out = cost(param_init, train_x[i:i+25], train_y[i:i+25])\n",
      "          ^^^^^^^^^^^^^^^^^^^^^^^^^^^^^^^^^^^^^^^^^^^^^^^^^^\n",
      "  File \"/var/folders/wl/7wlprxgn5hxbwxmhbsvvsyj40000gs/T/ipykernel_28212/106676976.py\", line 312, in cost\n",
      "    predictions = m(circuit(weights, X))\n",
      "                    ^^^^^^^^^^^^^^^^^^^\n",
      "  File \"/Users/mateo/anaconda3/lib/python3.11/site-packages/pennylane/workflow/qnode.py\", line 1098, in __call__\n",
      "    res = self._execution_component(args, kwargs, override_shots=override_shots)\n",
      "          ^^^^^^^^^^^^^^^^^^^^^^^^^^^^^^^^^^^^^^^^^^^^^^^^^^^^^^^^^^^^^^^^^^^^^^\n",
      "  File \"/Users/mateo/anaconda3/lib/python3.11/site-packages/pennylane/workflow/qnode.py\", line 1052, in _execution_component\n",
      "    res = qml.execute(\n",
      "          ^^^^^^^^^^^^\n",
      "  File \"/Users/mateo/anaconda3/lib/python3.11/site-packages/pennylane/workflow/execution.py\", line 600, in execute\n",
      "    tapes, post_processing = transform_program(tapes)\n",
      "                             ^^^^^^^^^^^^^^^^^^^^^^^^\n",
      "  File \"/Users/mateo/anaconda3/lib/python3.11/site-packages/pennylane/transforms/core/transform_program.py\", line 509, in __call__\n",
      "    new_tapes, fn = transform(tape, *targs, **tkwargs)\n",
      "                    ^^^^^^^^^^^^^^^^^^^^^^^^^^^^^^^^^^\n",
      "  File \"/Users/mateo/anaconda3/lib/python3.11/site-packages/pennylane/devices/preprocess.py\", line 131, in validate_device_wires\n",
      "    raise WireError(\n",
      "pennylane.wires.WireError: Cannot run circuit(s) on default.qubit as they contain wires not found on the device: {7}\n"
     ]
    },
    {
     "name": "stdout",
     "output_type": "stream",
     "text": [
      "Error during execution: Cannot run circuit(s) on default.qubit as they contain wires not found on the device: {7}\n"
     ]
    },
    {
     "name": "stderr",
     "output_type": "stream",
     "text": [
      "  0%|          | 0/185 [00:00<?, ?it/s]\n",
      "Traceback (most recent call last):\n",
      "  File \"/var/folders/wl/7wlprxgn5hxbwxmhbsvvsyj40000gs/T/ipykernel_28212/106676976.py\", line 320, in <module>\n",
      "    out = cost(param_init, train_x[i:i+25], train_y[i:i+25])\n",
      "          ^^^^^^^^^^^^^^^^^^^^^^^^^^^^^^^^^^^^^^^^^^^^^^^^^^\n",
      "  File \"/var/folders/wl/7wlprxgn5hxbwxmhbsvvsyj40000gs/T/ipykernel_28212/106676976.py\", line 312, in cost\n",
      "    predictions = m(circuit(weights, X))\n",
      "                    ^^^^^^^^^^^^^^^^^^^\n",
      "  File \"/Users/mateo/anaconda3/lib/python3.11/site-packages/pennylane/workflow/qnode.py\", line 1098, in __call__\n",
      "    res = self._execution_component(args, kwargs, override_shots=override_shots)\n",
      "          ^^^^^^^^^^^^^^^^^^^^^^^^^^^^^^^^^^^^^^^^^^^^^^^^^^^^^^^^^^^^^^^^^^^^^^\n",
      "  File \"/Users/mateo/anaconda3/lib/python3.11/site-packages/pennylane/workflow/qnode.py\", line 1052, in _execution_component\n",
      "    res = qml.execute(\n",
      "          ^^^^^^^^^^^^\n",
      "  File \"/Users/mateo/anaconda3/lib/python3.11/site-packages/pennylane/workflow/execution.py\", line 600, in execute\n",
      "    tapes, post_processing = transform_program(tapes)\n",
      "                             ^^^^^^^^^^^^^^^^^^^^^^^^\n",
      "  File \"/Users/mateo/anaconda3/lib/python3.11/site-packages/pennylane/transforms/core/transform_program.py\", line 509, in __call__\n",
      "    new_tapes, fn = transform(tape, *targs, **tkwargs)\n",
      "                    ^^^^^^^^^^^^^^^^^^^^^^^^^^^^^^^^^^\n",
      "  File \"/Users/mateo/anaconda3/lib/python3.11/site-packages/pennylane/devices/preprocess.py\", line 131, in validate_device_wires\n",
      "    raise WireError(\n",
      "pennylane.wires.WireError: Cannot run circuit(s) on default.qubit as they contain wires not found on the device: {7}\n"
     ]
    },
    {
     "name": "stdout",
     "output_type": "stream",
     "text": [
      "Error during execution: Cannot run circuit(s) on default.qubit as they contain wires not found on the device: {7}\n"
     ]
    },
    {
     "name": "stderr",
     "output_type": "stream",
     "text": [
      "  0%|          | 0/185 [00:00<?, ?it/s]\n",
      "Traceback (most recent call last):\n",
      "  File \"/var/folders/wl/7wlprxgn5hxbwxmhbsvvsyj40000gs/T/ipykernel_28212/106676976.py\", line 320, in <module>\n",
      "    out = cost(param_init, train_x[i:i+25], train_y[i:i+25])\n",
      "          ^^^^^^^^^^^^^^^^^^^^^^^^^^^^^^^^^^^^^^^^^^^^^^^^^^\n",
      "  File \"/var/folders/wl/7wlprxgn5hxbwxmhbsvvsyj40000gs/T/ipykernel_28212/106676976.py\", line 312, in cost\n",
      "    predictions = m(circuit(weights, X))\n",
      "                    ^^^^^^^^^^^^^^^^^^^\n",
      "  File \"/Users/mateo/anaconda3/lib/python3.11/site-packages/pennylane/workflow/qnode.py\", line 1098, in __call__\n",
      "    res = self._execution_component(args, kwargs, override_shots=override_shots)\n",
      "          ^^^^^^^^^^^^^^^^^^^^^^^^^^^^^^^^^^^^^^^^^^^^^^^^^^^^^^^^^^^^^^^^^^^^^^\n",
      "  File \"/Users/mateo/anaconda3/lib/python3.11/site-packages/pennylane/workflow/qnode.py\", line 1052, in _execution_component\n",
      "    res = qml.execute(\n",
      "          ^^^^^^^^^^^^\n",
      "  File \"/Users/mateo/anaconda3/lib/python3.11/site-packages/pennylane/workflow/execution.py\", line 600, in execute\n",
      "    tapes, post_processing = transform_program(tapes)\n",
      "                             ^^^^^^^^^^^^^^^^^^^^^^^^\n",
      "  File \"/Users/mateo/anaconda3/lib/python3.11/site-packages/pennylane/transforms/core/transform_program.py\", line 509, in __call__\n",
      "    new_tapes, fn = transform(tape, *targs, **tkwargs)\n",
      "                    ^^^^^^^^^^^^^^^^^^^^^^^^^^^^^^^^^^\n",
      "  File \"/Users/mateo/anaconda3/lib/python3.11/site-packages/pennylane/devices/preprocess.py\", line 131, in validate_device_wires\n",
      "    raise WireError(\n",
      "pennylane.wires.WireError: Cannot run circuit(s) on default.qubit as they contain wires not found on the device: {7}\n"
     ]
    },
    {
     "name": "stdout",
     "output_type": "stream",
     "text": [
      "Error during execution: Cannot run circuit(s) on default.qubit as they contain wires not found on the device: {7}\n"
     ]
    },
    {
     "name": "stderr",
     "output_type": "stream",
     "text": [
      "  0%|          | 0/185 [00:00<?, ?it/s]\n",
      "Traceback (most recent call last):\n",
      "  File \"/var/folders/wl/7wlprxgn5hxbwxmhbsvvsyj40000gs/T/ipykernel_28212/106676976.py\", line 320, in <module>\n",
      "    out = cost(param_init, train_x[i:i+25], train_y[i:i+25])\n",
      "          ^^^^^^^^^^^^^^^^^^^^^^^^^^^^^^^^^^^^^^^^^^^^^^^^^^\n",
      "  File \"/var/folders/wl/7wlprxgn5hxbwxmhbsvvsyj40000gs/T/ipykernel_28212/106676976.py\", line 312, in cost\n",
      "    predictions = m(circuit(weights, X))\n",
      "                    ^^^^^^^^^^^^^^^^^^^\n",
      "  File \"/Users/mateo/anaconda3/lib/python3.11/site-packages/pennylane/workflow/qnode.py\", line 1098, in __call__\n",
      "    res = self._execution_component(args, kwargs, override_shots=override_shots)\n",
      "          ^^^^^^^^^^^^^^^^^^^^^^^^^^^^^^^^^^^^^^^^^^^^^^^^^^^^^^^^^^^^^^^^^^^^^^\n",
      "  File \"/Users/mateo/anaconda3/lib/python3.11/site-packages/pennylane/workflow/qnode.py\", line 1052, in _execution_component\n",
      "    res = qml.execute(\n",
      "          ^^^^^^^^^^^^\n",
      "  File \"/Users/mateo/anaconda3/lib/python3.11/site-packages/pennylane/workflow/execution.py\", line 600, in execute\n",
      "    tapes, post_processing = transform_program(tapes)\n",
      "                             ^^^^^^^^^^^^^^^^^^^^^^^^\n",
      "  File \"/Users/mateo/anaconda3/lib/python3.11/site-packages/pennylane/transforms/core/transform_program.py\", line 509, in __call__\n",
      "    new_tapes, fn = transform(tape, *targs, **tkwargs)\n",
      "                    ^^^^^^^^^^^^^^^^^^^^^^^^^^^^^^^^^^\n",
      "  File \"/Users/mateo/anaconda3/lib/python3.11/site-packages/pennylane/devices/preprocess.py\", line 131, in validate_device_wires\n",
      "    raise WireError(\n",
      "pennylane.wires.WireError: Cannot run circuit(s) on default.qubit as they contain wires not found on the device: {7}\n"
     ]
    },
    {
     "name": "stdout",
     "output_type": "stream",
     "text": [
      "Error during execution: Cannot run circuit(s) on default.qubit as they contain wires not found on the device: {7}\n",
      "Epoch:10, Loss:0.3643956184387207\n",
      "Epoch:20, Loss:0.3577776551246643\n",
      "Epoch:30, Loss:0.3512561321258545\n",
      "Epoch:40, Loss:0.3447716236114502\n",
      "Epoch:50, Loss:0.3382475972175598\n",
      "Epoch:60, Loss:0.331598699092865\n",
      "Epoch:70, Loss:0.32474929094314575\n",
      "Epoch:80, Loss:0.3176417648792267\n",
      "Epoch:90, Loss:0.3102357089519501\n",
      "Epoch:100, Loss:0.3025117516517639\n",
      "Epoch:110, Loss:0.2944662272930145\n",
      "Epoch:120, Loss:0.2861185669898987\n",
      "Epoch:130, Loss:0.2775108218193054\n",
      "Epoch:140, Loss:0.2686973810195923\n",
      "Epoch:150, Loss:0.25974521040916443\n",
      "Epoch:160, Loss:0.2507275342941284\n",
      "Epoch:170, Loss:0.24172423779964447\n",
      "Epoch:180, Loss:0.23281364142894745\n",
      "Epoch:190, Loss:0.22406691312789917\n",
      "Epoch:200, Loss:0.21555067598819733\n",
      "Epoch:210, Loss:0.20732828974723816\n",
      "Epoch:220, Loss:0.1994497925043106\n",
      "Epoch:230, Loss:0.19195590913295746\n",
      "Epoch:240, Loss:0.18487441539764404\n",
      "Epoch:250, Loss:0.17821580171585083\n",
      "Epoch:260, Loss:0.17198340594768524\n",
      "Epoch:270, Loss:0.1661759465932846\n",
      "Epoch:280, Loss:0.16078558564186096\n",
      "Epoch:290, Loss:0.15579630434513092\n",
      "Epoch:300, Loss:0.15118731558322906\n",
      "Epoch:310, Loss:0.14694014191627502\n",
      "Epoch:320, Loss:0.14303168654441833\n",
      "Epoch:330, Loss:0.13943667709827423\n",
      "Epoch:340, Loss:0.1361299753189087\n",
      "Epoch:350, Loss:0.13309012353420258\n",
      "Epoch:360, Loss:0.13029436767101288\n",
      "Epoch:370, Loss:0.12772221863269806\n",
      "Epoch:380, Loss:0.1253543347120285\n",
      "Epoch:390, Loss:0.12317203730344772\n",
      "Epoch:400, Loss:0.12115877121686935\n",
      "Epoch:410, Loss:0.11929848790168762\n",
      "Epoch:420, Loss:0.11757653206586838\n",
      "Epoch:430, Loss:0.11598090827465057\n",
      "Epoch:440, Loss:0.1145007386803627\n",
      "Epoch:450, Loss:0.1131252646446228\n",
      "Epoch:460, Loss:0.11184532195329666\n",
      "Epoch:470, Loss:0.11065211892127991\n",
      "Epoch:480, Loss:0.10953779518604279\n",
      "Epoch:490, Loss:0.1084950715303421\n",
      "Epoch:500, Loss:0.10751751810312271\n",
      "Epoch:510, Loss:0.10659967362880707\n",
      "Epoch:520, Loss:0.10573652386665344\n",
      "Epoch:530, Loss:0.1049233227968216\n",
      "Epoch:540, Loss:0.10415574908256531\n",
      "Epoch:550, Loss:0.10342985391616821\n",
      "Epoch:560, Loss:0.10274215042591095\n",
      "Epoch:570, Loss:0.10208974778652191\n",
      "Epoch:580, Loss:0.10146985203027725\n",
      "Epoch:590, Loss:0.10087981075048447\n",
      "Epoch:600, Loss:0.10031722486019135\n",
      "Epoch:610, Loss:0.09977986663579941\n",
      "Epoch:620, Loss:0.099265918135643\n",
      "Epoch:630, Loss:0.09877365082502365\n",
      "Epoch:640, Loss:0.09830138087272644\n",
      "Epoch:650, Loss:0.09784787893295288\n",
      "Epoch:660, Loss:0.0974116325378418\n",
      "Epoch:670, Loss:0.0969914123415947\n",
      "Epoch:680, Loss:0.0965861827135086\n",
      "Epoch:690, Loss:0.0961950421333313\n",
      "Epoch:700, Loss:0.09581699967384338\n",
      "Epoch:710, Loss:0.09545113891363144\n",
      "Epoch:720, Loss:0.09509678184986115\n",
      "Epoch:730, Loss:0.094753198325634\n",
      "Epoch:740, Loss:0.09441991150379181\n",
      "Epoch:750, Loss:0.09409633278846741\n",
      "Epoch:760, Loss:0.09378186613321304\n",
      "Epoch:770, Loss:0.0934760570526123\n",
      "Epoch:780, Loss:0.09317854791879654\n",
      "Epoch:790, Loss:0.09288907796144485\n",
      "Epoch:800, Loss:0.09260731190443039\n",
      "Epoch:810, Loss:0.09233303368091583\n",
      "Epoch:820, Loss:0.09206586331129074\n",
      "Epoch:830, Loss:0.09180552512407303\n",
      "Epoch:840, Loss:0.09155167639255524\n",
      "Epoch:850, Loss:0.09130410104990005\n",
      "Epoch:860, Loss:0.09106260538101196\n",
      "Epoch:870, Loss:0.09082694351673126\n",
      "Epoch:880, Loss:0.09059701859951019\n",
      "Epoch:890, Loss:0.09037252515554428\n",
      "Epoch:900, Loss:0.090153269469738\n",
      "Epoch:910, Loss:0.08993910253047943\n",
      "Epoch:920, Loss:0.08972983807325363\n",
      "Epoch:930, Loss:0.0895252674818039\n",
      "Epoch:940, Loss:0.08932526409626007\n",
      "Epoch:950, Loss:0.08912964165210724\n",
      "Epoch:960, Loss:0.08893819898366928\n",
      "Epoch:970, Loss:0.08875080198049545\n",
      "Epoch:980, Loss:0.08856730908155441\n",
      "Epoch:990, Loss:0.08838757127523422\n",
      "Epoch:1000, Loss:0.08821144700050354\n",
      "torch.Size([5788, 8])\n",
      "3\n"
     ]
    },
    {
     "name": "stderr",
     "output_type": "stream",
     "text": [
      "186it [00:02, 82.07it/s]                         \n",
      "186it [00:02, 78.91it/s]                         \n",
      "186it [00:02, 83.83it/s]                         \n",
      "186it [00:02, 81.64it/s]                         \n",
      "186it [00:02, 81.59it/s]                         \n",
      "186it [00:02, 79.11it/s]                         \n",
      "186it [00:02, 83.89it/s]                         \n",
      "186it [00:02, 84.51it/s]                         \n",
      "186it [00:02, 84.11it/s]                         \n",
      "186it [00:02, 81.29it/s]                         \n",
      "186it [00:02, 84.10it/s]                         \n",
      "186it [00:02, 80.80it/s]                         \n",
      "186it [00:02, 63.60it/s]                         \n",
      "186it [00:02, 73.01it/s]                         \n",
      "186it [00:02, 69.44it/s]                         \n",
      "186it [00:02, 65.71it/s]                         \n",
      "186it [00:02, 73.43it/s]                         \n",
      "186it [00:02, 73.51it/s]                         \n"
     ]
    },
    {
     "name": "stdout",
     "output_type": "stream",
     "text": [
      "15\n"
     ]
    },
    {
     "name": "stderr",
     "output_type": "stream",
     "text": [
      "186it [00:02, 80.96it/s]                         \n",
      "186it [00:02, 77.22it/s]                         \n",
      "186it [00:02, 77.39it/s]                         \n",
      "186it [00:02, 79.70it/s]                         \n",
      "186it [00:02, 84.07it/s]                         \n",
      "186it [00:02, 79.47it/s]                         \n",
      "186it [00:02, 84.48it/s]                         \n",
      "186it [00:02, 84.66it/s]                         \n",
      "186it [00:02, 84.52it/s]                         \n",
      "186it [00:02, 80.71it/s]                         \n",
      "186it [00:02, 84.78it/s]                         \n",
      "186it [00:02, 84.47it/s]                         \n",
      "186it [00:02, 81.86it/s]                         \n",
      "186it [00:02, 80.78it/s]                         \n",
      "186it [00:02, 79.02it/s]                         \n",
      "186it [00:02, 66.29it/s]                         \n",
      "186it [00:02, 69.19it/s]                         \n",
      "186it [00:03, 59.10it/s]                         \n"
     ]
    },
    {
     "name": "stdout",
     "output_type": "stream",
     "text": [
      "2\n"
     ]
    },
    {
     "name": "stderr",
     "output_type": "stream",
     "text": [
      "186it [00:02, 66.26it/s]                         \n",
      "186it [00:02, 77.39it/s]                         \n",
      "186it [00:02, 80.36it/s]                         \n",
      "186it [00:02, 71.60it/s]                         \n",
      "186it [00:02, 78.55it/s]                         \n",
      "186it [00:02, 81.16it/s]                         \n",
      "186it [00:02, 74.76it/s]                         \n",
      "186it [00:02, 82.40it/s]                         \n",
      "186it [00:02, 80.86it/s]                         \n",
      "186it [00:02, 78.18it/s]                         \n",
      "186it [00:02, 72.49it/s]                         \n",
      "186it [00:02, 69.04it/s]                         \n",
      "186it [00:02, 73.03it/s]                         \n",
      "186it [00:02, 78.43it/s]                         \n",
      "186it [00:02, 73.86it/s]                         \n",
      "186it [00:02, 73.45it/s]                         \n",
      "186it [00:02, 78.27it/s]                         \n",
      "186it [00:02, 69.10it/s]                         \n"
     ]
    },
    {
     "name": "stdout",
     "output_type": "stream",
     "text": [
      "2\n"
     ]
    },
    {
     "name": "stderr",
     "output_type": "stream",
     "text": [
      "186it [00:02, 78.30it/s]                         \n",
      "186it [00:02, 83.54it/s]                         \n",
      "186it [00:02, 72.58it/s]                         \n",
      "186it [00:02, 78.29it/s]                         \n",
      "186it [00:02, 69.71it/s]                         \n",
      "186it [00:02, 76.26it/s]                         \n",
      "186it [00:02, 81.66it/s]                         \n",
      "186it [00:02, 73.05it/s]                         \n",
      "186it [00:02, 79.74it/s]                         \n",
      "186it [00:02, 71.67it/s]                         \n",
      "186it [00:02, 83.44it/s]                         \n",
      "186it [00:02, 84.36it/s]                         \n",
      "186it [00:02, 79.51it/s]                         \n",
      "186it [00:02, 84.52it/s]                         \n",
      "186it [00:02, 75.58it/s]                         \n",
      "186it [00:02, 77.73it/s]                         \n",
      "186it [00:02, 82.16it/s]                         \n",
      "186it [00:02, 84.18it/s]                         \n"
     ]
    },
    {
     "name": "stdout",
     "output_type": "stream",
     "text": [
      "4\n"
     ]
    },
    {
     "name": "stderr",
     "output_type": "stream",
     "text": [
      "186it [00:02, 82.69it/s]                         \n",
      "186it [00:02, 80.29it/s]                         \n",
      "186it [00:02, 83.80it/s]                         \n",
      "186it [00:02, 82.65it/s]                         \n",
      "186it [00:02, 84.33it/s]                         \n",
      "186it [00:02, 84.02it/s]                         \n",
      "186it [00:02, 83.91it/s]                         \n",
      "186it [00:02, 83.47it/s]                         \n",
      "186it [00:02, 84.72it/s]                         \n",
      "186it [00:02, 80.83it/s]                         \n",
      "186it [00:02, 84.35it/s]                         \n",
      "186it [00:02, 84.18it/s]                         \n",
      "186it [00:02, 84.42it/s]                         \n",
      "186it [00:02, 81.06it/s]                         \n",
      "186it [00:02, 84.71it/s]                         \n",
      "186it [00:02, 82.07it/s]                         \n",
      "186it [00:02, 81.45it/s]                         \n",
      "186it [00:03, 61.83it/s]                         \n"
     ]
    },
    {
     "name": "stdout",
     "output_type": "stream",
     "text": [
      "6\n"
     ]
    },
    {
     "name": "stderr",
     "output_type": "stream",
     "text": [
      "186it [00:02, 83.65it/s]                         \n",
      "186it [00:02, 82.57it/s]                         \n",
      "186it [00:02, 74.10it/s]                         \n",
      "186it [00:02, 72.57it/s]                         \n",
      "186it [00:02, 76.09it/s]                         \n",
      "186it [00:02, 72.32it/s]                         \n",
      "186it [00:02, 78.73it/s]                         \n",
      "186it [00:02, 81.15it/s]                         \n",
      "186it [00:02, 79.42it/s]                         \n",
      "186it [00:02, 83.44it/s]                         \n",
      "186it [00:02, 75.44it/s]                         \n",
      "186it [00:02, 82.99it/s]                         \n",
      "186it [00:02, 79.30it/s]                         \n",
      "186it [00:02, 81.07it/s]                         \n",
      "186it [00:02, 75.72it/s]                         \n",
      "186it [00:02, 81.81it/s]                         \n",
      "186it [00:02, 77.77it/s]                         \n",
      "186it [00:02, 79.94it/s]                         \n"
     ]
    },
    {
     "name": "stdout",
     "output_type": "stream",
     "text": [
      "6\n"
     ]
    },
    {
     "name": "stderr",
     "output_type": "stream",
     "text": [
      "186it [00:02, 83.72it/s]                         \n",
      "186it [00:02, 79.11it/s]                         \n",
      "186it [00:02, 83.14it/s]                         \n",
      "186it [00:02, 82.67it/s]                         \n",
      "186it [00:02, 84.64it/s]                         \n",
      "186it [00:02, 62.62it/s]                         \n",
      "186it [00:02, 81.08it/s]                         \n",
      "186it [00:02, 76.27it/s]                         \n",
      "186it [00:02, 81.77it/s]                         \n",
      "186it [00:02, 77.53it/s]                         \n",
      "186it [00:02, 72.30it/s]                         \n",
      "186it [00:02, 82.66it/s]                         \n",
      "186it [00:02, 83.15it/s]                         \n",
      "186it [00:02, 71.91it/s]                         \n",
      "186it [00:02, 72.08it/s]                         \n",
      "186it [00:02, 84.56it/s]                         \n",
      "186it [00:02, 84.87it/s]                         \n",
      "186it [00:02, 80.85it/s]                         \n"
     ]
    },
    {
     "name": "stdout",
     "output_type": "stream",
     "text": [
      "6\n"
     ]
    },
    {
     "name": "stderr",
     "output_type": "stream",
     "text": [
      "186it [00:02, 83.43it/s]                         \n",
      "186it [00:02, 81.87it/s]                         \n",
      "186it [00:02, 81.21it/s]                         \n",
      "186it [00:02, 78.54it/s]                         \n",
      "186it [00:02, 82.89it/s]                         \n",
      "186it [00:02, 82.18it/s]                         \n",
      "186it [00:02, 69.24it/s]                         \n",
      "186it [00:02, 78.09it/s]                         \n",
      "186it [00:02, 76.67it/s]                         \n",
      "186it [00:02, 77.26it/s]                         \n",
      "186it [00:02, 82.25it/s]                         \n",
      "186it [00:02, 74.19it/s]                         \n",
      "186it [00:02, 69.92it/s]                         \n",
      "186it [00:02, 75.07it/s]                         \n",
      "186it [00:02, 76.50it/s]                         \n",
      "186it [00:02, 76.63it/s]                         \n",
      "186it [00:02, 73.69it/s]                         \n",
      "186it [00:02, 81.77it/s]                         \n"
     ]
    },
    {
     "name": "stdout",
     "output_type": "stream",
     "text": [
      "10\n"
     ]
    },
    {
     "name": "stderr",
     "output_type": "stream",
     "text": [
      "186it [00:02, 81.62it/s]                         \n",
      "186it [00:02, 81.83it/s]                         \n",
      "186it [00:02, 68.37it/s]                         \n",
      "186it [00:02, 64.45it/s]                         \n",
      "186it [00:02, 65.15it/s]                         \n",
      "186it [00:02, 72.04it/s]                         \n",
      "186it [00:02, 67.29it/s]                         \n",
      "186it [00:02, 80.17it/s]                         \n",
      "186it [00:02, 76.61it/s]                         \n",
      "186it [00:02, 75.61it/s]                         \n",
      "186it [00:02, 78.90it/s]                         \n",
      "186it [00:02, 77.24it/s]                         \n",
      "186it [00:02, 78.74it/s]                         \n",
      "186it [00:02, 76.76it/s]                         \n",
      "186it [00:02, 79.85it/s]                         \n",
      "186it [00:02, 80.98it/s]                         \n",
      "186it [00:02, 77.04it/s]                         \n",
      "186it [00:02, 80.13it/s]                         \n"
     ]
    },
    {
     "name": "stdout",
     "output_type": "stream",
     "text": [
      "10\n"
     ]
    },
    {
     "name": "stderr",
     "output_type": "stream",
     "text": [
      "186it [00:03, 56.94it/s]                         \n",
      "186it [00:02, 80.39it/s]                         \n",
      "186it [00:02, 75.08it/s]                         \n",
      "186it [00:02, 79.63it/s]                         \n",
      "186it [00:02, 76.69it/s]                         \n",
      "186it [00:02, 80.51it/s]                         \n",
      "186it [00:02, 80.54it/s]                         \n",
      "186it [00:02, 76.06it/s]                         \n",
      "186it [00:02, 79.05it/s]                         \n",
      "186it [00:02, 77.00it/s]                         \n",
      "186it [00:02, 80.32it/s]                         \n",
      "186it [00:02, 76.27it/s]                         \n",
      "186it [00:02, 80.82it/s]                         \n",
      "186it [00:02, 81.04it/s]                         \n",
      "186it [00:02, 76.04it/s]                         \n",
      "186it [00:02, 78.38it/s]                         \n",
      "186it [00:02, 75.10it/s]                         \n",
      "186it [00:02, 78.84it/s]                         \n"
     ]
    },
    {
     "name": "stdout",
     "output_type": "stream",
     "text": [
      "3\n"
     ]
    },
    {
     "name": "stderr",
     "output_type": "stream",
     "text": [
      "  0%|          | 0/185 [00:00<?, ?it/s]\n",
      "Traceback (most recent call last):\n",
      "  File \"/var/folders/wl/7wlprxgn5hxbwxmhbsvvsyj40000gs/T/ipykernel_28212/106676976.py\", line 320, in <module>\n",
      "    out = cost(param_init, train_x[i:i+25], train_y[i:i+25])\n",
      "          ^^^^^^^^^^^^^^^^^^^^^^^^^^^^^^^^^^^^^^^^^^^^^^^^^^\n",
      "  File \"/var/folders/wl/7wlprxgn5hxbwxmhbsvvsyj40000gs/T/ipykernel_28212/106676976.py\", line 312, in cost\n",
      "    predictions = m(circuit(weights, X))\n",
      "                    ^^^^^^^^^^^^^^^^^^^\n",
      "  File \"/Users/mateo/anaconda3/lib/python3.11/site-packages/pennylane/workflow/qnode.py\", line 1098, in __call__\n",
      "    res = self._execution_component(args, kwargs, override_shots=override_shots)\n",
      "          ^^^^^^^^^^^^^^^^^^^^^^^^^^^^^^^^^^^^^^^^^^^^^^^^^^^^^^^^^^^^^^^^^^^^^^\n",
      "  File \"/Users/mateo/anaconda3/lib/python3.11/site-packages/pennylane/workflow/qnode.py\", line 1052, in _execution_component\n",
      "    res = qml.execute(\n",
      "          ^^^^^^^^^^^^\n",
      "  File \"/Users/mateo/anaconda3/lib/python3.11/site-packages/pennylane/workflow/execution.py\", line 600, in execute\n",
      "    tapes, post_processing = transform_program(tapes)\n",
      "                             ^^^^^^^^^^^^^^^^^^^^^^^^\n",
      "  File \"/Users/mateo/anaconda3/lib/python3.11/site-packages/pennylane/transforms/core/transform_program.py\", line 509, in __call__\n",
      "    new_tapes, fn = transform(tape, *targs, **tkwargs)\n",
      "                    ^^^^^^^^^^^^^^^^^^^^^^^^^^^^^^^^^^\n",
      "  File \"/Users/mateo/anaconda3/lib/python3.11/site-packages/pennylane/devices/preprocess.py\", line 131, in validate_device_wires\n",
      "    raise WireError(\n",
      "pennylane.wires.WireError: Cannot run circuit(s) on default.qubit as they contain wires not found on the device: {7}\n"
     ]
    },
    {
     "name": "stdout",
     "output_type": "stream",
     "text": [
      "Error during execution: Cannot run circuit(s) on default.qubit as they contain wires not found on the device: {7}\n"
     ]
    },
    {
     "name": "stderr",
     "output_type": "stream",
     "text": [
      "  0%|          | 0/185 [00:00<?, ?it/s]\n",
      "Traceback (most recent call last):\n",
      "  File \"/var/folders/wl/7wlprxgn5hxbwxmhbsvvsyj40000gs/T/ipykernel_28212/106676976.py\", line 320, in <module>\n",
      "    out = cost(param_init, train_x[i:i+25], train_y[i:i+25])\n",
      "          ^^^^^^^^^^^^^^^^^^^^^^^^^^^^^^^^^^^^^^^^^^^^^^^^^^\n",
      "  File \"/var/folders/wl/7wlprxgn5hxbwxmhbsvvsyj40000gs/T/ipykernel_28212/106676976.py\", line 312, in cost\n",
      "    predictions = m(circuit(weights, X))\n",
      "                    ^^^^^^^^^^^^^^^^^^^\n",
      "  File \"/Users/mateo/anaconda3/lib/python3.11/site-packages/pennylane/workflow/qnode.py\", line 1098, in __call__\n",
      "    res = self._execution_component(args, kwargs, override_shots=override_shots)\n",
      "          ^^^^^^^^^^^^^^^^^^^^^^^^^^^^^^^^^^^^^^^^^^^^^^^^^^^^^^^^^^^^^^^^^^^^^^\n",
      "  File \"/Users/mateo/anaconda3/lib/python3.11/site-packages/pennylane/workflow/qnode.py\", line 1052, in _execution_component\n",
      "    res = qml.execute(\n",
      "          ^^^^^^^^^^^^\n",
      "  File \"/Users/mateo/anaconda3/lib/python3.11/site-packages/pennylane/workflow/execution.py\", line 600, in execute\n",
      "    tapes, post_processing = transform_program(tapes)\n",
      "                             ^^^^^^^^^^^^^^^^^^^^^^^^\n",
      "  File \"/Users/mateo/anaconda3/lib/python3.11/site-packages/pennylane/transforms/core/transform_program.py\", line 509, in __call__\n",
      "    new_tapes, fn = transform(tape, *targs, **tkwargs)\n",
      "                    ^^^^^^^^^^^^^^^^^^^^^^^^^^^^^^^^^^\n",
      "  File \"/Users/mateo/anaconda3/lib/python3.11/site-packages/pennylane/devices/preprocess.py\", line 131, in validate_device_wires\n",
      "    raise WireError(\n",
      "pennylane.wires.WireError: Cannot run circuit(s) on default.qubit as they contain wires not found on the device: {7}\n"
     ]
    },
    {
     "name": "stdout",
     "output_type": "stream",
     "text": [
      "Error during execution: Cannot run circuit(s) on default.qubit as they contain wires not found on the device: {7}\n"
     ]
    },
    {
     "name": "stderr",
     "output_type": "stream",
     "text": [
      "  0%|          | 0/185 [00:00<?, ?it/s]\n",
      "Traceback (most recent call last):\n",
      "  File \"/var/folders/wl/7wlprxgn5hxbwxmhbsvvsyj40000gs/T/ipykernel_28212/106676976.py\", line 320, in <module>\n",
      "    out = cost(param_init, train_x[i:i+25], train_y[i:i+25])\n",
      "          ^^^^^^^^^^^^^^^^^^^^^^^^^^^^^^^^^^^^^^^^^^^^^^^^^^\n",
      "  File \"/var/folders/wl/7wlprxgn5hxbwxmhbsvvsyj40000gs/T/ipykernel_28212/106676976.py\", line 312, in cost\n",
      "    predictions = m(circuit(weights, X))\n",
      "                    ^^^^^^^^^^^^^^^^^^^\n",
      "  File \"/Users/mateo/anaconda3/lib/python3.11/site-packages/pennylane/workflow/qnode.py\", line 1098, in __call__\n",
      "    res = self._execution_component(args, kwargs, override_shots=override_shots)\n",
      "          ^^^^^^^^^^^^^^^^^^^^^^^^^^^^^^^^^^^^^^^^^^^^^^^^^^^^^^^^^^^^^^^^^^^^^^\n",
      "  File \"/Users/mateo/anaconda3/lib/python3.11/site-packages/pennylane/workflow/qnode.py\", line 1052, in _execution_component\n",
      "    res = qml.execute(\n",
      "          ^^^^^^^^^^^^\n",
      "  File \"/Users/mateo/anaconda3/lib/python3.11/site-packages/pennylane/workflow/execution.py\", line 600, in execute\n",
      "    tapes, post_processing = transform_program(tapes)\n",
      "                             ^^^^^^^^^^^^^^^^^^^^^^^^\n",
      "  File \"/Users/mateo/anaconda3/lib/python3.11/site-packages/pennylane/transforms/core/transform_program.py\", line 509, in __call__\n",
      "    new_tapes, fn = transform(tape, *targs, **tkwargs)\n",
      "                    ^^^^^^^^^^^^^^^^^^^^^^^^^^^^^^^^^^\n",
      "  File \"/Users/mateo/anaconda3/lib/python3.11/site-packages/pennylane/devices/preprocess.py\", line 131, in validate_device_wires\n",
      "    raise WireError(\n",
      "pennylane.wires.WireError: Cannot run circuit(s) on default.qubit as they contain wires not found on the device: {7}\n"
     ]
    },
    {
     "name": "stdout",
     "output_type": "stream",
     "text": [
      "Error during execution: Cannot run circuit(s) on default.qubit as they contain wires not found on the device: {7}\n"
     ]
    },
    {
     "name": "stderr",
     "output_type": "stream",
     "text": [
      "  0%|          | 0/185 [00:00<?, ?it/s]\n",
      "Traceback (most recent call last):\n",
      "  File \"/var/folders/wl/7wlprxgn5hxbwxmhbsvvsyj40000gs/T/ipykernel_28212/106676976.py\", line 320, in <module>\n",
      "    out = cost(param_init, train_x[i:i+25], train_y[i:i+25])\n",
      "          ^^^^^^^^^^^^^^^^^^^^^^^^^^^^^^^^^^^^^^^^^^^^^^^^^^\n",
      "  File \"/var/folders/wl/7wlprxgn5hxbwxmhbsvvsyj40000gs/T/ipykernel_28212/106676976.py\", line 312, in cost\n",
      "    predictions = m(circuit(weights, X))\n",
      "                    ^^^^^^^^^^^^^^^^^^^\n",
      "  File \"/Users/mateo/anaconda3/lib/python3.11/site-packages/pennylane/workflow/qnode.py\", line 1098, in __call__\n",
      "    res = self._execution_component(args, kwargs, override_shots=override_shots)\n",
      "          ^^^^^^^^^^^^^^^^^^^^^^^^^^^^^^^^^^^^^^^^^^^^^^^^^^^^^^^^^^^^^^^^^^^^^^\n",
      "  File \"/Users/mateo/anaconda3/lib/python3.11/site-packages/pennylane/workflow/qnode.py\", line 1052, in _execution_component\n",
      "    res = qml.execute(\n",
      "          ^^^^^^^^^^^^\n",
      "  File \"/Users/mateo/anaconda3/lib/python3.11/site-packages/pennylane/workflow/execution.py\", line 600, in execute\n",
      "    tapes, post_processing = transform_program(tapes)\n",
      "                             ^^^^^^^^^^^^^^^^^^^^^^^^\n",
      "  File \"/Users/mateo/anaconda3/lib/python3.11/site-packages/pennylane/transforms/core/transform_program.py\", line 509, in __call__\n",
      "    new_tapes, fn = transform(tape, *targs, **tkwargs)\n",
      "                    ^^^^^^^^^^^^^^^^^^^^^^^^^^^^^^^^^^\n",
      "  File \"/Users/mateo/anaconda3/lib/python3.11/site-packages/pennylane/devices/preprocess.py\", line 131, in validate_device_wires\n",
      "    raise WireError(\n",
      "pennylane.wires.WireError: Cannot run circuit(s) on default.qubit as they contain wires not found on the device: {7}\n"
     ]
    },
    {
     "name": "stdout",
     "output_type": "stream",
     "text": [
      "Error during execution: Cannot run circuit(s) on default.qubit as they contain wires not found on the device: {7}\n"
     ]
    },
    {
     "name": "stderr",
     "output_type": "stream",
     "text": [
      "  0%|          | 0/185 [00:00<?, ?it/s]\n",
      "Traceback (most recent call last):\n",
      "  File \"/var/folders/wl/7wlprxgn5hxbwxmhbsvvsyj40000gs/T/ipykernel_28212/106676976.py\", line 320, in <module>\n",
      "    out = cost(param_init, train_x[i:i+25], train_y[i:i+25])\n",
      "          ^^^^^^^^^^^^^^^^^^^^^^^^^^^^^^^^^^^^^^^^^^^^^^^^^^\n",
      "  File \"/var/folders/wl/7wlprxgn5hxbwxmhbsvvsyj40000gs/T/ipykernel_28212/106676976.py\", line 312, in cost\n",
      "    predictions = m(circuit(weights, X))\n",
      "                    ^^^^^^^^^^^^^^^^^^^\n",
      "  File \"/Users/mateo/anaconda3/lib/python3.11/site-packages/pennylane/workflow/qnode.py\", line 1098, in __call__\n",
      "    res = self._execution_component(args, kwargs, override_shots=override_shots)\n",
      "          ^^^^^^^^^^^^^^^^^^^^^^^^^^^^^^^^^^^^^^^^^^^^^^^^^^^^^^^^^^^^^^^^^^^^^^\n",
      "  File \"/Users/mateo/anaconda3/lib/python3.11/site-packages/pennylane/workflow/qnode.py\", line 1052, in _execution_component\n",
      "    res = qml.execute(\n",
      "          ^^^^^^^^^^^^\n",
      "  File \"/Users/mateo/anaconda3/lib/python3.11/site-packages/pennylane/workflow/execution.py\", line 600, in execute\n",
      "    tapes, post_processing = transform_program(tapes)\n",
      "                             ^^^^^^^^^^^^^^^^^^^^^^^^\n",
      "  File \"/Users/mateo/anaconda3/lib/python3.11/site-packages/pennylane/transforms/core/transform_program.py\", line 509, in __call__\n",
      "    new_tapes, fn = transform(tape, *targs, **tkwargs)\n",
      "                    ^^^^^^^^^^^^^^^^^^^^^^^^^^^^^^^^^^\n",
      "  File \"/Users/mateo/anaconda3/lib/python3.11/site-packages/pennylane/devices/preprocess.py\", line 131, in validate_device_wires\n",
      "    raise WireError(\n",
      "pennylane.wires.WireError: Cannot run circuit(s) on default.qubit as they contain wires not found on the device: {7}\n"
     ]
    },
    {
     "name": "stdout",
     "output_type": "stream",
     "text": [
      "Error during execution: Cannot run circuit(s) on default.qubit as they contain wires not found on the device: {7}\n"
     ]
    },
    {
     "name": "stderr",
     "output_type": "stream",
     "text": [
      "  0%|          | 0/185 [00:00<?, ?it/s]\n",
      "Traceback (most recent call last):\n",
      "  File \"/var/folders/wl/7wlprxgn5hxbwxmhbsvvsyj40000gs/T/ipykernel_28212/106676976.py\", line 320, in <module>\n",
      "    out = cost(param_init, train_x[i:i+25], train_y[i:i+25])\n",
      "          ^^^^^^^^^^^^^^^^^^^^^^^^^^^^^^^^^^^^^^^^^^^^^^^^^^\n",
      "  File \"/var/folders/wl/7wlprxgn5hxbwxmhbsvvsyj40000gs/T/ipykernel_28212/106676976.py\", line 312, in cost\n",
      "    predictions = m(circuit(weights, X))\n",
      "                    ^^^^^^^^^^^^^^^^^^^\n",
      "  File \"/Users/mateo/anaconda3/lib/python3.11/site-packages/pennylane/workflow/qnode.py\", line 1098, in __call__\n",
      "    res = self._execution_component(args, kwargs, override_shots=override_shots)\n",
      "          ^^^^^^^^^^^^^^^^^^^^^^^^^^^^^^^^^^^^^^^^^^^^^^^^^^^^^^^^^^^^^^^^^^^^^^\n",
      "  File \"/Users/mateo/anaconda3/lib/python3.11/site-packages/pennylane/workflow/qnode.py\", line 1052, in _execution_component\n",
      "    res = qml.execute(\n",
      "          ^^^^^^^^^^^^\n",
      "  File \"/Users/mateo/anaconda3/lib/python3.11/site-packages/pennylane/workflow/execution.py\", line 600, in execute\n",
      "    tapes, post_processing = transform_program(tapes)\n",
      "                             ^^^^^^^^^^^^^^^^^^^^^^^^\n",
      "  File \"/Users/mateo/anaconda3/lib/python3.11/site-packages/pennylane/transforms/core/transform_program.py\", line 509, in __call__\n",
      "    new_tapes, fn = transform(tape, *targs, **tkwargs)\n",
      "                    ^^^^^^^^^^^^^^^^^^^^^^^^^^^^^^^^^^\n",
      "  File \"/Users/mateo/anaconda3/lib/python3.11/site-packages/pennylane/devices/preprocess.py\", line 131, in validate_device_wires\n",
      "    raise WireError(\n",
      "pennylane.wires.WireError: Cannot run circuit(s) on default.qubit as they contain wires not found on the device: {7}\n"
     ]
    },
    {
     "name": "stdout",
     "output_type": "stream",
     "text": [
      "Error during execution: Cannot run circuit(s) on default.qubit as they contain wires not found on the device: {7}\n",
      "15\n"
     ]
    },
    {
     "name": "stderr",
     "output_type": "stream",
     "text": [
      "  0%|          | 0/185 [00:00<?, ?it/s]\n",
      "Traceback (most recent call last):\n",
      "  File \"/var/folders/wl/7wlprxgn5hxbwxmhbsvvsyj40000gs/T/ipykernel_28212/106676976.py\", line 320, in <module>\n",
      "    out = cost(param_init, train_x[i:i+25], train_y[i:i+25])\n",
      "          ^^^^^^^^^^^^^^^^^^^^^^^^^^^^^^^^^^^^^^^^^^^^^^^^^^\n",
      "  File \"/var/folders/wl/7wlprxgn5hxbwxmhbsvvsyj40000gs/T/ipykernel_28212/106676976.py\", line 312, in cost\n",
      "    predictions = m(circuit(weights, X))\n",
      "                    ^^^^^^^^^^^^^^^^^^^\n",
      "  File \"/Users/mateo/anaconda3/lib/python3.11/site-packages/pennylane/workflow/qnode.py\", line 1098, in __call__\n",
      "    res = self._execution_component(args, kwargs, override_shots=override_shots)\n",
      "          ^^^^^^^^^^^^^^^^^^^^^^^^^^^^^^^^^^^^^^^^^^^^^^^^^^^^^^^^^^^^^^^^^^^^^^\n",
      "  File \"/Users/mateo/anaconda3/lib/python3.11/site-packages/pennylane/workflow/qnode.py\", line 1052, in _execution_component\n",
      "    res = qml.execute(\n",
      "          ^^^^^^^^^^^^\n",
      "  File \"/Users/mateo/anaconda3/lib/python3.11/site-packages/pennylane/workflow/execution.py\", line 600, in execute\n",
      "    tapes, post_processing = transform_program(tapes)\n",
      "                             ^^^^^^^^^^^^^^^^^^^^^^^^\n",
      "  File \"/Users/mateo/anaconda3/lib/python3.11/site-packages/pennylane/transforms/core/transform_program.py\", line 509, in __call__\n",
      "    new_tapes, fn = transform(tape, *targs, **tkwargs)\n",
      "                    ^^^^^^^^^^^^^^^^^^^^^^^^^^^^^^^^^^\n",
      "  File \"/Users/mateo/anaconda3/lib/python3.11/site-packages/pennylane/devices/preprocess.py\", line 131, in validate_device_wires\n",
      "    raise WireError(\n",
      "pennylane.wires.WireError: Cannot run circuit(s) on default.qubit as they contain wires not found on the device: {7}\n"
     ]
    },
    {
     "name": "stdout",
     "output_type": "stream",
     "text": [
      "Error during execution: Cannot run circuit(s) on default.qubit as they contain wires not found on the device: {7}\n"
     ]
    },
    {
     "name": "stderr",
     "output_type": "stream",
     "text": [
      "  0%|          | 0/185 [00:00<?, ?it/s]\n",
      "Traceback (most recent call last):\n",
      "  File \"/var/folders/wl/7wlprxgn5hxbwxmhbsvvsyj40000gs/T/ipykernel_28212/106676976.py\", line 320, in <module>\n",
      "    out = cost(param_init, train_x[i:i+25], train_y[i:i+25])\n",
      "          ^^^^^^^^^^^^^^^^^^^^^^^^^^^^^^^^^^^^^^^^^^^^^^^^^^\n",
      "  File \"/var/folders/wl/7wlprxgn5hxbwxmhbsvvsyj40000gs/T/ipykernel_28212/106676976.py\", line 312, in cost\n",
      "    predictions = m(circuit(weights, X))\n",
      "                    ^^^^^^^^^^^^^^^^^^^\n",
      "  File \"/Users/mateo/anaconda3/lib/python3.11/site-packages/pennylane/workflow/qnode.py\", line 1098, in __call__\n",
      "    res = self._execution_component(args, kwargs, override_shots=override_shots)\n",
      "          ^^^^^^^^^^^^^^^^^^^^^^^^^^^^^^^^^^^^^^^^^^^^^^^^^^^^^^^^^^^^^^^^^^^^^^\n",
      "  File \"/Users/mateo/anaconda3/lib/python3.11/site-packages/pennylane/workflow/qnode.py\", line 1052, in _execution_component\n",
      "    res = qml.execute(\n",
      "          ^^^^^^^^^^^^\n",
      "  File \"/Users/mateo/anaconda3/lib/python3.11/site-packages/pennylane/workflow/execution.py\", line 600, in execute\n",
      "    tapes, post_processing = transform_program(tapes)\n",
      "                             ^^^^^^^^^^^^^^^^^^^^^^^^\n",
      "  File \"/Users/mateo/anaconda3/lib/python3.11/site-packages/pennylane/transforms/core/transform_program.py\", line 509, in __call__\n",
      "    new_tapes, fn = transform(tape, *targs, **tkwargs)\n",
      "                    ^^^^^^^^^^^^^^^^^^^^^^^^^^^^^^^^^^\n",
      "  File \"/Users/mateo/anaconda3/lib/python3.11/site-packages/pennylane/devices/preprocess.py\", line 131, in validate_device_wires\n",
      "    raise WireError(\n",
      "pennylane.wires.WireError: Cannot run circuit(s) on default.qubit as they contain wires not found on the device: {7}\n"
     ]
    },
    {
     "name": "stdout",
     "output_type": "stream",
     "text": [
      "Error during execution: Cannot run circuit(s) on default.qubit as they contain wires not found on the device: {7}\n"
     ]
    },
    {
     "name": "stderr",
     "output_type": "stream",
     "text": [
      "  0%|          | 0/185 [00:00<?, ?it/s]\n",
      "Traceback (most recent call last):\n",
      "  File \"/var/folders/wl/7wlprxgn5hxbwxmhbsvvsyj40000gs/T/ipykernel_28212/106676976.py\", line 320, in <module>\n",
      "    out = cost(param_init, train_x[i:i+25], train_y[i:i+25])\n",
      "          ^^^^^^^^^^^^^^^^^^^^^^^^^^^^^^^^^^^^^^^^^^^^^^^^^^\n",
      "  File \"/var/folders/wl/7wlprxgn5hxbwxmhbsvvsyj40000gs/T/ipykernel_28212/106676976.py\", line 312, in cost\n",
      "    predictions = m(circuit(weights, X))\n",
      "                    ^^^^^^^^^^^^^^^^^^^\n",
      "  File \"/Users/mateo/anaconda3/lib/python3.11/site-packages/pennylane/workflow/qnode.py\", line 1098, in __call__\n",
      "    res = self._execution_component(args, kwargs, override_shots=override_shots)\n",
      "          ^^^^^^^^^^^^^^^^^^^^^^^^^^^^^^^^^^^^^^^^^^^^^^^^^^^^^^^^^^^^^^^^^^^^^^\n",
      "  File \"/Users/mateo/anaconda3/lib/python3.11/site-packages/pennylane/workflow/qnode.py\", line 1052, in _execution_component\n",
      "    res = qml.execute(\n",
      "          ^^^^^^^^^^^^\n",
      "  File \"/Users/mateo/anaconda3/lib/python3.11/site-packages/pennylane/workflow/execution.py\", line 600, in execute\n",
      "    tapes, post_processing = transform_program(tapes)\n",
      "                             ^^^^^^^^^^^^^^^^^^^^^^^^\n",
      "  File \"/Users/mateo/anaconda3/lib/python3.11/site-packages/pennylane/transforms/core/transform_program.py\", line 509, in __call__\n",
      "    new_tapes, fn = transform(tape, *targs, **tkwargs)\n",
      "                    ^^^^^^^^^^^^^^^^^^^^^^^^^^^^^^^^^^\n",
      "  File \"/Users/mateo/anaconda3/lib/python3.11/site-packages/pennylane/devices/preprocess.py\", line 131, in validate_device_wires\n",
      "    raise WireError(\n",
      "pennylane.wires.WireError: Cannot run circuit(s) on default.qubit as they contain wires not found on the device: {7}\n"
     ]
    },
    {
     "name": "stdout",
     "output_type": "stream",
     "text": [
      "Error during execution: Cannot run circuit(s) on default.qubit as they contain wires not found on the device: {7}\n"
     ]
    },
    {
     "name": "stderr",
     "output_type": "stream",
     "text": [
      "  0%|          | 0/185 [00:00<?, ?it/s]\n",
      "Traceback (most recent call last):\n",
      "  File \"/var/folders/wl/7wlprxgn5hxbwxmhbsvvsyj40000gs/T/ipykernel_28212/106676976.py\", line 320, in <module>\n",
      "    out = cost(param_init, train_x[i:i+25], train_y[i:i+25])\n",
      "          ^^^^^^^^^^^^^^^^^^^^^^^^^^^^^^^^^^^^^^^^^^^^^^^^^^\n",
      "  File \"/var/folders/wl/7wlprxgn5hxbwxmhbsvvsyj40000gs/T/ipykernel_28212/106676976.py\", line 312, in cost\n",
      "    predictions = m(circuit(weights, X))\n",
      "                    ^^^^^^^^^^^^^^^^^^^\n",
      "  File \"/Users/mateo/anaconda3/lib/python3.11/site-packages/pennylane/workflow/qnode.py\", line 1098, in __call__\n",
      "    res = self._execution_component(args, kwargs, override_shots=override_shots)\n",
      "          ^^^^^^^^^^^^^^^^^^^^^^^^^^^^^^^^^^^^^^^^^^^^^^^^^^^^^^^^^^^^^^^^^^^^^^\n",
      "  File \"/Users/mateo/anaconda3/lib/python3.11/site-packages/pennylane/workflow/qnode.py\", line 1052, in _execution_component\n",
      "    res = qml.execute(\n",
      "          ^^^^^^^^^^^^\n",
      "  File \"/Users/mateo/anaconda3/lib/python3.11/site-packages/pennylane/workflow/execution.py\", line 600, in execute\n",
      "    tapes, post_processing = transform_program(tapes)\n",
      "                             ^^^^^^^^^^^^^^^^^^^^^^^^\n",
      "  File \"/Users/mateo/anaconda3/lib/python3.11/site-packages/pennylane/transforms/core/transform_program.py\", line 509, in __call__\n",
      "    new_tapes, fn = transform(tape, *targs, **tkwargs)\n",
      "                    ^^^^^^^^^^^^^^^^^^^^^^^^^^^^^^^^^^\n",
      "  File \"/Users/mateo/anaconda3/lib/python3.11/site-packages/pennylane/devices/preprocess.py\", line 131, in validate_device_wires\n",
      "    raise WireError(\n",
      "pennylane.wires.WireError: Cannot run circuit(s) on default.qubit as they contain wires not found on the device: {7}\n"
     ]
    },
    {
     "name": "stdout",
     "output_type": "stream",
     "text": [
      "Error during execution: Cannot run circuit(s) on default.qubit as they contain wires not found on the device: {7}\n"
     ]
    },
    {
     "name": "stderr",
     "output_type": "stream",
     "text": [
      "  0%|          | 0/185 [00:00<?, ?it/s]\n",
      "Traceback (most recent call last):\n",
      "  File \"/var/folders/wl/7wlprxgn5hxbwxmhbsvvsyj40000gs/T/ipykernel_28212/106676976.py\", line 320, in <module>\n",
      "    out = cost(param_init, train_x[i:i+25], train_y[i:i+25])\n",
      "          ^^^^^^^^^^^^^^^^^^^^^^^^^^^^^^^^^^^^^^^^^^^^^^^^^^\n",
      "  File \"/var/folders/wl/7wlprxgn5hxbwxmhbsvvsyj40000gs/T/ipykernel_28212/106676976.py\", line 312, in cost\n",
      "    predictions = m(circuit(weights, X))\n",
      "                    ^^^^^^^^^^^^^^^^^^^\n",
      "  File \"/Users/mateo/anaconda3/lib/python3.11/site-packages/pennylane/workflow/qnode.py\", line 1098, in __call__\n",
      "    res = self._execution_component(args, kwargs, override_shots=override_shots)\n",
      "          ^^^^^^^^^^^^^^^^^^^^^^^^^^^^^^^^^^^^^^^^^^^^^^^^^^^^^^^^^^^^^^^^^^^^^^\n",
      "  File \"/Users/mateo/anaconda3/lib/python3.11/site-packages/pennylane/workflow/qnode.py\", line 1052, in _execution_component\n",
      "    res = qml.execute(\n",
      "          ^^^^^^^^^^^^\n",
      "  File \"/Users/mateo/anaconda3/lib/python3.11/site-packages/pennylane/workflow/execution.py\", line 600, in execute\n",
      "    tapes, post_processing = transform_program(tapes)\n",
      "                             ^^^^^^^^^^^^^^^^^^^^^^^^\n",
      "  File \"/Users/mateo/anaconda3/lib/python3.11/site-packages/pennylane/transforms/core/transform_program.py\", line 509, in __call__\n",
      "    new_tapes, fn = transform(tape, *targs, **tkwargs)\n",
      "                    ^^^^^^^^^^^^^^^^^^^^^^^^^^^^^^^^^^\n",
      "  File \"/Users/mateo/anaconda3/lib/python3.11/site-packages/pennylane/devices/preprocess.py\", line 131, in validate_device_wires\n",
      "    raise WireError(\n",
      "pennylane.wires.WireError: Cannot run circuit(s) on default.qubit as they contain wires not found on the device: {7}\n"
     ]
    },
    {
     "name": "stdout",
     "output_type": "stream",
     "text": [
      "Error during execution: Cannot run circuit(s) on default.qubit as they contain wires not found on the device: {7}\n"
     ]
    },
    {
     "name": "stderr",
     "output_type": "stream",
     "text": [
      "  0%|          | 0/185 [00:00<?, ?it/s]\n",
      "Traceback (most recent call last):\n",
      "  File \"/var/folders/wl/7wlprxgn5hxbwxmhbsvvsyj40000gs/T/ipykernel_28212/106676976.py\", line 320, in <module>\n",
      "    out = cost(param_init, train_x[i:i+25], train_y[i:i+25])\n",
      "          ^^^^^^^^^^^^^^^^^^^^^^^^^^^^^^^^^^^^^^^^^^^^^^^^^^\n",
      "  File \"/var/folders/wl/7wlprxgn5hxbwxmhbsvvsyj40000gs/T/ipykernel_28212/106676976.py\", line 312, in cost\n",
      "    predictions = m(circuit(weights, X))\n",
      "                    ^^^^^^^^^^^^^^^^^^^\n",
      "  File \"/Users/mateo/anaconda3/lib/python3.11/site-packages/pennylane/workflow/qnode.py\", line 1098, in __call__\n",
      "    res = self._execution_component(args, kwargs, override_shots=override_shots)\n",
      "          ^^^^^^^^^^^^^^^^^^^^^^^^^^^^^^^^^^^^^^^^^^^^^^^^^^^^^^^^^^^^^^^^^^^^^^\n",
      "  File \"/Users/mateo/anaconda3/lib/python3.11/site-packages/pennylane/workflow/qnode.py\", line 1052, in _execution_component\n",
      "    res = qml.execute(\n",
      "          ^^^^^^^^^^^^\n",
      "  File \"/Users/mateo/anaconda3/lib/python3.11/site-packages/pennylane/workflow/execution.py\", line 600, in execute\n",
      "    tapes, post_processing = transform_program(tapes)\n",
      "                             ^^^^^^^^^^^^^^^^^^^^^^^^\n",
      "  File \"/Users/mateo/anaconda3/lib/python3.11/site-packages/pennylane/transforms/core/transform_program.py\", line 509, in __call__\n",
      "    new_tapes, fn = transform(tape, *targs, **tkwargs)\n",
      "                    ^^^^^^^^^^^^^^^^^^^^^^^^^^^^^^^^^^\n",
      "  File \"/Users/mateo/anaconda3/lib/python3.11/site-packages/pennylane/devices/preprocess.py\", line 131, in validate_device_wires\n",
      "    raise WireError(\n",
      "pennylane.wires.WireError: Cannot run circuit(s) on default.qubit as they contain wires not found on the device: {7}\n"
     ]
    },
    {
     "name": "stdout",
     "output_type": "stream",
     "text": [
      "Error during execution: Cannot run circuit(s) on default.qubit as they contain wires not found on the device: {7}\n",
      "2\n"
     ]
    },
    {
     "name": "stderr",
     "output_type": "stream",
     "text": [
      "  0%|          | 0/185 [00:00<?, ?it/s]\n",
      "Traceback (most recent call last):\n",
      "  File \"/var/folders/wl/7wlprxgn5hxbwxmhbsvvsyj40000gs/T/ipykernel_28212/106676976.py\", line 320, in <module>\n",
      "    out = cost(param_init, train_x[i:i+25], train_y[i:i+25])\n",
      "          ^^^^^^^^^^^^^^^^^^^^^^^^^^^^^^^^^^^^^^^^^^^^^^^^^^\n",
      "  File \"/var/folders/wl/7wlprxgn5hxbwxmhbsvvsyj40000gs/T/ipykernel_28212/106676976.py\", line 312, in cost\n",
      "    predictions = m(circuit(weights, X))\n",
      "                    ^^^^^^^^^^^^^^^^^^^\n",
      "  File \"/Users/mateo/anaconda3/lib/python3.11/site-packages/pennylane/workflow/qnode.py\", line 1098, in __call__\n",
      "    res = self._execution_component(args, kwargs, override_shots=override_shots)\n",
      "          ^^^^^^^^^^^^^^^^^^^^^^^^^^^^^^^^^^^^^^^^^^^^^^^^^^^^^^^^^^^^^^^^^^^^^^\n",
      "  File \"/Users/mateo/anaconda3/lib/python3.11/site-packages/pennylane/workflow/qnode.py\", line 1052, in _execution_component\n",
      "    res = qml.execute(\n",
      "          ^^^^^^^^^^^^\n",
      "  File \"/Users/mateo/anaconda3/lib/python3.11/site-packages/pennylane/workflow/execution.py\", line 600, in execute\n",
      "    tapes, post_processing = transform_program(tapes)\n",
      "                             ^^^^^^^^^^^^^^^^^^^^^^^^\n",
      "  File \"/Users/mateo/anaconda3/lib/python3.11/site-packages/pennylane/transforms/core/transform_program.py\", line 509, in __call__\n",
      "    new_tapes, fn = transform(tape, *targs, **tkwargs)\n",
      "                    ^^^^^^^^^^^^^^^^^^^^^^^^^^^^^^^^^^\n",
      "  File \"/Users/mateo/anaconda3/lib/python3.11/site-packages/pennylane/devices/preprocess.py\", line 131, in validate_device_wires\n",
      "    raise WireError(\n",
      "pennylane.wires.WireError: Cannot run circuit(s) on default.qubit as they contain wires not found on the device: {7}\n"
     ]
    },
    {
     "name": "stdout",
     "output_type": "stream",
     "text": [
      "Error during execution: Cannot run circuit(s) on default.qubit as they contain wires not found on the device: {7}\n"
     ]
    },
    {
     "name": "stderr",
     "output_type": "stream",
     "text": [
      "  0%|          | 0/185 [00:00<?, ?it/s]\n",
      "Traceback (most recent call last):\n",
      "  File \"/var/folders/wl/7wlprxgn5hxbwxmhbsvvsyj40000gs/T/ipykernel_28212/106676976.py\", line 320, in <module>\n",
      "    out = cost(param_init, train_x[i:i+25], train_y[i:i+25])\n",
      "          ^^^^^^^^^^^^^^^^^^^^^^^^^^^^^^^^^^^^^^^^^^^^^^^^^^\n",
      "  File \"/var/folders/wl/7wlprxgn5hxbwxmhbsvvsyj40000gs/T/ipykernel_28212/106676976.py\", line 312, in cost\n",
      "    predictions = m(circuit(weights, X))\n",
      "                    ^^^^^^^^^^^^^^^^^^^\n",
      "  File \"/Users/mateo/anaconda3/lib/python3.11/site-packages/pennylane/workflow/qnode.py\", line 1098, in __call__\n",
      "    res = self._execution_component(args, kwargs, override_shots=override_shots)\n",
      "          ^^^^^^^^^^^^^^^^^^^^^^^^^^^^^^^^^^^^^^^^^^^^^^^^^^^^^^^^^^^^^^^^^^^^^^\n",
      "  File \"/Users/mateo/anaconda3/lib/python3.11/site-packages/pennylane/workflow/qnode.py\", line 1052, in _execution_component\n",
      "    res = qml.execute(\n",
      "          ^^^^^^^^^^^^\n",
      "  File \"/Users/mateo/anaconda3/lib/python3.11/site-packages/pennylane/workflow/execution.py\", line 600, in execute\n",
      "    tapes, post_processing = transform_program(tapes)\n",
      "                             ^^^^^^^^^^^^^^^^^^^^^^^^\n",
      "  File \"/Users/mateo/anaconda3/lib/python3.11/site-packages/pennylane/transforms/core/transform_program.py\", line 509, in __call__\n",
      "    new_tapes, fn = transform(tape, *targs, **tkwargs)\n",
      "                    ^^^^^^^^^^^^^^^^^^^^^^^^^^^^^^^^^^\n",
      "  File \"/Users/mateo/anaconda3/lib/python3.11/site-packages/pennylane/devices/preprocess.py\", line 131, in validate_device_wires\n",
      "    raise WireError(\n",
      "pennylane.wires.WireError: Cannot run circuit(s) on default.qubit as they contain wires not found on the device: {7}\n"
     ]
    },
    {
     "name": "stdout",
     "output_type": "stream",
     "text": [
      "Error during execution: Cannot run circuit(s) on default.qubit as they contain wires not found on the device: {7}\n"
     ]
    },
    {
     "name": "stderr",
     "output_type": "stream",
     "text": [
      "  0%|          | 0/185 [00:00<?, ?it/s]\n",
      "Traceback (most recent call last):\n",
      "  File \"/var/folders/wl/7wlprxgn5hxbwxmhbsvvsyj40000gs/T/ipykernel_28212/106676976.py\", line 320, in <module>\n",
      "    out = cost(param_init, train_x[i:i+25], train_y[i:i+25])\n",
      "          ^^^^^^^^^^^^^^^^^^^^^^^^^^^^^^^^^^^^^^^^^^^^^^^^^^\n",
      "  File \"/var/folders/wl/7wlprxgn5hxbwxmhbsvvsyj40000gs/T/ipykernel_28212/106676976.py\", line 312, in cost\n",
      "    predictions = m(circuit(weights, X))\n",
      "                    ^^^^^^^^^^^^^^^^^^^\n",
      "  File \"/Users/mateo/anaconda3/lib/python3.11/site-packages/pennylane/workflow/qnode.py\", line 1098, in __call__\n",
      "    res = self._execution_component(args, kwargs, override_shots=override_shots)\n",
      "          ^^^^^^^^^^^^^^^^^^^^^^^^^^^^^^^^^^^^^^^^^^^^^^^^^^^^^^^^^^^^^^^^^^^^^^\n",
      "  File \"/Users/mateo/anaconda3/lib/python3.11/site-packages/pennylane/workflow/qnode.py\", line 1052, in _execution_component\n",
      "    res = qml.execute(\n",
      "          ^^^^^^^^^^^^\n",
      "  File \"/Users/mateo/anaconda3/lib/python3.11/site-packages/pennylane/workflow/execution.py\", line 600, in execute\n",
      "    tapes, post_processing = transform_program(tapes)\n",
      "                             ^^^^^^^^^^^^^^^^^^^^^^^^\n",
      "  File \"/Users/mateo/anaconda3/lib/python3.11/site-packages/pennylane/transforms/core/transform_program.py\", line 509, in __call__\n",
      "    new_tapes, fn = transform(tape, *targs, **tkwargs)\n",
      "                    ^^^^^^^^^^^^^^^^^^^^^^^^^^^^^^^^^^\n",
      "  File \"/Users/mateo/anaconda3/lib/python3.11/site-packages/pennylane/devices/preprocess.py\", line 131, in validate_device_wires\n",
      "    raise WireError(\n",
      "pennylane.wires.WireError: Cannot run circuit(s) on default.qubit as they contain wires not found on the device: {7}\n"
     ]
    },
    {
     "name": "stdout",
     "output_type": "stream",
     "text": [
      "Error during execution: Cannot run circuit(s) on default.qubit as they contain wires not found on the device: {7}\n"
     ]
    },
    {
     "name": "stderr",
     "output_type": "stream",
     "text": [
      "  0%|          | 0/185 [00:00<?, ?it/s]\n",
      "Traceback (most recent call last):\n",
      "  File \"/var/folders/wl/7wlprxgn5hxbwxmhbsvvsyj40000gs/T/ipykernel_28212/106676976.py\", line 320, in <module>\n",
      "    out = cost(param_init, train_x[i:i+25], train_y[i:i+25])\n",
      "          ^^^^^^^^^^^^^^^^^^^^^^^^^^^^^^^^^^^^^^^^^^^^^^^^^^\n",
      "  File \"/var/folders/wl/7wlprxgn5hxbwxmhbsvvsyj40000gs/T/ipykernel_28212/106676976.py\", line 312, in cost\n",
      "    predictions = m(circuit(weights, X))\n",
      "                    ^^^^^^^^^^^^^^^^^^^\n",
      "  File \"/Users/mateo/anaconda3/lib/python3.11/site-packages/pennylane/workflow/qnode.py\", line 1098, in __call__\n",
      "    res = self._execution_component(args, kwargs, override_shots=override_shots)\n",
      "          ^^^^^^^^^^^^^^^^^^^^^^^^^^^^^^^^^^^^^^^^^^^^^^^^^^^^^^^^^^^^^^^^^^^^^^\n",
      "  File \"/Users/mateo/anaconda3/lib/python3.11/site-packages/pennylane/workflow/qnode.py\", line 1052, in _execution_component\n",
      "    res = qml.execute(\n",
      "          ^^^^^^^^^^^^\n",
      "  File \"/Users/mateo/anaconda3/lib/python3.11/site-packages/pennylane/workflow/execution.py\", line 600, in execute\n",
      "    tapes, post_processing = transform_program(tapes)\n",
      "                             ^^^^^^^^^^^^^^^^^^^^^^^^\n",
      "  File \"/Users/mateo/anaconda3/lib/python3.11/site-packages/pennylane/transforms/core/transform_program.py\", line 509, in __call__\n",
      "    new_tapes, fn = transform(tape, *targs, **tkwargs)\n",
      "                    ^^^^^^^^^^^^^^^^^^^^^^^^^^^^^^^^^^\n",
      "  File \"/Users/mateo/anaconda3/lib/python3.11/site-packages/pennylane/devices/preprocess.py\", line 131, in validate_device_wires\n",
      "    raise WireError(\n",
      "pennylane.wires.WireError: Cannot run circuit(s) on default.qubit as they contain wires not found on the device: {7}\n"
     ]
    },
    {
     "name": "stdout",
     "output_type": "stream",
     "text": [
      "Error during execution: Cannot run circuit(s) on default.qubit as they contain wires not found on the device: {7}\n"
     ]
    },
    {
     "name": "stderr",
     "output_type": "stream",
     "text": [
      "  0%|          | 0/185 [00:00<?, ?it/s]\n",
      "Traceback (most recent call last):\n",
      "  File \"/var/folders/wl/7wlprxgn5hxbwxmhbsvvsyj40000gs/T/ipykernel_28212/106676976.py\", line 320, in <module>\n",
      "    out = cost(param_init, train_x[i:i+25], train_y[i:i+25])\n",
      "          ^^^^^^^^^^^^^^^^^^^^^^^^^^^^^^^^^^^^^^^^^^^^^^^^^^\n",
      "  File \"/var/folders/wl/7wlprxgn5hxbwxmhbsvvsyj40000gs/T/ipykernel_28212/106676976.py\", line 312, in cost\n",
      "    predictions = m(circuit(weights, X))\n",
      "                    ^^^^^^^^^^^^^^^^^^^\n",
      "  File \"/Users/mateo/anaconda3/lib/python3.11/site-packages/pennylane/workflow/qnode.py\", line 1098, in __call__\n",
      "    res = self._execution_component(args, kwargs, override_shots=override_shots)\n",
      "          ^^^^^^^^^^^^^^^^^^^^^^^^^^^^^^^^^^^^^^^^^^^^^^^^^^^^^^^^^^^^^^^^^^^^^^\n",
      "  File \"/Users/mateo/anaconda3/lib/python3.11/site-packages/pennylane/workflow/qnode.py\", line 1052, in _execution_component\n",
      "    res = qml.execute(\n",
      "          ^^^^^^^^^^^^\n",
      "  File \"/Users/mateo/anaconda3/lib/python3.11/site-packages/pennylane/workflow/execution.py\", line 600, in execute\n",
      "    tapes, post_processing = transform_program(tapes)\n",
      "                             ^^^^^^^^^^^^^^^^^^^^^^^^\n",
      "  File \"/Users/mateo/anaconda3/lib/python3.11/site-packages/pennylane/transforms/core/transform_program.py\", line 509, in __call__\n",
      "    new_tapes, fn = transform(tape, *targs, **tkwargs)\n",
      "                    ^^^^^^^^^^^^^^^^^^^^^^^^^^^^^^^^^^\n",
      "  File \"/Users/mateo/anaconda3/lib/python3.11/site-packages/pennylane/devices/preprocess.py\", line 131, in validate_device_wires\n",
      "    raise WireError(\n",
      "pennylane.wires.WireError: Cannot run circuit(s) on default.qubit as they contain wires not found on the device: {7}\n"
     ]
    },
    {
     "name": "stdout",
     "output_type": "stream",
     "text": [
      "Error during execution: Cannot run circuit(s) on default.qubit as they contain wires not found on the device: {7}\n"
     ]
    },
    {
     "name": "stderr",
     "output_type": "stream",
     "text": [
      "  0%|          | 0/185 [00:00<?, ?it/s]\n",
      "Traceback (most recent call last):\n",
      "  File \"/var/folders/wl/7wlprxgn5hxbwxmhbsvvsyj40000gs/T/ipykernel_28212/106676976.py\", line 320, in <module>\n",
      "    out = cost(param_init, train_x[i:i+25], train_y[i:i+25])\n",
      "          ^^^^^^^^^^^^^^^^^^^^^^^^^^^^^^^^^^^^^^^^^^^^^^^^^^\n",
      "  File \"/var/folders/wl/7wlprxgn5hxbwxmhbsvvsyj40000gs/T/ipykernel_28212/106676976.py\", line 312, in cost\n",
      "    predictions = m(circuit(weights, X))\n",
      "                    ^^^^^^^^^^^^^^^^^^^\n",
      "  File \"/Users/mateo/anaconda3/lib/python3.11/site-packages/pennylane/workflow/qnode.py\", line 1098, in __call__\n",
      "    res = self._execution_component(args, kwargs, override_shots=override_shots)\n",
      "          ^^^^^^^^^^^^^^^^^^^^^^^^^^^^^^^^^^^^^^^^^^^^^^^^^^^^^^^^^^^^^^^^^^^^^^\n",
      "  File \"/Users/mateo/anaconda3/lib/python3.11/site-packages/pennylane/workflow/qnode.py\", line 1052, in _execution_component\n",
      "    res = qml.execute(\n",
      "          ^^^^^^^^^^^^\n",
      "  File \"/Users/mateo/anaconda3/lib/python3.11/site-packages/pennylane/workflow/execution.py\", line 600, in execute\n",
      "    tapes, post_processing = transform_program(tapes)\n",
      "                             ^^^^^^^^^^^^^^^^^^^^^^^^\n",
      "  File \"/Users/mateo/anaconda3/lib/python3.11/site-packages/pennylane/transforms/core/transform_program.py\", line 509, in __call__\n",
      "    new_tapes, fn = transform(tape, *targs, **tkwargs)\n",
      "                    ^^^^^^^^^^^^^^^^^^^^^^^^^^^^^^^^^^\n",
      "  File \"/Users/mateo/anaconda3/lib/python3.11/site-packages/pennylane/devices/preprocess.py\", line 131, in validate_device_wires\n",
      "    raise WireError(\n",
      "pennylane.wires.WireError: Cannot run circuit(s) on default.qubit as they contain wires not found on the device: {7}\n"
     ]
    },
    {
     "name": "stdout",
     "output_type": "stream",
     "text": [
      "Error during execution: Cannot run circuit(s) on default.qubit as they contain wires not found on the device: {7}\n",
      "2\n"
     ]
    },
    {
     "name": "stderr",
     "output_type": "stream",
     "text": [
      "  0%|          | 0/185 [00:00<?, ?it/s]\n",
      "Traceback (most recent call last):\n",
      "  File \"/var/folders/wl/7wlprxgn5hxbwxmhbsvvsyj40000gs/T/ipykernel_28212/106676976.py\", line 320, in <module>\n",
      "    out = cost(param_init, train_x[i:i+25], train_y[i:i+25])\n",
      "          ^^^^^^^^^^^^^^^^^^^^^^^^^^^^^^^^^^^^^^^^^^^^^^^^^^\n",
      "  File \"/var/folders/wl/7wlprxgn5hxbwxmhbsvvsyj40000gs/T/ipykernel_28212/106676976.py\", line 312, in cost\n",
      "    predictions = m(circuit(weights, X))\n",
      "                    ^^^^^^^^^^^^^^^^^^^\n",
      "  File \"/Users/mateo/anaconda3/lib/python3.11/site-packages/pennylane/workflow/qnode.py\", line 1098, in __call__\n",
      "    res = self._execution_component(args, kwargs, override_shots=override_shots)\n",
      "          ^^^^^^^^^^^^^^^^^^^^^^^^^^^^^^^^^^^^^^^^^^^^^^^^^^^^^^^^^^^^^^^^^^^^^^\n",
      "  File \"/Users/mateo/anaconda3/lib/python3.11/site-packages/pennylane/workflow/qnode.py\", line 1052, in _execution_component\n",
      "    res = qml.execute(\n",
      "          ^^^^^^^^^^^^\n",
      "  File \"/Users/mateo/anaconda3/lib/python3.11/site-packages/pennylane/workflow/execution.py\", line 600, in execute\n",
      "    tapes, post_processing = transform_program(tapes)\n",
      "                             ^^^^^^^^^^^^^^^^^^^^^^^^\n",
      "  File \"/Users/mateo/anaconda3/lib/python3.11/site-packages/pennylane/transforms/core/transform_program.py\", line 509, in __call__\n",
      "    new_tapes, fn = transform(tape, *targs, **tkwargs)\n",
      "                    ^^^^^^^^^^^^^^^^^^^^^^^^^^^^^^^^^^\n",
      "  File \"/Users/mateo/anaconda3/lib/python3.11/site-packages/pennylane/devices/preprocess.py\", line 131, in validate_device_wires\n",
      "    raise WireError(\n",
      "pennylane.wires.WireError: Cannot run circuit(s) on default.qubit as they contain wires not found on the device: {7}\n"
     ]
    },
    {
     "name": "stdout",
     "output_type": "stream",
     "text": [
      "Error during execution: Cannot run circuit(s) on default.qubit as they contain wires not found on the device: {7}\n"
     ]
    },
    {
     "name": "stderr",
     "output_type": "stream",
     "text": [
      "  0%|          | 0/185 [00:00<?, ?it/s]\n",
      "Traceback (most recent call last):\n",
      "  File \"/var/folders/wl/7wlprxgn5hxbwxmhbsvvsyj40000gs/T/ipykernel_28212/106676976.py\", line 320, in <module>\n",
      "    out = cost(param_init, train_x[i:i+25], train_y[i:i+25])\n",
      "          ^^^^^^^^^^^^^^^^^^^^^^^^^^^^^^^^^^^^^^^^^^^^^^^^^^\n",
      "  File \"/var/folders/wl/7wlprxgn5hxbwxmhbsvvsyj40000gs/T/ipykernel_28212/106676976.py\", line 312, in cost\n",
      "    predictions = m(circuit(weights, X))\n",
      "                    ^^^^^^^^^^^^^^^^^^^\n",
      "  File \"/Users/mateo/anaconda3/lib/python3.11/site-packages/pennylane/workflow/qnode.py\", line 1098, in __call__\n",
      "    res = self._execution_component(args, kwargs, override_shots=override_shots)\n",
      "          ^^^^^^^^^^^^^^^^^^^^^^^^^^^^^^^^^^^^^^^^^^^^^^^^^^^^^^^^^^^^^^^^^^^^^^\n",
      "  File \"/Users/mateo/anaconda3/lib/python3.11/site-packages/pennylane/workflow/qnode.py\", line 1052, in _execution_component\n",
      "    res = qml.execute(\n",
      "          ^^^^^^^^^^^^\n",
      "  File \"/Users/mateo/anaconda3/lib/python3.11/site-packages/pennylane/workflow/execution.py\", line 600, in execute\n",
      "    tapes, post_processing = transform_program(tapes)\n",
      "                             ^^^^^^^^^^^^^^^^^^^^^^^^\n",
      "  File \"/Users/mateo/anaconda3/lib/python3.11/site-packages/pennylane/transforms/core/transform_program.py\", line 509, in __call__\n",
      "    new_tapes, fn = transform(tape, *targs, **tkwargs)\n",
      "                    ^^^^^^^^^^^^^^^^^^^^^^^^^^^^^^^^^^\n",
      "  File \"/Users/mateo/anaconda3/lib/python3.11/site-packages/pennylane/devices/preprocess.py\", line 131, in validate_device_wires\n",
      "    raise WireError(\n",
      "pennylane.wires.WireError: Cannot run circuit(s) on default.qubit as they contain wires not found on the device: {7}\n"
     ]
    },
    {
     "name": "stdout",
     "output_type": "stream",
     "text": [
      "Error during execution: Cannot run circuit(s) on default.qubit as they contain wires not found on the device: {7}\n"
     ]
    },
    {
     "name": "stderr",
     "output_type": "stream",
     "text": [
      "  0%|          | 0/185 [00:00<?, ?it/s]\n",
      "Traceback (most recent call last):\n",
      "  File \"/var/folders/wl/7wlprxgn5hxbwxmhbsvvsyj40000gs/T/ipykernel_28212/106676976.py\", line 320, in <module>\n",
      "    out = cost(param_init, train_x[i:i+25], train_y[i:i+25])\n",
      "          ^^^^^^^^^^^^^^^^^^^^^^^^^^^^^^^^^^^^^^^^^^^^^^^^^^\n",
      "  File \"/var/folders/wl/7wlprxgn5hxbwxmhbsvvsyj40000gs/T/ipykernel_28212/106676976.py\", line 312, in cost\n",
      "    predictions = m(circuit(weights, X))\n",
      "                    ^^^^^^^^^^^^^^^^^^^\n",
      "  File \"/Users/mateo/anaconda3/lib/python3.11/site-packages/pennylane/workflow/qnode.py\", line 1098, in __call__\n",
      "    res = self._execution_component(args, kwargs, override_shots=override_shots)\n",
      "          ^^^^^^^^^^^^^^^^^^^^^^^^^^^^^^^^^^^^^^^^^^^^^^^^^^^^^^^^^^^^^^^^^^^^^^\n",
      "  File \"/Users/mateo/anaconda3/lib/python3.11/site-packages/pennylane/workflow/qnode.py\", line 1052, in _execution_component\n",
      "    res = qml.execute(\n",
      "          ^^^^^^^^^^^^\n",
      "  File \"/Users/mateo/anaconda3/lib/python3.11/site-packages/pennylane/workflow/execution.py\", line 600, in execute\n",
      "    tapes, post_processing = transform_program(tapes)\n",
      "                             ^^^^^^^^^^^^^^^^^^^^^^^^\n",
      "  File \"/Users/mateo/anaconda3/lib/python3.11/site-packages/pennylane/transforms/core/transform_program.py\", line 509, in __call__\n",
      "    new_tapes, fn = transform(tape, *targs, **tkwargs)\n",
      "                    ^^^^^^^^^^^^^^^^^^^^^^^^^^^^^^^^^^\n",
      "  File \"/Users/mateo/anaconda3/lib/python3.11/site-packages/pennylane/devices/preprocess.py\", line 131, in validate_device_wires\n",
      "    raise WireError(\n",
      "pennylane.wires.WireError: Cannot run circuit(s) on default.qubit as they contain wires not found on the device: {7}\n"
     ]
    },
    {
     "name": "stdout",
     "output_type": "stream",
     "text": [
      "Error during execution: Cannot run circuit(s) on default.qubit as they contain wires not found on the device: {7}\n"
     ]
    },
    {
     "name": "stderr",
     "output_type": "stream",
     "text": [
      "  0%|          | 0/185 [00:00<?, ?it/s]\n",
      "Traceback (most recent call last):\n",
      "  File \"/var/folders/wl/7wlprxgn5hxbwxmhbsvvsyj40000gs/T/ipykernel_28212/106676976.py\", line 320, in <module>\n",
      "    out = cost(param_init, train_x[i:i+25], train_y[i:i+25])\n",
      "          ^^^^^^^^^^^^^^^^^^^^^^^^^^^^^^^^^^^^^^^^^^^^^^^^^^\n",
      "  File \"/var/folders/wl/7wlprxgn5hxbwxmhbsvvsyj40000gs/T/ipykernel_28212/106676976.py\", line 312, in cost\n",
      "    predictions = m(circuit(weights, X))\n",
      "                    ^^^^^^^^^^^^^^^^^^^\n",
      "  File \"/Users/mateo/anaconda3/lib/python3.11/site-packages/pennylane/workflow/qnode.py\", line 1098, in __call__\n",
      "    res = self._execution_component(args, kwargs, override_shots=override_shots)\n",
      "          ^^^^^^^^^^^^^^^^^^^^^^^^^^^^^^^^^^^^^^^^^^^^^^^^^^^^^^^^^^^^^^^^^^^^^^\n",
      "  File \"/Users/mateo/anaconda3/lib/python3.11/site-packages/pennylane/workflow/qnode.py\", line 1052, in _execution_component\n",
      "    res = qml.execute(\n",
      "          ^^^^^^^^^^^^\n",
      "  File \"/Users/mateo/anaconda3/lib/python3.11/site-packages/pennylane/workflow/execution.py\", line 600, in execute\n",
      "    tapes, post_processing = transform_program(tapes)\n",
      "                             ^^^^^^^^^^^^^^^^^^^^^^^^\n",
      "  File \"/Users/mateo/anaconda3/lib/python3.11/site-packages/pennylane/transforms/core/transform_program.py\", line 509, in __call__\n",
      "    new_tapes, fn = transform(tape, *targs, **tkwargs)\n",
      "                    ^^^^^^^^^^^^^^^^^^^^^^^^^^^^^^^^^^\n",
      "  File \"/Users/mateo/anaconda3/lib/python3.11/site-packages/pennylane/devices/preprocess.py\", line 131, in validate_device_wires\n",
      "    raise WireError(\n",
      "pennylane.wires.WireError: Cannot run circuit(s) on default.qubit as they contain wires not found on the device: {7}\n"
     ]
    },
    {
     "name": "stdout",
     "output_type": "stream",
     "text": [
      "Error during execution: Cannot run circuit(s) on default.qubit as they contain wires not found on the device: {7}\n"
     ]
    },
    {
     "name": "stderr",
     "output_type": "stream",
     "text": [
      "  0%|          | 0/185 [00:00<?, ?it/s]\n",
      "Traceback (most recent call last):\n",
      "  File \"/var/folders/wl/7wlprxgn5hxbwxmhbsvvsyj40000gs/T/ipykernel_28212/106676976.py\", line 320, in <module>\n",
      "    out = cost(param_init, train_x[i:i+25], train_y[i:i+25])\n",
      "          ^^^^^^^^^^^^^^^^^^^^^^^^^^^^^^^^^^^^^^^^^^^^^^^^^^\n",
      "  File \"/var/folders/wl/7wlprxgn5hxbwxmhbsvvsyj40000gs/T/ipykernel_28212/106676976.py\", line 312, in cost\n",
      "    predictions = m(circuit(weights, X))\n",
      "                    ^^^^^^^^^^^^^^^^^^^\n",
      "  File \"/Users/mateo/anaconda3/lib/python3.11/site-packages/pennylane/workflow/qnode.py\", line 1098, in __call__\n",
      "    res = self._execution_component(args, kwargs, override_shots=override_shots)\n",
      "          ^^^^^^^^^^^^^^^^^^^^^^^^^^^^^^^^^^^^^^^^^^^^^^^^^^^^^^^^^^^^^^^^^^^^^^\n",
      "  File \"/Users/mateo/anaconda3/lib/python3.11/site-packages/pennylane/workflow/qnode.py\", line 1052, in _execution_component\n",
      "    res = qml.execute(\n",
      "          ^^^^^^^^^^^^\n",
      "  File \"/Users/mateo/anaconda3/lib/python3.11/site-packages/pennylane/workflow/execution.py\", line 600, in execute\n",
      "    tapes, post_processing = transform_program(tapes)\n",
      "                             ^^^^^^^^^^^^^^^^^^^^^^^^\n",
      "  File \"/Users/mateo/anaconda3/lib/python3.11/site-packages/pennylane/transforms/core/transform_program.py\", line 509, in __call__\n",
      "    new_tapes, fn = transform(tape, *targs, **tkwargs)\n",
      "                    ^^^^^^^^^^^^^^^^^^^^^^^^^^^^^^^^^^\n",
      "  File \"/Users/mateo/anaconda3/lib/python3.11/site-packages/pennylane/devices/preprocess.py\", line 131, in validate_device_wires\n",
      "    raise WireError(\n",
      "pennylane.wires.WireError: Cannot run circuit(s) on default.qubit as they contain wires not found on the device: {7}\n"
     ]
    },
    {
     "name": "stdout",
     "output_type": "stream",
     "text": [
      "Error during execution: Cannot run circuit(s) on default.qubit as they contain wires not found on the device: {7}\n"
     ]
    },
    {
     "name": "stderr",
     "output_type": "stream",
     "text": [
      "  0%|          | 0/185 [00:00<?, ?it/s]\n",
      "Traceback (most recent call last):\n",
      "  File \"/var/folders/wl/7wlprxgn5hxbwxmhbsvvsyj40000gs/T/ipykernel_28212/106676976.py\", line 320, in <module>\n",
      "    out = cost(param_init, train_x[i:i+25], train_y[i:i+25])\n",
      "          ^^^^^^^^^^^^^^^^^^^^^^^^^^^^^^^^^^^^^^^^^^^^^^^^^^\n",
      "  File \"/var/folders/wl/7wlprxgn5hxbwxmhbsvvsyj40000gs/T/ipykernel_28212/106676976.py\", line 312, in cost\n",
      "    predictions = m(circuit(weights, X))\n",
      "                    ^^^^^^^^^^^^^^^^^^^\n",
      "  File \"/Users/mateo/anaconda3/lib/python3.11/site-packages/pennylane/workflow/qnode.py\", line 1098, in __call__\n",
      "    res = self._execution_component(args, kwargs, override_shots=override_shots)\n",
      "          ^^^^^^^^^^^^^^^^^^^^^^^^^^^^^^^^^^^^^^^^^^^^^^^^^^^^^^^^^^^^^^^^^^^^^^\n",
      "  File \"/Users/mateo/anaconda3/lib/python3.11/site-packages/pennylane/workflow/qnode.py\", line 1052, in _execution_component\n",
      "    res = qml.execute(\n",
      "          ^^^^^^^^^^^^\n",
      "  File \"/Users/mateo/anaconda3/lib/python3.11/site-packages/pennylane/workflow/execution.py\", line 600, in execute\n",
      "    tapes, post_processing = transform_program(tapes)\n",
      "                             ^^^^^^^^^^^^^^^^^^^^^^^^\n",
      "  File \"/Users/mateo/anaconda3/lib/python3.11/site-packages/pennylane/transforms/core/transform_program.py\", line 509, in __call__\n",
      "    new_tapes, fn = transform(tape, *targs, **tkwargs)\n",
      "                    ^^^^^^^^^^^^^^^^^^^^^^^^^^^^^^^^^^\n",
      "  File \"/Users/mateo/anaconda3/lib/python3.11/site-packages/pennylane/devices/preprocess.py\", line 131, in validate_device_wires\n",
      "    raise WireError(\n",
      "pennylane.wires.WireError: Cannot run circuit(s) on default.qubit as they contain wires not found on the device: {7}\n"
     ]
    },
    {
     "name": "stdout",
     "output_type": "stream",
     "text": [
      "Error during execution: Cannot run circuit(s) on default.qubit as they contain wires not found on the device: {7}\n",
      "4\n"
     ]
    },
    {
     "name": "stderr",
     "output_type": "stream",
     "text": [
      "  0%|          | 0/185 [00:00<?, ?it/s]\n",
      "Traceback (most recent call last):\n",
      "  File \"/var/folders/wl/7wlprxgn5hxbwxmhbsvvsyj40000gs/T/ipykernel_28212/106676976.py\", line 320, in <module>\n",
      "    out = cost(param_init, train_x[i:i+25], train_y[i:i+25])\n",
      "          ^^^^^^^^^^^^^^^^^^^^^^^^^^^^^^^^^^^^^^^^^^^^^^^^^^\n",
      "  File \"/var/folders/wl/7wlprxgn5hxbwxmhbsvvsyj40000gs/T/ipykernel_28212/106676976.py\", line 312, in cost\n",
      "    predictions = m(circuit(weights, X))\n",
      "                    ^^^^^^^^^^^^^^^^^^^\n",
      "  File \"/Users/mateo/anaconda3/lib/python3.11/site-packages/pennylane/workflow/qnode.py\", line 1098, in __call__\n",
      "    res = self._execution_component(args, kwargs, override_shots=override_shots)\n",
      "          ^^^^^^^^^^^^^^^^^^^^^^^^^^^^^^^^^^^^^^^^^^^^^^^^^^^^^^^^^^^^^^^^^^^^^^\n",
      "  File \"/Users/mateo/anaconda3/lib/python3.11/site-packages/pennylane/workflow/qnode.py\", line 1052, in _execution_component\n",
      "    res = qml.execute(\n",
      "          ^^^^^^^^^^^^\n",
      "  File \"/Users/mateo/anaconda3/lib/python3.11/site-packages/pennylane/workflow/execution.py\", line 600, in execute\n",
      "    tapes, post_processing = transform_program(tapes)\n",
      "                             ^^^^^^^^^^^^^^^^^^^^^^^^\n",
      "  File \"/Users/mateo/anaconda3/lib/python3.11/site-packages/pennylane/transforms/core/transform_program.py\", line 509, in __call__\n",
      "    new_tapes, fn = transform(tape, *targs, **tkwargs)\n",
      "                    ^^^^^^^^^^^^^^^^^^^^^^^^^^^^^^^^^^\n",
      "  File \"/Users/mateo/anaconda3/lib/python3.11/site-packages/pennylane/devices/preprocess.py\", line 131, in validate_device_wires\n",
      "    raise WireError(\n",
      "pennylane.wires.WireError: Cannot run circuit(s) on default.qubit as they contain wires not found on the device: {7}\n"
     ]
    },
    {
     "name": "stdout",
     "output_type": "stream",
     "text": [
      "Error during execution: Cannot run circuit(s) on default.qubit as they contain wires not found on the device: {7}\n"
     ]
    },
    {
     "name": "stderr",
     "output_type": "stream",
     "text": [
      "  0%|          | 0/185 [00:00<?, ?it/s]\n",
      "Traceback (most recent call last):\n",
      "  File \"/var/folders/wl/7wlprxgn5hxbwxmhbsvvsyj40000gs/T/ipykernel_28212/106676976.py\", line 320, in <module>\n",
      "    out = cost(param_init, train_x[i:i+25], train_y[i:i+25])\n",
      "          ^^^^^^^^^^^^^^^^^^^^^^^^^^^^^^^^^^^^^^^^^^^^^^^^^^\n",
      "  File \"/var/folders/wl/7wlprxgn5hxbwxmhbsvvsyj40000gs/T/ipykernel_28212/106676976.py\", line 312, in cost\n",
      "    predictions = m(circuit(weights, X))\n",
      "                    ^^^^^^^^^^^^^^^^^^^\n",
      "  File \"/Users/mateo/anaconda3/lib/python3.11/site-packages/pennylane/workflow/qnode.py\", line 1098, in __call__\n",
      "    res = self._execution_component(args, kwargs, override_shots=override_shots)\n",
      "          ^^^^^^^^^^^^^^^^^^^^^^^^^^^^^^^^^^^^^^^^^^^^^^^^^^^^^^^^^^^^^^^^^^^^^^\n",
      "  File \"/Users/mateo/anaconda3/lib/python3.11/site-packages/pennylane/workflow/qnode.py\", line 1052, in _execution_component\n",
      "    res = qml.execute(\n",
      "          ^^^^^^^^^^^^\n",
      "  File \"/Users/mateo/anaconda3/lib/python3.11/site-packages/pennylane/workflow/execution.py\", line 600, in execute\n",
      "    tapes, post_processing = transform_program(tapes)\n",
      "                             ^^^^^^^^^^^^^^^^^^^^^^^^\n",
      "  File \"/Users/mateo/anaconda3/lib/python3.11/site-packages/pennylane/transforms/core/transform_program.py\", line 509, in __call__\n",
      "    new_tapes, fn = transform(tape, *targs, **tkwargs)\n",
      "                    ^^^^^^^^^^^^^^^^^^^^^^^^^^^^^^^^^^\n",
      "  File \"/Users/mateo/anaconda3/lib/python3.11/site-packages/pennylane/devices/preprocess.py\", line 131, in validate_device_wires\n",
      "    raise WireError(\n",
      "pennylane.wires.WireError: Cannot run circuit(s) on default.qubit as they contain wires not found on the device: {7}\n"
     ]
    },
    {
     "name": "stdout",
     "output_type": "stream",
     "text": [
      "Error during execution: Cannot run circuit(s) on default.qubit as they contain wires not found on the device: {7}\n"
     ]
    },
    {
     "name": "stderr",
     "output_type": "stream",
     "text": [
      "  0%|          | 0/185 [00:00<?, ?it/s]\n",
      "Traceback (most recent call last):\n",
      "  File \"/var/folders/wl/7wlprxgn5hxbwxmhbsvvsyj40000gs/T/ipykernel_28212/106676976.py\", line 320, in <module>\n",
      "    out = cost(param_init, train_x[i:i+25], train_y[i:i+25])\n",
      "          ^^^^^^^^^^^^^^^^^^^^^^^^^^^^^^^^^^^^^^^^^^^^^^^^^^\n",
      "  File \"/var/folders/wl/7wlprxgn5hxbwxmhbsvvsyj40000gs/T/ipykernel_28212/106676976.py\", line 312, in cost\n",
      "    predictions = m(circuit(weights, X))\n",
      "                    ^^^^^^^^^^^^^^^^^^^\n",
      "  File \"/Users/mateo/anaconda3/lib/python3.11/site-packages/pennylane/workflow/qnode.py\", line 1098, in __call__\n",
      "    res = self._execution_component(args, kwargs, override_shots=override_shots)\n",
      "          ^^^^^^^^^^^^^^^^^^^^^^^^^^^^^^^^^^^^^^^^^^^^^^^^^^^^^^^^^^^^^^^^^^^^^^\n",
      "  File \"/Users/mateo/anaconda3/lib/python3.11/site-packages/pennylane/workflow/qnode.py\", line 1052, in _execution_component\n",
      "    res = qml.execute(\n",
      "          ^^^^^^^^^^^^\n",
      "  File \"/Users/mateo/anaconda3/lib/python3.11/site-packages/pennylane/workflow/execution.py\", line 600, in execute\n",
      "    tapes, post_processing = transform_program(tapes)\n",
      "                             ^^^^^^^^^^^^^^^^^^^^^^^^\n",
      "  File \"/Users/mateo/anaconda3/lib/python3.11/site-packages/pennylane/transforms/core/transform_program.py\", line 509, in __call__\n",
      "    new_tapes, fn = transform(tape, *targs, **tkwargs)\n",
      "                    ^^^^^^^^^^^^^^^^^^^^^^^^^^^^^^^^^^\n",
      "  File \"/Users/mateo/anaconda3/lib/python3.11/site-packages/pennylane/devices/preprocess.py\", line 131, in validate_device_wires\n",
      "    raise WireError(\n",
      "pennylane.wires.WireError: Cannot run circuit(s) on default.qubit as they contain wires not found on the device: {7}\n"
     ]
    },
    {
     "name": "stdout",
     "output_type": "stream",
     "text": [
      "Error during execution: Cannot run circuit(s) on default.qubit as they contain wires not found on the device: {7}\n"
     ]
    },
    {
     "name": "stderr",
     "output_type": "stream",
     "text": [
      "  0%|          | 0/185 [00:00<?, ?it/s]\n",
      "Traceback (most recent call last):\n",
      "  File \"/var/folders/wl/7wlprxgn5hxbwxmhbsvvsyj40000gs/T/ipykernel_28212/106676976.py\", line 320, in <module>\n",
      "    out = cost(param_init, train_x[i:i+25], train_y[i:i+25])\n",
      "          ^^^^^^^^^^^^^^^^^^^^^^^^^^^^^^^^^^^^^^^^^^^^^^^^^^\n",
      "  File \"/var/folders/wl/7wlprxgn5hxbwxmhbsvvsyj40000gs/T/ipykernel_28212/106676976.py\", line 312, in cost\n",
      "    predictions = m(circuit(weights, X))\n",
      "                    ^^^^^^^^^^^^^^^^^^^\n",
      "  File \"/Users/mateo/anaconda3/lib/python3.11/site-packages/pennylane/workflow/qnode.py\", line 1098, in __call__\n",
      "    res = self._execution_component(args, kwargs, override_shots=override_shots)\n",
      "          ^^^^^^^^^^^^^^^^^^^^^^^^^^^^^^^^^^^^^^^^^^^^^^^^^^^^^^^^^^^^^^^^^^^^^^\n",
      "  File \"/Users/mateo/anaconda3/lib/python3.11/site-packages/pennylane/workflow/qnode.py\", line 1052, in _execution_component\n",
      "    res = qml.execute(\n",
      "          ^^^^^^^^^^^^\n",
      "  File \"/Users/mateo/anaconda3/lib/python3.11/site-packages/pennylane/workflow/execution.py\", line 600, in execute\n",
      "    tapes, post_processing = transform_program(tapes)\n",
      "                             ^^^^^^^^^^^^^^^^^^^^^^^^\n",
      "  File \"/Users/mateo/anaconda3/lib/python3.11/site-packages/pennylane/transforms/core/transform_program.py\", line 509, in __call__\n",
      "    new_tapes, fn = transform(tape, *targs, **tkwargs)\n",
      "                    ^^^^^^^^^^^^^^^^^^^^^^^^^^^^^^^^^^\n",
      "  File \"/Users/mateo/anaconda3/lib/python3.11/site-packages/pennylane/devices/preprocess.py\", line 131, in validate_device_wires\n",
      "    raise WireError(\n",
      "pennylane.wires.WireError: Cannot run circuit(s) on default.qubit as they contain wires not found on the device: {7}\n"
     ]
    },
    {
     "name": "stdout",
     "output_type": "stream",
     "text": [
      "Error during execution: Cannot run circuit(s) on default.qubit as they contain wires not found on the device: {7}\n"
     ]
    },
    {
     "name": "stderr",
     "output_type": "stream",
     "text": [
      "  0%|          | 0/185 [00:00<?, ?it/s]\n",
      "Traceback (most recent call last):\n",
      "  File \"/var/folders/wl/7wlprxgn5hxbwxmhbsvvsyj40000gs/T/ipykernel_28212/106676976.py\", line 320, in <module>\n",
      "    out = cost(param_init, train_x[i:i+25], train_y[i:i+25])\n",
      "          ^^^^^^^^^^^^^^^^^^^^^^^^^^^^^^^^^^^^^^^^^^^^^^^^^^\n",
      "  File \"/var/folders/wl/7wlprxgn5hxbwxmhbsvvsyj40000gs/T/ipykernel_28212/106676976.py\", line 312, in cost\n",
      "    predictions = m(circuit(weights, X))\n",
      "                    ^^^^^^^^^^^^^^^^^^^\n",
      "  File \"/Users/mateo/anaconda3/lib/python3.11/site-packages/pennylane/workflow/qnode.py\", line 1098, in __call__\n",
      "    res = self._execution_component(args, kwargs, override_shots=override_shots)\n",
      "          ^^^^^^^^^^^^^^^^^^^^^^^^^^^^^^^^^^^^^^^^^^^^^^^^^^^^^^^^^^^^^^^^^^^^^^\n",
      "  File \"/Users/mateo/anaconda3/lib/python3.11/site-packages/pennylane/workflow/qnode.py\", line 1052, in _execution_component\n",
      "    res = qml.execute(\n",
      "          ^^^^^^^^^^^^\n",
      "  File \"/Users/mateo/anaconda3/lib/python3.11/site-packages/pennylane/workflow/execution.py\", line 600, in execute\n",
      "    tapes, post_processing = transform_program(tapes)\n",
      "                             ^^^^^^^^^^^^^^^^^^^^^^^^\n",
      "  File \"/Users/mateo/anaconda3/lib/python3.11/site-packages/pennylane/transforms/core/transform_program.py\", line 509, in __call__\n",
      "    new_tapes, fn = transform(tape, *targs, **tkwargs)\n",
      "                    ^^^^^^^^^^^^^^^^^^^^^^^^^^^^^^^^^^\n",
      "  File \"/Users/mateo/anaconda3/lib/python3.11/site-packages/pennylane/devices/preprocess.py\", line 131, in validate_device_wires\n",
      "    raise WireError(\n",
      "pennylane.wires.WireError: Cannot run circuit(s) on default.qubit as they contain wires not found on the device: {7}\n"
     ]
    },
    {
     "name": "stdout",
     "output_type": "stream",
     "text": [
      "Error during execution: Cannot run circuit(s) on default.qubit as they contain wires not found on the device: {7}\n"
     ]
    },
    {
     "name": "stderr",
     "output_type": "stream",
     "text": [
      "  0%|          | 0/185 [00:00<?, ?it/s]\n",
      "Traceback (most recent call last):\n",
      "  File \"/var/folders/wl/7wlprxgn5hxbwxmhbsvvsyj40000gs/T/ipykernel_28212/106676976.py\", line 320, in <module>\n",
      "    out = cost(param_init, train_x[i:i+25], train_y[i:i+25])\n",
      "          ^^^^^^^^^^^^^^^^^^^^^^^^^^^^^^^^^^^^^^^^^^^^^^^^^^\n",
      "  File \"/var/folders/wl/7wlprxgn5hxbwxmhbsvvsyj40000gs/T/ipykernel_28212/106676976.py\", line 312, in cost\n",
      "    predictions = m(circuit(weights, X))\n",
      "                    ^^^^^^^^^^^^^^^^^^^\n",
      "  File \"/Users/mateo/anaconda3/lib/python3.11/site-packages/pennylane/workflow/qnode.py\", line 1098, in __call__\n",
      "    res = self._execution_component(args, kwargs, override_shots=override_shots)\n",
      "          ^^^^^^^^^^^^^^^^^^^^^^^^^^^^^^^^^^^^^^^^^^^^^^^^^^^^^^^^^^^^^^^^^^^^^^\n",
      "  File \"/Users/mateo/anaconda3/lib/python3.11/site-packages/pennylane/workflow/qnode.py\", line 1052, in _execution_component\n",
      "    res = qml.execute(\n",
      "          ^^^^^^^^^^^^\n",
      "  File \"/Users/mateo/anaconda3/lib/python3.11/site-packages/pennylane/workflow/execution.py\", line 600, in execute\n",
      "    tapes, post_processing = transform_program(tapes)\n",
      "                             ^^^^^^^^^^^^^^^^^^^^^^^^\n",
      "  File \"/Users/mateo/anaconda3/lib/python3.11/site-packages/pennylane/transforms/core/transform_program.py\", line 509, in __call__\n",
      "    new_tapes, fn = transform(tape, *targs, **tkwargs)\n",
      "                    ^^^^^^^^^^^^^^^^^^^^^^^^^^^^^^^^^^\n",
      "  File \"/Users/mateo/anaconda3/lib/python3.11/site-packages/pennylane/devices/preprocess.py\", line 131, in validate_device_wires\n",
      "    raise WireError(\n",
      "pennylane.wires.WireError: Cannot run circuit(s) on default.qubit as they contain wires not found on the device: {7}\n"
     ]
    },
    {
     "name": "stdout",
     "output_type": "stream",
     "text": [
      "Error during execution: Cannot run circuit(s) on default.qubit as they contain wires not found on the device: {7}\n",
      "6\n"
     ]
    },
    {
     "name": "stderr",
     "output_type": "stream",
     "text": [
      "  0%|          | 0/185 [00:00<?, ?it/s]\n",
      "Traceback (most recent call last):\n",
      "  File \"/var/folders/wl/7wlprxgn5hxbwxmhbsvvsyj40000gs/T/ipykernel_28212/106676976.py\", line 320, in <module>\n",
      "    out = cost(param_init, train_x[i:i+25], train_y[i:i+25])\n",
      "          ^^^^^^^^^^^^^^^^^^^^^^^^^^^^^^^^^^^^^^^^^^^^^^^^^^\n",
      "  File \"/var/folders/wl/7wlprxgn5hxbwxmhbsvvsyj40000gs/T/ipykernel_28212/106676976.py\", line 312, in cost\n",
      "    predictions = m(circuit(weights, X))\n",
      "                    ^^^^^^^^^^^^^^^^^^^\n",
      "  File \"/Users/mateo/anaconda3/lib/python3.11/site-packages/pennylane/workflow/qnode.py\", line 1098, in __call__\n",
      "    res = self._execution_component(args, kwargs, override_shots=override_shots)\n",
      "          ^^^^^^^^^^^^^^^^^^^^^^^^^^^^^^^^^^^^^^^^^^^^^^^^^^^^^^^^^^^^^^^^^^^^^^\n",
      "  File \"/Users/mateo/anaconda3/lib/python3.11/site-packages/pennylane/workflow/qnode.py\", line 1052, in _execution_component\n",
      "    res = qml.execute(\n",
      "          ^^^^^^^^^^^^\n",
      "  File \"/Users/mateo/anaconda3/lib/python3.11/site-packages/pennylane/workflow/execution.py\", line 600, in execute\n",
      "    tapes, post_processing = transform_program(tapes)\n",
      "                             ^^^^^^^^^^^^^^^^^^^^^^^^\n",
      "  File \"/Users/mateo/anaconda3/lib/python3.11/site-packages/pennylane/transforms/core/transform_program.py\", line 509, in __call__\n",
      "    new_tapes, fn = transform(tape, *targs, **tkwargs)\n",
      "                    ^^^^^^^^^^^^^^^^^^^^^^^^^^^^^^^^^^\n",
      "  File \"/Users/mateo/anaconda3/lib/python3.11/site-packages/pennylane/devices/preprocess.py\", line 131, in validate_device_wires\n",
      "    raise WireError(\n",
      "pennylane.wires.WireError: Cannot run circuit(s) on default.qubit as they contain wires not found on the device: {7}\n"
     ]
    },
    {
     "name": "stdout",
     "output_type": "stream",
     "text": [
      "Error during execution: Cannot run circuit(s) on default.qubit as they contain wires not found on the device: {7}\n"
     ]
    },
    {
     "name": "stderr",
     "output_type": "stream",
     "text": [
      "  0%|          | 0/185 [00:00<?, ?it/s]\n",
      "Traceback (most recent call last):\n",
      "  File \"/var/folders/wl/7wlprxgn5hxbwxmhbsvvsyj40000gs/T/ipykernel_28212/106676976.py\", line 320, in <module>\n",
      "    out = cost(param_init, train_x[i:i+25], train_y[i:i+25])\n",
      "          ^^^^^^^^^^^^^^^^^^^^^^^^^^^^^^^^^^^^^^^^^^^^^^^^^^\n",
      "  File \"/var/folders/wl/7wlprxgn5hxbwxmhbsvvsyj40000gs/T/ipykernel_28212/106676976.py\", line 312, in cost\n",
      "    predictions = m(circuit(weights, X))\n",
      "                    ^^^^^^^^^^^^^^^^^^^\n",
      "  File \"/Users/mateo/anaconda3/lib/python3.11/site-packages/pennylane/workflow/qnode.py\", line 1098, in __call__\n",
      "    res = self._execution_component(args, kwargs, override_shots=override_shots)\n",
      "          ^^^^^^^^^^^^^^^^^^^^^^^^^^^^^^^^^^^^^^^^^^^^^^^^^^^^^^^^^^^^^^^^^^^^^^\n",
      "  File \"/Users/mateo/anaconda3/lib/python3.11/site-packages/pennylane/workflow/qnode.py\", line 1052, in _execution_component\n",
      "    res = qml.execute(\n",
      "          ^^^^^^^^^^^^\n",
      "  File \"/Users/mateo/anaconda3/lib/python3.11/site-packages/pennylane/workflow/execution.py\", line 600, in execute\n",
      "    tapes, post_processing = transform_program(tapes)\n",
      "                             ^^^^^^^^^^^^^^^^^^^^^^^^\n",
      "  File \"/Users/mateo/anaconda3/lib/python3.11/site-packages/pennylane/transforms/core/transform_program.py\", line 509, in __call__\n",
      "    new_tapes, fn = transform(tape, *targs, **tkwargs)\n",
      "                    ^^^^^^^^^^^^^^^^^^^^^^^^^^^^^^^^^^\n",
      "  File \"/Users/mateo/anaconda3/lib/python3.11/site-packages/pennylane/devices/preprocess.py\", line 131, in validate_device_wires\n",
      "    raise WireError(\n",
      "pennylane.wires.WireError: Cannot run circuit(s) on default.qubit as they contain wires not found on the device: {7}\n"
     ]
    },
    {
     "name": "stdout",
     "output_type": "stream",
     "text": [
      "Error during execution: Cannot run circuit(s) on default.qubit as they contain wires not found on the device: {7}\n"
     ]
    },
    {
     "name": "stderr",
     "output_type": "stream",
     "text": [
      "  0%|          | 0/185 [00:00<?, ?it/s]\n",
      "Traceback (most recent call last):\n",
      "  File \"/var/folders/wl/7wlprxgn5hxbwxmhbsvvsyj40000gs/T/ipykernel_28212/106676976.py\", line 320, in <module>\n",
      "    out = cost(param_init, train_x[i:i+25], train_y[i:i+25])\n",
      "          ^^^^^^^^^^^^^^^^^^^^^^^^^^^^^^^^^^^^^^^^^^^^^^^^^^\n",
      "  File \"/var/folders/wl/7wlprxgn5hxbwxmhbsvvsyj40000gs/T/ipykernel_28212/106676976.py\", line 312, in cost\n",
      "    predictions = m(circuit(weights, X))\n",
      "                    ^^^^^^^^^^^^^^^^^^^\n",
      "  File \"/Users/mateo/anaconda3/lib/python3.11/site-packages/pennylane/workflow/qnode.py\", line 1098, in __call__\n",
      "    res = self._execution_component(args, kwargs, override_shots=override_shots)\n",
      "          ^^^^^^^^^^^^^^^^^^^^^^^^^^^^^^^^^^^^^^^^^^^^^^^^^^^^^^^^^^^^^^^^^^^^^^\n",
      "  File \"/Users/mateo/anaconda3/lib/python3.11/site-packages/pennylane/workflow/qnode.py\", line 1052, in _execution_component\n",
      "    res = qml.execute(\n",
      "          ^^^^^^^^^^^^\n",
      "  File \"/Users/mateo/anaconda3/lib/python3.11/site-packages/pennylane/workflow/execution.py\", line 600, in execute\n",
      "    tapes, post_processing = transform_program(tapes)\n",
      "                             ^^^^^^^^^^^^^^^^^^^^^^^^\n",
      "  File \"/Users/mateo/anaconda3/lib/python3.11/site-packages/pennylane/transforms/core/transform_program.py\", line 509, in __call__\n",
      "    new_tapes, fn = transform(tape, *targs, **tkwargs)\n",
      "                    ^^^^^^^^^^^^^^^^^^^^^^^^^^^^^^^^^^\n",
      "  File \"/Users/mateo/anaconda3/lib/python3.11/site-packages/pennylane/devices/preprocess.py\", line 131, in validate_device_wires\n",
      "    raise WireError(\n",
      "pennylane.wires.WireError: Cannot run circuit(s) on default.qubit as they contain wires not found on the device: {7}\n"
     ]
    },
    {
     "name": "stdout",
     "output_type": "stream",
     "text": [
      "Error during execution: Cannot run circuit(s) on default.qubit as they contain wires not found on the device: {7}\n"
     ]
    },
    {
     "name": "stderr",
     "output_type": "stream",
     "text": [
      "  0%|          | 0/185 [00:00<?, ?it/s]\n",
      "Traceback (most recent call last):\n",
      "  File \"/var/folders/wl/7wlprxgn5hxbwxmhbsvvsyj40000gs/T/ipykernel_28212/106676976.py\", line 320, in <module>\n",
      "    out = cost(param_init, train_x[i:i+25], train_y[i:i+25])\n",
      "          ^^^^^^^^^^^^^^^^^^^^^^^^^^^^^^^^^^^^^^^^^^^^^^^^^^\n",
      "  File \"/var/folders/wl/7wlprxgn5hxbwxmhbsvvsyj40000gs/T/ipykernel_28212/106676976.py\", line 312, in cost\n",
      "    predictions = m(circuit(weights, X))\n",
      "                    ^^^^^^^^^^^^^^^^^^^\n",
      "  File \"/Users/mateo/anaconda3/lib/python3.11/site-packages/pennylane/workflow/qnode.py\", line 1098, in __call__\n",
      "    res = self._execution_component(args, kwargs, override_shots=override_shots)\n",
      "          ^^^^^^^^^^^^^^^^^^^^^^^^^^^^^^^^^^^^^^^^^^^^^^^^^^^^^^^^^^^^^^^^^^^^^^\n",
      "  File \"/Users/mateo/anaconda3/lib/python3.11/site-packages/pennylane/workflow/qnode.py\", line 1052, in _execution_component\n",
      "    res = qml.execute(\n",
      "          ^^^^^^^^^^^^\n",
      "  File \"/Users/mateo/anaconda3/lib/python3.11/site-packages/pennylane/workflow/execution.py\", line 600, in execute\n",
      "    tapes, post_processing = transform_program(tapes)\n",
      "                             ^^^^^^^^^^^^^^^^^^^^^^^^\n",
      "  File \"/Users/mateo/anaconda3/lib/python3.11/site-packages/pennylane/transforms/core/transform_program.py\", line 509, in __call__\n",
      "    new_tapes, fn = transform(tape, *targs, **tkwargs)\n",
      "                    ^^^^^^^^^^^^^^^^^^^^^^^^^^^^^^^^^^\n",
      "  File \"/Users/mateo/anaconda3/lib/python3.11/site-packages/pennylane/devices/preprocess.py\", line 131, in validate_device_wires\n",
      "    raise WireError(\n",
      "pennylane.wires.WireError: Cannot run circuit(s) on default.qubit as they contain wires not found on the device: {7}\n"
     ]
    },
    {
     "name": "stdout",
     "output_type": "stream",
     "text": [
      "Error during execution: Cannot run circuit(s) on default.qubit as they contain wires not found on the device: {7}\n"
     ]
    },
    {
     "name": "stderr",
     "output_type": "stream",
     "text": [
      "  0%|          | 0/185 [00:00<?, ?it/s]\n",
      "Traceback (most recent call last):\n",
      "  File \"/var/folders/wl/7wlprxgn5hxbwxmhbsvvsyj40000gs/T/ipykernel_28212/106676976.py\", line 320, in <module>\n",
      "    out = cost(param_init, train_x[i:i+25], train_y[i:i+25])\n",
      "          ^^^^^^^^^^^^^^^^^^^^^^^^^^^^^^^^^^^^^^^^^^^^^^^^^^\n",
      "  File \"/var/folders/wl/7wlprxgn5hxbwxmhbsvvsyj40000gs/T/ipykernel_28212/106676976.py\", line 312, in cost\n",
      "    predictions = m(circuit(weights, X))\n",
      "                    ^^^^^^^^^^^^^^^^^^^\n",
      "  File \"/Users/mateo/anaconda3/lib/python3.11/site-packages/pennylane/workflow/qnode.py\", line 1098, in __call__\n",
      "    res = self._execution_component(args, kwargs, override_shots=override_shots)\n",
      "          ^^^^^^^^^^^^^^^^^^^^^^^^^^^^^^^^^^^^^^^^^^^^^^^^^^^^^^^^^^^^^^^^^^^^^^\n",
      "  File \"/Users/mateo/anaconda3/lib/python3.11/site-packages/pennylane/workflow/qnode.py\", line 1052, in _execution_component\n",
      "    res = qml.execute(\n",
      "          ^^^^^^^^^^^^\n",
      "  File \"/Users/mateo/anaconda3/lib/python3.11/site-packages/pennylane/workflow/execution.py\", line 600, in execute\n",
      "    tapes, post_processing = transform_program(tapes)\n",
      "                             ^^^^^^^^^^^^^^^^^^^^^^^^\n",
      "  File \"/Users/mateo/anaconda3/lib/python3.11/site-packages/pennylane/transforms/core/transform_program.py\", line 509, in __call__\n",
      "    new_tapes, fn = transform(tape, *targs, **tkwargs)\n",
      "                    ^^^^^^^^^^^^^^^^^^^^^^^^^^^^^^^^^^\n",
      "  File \"/Users/mateo/anaconda3/lib/python3.11/site-packages/pennylane/devices/preprocess.py\", line 131, in validate_device_wires\n",
      "    raise WireError(\n",
      "pennylane.wires.WireError: Cannot run circuit(s) on default.qubit as they contain wires not found on the device: {7}\n"
     ]
    },
    {
     "name": "stdout",
     "output_type": "stream",
     "text": [
      "Error during execution: Cannot run circuit(s) on default.qubit as they contain wires not found on the device: {7}\n"
     ]
    },
    {
     "name": "stderr",
     "output_type": "stream",
     "text": [
      "  0%|          | 0/185 [00:00<?, ?it/s]\n",
      "Traceback (most recent call last):\n",
      "  File \"/var/folders/wl/7wlprxgn5hxbwxmhbsvvsyj40000gs/T/ipykernel_28212/106676976.py\", line 320, in <module>\n",
      "    out = cost(param_init, train_x[i:i+25], train_y[i:i+25])\n",
      "          ^^^^^^^^^^^^^^^^^^^^^^^^^^^^^^^^^^^^^^^^^^^^^^^^^^\n",
      "  File \"/var/folders/wl/7wlprxgn5hxbwxmhbsvvsyj40000gs/T/ipykernel_28212/106676976.py\", line 312, in cost\n",
      "    predictions = m(circuit(weights, X))\n",
      "                    ^^^^^^^^^^^^^^^^^^^\n",
      "  File \"/Users/mateo/anaconda3/lib/python3.11/site-packages/pennylane/workflow/qnode.py\", line 1098, in __call__\n",
      "    res = self._execution_component(args, kwargs, override_shots=override_shots)\n",
      "          ^^^^^^^^^^^^^^^^^^^^^^^^^^^^^^^^^^^^^^^^^^^^^^^^^^^^^^^^^^^^^^^^^^^^^^\n",
      "  File \"/Users/mateo/anaconda3/lib/python3.11/site-packages/pennylane/workflow/qnode.py\", line 1052, in _execution_component\n",
      "    res = qml.execute(\n",
      "          ^^^^^^^^^^^^\n",
      "  File \"/Users/mateo/anaconda3/lib/python3.11/site-packages/pennylane/workflow/execution.py\", line 600, in execute\n",
      "    tapes, post_processing = transform_program(tapes)\n",
      "                             ^^^^^^^^^^^^^^^^^^^^^^^^\n",
      "  File \"/Users/mateo/anaconda3/lib/python3.11/site-packages/pennylane/transforms/core/transform_program.py\", line 509, in __call__\n",
      "    new_tapes, fn = transform(tape, *targs, **tkwargs)\n",
      "                    ^^^^^^^^^^^^^^^^^^^^^^^^^^^^^^^^^^\n",
      "  File \"/Users/mateo/anaconda3/lib/python3.11/site-packages/pennylane/devices/preprocess.py\", line 131, in validate_device_wires\n",
      "    raise WireError(\n",
      "pennylane.wires.WireError: Cannot run circuit(s) on default.qubit as they contain wires not found on the device: {7}\n"
     ]
    },
    {
     "name": "stdout",
     "output_type": "stream",
     "text": [
      "Error during execution: Cannot run circuit(s) on default.qubit as they contain wires not found on the device: {7}\n",
      "6\n"
     ]
    },
    {
     "name": "stderr",
     "output_type": "stream",
     "text": [
      "  0%|          | 0/185 [00:00<?, ?it/s]\n",
      "Traceback (most recent call last):\n",
      "  File \"/var/folders/wl/7wlprxgn5hxbwxmhbsvvsyj40000gs/T/ipykernel_28212/106676976.py\", line 320, in <module>\n",
      "    out = cost(param_init, train_x[i:i+25], train_y[i:i+25])\n",
      "          ^^^^^^^^^^^^^^^^^^^^^^^^^^^^^^^^^^^^^^^^^^^^^^^^^^\n",
      "  File \"/var/folders/wl/7wlprxgn5hxbwxmhbsvvsyj40000gs/T/ipykernel_28212/106676976.py\", line 312, in cost\n",
      "    predictions = m(circuit(weights, X))\n",
      "                    ^^^^^^^^^^^^^^^^^^^\n",
      "  File \"/Users/mateo/anaconda3/lib/python3.11/site-packages/pennylane/workflow/qnode.py\", line 1098, in __call__\n",
      "    res = self._execution_component(args, kwargs, override_shots=override_shots)\n",
      "          ^^^^^^^^^^^^^^^^^^^^^^^^^^^^^^^^^^^^^^^^^^^^^^^^^^^^^^^^^^^^^^^^^^^^^^\n",
      "  File \"/Users/mateo/anaconda3/lib/python3.11/site-packages/pennylane/workflow/qnode.py\", line 1052, in _execution_component\n",
      "    res = qml.execute(\n",
      "          ^^^^^^^^^^^^\n",
      "  File \"/Users/mateo/anaconda3/lib/python3.11/site-packages/pennylane/workflow/execution.py\", line 600, in execute\n",
      "    tapes, post_processing = transform_program(tapes)\n",
      "                             ^^^^^^^^^^^^^^^^^^^^^^^^\n",
      "  File \"/Users/mateo/anaconda3/lib/python3.11/site-packages/pennylane/transforms/core/transform_program.py\", line 509, in __call__\n",
      "    new_tapes, fn = transform(tape, *targs, **tkwargs)\n",
      "                    ^^^^^^^^^^^^^^^^^^^^^^^^^^^^^^^^^^\n",
      "  File \"/Users/mateo/anaconda3/lib/python3.11/site-packages/pennylane/devices/preprocess.py\", line 131, in validate_device_wires\n",
      "    raise WireError(\n",
      "pennylane.wires.WireError: Cannot run circuit(s) on default.qubit as they contain wires not found on the device: {7}\n"
     ]
    },
    {
     "name": "stdout",
     "output_type": "stream",
     "text": [
      "Error during execution: Cannot run circuit(s) on default.qubit as they contain wires not found on the device: {7}\n"
     ]
    },
    {
     "name": "stderr",
     "output_type": "stream",
     "text": [
      "  0%|          | 0/185 [00:00<?, ?it/s]\n",
      "Traceback (most recent call last):\n",
      "  File \"/var/folders/wl/7wlprxgn5hxbwxmhbsvvsyj40000gs/T/ipykernel_28212/106676976.py\", line 320, in <module>\n",
      "    out = cost(param_init, train_x[i:i+25], train_y[i:i+25])\n",
      "          ^^^^^^^^^^^^^^^^^^^^^^^^^^^^^^^^^^^^^^^^^^^^^^^^^^\n",
      "  File \"/var/folders/wl/7wlprxgn5hxbwxmhbsvvsyj40000gs/T/ipykernel_28212/106676976.py\", line 312, in cost\n",
      "    predictions = m(circuit(weights, X))\n",
      "                    ^^^^^^^^^^^^^^^^^^^\n",
      "  File \"/Users/mateo/anaconda3/lib/python3.11/site-packages/pennylane/workflow/qnode.py\", line 1098, in __call__\n",
      "    res = self._execution_component(args, kwargs, override_shots=override_shots)\n",
      "          ^^^^^^^^^^^^^^^^^^^^^^^^^^^^^^^^^^^^^^^^^^^^^^^^^^^^^^^^^^^^^^^^^^^^^^\n",
      "  File \"/Users/mateo/anaconda3/lib/python3.11/site-packages/pennylane/workflow/qnode.py\", line 1052, in _execution_component\n",
      "    res = qml.execute(\n",
      "          ^^^^^^^^^^^^\n",
      "  File \"/Users/mateo/anaconda3/lib/python3.11/site-packages/pennylane/workflow/execution.py\", line 600, in execute\n",
      "    tapes, post_processing = transform_program(tapes)\n",
      "                             ^^^^^^^^^^^^^^^^^^^^^^^^\n",
      "  File \"/Users/mateo/anaconda3/lib/python3.11/site-packages/pennylane/transforms/core/transform_program.py\", line 509, in __call__\n",
      "    new_tapes, fn = transform(tape, *targs, **tkwargs)\n",
      "                    ^^^^^^^^^^^^^^^^^^^^^^^^^^^^^^^^^^\n",
      "  File \"/Users/mateo/anaconda3/lib/python3.11/site-packages/pennylane/devices/preprocess.py\", line 131, in validate_device_wires\n",
      "    raise WireError(\n",
      "pennylane.wires.WireError: Cannot run circuit(s) on default.qubit as they contain wires not found on the device: {7}\n"
     ]
    },
    {
     "name": "stdout",
     "output_type": "stream",
     "text": [
      "Error during execution: Cannot run circuit(s) on default.qubit as they contain wires not found on the device: {7}\n"
     ]
    },
    {
     "name": "stderr",
     "output_type": "stream",
     "text": [
      "  0%|          | 0/185 [00:00<?, ?it/s]\n",
      "Traceback (most recent call last):\n",
      "  File \"/var/folders/wl/7wlprxgn5hxbwxmhbsvvsyj40000gs/T/ipykernel_28212/106676976.py\", line 320, in <module>\n",
      "    out = cost(param_init, train_x[i:i+25], train_y[i:i+25])\n",
      "          ^^^^^^^^^^^^^^^^^^^^^^^^^^^^^^^^^^^^^^^^^^^^^^^^^^\n",
      "  File \"/var/folders/wl/7wlprxgn5hxbwxmhbsvvsyj40000gs/T/ipykernel_28212/106676976.py\", line 312, in cost\n",
      "    predictions = m(circuit(weights, X))\n",
      "                    ^^^^^^^^^^^^^^^^^^^\n",
      "  File \"/Users/mateo/anaconda3/lib/python3.11/site-packages/pennylane/workflow/qnode.py\", line 1098, in __call__\n",
      "    res = self._execution_component(args, kwargs, override_shots=override_shots)\n",
      "          ^^^^^^^^^^^^^^^^^^^^^^^^^^^^^^^^^^^^^^^^^^^^^^^^^^^^^^^^^^^^^^^^^^^^^^\n",
      "  File \"/Users/mateo/anaconda3/lib/python3.11/site-packages/pennylane/workflow/qnode.py\", line 1052, in _execution_component\n",
      "    res = qml.execute(\n",
      "          ^^^^^^^^^^^^\n",
      "  File \"/Users/mateo/anaconda3/lib/python3.11/site-packages/pennylane/workflow/execution.py\", line 600, in execute\n",
      "    tapes, post_processing = transform_program(tapes)\n",
      "                             ^^^^^^^^^^^^^^^^^^^^^^^^\n",
      "  File \"/Users/mateo/anaconda3/lib/python3.11/site-packages/pennylane/transforms/core/transform_program.py\", line 509, in __call__\n",
      "    new_tapes, fn = transform(tape, *targs, **tkwargs)\n",
      "                    ^^^^^^^^^^^^^^^^^^^^^^^^^^^^^^^^^^\n",
      "  File \"/Users/mateo/anaconda3/lib/python3.11/site-packages/pennylane/devices/preprocess.py\", line 131, in validate_device_wires\n",
      "    raise WireError(\n",
      "pennylane.wires.WireError: Cannot run circuit(s) on default.qubit as they contain wires not found on the device: {7}\n"
     ]
    },
    {
     "name": "stdout",
     "output_type": "stream",
     "text": [
      "Error during execution: Cannot run circuit(s) on default.qubit as they contain wires not found on the device: {7}\n"
     ]
    },
    {
     "name": "stderr",
     "output_type": "stream",
     "text": [
      "  0%|          | 0/185 [00:00<?, ?it/s]\n",
      "Traceback (most recent call last):\n",
      "  File \"/var/folders/wl/7wlprxgn5hxbwxmhbsvvsyj40000gs/T/ipykernel_28212/106676976.py\", line 320, in <module>\n",
      "    out = cost(param_init, train_x[i:i+25], train_y[i:i+25])\n",
      "          ^^^^^^^^^^^^^^^^^^^^^^^^^^^^^^^^^^^^^^^^^^^^^^^^^^\n",
      "  File \"/var/folders/wl/7wlprxgn5hxbwxmhbsvvsyj40000gs/T/ipykernel_28212/106676976.py\", line 312, in cost\n",
      "    predictions = m(circuit(weights, X))\n",
      "                    ^^^^^^^^^^^^^^^^^^^\n",
      "  File \"/Users/mateo/anaconda3/lib/python3.11/site-packages/pennylane/workflow/qnode.py\", line 1098, in __call__\n",
      "    res = self._execution_component(args, kwargs, override_shots=override_shots)\n",
      "          ^^^^^^^^^^^^^^^^^^^^^^^^^^^^^^^^^^^^^^^^^^^^^^^^^^^^^^^^^^^^^^^^^^^^^^\n",
      "  File \"/Users/mateo/anaconda3/lib/python3.11/site-packages/pennylane/workflow/qnode.py\", line 1052, in _execution_component\n",
      "    res = qml.execute(\n",
      "          ^^^^^^^^^^^^\n",
      "  File \"/Users/mateo/anaconda3/lib/python3.11/site-packages/pennylane/workflow/execution.py\", line 600, in execute\n",
      "    tapes, post_processing = transform_program(tapes)\n",
      "                             ^^^^^^^^^^^^^^^^^^^^^^^^\n",
      "  File \"/Users/mateo/anaconda3/lib/python3.11/site-packages/pennylane/transforms/core/transform_program.py\", line 509, in __call__\n",
      "    new_tapes, fn = transform(tape, *targs, **tkwargs)\n",
      "                    ^^^^^^^^^^^^^^^^^^^^^^^^^^^^^^^^^^\n",
      "  File \"/Users/mateo/anaconda3/lib/python3.11/site-packages/pennylane/devices/preprocess.py\", line 131, in validate_device_wires\n",
      "    raise WireError(\n",
      "pennylane.wires.WireError: Cannot run circuit(s) on default.qubit as they contain wires not found on the device: {7}\n"
     ]
    },
    {
     "name": "stdout",
     "output_type": "stream",
     "text": [
      "Error during execution: Cannot run circuit(s) on default.qubit as they contain wires not found on the device: {7}\n"
     ]
    },
    {
     "name": "stderr",
     "output_type": "stream",
     "text": [
      "  0%|          | 0/185 [00:00<?, ?it/s]\n",
      "Traceback (most recent call last):\n",
      "  File \"/var/folders/wl/7wlprxgn5hxbwxmhbsvvsyj40000gs/T/ipykernel_28212/106676976.py\", line 320, in <module>\n",
      "    out = cost(param_init, train_x[i:i+25], train_y[i:i+25])\n",
      "          ^^^^^^^^^^^^^^^^^^^^^^^^^^^^^^^^^^^^^^^^^^^^^^^^^^\n",
      "  File \"/var/folders/wl/7wlprxgn5hxbwxmhbsvvsyj40000gs/T/ipykernel_28212/106676976.py\", line 312, in cost\n",
      "    predictions = m(circuit(weights, X))\n",
      "                    ^^^^^^^^^^^^^^^^^^^\n",
      "  File \"/Users/mateo/anaconda3/lib/python3.11/site-packages/pennylane/workflow/qnode.py\", line 1098, in __call__\n",
      "    res = self._execution_component(args, kwargs, override_shots=override_shots)\n",
      "          ^^^^^^^^^^^^^^^^^^^^^^^^^^^^^^^^^^^^^^^^^^^^^^^^^^^^^^^^^^^^^^^^^^^^^^\n",
      "  File \"/Users/mateo/anaconda3/lib/python3.11/site-packages/pennylane/workflow/qnode.py\", line 1052, in _execution_component\n",
      "    res = qml.execute(\n",
      "          ^^^^^^^^^^^^\n",
      "  File \"/Users/mateo/anaconda3/lib/python3.11/site-packages/pennylane/workflow/execution.py\", line 600, in execute\n",
      "    tapes, post_processing = transform_program(tapes)\n",
      "                             ^^^^^^^^^^^^^^^^^^^^^^^^\n",
      "  File \"/Users/mateo/anaconda3/lib/python3.11/site-packages/pennylane/transforms/core/transform_program.py\", line 509, in __call__\n",
      "    new_tapes, fn = transform(tape, *targs, **tkwargs)\n",
      "                    ^^^^^^^^^^^^^^^^^^^^^^^^^^^^^^^^^^\n",
      "  File \"/Users/mateo/anaconda3/lib/python3.11/site-packages/pennylane/devices/preprocess.py\", line 131, in validate_device_wires\n",
      "    raise WireError(\n",
      "pennylane.wires.WireError: Cannot run circuit(s) on default.qubit as they contain wires not found on the device: {7}\n"
     ]
    },
    {
     "name": "stdout",
     "output_type": "stream",
     "text": [
      "Error during execution: Cannot run circuit(s) on default.qubit as they contain wires not found on the device: {7}\n"
     ]
    },
    {
     "name": "stderr",
     "output_type": "stream",
     "text": [
      "  0%|          | 0/185 [00:00<?, ?it/s]\n",
      "Traceback (most recent call last):\n",
      "  File \"/var/folders/wl/7wlprxgn5hxbwxmhbsvvsyj40000gs/T/ipykernel_28212/106676976.py\", line 320, in <module>\n",
      "    out = cost(param_init, train_x[i:i+25], train_y[i:i+25])\n",
      "          ^^^^^^^^^^^^^^^^^^^^^^^^^^^^^^^^^^^^^^^^^^^^^^^^^^\n",
      "  File \"/var/folders/wl/7wlprxgn5hxbwxmhbsvvsyj40000gs/T/ipykernel_28212/106676976.py\", line 312, in cost\n",
      "    predictions = m(circuit(weights, X))\n",
      "                    ^^^^^^^^^^^^^^^^^^^\n",
      "  File \"/Users/mateo/anaconda3/lib/python3.11/site-packages/pennylane/workflow/qnode.py\", line 1098, in __call__\n",
      "    res = self._execution_component(args, kwargs, override_shots=override_shots)\n",
      "          ^^^^^^^^^^^^^^^^^^^^^^^^^^^^^^^^^^^^^^^^^^^^^^^^^^^^^^^^^^^^^^^^^^^^^^\n",
      "  File \"/Users/mateo/anaconda3/lib/python3.11/site-packages/pennylane/workflow/qnode.py\", line 1052, in _execution_component\n",
      "    res = qml.execute(\n",
      "          ^^^^^^^^^^^^\n",
      "  File \"/Users/mateo/anaconda3/lib/python3.11/site-packages/pennylane/workflow/execution.py\", line 600, in execute\n",
      "    tapes, post_processing = transform_program(tapes)\n",
      "                             ^^^^^^^^^^^^^^^^^^^^^^^^\n",
      "  File \"/Users/mateo/anaconda3/lib/python3.11/site-packages/pennylane/transforms/core/transform_program.py\", line 509, in __call__\n",
      "    new_tapes, fn = transform(tape, *targs, **tkwargs)\n",
      "                    ^^^^^^^^^^^^^^^^^^^^^^^^^^^^^^^^^^\n",
      "  File \"/Users/mateo/anaconda3/lib/python3.11/site-packages/pennylane/devices/preprocess.py\", line 131, in validate_device_wires\n",
      "    raise WireError(\n",
      "pennylane.wires.WireError: Cannot run circuit(s) on default.qubit as they contain wires not found on the device: {7}\n"
     ]
    },
    {
     "name": "stdout",
     "output_type": "stream",
     "text": [
      "Error during execution: Cannot run circuit(s) on default.qubit as they contain wires not found on the device: {7}\n",
      "6\n"
     ]
    },
    {
     "name": "stderr",
     "output_type": "stream",
     "text": [
      "  0%|          | 0/185 [00:00<?, ?it/s]\n",
      "Traceback (most recent call last):\n",
      "  File \"/var/folders/wl/7wlprxgn5hxbwxmhbsvvsyj40000gs/T/ipykernel_28212/106676976.py\", line 320, in <module>\n",
      "    out = cost(param_init, train_x[i:i+25], train_y[i:i+25])\n",
      "          ^^^^^^^^^^^^^^^^^^^^^^^^^^^^^^^^^^^^^^^^^^^^^^^^^^\n",
      "  File \"/var/folders/wl/7wlprxgn5hxbwxmhbsvvsyj40000gs/T/ipykernel_28212/106676976.py\", line 312, in cost\n",
      "    predictions = m(circuit(weights, X))\n",
      "                    ^^^^^^^^^^^^^^^^^^^\n",
      "  File \"/Users/mateo/anaconda3/lib/python3.11/site-packages/pennylane/workflow/qnode.py\", line 1098, in __call__\n",
      "    res = self._execution_component(args, kwargs, override_shots=override_shots)\n",
      "          ^^^^^^^^^^^^^^^^^^^^^^^^^^^^^^^^^^^^^^^^^^^^^^^^^^^^^^^^^^^^^^^^^^^^^^\n",
      "  File \"/Users/mateo/anaconda3/lib/python3.11/site-packages/pennylane/workflow/qnode.py\", line 1052, in _execution_component\n",
      "    res = qml.execute(\n",
      "          ^^^^^^^^^^^^\n",
      "  File \"/Users/mateo/anaconda3/lib/python3.11/site-packages/pennylane/workflow/execution.py\", line 600, in execute\n",
      "    tapes, post_processing = transform_program(tapes)\n",
      "                             ^^^^^^^^^^^^^^^^^^^^^^^^\n",
      "  File \"/Users/mateo/anaconda3/lib/python3.11/site-packages/pennylane/transforms/core/transform_program.py\", line 509, in __call__\n",
      "    new_tapes, fn = transform(tape, *targs, **tkwargs)\n",
      "                    ^^^^^^^^^^^^^^^^^^^^^^^^^^^^^^^^^^\n",
      "  File \"/Users/mateo/anaconda3/lib/python3.11/site-packages/pennylane/devices/preprocess.py\", line 131, in validate_device_wires\n",
      "    raise WireError(\n",
      "pennylane.wires.WireError: Cannot run circuit(s) on default.qubit as they contain wires not found on the device: {7}\n"
     ]
    },
    {
     "name": "stdout",
     "output_type": "stream",
     "text": [
      "Error during execution: Cannot run circuit(s) on default.qubit as they contain wires not found on the device: {7}\n"
     ]
    },
    {
     "name": "stderr",
     "output_type": "stream",
     "text": [
      "  0%|          | 0/185 [00:00<?, ?it/s]\n",
      "Traceback (most recent call last):\n",
      "  File \"/var/folders/wl/7wlprxgn5hxbwxmhbsvvsyj40000gs/T/ipykernel_28212/106676976.py\", line 320, in <module>\n",
      "    out = cost(param_init, train_x[i:i+25], train_y[i:i+25])\n",
      "          ^^^^^^^^^^^^^^^^^^^^^^^^^^^^^^^^^^^^^^^^^^^^^^^^^^\n",
      "  File \"/var/folders/wl/7wlprxgn5hxbwxmhbsvvsyj40000gs/T/ipykernel_28212/106676976.py\", line 312, in cost\n",
      "    predictions = m(circuit(weights, X))\n",
      "                    ^^^^^^^^^^^^^^^^^^^\n",
      "  File \"/Users/mateo/anaconda3/lib/python3.11/site-packages/pennylane/workflow/qnode.py\", line 1098, in __call__\n",
      "    res = self._execution_component(args, kwargs, override_shots=override_shots)\n",
      "          ^^^^^^^^^^^^^^^^^^^^^^^^^^^^^^^^^^^^^^^^^^^^^^^^^^^^^^^^^^^^^^^^^^^^^^\n",
      "  File \"/Users/mateo/anaconda3/lib/python3.11/site-packages/pennylane/workflow/qnode.py\", line 1052, in _execution_component\n",
      "    res = qml.execute(\n",
      "          ^^^^^^^^^^^^\n",
      "  File \"/Users/mateo/anaconda3/lib/python3.11/site-packages/pennylane/workflow/execution.py\", line 600, in execute\n",
      "    tapes, post_processing = transform_program(tapes)\n",
      "                             ^^^^^^^^^^^^^^^^^^^^^^^^\n",
      "  File \"/Users/mateo/anaconda3/lib/python3.11/site-packages/pennylane/transforms/core/transform_program.py\", line 509, in __call__\n",
      "    new_tapes, fn = transform(tape, *targs, **tkwargs)\n",
      "                    ^^^^^^^^^^^^^^^^^^^^^^^^^^^^^^^^^^\n",
      "  File \"/Users/mateo/anaconda3/lib/python3.11/site-packages/pennylane/devices/preprocess.py\", line 131, in validate_device_wires\n",
      "    raise WireError(\n",
      "pennylane.wires.WireError: Cannot run circuit(s) on default.qubit as they contain wires not found on the device: {7}\n"
     ]
    },
    {
     "name": "stdout",
     "output_type": "stream",
     "text": [
      "Error during execution: Cannot run circuit(s) on default.qubit as they contain wires not found on the device: {7}\n"
     ]
    },
    {
     "name": "stderr",
     "output_type": "stream",
     "text": [
      "  0%|          | 0/185 [00:00<?, ?it/s]\n",
      "Traceback (most recent call last):\n",
      "  File \"/var/folders/wl/7wlprxgn5hxbwxmhbsvvsyj40000gs/T/ipykernel_28212/106676976.py\", line 320, in <module>\n",
      "    out = cost(param_init, train_x[i:i+25], train_y[i:i+25])\n",
      "          ^^^^^^^^^^^^^^^^^^^^^^^^^^^^^^^^^^^^^^^^^^^^^^^^^^\n",
      "  File \"/var/folders/wl/7wlprxgn5hxbwxmhbsvvsyj40000gs/T/ipykernel_28212/106676976.py\", line 312, in cost\n",
      "    predictions = m(circuit(weights, X))\n",
      "                    ^^^^^^^^^^^^^^^^^^^\n",
      "  File \"/Users/mateo/anaconda3/lib/python3.11/site-packages/pennylane/workflow/qnode.py\", line 1098, in __call__\n",
      "    res = self._execution_component(args, kwargs, override_shots=override_shots)\n",
      "          ^^^^^^^^^^^^^^^^^^^^^^^^^^^^^^^^^^^^^^^^^^^^^^^^^^^^^^^^^^^^^^^^^^^^^^\n",
      "  File \"/Users/mateo/anaconda3/lib/python3.11/site-packages/pennylane/workflow/qnode.py\", line 1052, in _execution_component\n",
      "    res = qml.execute(\n",
      "          ^^^^^^^^^^^^\n",
      "  File \"/Users/mateo/anaconda3/lib/python3.11/site-packages/pennylane/workflow/execution.py\", line 600, in execute\n",
      "    tapes, post_processing = transform_program(tapes)\n",
      "                             ^^^^^^^^^^^^^^^^^^^^^^^^\n",
      "  File \"/Users/mateo/anaconda3/lib/python3.11/site-packages/pennylane/transforms/core/transform_program.py\", line 509, in __call__\n",
      "    new_tapes, fn = transform(tape, *targs, **tkwargs)\n",
      "                    ^^^^^^^^^^^^^^^^^^^^^^^^^^^^^^^^^^\n",
      "  File \"/Users/mateo/anaconda3/lib/python3.11/site-packages/pennylane/devices/preprocess.py\", line 131, in validate_device_wires\n",
      "    raise WireError(\n",
      "pennylane.wires.WireError: Cannot run circuit(s) on default.qubit as they contain wires not found on the device: {7}\n"
     ]
    },
    {
     "name": "stdout",
     "output_type": "stream",
     "text": [
      "Error during execution: Cannot run circuit(s) on default.qubit as they contain wires not found on the device: {7}\n"
     ]
    },
    {
     "name": "stderr",
     "output_type": "stream",
     "text": [
      "  0%|          | 0/185 [00:00<?, ?it/s]\n",
      "Traceback (most recent call last):\n",
      "  File \"/var/folders/wl/7wlprxgn5hxbwxmhbsvvsyj40000gs/T/ipykernel_28212/106676976.py\", line 320, in <module>\n",
      "    out = cost(param_init, train_x[i:i+25], train_y[i:i+25])\n",
      "          ^^^^^^^^^^^^^^^^^^^^^^^^^^^^^^^^^^^^^^^^^^^^^^^^^^\n",
      "  File \"/var/folders/wl/7wlprxgn5hxbwxmhbsvvsyj40000gs/T/ipykernel_28212/106676976.py\", line 312, in cost\n",
      "    predictions = m(circuit(weights, X))\n",
      "                    ^^^^^^^^^^^^^^^^^^^\n",
      "  File \"/Users/mateo/anaconda3/lib/python3.11/site-packages/pennylane/workflow/qnode.py\", line 1098, in __call__\n",
      "    res = self._execution_component(args, kwargs, override_shots=override_shots)\n",
      "          ^^^^^^^^^^^^^^^^^^^^^^^^^^^^^^^^^^^^^^^^^^^^^^^^^^^^^^^^^^^^^^^^^^^^^^\n",
      "  File \"/Users/mateo/anaconda3/lib/python3.11/site-packages/pennylane/workflow/qnode.py\", line 1052, in _execution_component\n",
      "    res = qml.execute(\n",
      "          ^^^^^^^^^^^^\n",
      "  File \"/Users/mateo/anaconda3/lib/python3.11/site-packages/pennylane/workflow/execution.py\", line 600, in execute\n",
      "    tapes, post_processing = transform_program(tapes)\n",
      "                             ^^^^^^^^^^^^^^^^^^^^^^^^\n",
      "  File \"/Users/mateo/anaconda3/lib/python3.11/site-packages/pennylane/transforms/core/transform_program.py\", line 509, in __call__\n",
      "    new_tapes, fn = transform(tape, *targs, **tkwargs)\n",
      "                    ^^^^^^^^^^^^^^^^^^^^^^^^^^^^^^^^^^\n",
      "  File \"/Users/mateo/anaconda3/lib/python3.11/site-packages/pennylane/devices/preprocess.py\", line 131, in validate_device_wires\n",
      "    raise WireError(\n",
      "pennylane.wires.WireError: Cannot run circuit(s) on default.qubit as they contain wires not found on the device: {7}\n"
     ]
    },
    {
     "name": "stdout",
     "output_type": "stream",
     "text": [
      "Error during execution: Cannot run circuit(s) on default.qubit as they contain wires not found on the device: {7}\n"
     ]
    },
    {
     "name": "stderr",
     "output_type": "stream",
     "text": [
      "  0%|          | 0/185 [00:00<?, ?it/s]\n",
      "Traceback (most recent call last):\n",
      "  File \"/var/folders/wl/7wlprxgn5hxbwxmhbsvvsyj40000gs/T/ipykernel_28212/106676976.py\", line 320, in <module>\n",
      "    out = cost(param_init, train_x[i:i+25], train_y[i:i+25])\n",
      "          ^^^^^^^^^^^^^^^^^^^^^^^^^^^^^^^^^^^^^^^^^^^^^^^^^^\n",
      "  File \"/var/folders/wl/7wlprxgn5hxbwxmhbsvvsyj40000gs/T/ipykernel_28212/106676976.py\", line 312, in cost\n",
      "    predictions = m(circuit(weights, X))\n",
      "                    ^^^^^^^^^^^^^^^^^^^\n",
      "  File \"/Users/mateo/anaconda3/lib/python3.11/site-packages/pennylane/workflow/qnode.py\", line 1098, in __call__\n",
      "    res = self._execution_component(args, kwargs, override_shots=override_shots)\n",
      "          ^^^^^^^^^^^^^^^^^^^^^^^^^^^^^^^^^^^^^^^^^^^^^^^^^^^^^^^^^^^^^^^^^^^^^^\n",
      "  File \"/Users/mateo/anaconda3/lib/python3.11/site-packages/pennylane/workflow/qnode.py\", line 1052, in _execution_component\n",
      "    res = qml.execute(\n",
      "          ^^^^^^^^^^^^\n",
      "  File \"/Users/mateo/anaconda3/lib/python3.11/site-packages/pennylane/workflow/execution.py\", line 600, in execute\n",
      "    tapes, post_processing = transform_program(tapes)\n",
      "                             ^^^^^^^^^^^^^^^^^^^^^^^^\n",
      "  File \"/Users/mateo/anaconda3/lib/python3.11/site-packages/pennylane/transforms/core/transform_program.py\", line 509, in __call__\n",
      "    new_tapes, fn = transform(tape, *targs, **tkwargs)\n",
      "                    ^^^^^^^^^^^^^^^^^^^^^^^^^^^^^^^^^^\n",
      "  File \"/Users/mateo/anaconda3/lib/python3.11/site-packages/pennylane/devices/preprocess.py\", line 131, in validate_device_wires\n",
      "    raise WireError(\n",
      "pennylane.wires.WireError: Cannot run circuit(s) on default.qubit as they contain wires not found on the device: {7}\n"
     ]
    },
    {
     "name": "stdout",
     "output_type": "stream",
     "text": [
      "Error during execution: Cannot run circuit(s) on default.qubit as they contain wires not found on the device: {7}\n"
     ]
    },
    {
     "name": "stderr",
     "output_type": "stream",
     "text": [
      "  0%|          | 0/185 [00:00<?, ?it/s]\n",
      "Traceback (most recent call last):\n",
      "  File \"/var/folders/wl/7wlprxgn5hxbwxmhbsvvsyj40000gs/T/ipykernel_28212/106676976.py\", line 320, in <module>\n",
      "    out = cost(param_init, train_x[i:i+25], train_y[i:i+25])\n",
      "          ^^^^^^^^^^^^^^^^^^^^^^^^^^^^^^^^^^^^^^^^^^^^^^^^^^\n",
      "  File \"/var/folders/wl/7wlprxgn5hxbwxmhbsvvsyj40000gs/T/ipykernel_28212/106676976.py\", line 312, in cost\n",
      "    predictions = m(circuit(weights, X))\n",
      "                    ^^^^^^^^^^^^^^^^^^^\n",
      "  File \"/Users/mateo/anaconda3/lib/python3.11/site-packages/pennylane/workflow/qnode.py\", line 1098, in __call__\n",
      "    res = self._execution_component(args, kwargs, override_shots=override_shots)\n",
      "          ^^^^^^^^^^^^^^^^^^^^^^^^^^^^^^^^^^^^^^^^^^^^^^^^^^^^^^^^^^^^^^^^^^^^^^\n",
      "  File \"/Users/mateo/anaconda3/lib/python3.11/site-packages/pennylane/workflow/qnode.py\", line 1052, in _execution_component\n",
      "    res = qml.execute(\n",
      "          ^^^^^^^^^^^^\n",
      "  File \"/Users/mateo/anaconda3/lib/python3.11/site-packages/pennylane/workflow/execution.py\", line 600, in execute\n",
      "    tapes, post_processing = transform_program(tapes)\n",
      "                             ^^^^^^^^^^^^^^^^^^^^^^^^\n",
      "  File \"/Users/mateo/anaconda3/lib/python3.11/site-packages/pennylane/transforms/core/transform_program.py\", line 509, in __call__\n",
      "    new_tapes, fn = transform(tape, *targs, **tkwargs)\n",
      "                    ^^^^^^^^^^^^^^^^^^^^^^^^^^^^^^^^^^\n",
      "  File \"/Users/mateo/anaconda3/lib/python3.11/site-packages/pennylane/devices/preprocess.py\", line 131, in validate_device_wires\n",
      "    raise WireError(\n",
      "pennylane.wires.WireError: Cannot run circuit(s) on default.qubit as they contain wires not found on the device: {7}\n"
     ]
    },
    {
     "name": "stdout",
     "output_type": "stream",
     "text": [
      "Error during execution: Cannot run circuit(s) on default.qubit as they contain wires not found on the device: {7}\n",
      "10\n"
     ]
    },
    {
     "name": "stderr",
     "output_type": "stream",
     "text": [
      "  0%|          | 0/185 [00:00<?, ?it/s]\n",
      "Traceback (most recent call last):\n",
      "  File \"/var/folders/wl/7wlprxgn5hxbwxmhbsvvsyj40000gs/T/ipykernel_28212/106676976.py\", line 320, in <module>\n",
      "    out = cost(param_init, train_x[i:i+25], train_y[i:i+25])\n",
      "          ^^^^^^^^^^^^^^^^^^^^^^^^^^^^^^^^^^^^^^^^^^^^^^^^^^\n",
      "  File \"/var/folders/wl/7wlprxgn5hxbwxmhbsvvsyj40000gs/T/ipykernel_28212/106676976.py\", line 312, in cost\n",
      "    predictions = m(circuit(weights, X))\n",
      "                    ^^^^^^^^^^^^^^^^^^^\n",
      "  File \"/Users/mateo/anaconda3/lib/python3.11/site-packages/pennylane/workflow/qnode.py\", line 1098, in __call__\n",
      "    res = self._execution_component(args, kwargs, override_shots=override_shots)\n",
      "          ^^^^^^^^^^^^^^^^^^^^^^^^^^^^^^^^^^^^^^^^^^^^^^^^^^^^^^^^^^^^^^^^^^^^^^\n",
      "  File \"/Users/mateo/anaconda3/lib/python3.11/site-packages/pennylane/workflow/qnode.py\", line 1052, in _execution_component\n",
      "    res = qml.execute(\n",
      "          ^^^^^^^^^^^^\n",
      "  File \"/Users/mateo/anaconda3/lib/python3.11/site-packages/pennylane/workflow/execution.py\", line 600, in execute\n",
      "    tapes, post_processing = transform_program(tapes)\n",
      "                             ^^^^^^^^^^^^^^^^^^^^^^^^\n",
      "  File \"/Users/mateo/anaconda3/lib/python3.11/site-packages/pennylane/transforms/core/transform_program.py\", line 509, in __call__\n",
      "    new_tapes, fn = transform(tape, *targs, **tkwargs)\n",
      "                    ^^^^^^^^^^^^^^^^^^^^^^^^^^^^^^^^^^\n",
      "  File \"/Users/mateo/anaconda3/lib/python3.11/site-packages/pennylane/devices/preprocess.py\", line 131, in validate_device_wires\n",
      "    raise WireError(\n",
      "pennylane.wires.WireError: Cannot run circuit(s) on default.qubit as they contain wires not found on the device: {7}\n"
     ]
    },
    {
     "name": "stdout",
     "output_type": "stream",
     "text": [
      "Error during execution: Cannot run circuit(s) on default.qubit as they contain wires not found on the device: {7}\n"
     ]
    },
    {
     "name": "stderr",
     "output_type": "stream",
     "text": [
      "  0%|          | 0/185 [00:00<?, ?it/s]\n",
      "Traceback (most recent call last):\n",
      "  File \"/var/folders/wl/7wlprxgn5hxbwxmhbsvvsyj40000gs/T/ipykernel_28212/106676976.py\", line 320, in <module>\n",
      "    out = cost(param_init, train_x[i:i+25], train_y[i:i+25])\n",
      "          ^^^^^^^^^^^^^^^^^^^^^^^^^^^^^^^^^^^^^^^^^^^^^^^^^^\n",
      "  File \"/var/folders/wl/7wlprxgn5hxbwxmhbsvvsyj40000gs/T/ipykernel_28212/106676976.py\", line 312, in cost\n",
      "    predictions = m(circuit(weights, X))\n",
      "                    ^^^^^^^^^^^^^^^^^^^\n",
      "  File \"/Users/mateo/anaconda3/lib/python3.11/site-packages/pennylane/workflow/qnode.py\", line 1098, in __call__\n",
      "    res = self._execution_component(args, kwargs, override_shots=override_shots)\n",
      "          ^^^^^^^^^^^^^^^^^^^^^^^^^^^^^^^^^^^^^^^^^^^^^^^^^^^^^^^^^^^^^^^^^^^^^^\n",
      "  File \"/Users/mateo/anaconda3/lib/python3.11/site-packages/pennylane/workflow/qnode.py\", line 1052, in _execution_component\n",
      "    res = qml.execute(\n",
      "          ^^^^^^^^^^^^\n",
      "  File \"/Users/mateo/anaconda3/lib/python3.11/site-packages/pennylane/workflow/execution.py\", line 600, in execute\n",
      "    tapes, post_processing = transform_program(tapes)\n",
      "                             ^^^^^^^^^^^^^^^^^^^^^^^^\n",
      "  File \"/Users/mateo/anaconda3/lib/python3.11/site-packages/pennylane/transforms/core/transform_program.py\", line 509, in __call__\n",
      "    new_tapes, fn = transform(tape, *targs, **tkwargs)\n",
      "                    ^^^^^^^^^^^^^^^^^^^^^^^^^^^^^^^^^^\n",
      "  File \"/Users/mateo/anaconda3/lib/python3.11/site-packages/pennylane/devices/preprocess.py\", line 131, in validate_device_wires\n",
      "    raise WireError(\n",
      "pennylane.wires.WireError: Cannot run circuit(s) on default.qubit as they contain wires not found on the device: {7}\n"
     ]
    },
    {
     "name": "stdout",
     "output_type": "stream",
     "text": [
      "Error during execution: Cannot run circuit(s) on default.qubit as they contain wires not found on the device: {7}\n"
     ]
    },
    {
     "name": "stderr",
     "output_type": "stream",
     "text": [
      "  0%|          | 0/185 [00:00<?, ?it/s]\n",
      "Traceback (most recent call last):\n",
      "  File \"/var/folders/wl/7wlprxgn5hxbwxmhbsvvsyj40000gs/T/ipykernel_28212/106676976.py\", line 320, in <module>\n",
      "    out = cost(param_init, train_x[i:i+25], train_y[i:i+25])\n",
      "          ^^^^^^^^^^^^^^^^^^^^^^^^^^^^^^^^^^^^^^^^^^^^^^^^^^\n",
      "  File \"/var/folders/wl/7wlprxgn5hxbwxmhbsvvsyj40000gs/T/ipykernel_28212/106676976.py\", line 312, in cost\n",
      "    predictions = m(circuit(weights, X))\n",
      "                    ^^^^^^^^^^^^^^^^^^^\n",
      "  File \"/Users/mateo/anaconda3/lib/python3.11/site-packages/pennylane/workflow/qnode.py\", line 1098, in __call__\n",
      "    res = self._execution_component(args, kwargs, override_shots=override_shots)\n",
      "          ^^^^^^^^^^^^^^^^^^^^^^^^^^^^^^^^^^^^^^^^^^^^^^^^^^^^^^^^^^^^^^^^^^^^^^\n",
      "  File \"/Users/mateo/anaconda3/lib/python3.11/site-packages/pennylane/workflow/qnode.py\", line 1052, in _execution_component\n",
      "    res = qml.execute(\n",
      "          ^^^^^^^^^^^^\n",
      "  File \"/Users/mateo/anaconda3/lib/python3.11/site-packages/pennylane/workflow/execution.py\", line 600, in execute\n",
      "    tapes, post_processing = transform_program(tapes)\n",
      "                             ^^^^^^^^^^^^^^^^^^^^^^^^\n",
      "  File \"/Users/mateo/anaconda3/lib/python3.11/site-packages/pennylane/transforms/core/transform_program.py\", line 509, in __call__\n",
      "    new_tapes, fn = transform(tape, *targs, **tkwargs)\n",
      "                    ^^^^^^^^^^^^^^^^^^^^^^^^^^^^^^^^^^\n",
      "  File \"/Users/mateo/anaconda3/lib/python3.11/site-packages/pennylane/devices/preprocess.py\", line 131, in validate_device_wires\n",
      "    raise WireError(\n",
      "pennylane.wires.WireError: Cannot run circuit(s) on default.qubit as they contain wires not found on the device: {7}\n"
     ]
    },
    {
     "name": "stdout",
     "output_type": "stream",
     "text": [
      "Error during execution: Cannot run circuit(s) on default.qubit as they contain wires not found on the device: {7}\n"
     ]
    },
    {
     "name": "stderr",
     "output_type": "stream",
     "text": [
      "  0%|          | 0/185 [00:00<?, ?it/s]\n",
      "Traceback (most recent call last):\n",
      "  File \"/var/folders/wl/7wlprxgn5hxbwxmhbsvvsyj40000gs/T/ipykernel_28212/106676976.py\", line 320, in <module>\n",
      "    out = cost(param_init, train_x[i:i+25], train_y[i:i+25])\n",
      "          ^^^^^^^^^^^^^^^^^^^^^^^^^^^^^^^^^^^^^^^^^^^^^^^^^^\n",
      "  File \"/var/folders/wl/7wlprxgn5hxbwxmhbsvvsyj40000gs/T/ipykernel_28212/106676976.py\", line 312, in cost\n",
      "    predictions = m(circuit(weights, X))\n",
      "                    ^^^^^^^^^^^^^^^^^^^\n",
      "  File \"/Users/mateo/anaconda3/lib/python3.11/site-packages/pennylane/workflow/qnode.py\", line 1098, in __call__\n",
      "    res = self._execution_component(args, kwargs, override_shots=override_shots)\n",
      "          ^^^^^^^^^^^^^^^^^^^^^^^^^^^^^^^^^^^^^^^^^^^^^^^^^^^^^^^^^^^^^^^^^^^^^^\n",
      "  File \"/Users/mateo/anaconda3/lib/python3.11/site-packages/pennylane/workflow/qnode.py\", line 1052, in _execution_component\n",
      "    res = qml.execute(\n",
      "          ^^^^^^^^^^^^\n",
      "  File \"/Users/mateo/anaconda3/lib/python3.11/site-packages/pennylane/workflow/execution.py\", line 600, in execute\n",
      "    tapes, post_processing = transform_program(tapes)\n",
      "                             ^^^^^^^^^^^^^^^^^^^^^^^^\n",
      "  File \"/Users/mateo/anaconda3/lib/python3.11/site-packages/pennylane/transforms/core/transform_program.py\", line 509, in __call__\n",
      "    new_tapes, fn = transform(tape, *targs, **tkwargs)\n",
      "                    ^^^^^^^^^^^^^^^^^^^^^^^^^^^^^^^^^^\n",
      "  File \"/Users/mateo/anaconda3/lib/python3.11/site-packages/pennylane/devices/preprocess.py\", line 131, in validate_device_wires\n",
      "    raise WireError(\n",
      "pennylane.wires.WireError: Cannot run circuit(s) on default.qubit as they contain wires not found on the device: {7}\n"
     ]
    },
    {
     "name": "stdout",
     "output_type": "stream",
     "text": [
      "Error during execution: Cannot run circuit(s) on default.qubit as they contain wires not found on the device: {7}\n"
     ]
    },
    {
     "name": "stderr",
     "output_type": "stream",
     "text": [
      "  0%|          | 0/185 [00:00<?, ?it/s]\n",
      "Traceback (most recent call last):\n",
      "  File \"/var/folders/wl/7wlprxgn5hxbwxmhbsvvsyj40000gs/T/ipykernel_28212/106676976.py\", line 320, in <module>\n",
      "    out = cost(param_init, train_x[i:i+25], train_y[i:i+25])\n",
      "          ^^^^^^^^^^^^^^^^^^^^^^^^^^^^^^^^^^^^^^^^^^^^^^^^^^\n",
      "  File \"/var/folders/wl/7wlprxgn5hxbwxmhbsvvsyj40000gs/T/ipykernel_28212/106676976.py\", line 312, in cost\n",
      "    predictions = m(circuit(weights, X))\n",
      "                    ^^^^^^^^^^^^^^^^^^^\n",
      "  File \"/Users/mateo/anaconda3/lib/python3.11/site-packages/pennylane/workflow/qnode.py\", line 1098, in __call__\n",
      "    res = self._execution_component(args, kwargs, override_shots=override_shots)\n",
      "          ^^^^^^^^^^^^^^^^^^^^^^^^^^^^^^^^^^^^^^^^^^^^^^^^^^^^^^^^^^^^^^^^^^^^^^\n",
      "  File \"/Users/mateo/anaconda3/lib/python3.11/site-packages/pennylane/workflow/qnode.py\", line 1052, in _execution_component\n",
      "    res = qml.execute(\n",
      "          ^^^^^^^^^^^^\n",
      "  File \"/Users/mateo/anaconda3/lib/python3.11/site-packages/pennylane/workflow/execution.py\", line 600, in execute\n",
      "    tapes, post_processing = transform_program(tapes)\n",
      "                             ^^^^^^^^^^^^^^^^^^^^^^^^\n",
      "  File \"/Users/mateo/anaconda3/lib/python3.11/site-packages/pennylane/transforms/core/transform_program.py\", line 509, in __call__\n",
      "    new_tapes, fn = transform(tape, *targs, **tkwargs)\n",
      "                    ^^^^^^^^^^^^^^^^^^^^^^^^^^^^^^^^^^\n",
      "  File \"/Users/mateo/anaconda3/lib/python3.11/site-packages/pennylane/devices/preprocess.py\", line 131, in validate_device_wires\n",
      "    raise WireError(\n",
      "pennylane.wires.WireError: Cannot run circuit(s) on default.qubit as they contain wires not found on the device: {7}\n"
     ]
    },
    {
     "name": "stdout",
     "output_type": "stream",
     "text": [
      "Error during execution: Cannot run circuit(s) on default.qubit as they contain wires not found on the device: {7}\n"
     ]
    },
    {
     "name": "stderr",
     "output_type": "stream",
     "text": [
      "  0%|          | 0/185 [00:00<?, ?it/s]\n",
      "Traceback (most recent call last):\n",
      "  File \"/var/folders/wl/7wlprxgn5hxbwxmhbsvvsyj40000gs/T/ipykernel_28212/106676976.py\", line 320, in <module>\n",
      "    out = cost(param_init, train_x[i:i+25], train_y[i:i+25])\n",
      "          ^^^^^^^^^^^^^^^^^^^^^^^^^^^^^^^^^^^^^^^^^^^^^^^^^^\n",
      "  File \"/var/folders/wl/7wlprxgn5hxbwxmhbsvvsyj40000gs/T/ipykernel_28212/106676976.py\", line 312, in cost\n",
      "    predictions = m(circuit(weights, X))\n",
      "                    ^^^^^^^^^^^^^^^^^^^\n",
      "  File \"/Users/mateo/anaconda3/lib/python3.11/site-packages/pennylane/workflow/qnode.py\", line 1098, in __call__\n",
      "    res = self._execution_component(args, kwargs, override_shots=override_shots)\n",
      "          ^^^^^^^^^^^^^^^^^^^^^^^^^^^^^^^^^^^^^^^^^^^^^^^^^^^^^^^^^^^^^^^^^^^^^^\n",
      "  File \"/Users/mateo/anaconda3/lib/python3.11/site-packages/pennylane/workflow/qnode.py\", line 1052, in _execution_component\n",
      "    res = qml.execute(\n",
      "          ^^^^^^^^^^^^\n",
      "  File \"/Users/mateo/anaconda3/lib/python3.11/site-packages/pennylane/workflow/execution.py\", line 600, in execute\n",
      "    tapes, post_processing = transform_program(tapes)\n",
      "                             ^^^^^^^^^^^^^^^^^^^^^^^^\n",
      "  File \"/Users/mateo/anaconda3/lib/python3.11/site-packages/pennylane/transforms/core/transform_program.py\", line 509, in __call__\n",
      "    new_tapes, fn = transform(tape, *targs, **tkwargs)\n",
      "                    ^^^^^^^^^^^^^^^^^^^^^^^^^^^^^^^^^^\n",
      "  File \"/Users/mateo/anaconda3/lib/python3.11/site-packages/pennylane/devices/preprocess.py\", line 131, in validate_device_wires\n",
      "    raise WireError(\n",
      "pennylane.wires.WireError: Cannot run circuit(s) on default.qubit as they contain wires not found on the device: {7}\n"
     ]
    },
    {
     "name": "stdout",
     "output_type": "stream",
     "text": [
      "Error during execution: Cannot run circuit(s) on default.qubit as they contain wires not found on the device: {7}\n",
      "10\n"
     ]
    },
    {
     "name": "stderr",
     "output_type": "stream",
     "text": [
      "  0%|          | 0/185 [00:00<?, ?it/s]\n",
      "Traceback (most recent call last):\n",
      "  File \"/var/folders/wl/7wlprxgn5hxbwxmhbsvvsyj40000gs/T/ipykernel_28212/106676976.py\", line 320, in <module>\n",
      "    out = cost(param_init, train_x[i:i+25], train_y[i:i+25])\n",
      "          ^^^^^^^^^^^^^^^^^^^^^^^^^^^^^^^^^^^^^^^^^^^^^^^^^^\n",
      "  File \"/var/folders/wl/7wlprxgn5hxbwxmhbsvvsyj40000gs/T/ipykernel_28212/106676976.py\", line 312, in cost\n",
      "    predictions = m(circuit(weights, X))\n",
      "                    ^^^^^^^^^^^^^^^^^^^\n",
      "  File \"/Users/mateo/anaconda3/lib/python3.11/site-packages/pennylane/workflow/qnode.py\", line 1098, in __call__\n",
      "    res = self._execution_component(args, kwargs, override_shots=override_shots)\n",
      "          ^^^^^^^^^^^^^^^^^^^^^^^^^^^^^^^^^^^^^^^^^^^^^^^^^^^^^^^^^^^^^^^^^^^^^^\n",
      "  File \"/Users/mateo/anaconda3/lib/python3.11/site-packages/pennylane/workflow/qnode.py\", line 1052, in _execution_component\n",
      "    res = qml.execute(\n",
      "          ^^^^^^^^^^^^\n",
      "  File \"/Users/mateo/anaconda3/lib/python3.11/site-packages/pennylane/workflow/execution.py\", line 600, in execute\n",
      "    tapes, post_processing = transform_program(tapes)\n",
      "                             ^^^^^^^^^^^^^^^^^^^^^^^^\n",
      "  File \"/Users/mateo/anaconda3/lib/python3.11/site-packages/pennylane/transforms/core/transform_program.py\", line 509, in __call__\n",
      "    new_tapes, fn = transform(tape, *targs, **tkwargs)\n",
      "                    ^^^^^^^^^^^^^^^^^^^^^^^^^^^^^^^^^^\n",
      "  File \"/Users/mateo/anaconda3/lib/python3.11/site-packages/pennylane/devices/preprocess.py\", line 131, in validate_device_wires\n",
      "    raise WireError(\n",
      "pennylane.wires.WireError: Cannot run circuit(s) on default.qubit as they contain wires not found on the device: {7}\n"
     ]
    },
    {
     "name": "stdout",
     "output_type": "stream",
     "text": [
      "Error during execution: Cannot run circuit(s) on default.qubit as they contain wires not found on the device: {7}\n"
     ]
    },
    {
     "name": "stderr",
     "output_type": "stream",
     "text": [
      "  0%|          | 0/185 [00:00<?, ?it/s]\n",
      "Traceback (most recent call last):\n",
      "  File \"/var/folders/wl/7wlprxgn5hxbwxmhbsvvsyj40000gs/T/ipykernel_28212/106676976.py\", line 320, in <module>\n",
      "    out = cost(param_init, train_x[i:i+25], train_y[i:i+25])\n",
      "          ^^^^^^^^^^^^^^^^^^^^^^^^^^^^^^^^^^^^^^^^^^^^^^^^^^\n",
      "  File \"/var/folders/wl/7wlprxgn5hxbwxmhbsvvsyj40000gs/T/ipykernel_28212/106676976.py\", line 312, in cost\n",
      "    predictions = m(circuit(weights, X))\n",
      "                    ^^^^^^^^^^^^^^^^^^^\n",
      "  File \"/Users/mateo/anaconda3/lib/python3.11/site-packages/pennylane/workflow/qnode.py\", line 1098, in __call__\n",
      "    res = self._execution_component(args, kwargs, override_shots=override_shots)\n",
      "          ^^^^^^^^^^^^^^^^^^^^^^^^^^^^^^^^^^^^^^^^^^^^^^^^^^^^^^^^^^^^^^^^^^^^^^\n",
      "  File \"/Users/mateo/anaconda3/lib/python3.11/site-packages/pennylane/workflow/qnode.py\", line 1052, in _execution_component\n",
      "    res = qml.execute(\n",
      "          ^^^^^^^^^^^^\n",
      "  File \"/Users/mateo/anaconda3/lib/python3.11/site-packages/pennylane/workflow/execution.py\", line 600, in execute\n",
      "    tapes, post_processing = transform_program(tapes)\n",
      "                             ^^^^^^^^^^^^^^^^^^^^^^^^\n",
      "  File \"/Users/mateo/anaconda3/lib/python3.11/site-packages/pennylane/transforms/core/transform_program.py\", line 509, in __call__\n",
      "    new_tapes, fn = transform(tape, *targs, **tkwargs)\n",
      "                    ^^^^^^^^^^^^^^^^^^^^^^^^^^^^^^^^^^\n",
      "  File \"/Users/mateo/anaconda3/lib/python3.11/site-packages/pennylane/devices/preprocess.py\", line 131, in validate_device_wires\n",
      "    raise WireError(\n",
      "pennylane.wires.WireError: Cannot run circuit(s) on default.qubit as they contain wires not found on the device: {7}\n"
     ]
    },
    {
     "name": "stdout",
     "output_type": "stream",
     "text": [
      "Error during execution: Cannot run circuit(s) on default.qubit as they contain wires not found on the device: {7}\n"
     ]
    },
    {
     "name": "stderr",
     "output_type": "stream",
     "text": [
      "  0%|          | 0/185 [00:00<?, ?it/s]\n",
      "Traceback (most recent call last):\n",
      "  File \"/var/folders/wl/7wlprxgn5hxbwxmhbsvvsyj40000gs/T/ipykernel_28212/106676976.py\", line 320, in <module>\n",
      "    out = cost(param_init, train_x[i:i+25], train_y[i:i+25])\n",
      "          ^^^^^^^^^^^^^^^^^^^^^^^^^^^^^^^^^^^^^^^^^^^^^^^^^^\n",
      "  File \"/var/folders/wl/7wlprxgn5hxbwxmhbsvvsyj40000gs/T/ipykernel_28212/106676976.py\", line 312, in cost\n",
      "    predictions = m(circuit(weights, X))\n",
      "                    ^^^^^^^^^^^^^^^^^^^\n",
      "  File \"/Users/mateo/anaconda3/lib/python3.11/site-packages/pennylane/workflow/qnode.py\", line 1098, in __call__\n",
      "    res = self._execution_component(args, kwargs, override_shots=override_shots)\n",
      "          ^^^^^^^^^^^^^^^^^^^^^^^^^^^^^^^^^^^^^^^^^^^^^^^^^^^^^^^^^^^^^^^^^^^^^^\n",
      "  File \"/Users/mateo/anaconda3/lib/python3.11/site-packages/pennylane/workflow/qnode.py\", line 1052, in _execution_component\n",
      "    res = qml.execute(\n",
      "          ^^^^^^^^^^^^\n",
      "  File \"/Users/mateo/anaconda3/lib/python3.11/site-packages/pennylane/workflow/execution.py\", line 600, in execute\n",
      "    tapes, post_processing = transform_program(tapes)\n",
      "                             ^^^^^^^^^^^^^^^^^^^^^^^^\n",
      "  File \"/Users/mateo/anaconda3/lib/python3.11/site-packages/pennylane/transforms/core/transform_program.py\", line 509, in __call__\n",
      "    new_tapes, fn = transform(tape, *targs, **tkwargs)\n",
      "                    ^^^^^^^^^^^^^^^^^^^^^^^^^^^^^^^^^^\n",
      "  File \"/Users/mateo/anaconda3/lib/python3.11/site-packages/pennylane/devices/preprocess.py\", line 131, in validate_device_wires\n",
      "    raise WireError(\n",
      "pennylane.wires.WireError: Cannot run circuit(s) on default.qubit as they contain wires not found on the device: {7}\n"
     ]
    },
    {
     "name": "stdout",
     "output_type": "stream",
     "text": [
      "Error during execution: Cannot run circuit(s) on default.qubit as they contain wires not found on the device: {7}\n"
     ]
    },
    {
     "name": "stderr",
     "output_type": "stream",
     "text": [
      "  0%|          | 0/185 [00:00<?, ?it/s]\n",
      "Traceback (most recent call last):\n",
      "  File \"/var/folders/wl/7wlprxgn5hxbwxmhbsvvsyj40000gs/T/ipykernel_28212/106676976.py\", line 320, in <module>\n",
      "    out = cost(param_init, train_x[i:i+25], train_y[i:i+25])\n",
      "          ^^^^^^^^^^^^^^^^^^^^^^^^^^^^^^^^^^^^^^^^^^^^^^^^^^\n",
      "  File \"/var/folders/wl/7wlprxgn5hxbwxmhbsvvsyj40000gs/T/ipykernel_28212/106676976.py\", line 312, in cost\n",
      "    predictions = m(circuit(weights, X))\n",
      "                    ^^^^^^^^^^^^^^^^^^^\n",
      "  File \"/Users/mateo/anaconda3/lib/python3.11/site-packages/pennylane/workflow/qnode.py\", line 1098, in __call__\n",
      "    res = self._execution_component(args, kwargs, override_shots=override_shots)\n",
      "          ^^^^^^^^^^^^^^^^^^^^^^^^^^^^^^^^^^^^^^^^^^^^^^^^^^^^^^^^^^^^^^^^^^^^^^\n",
      "  File \"/Users/mateo/anaconda3/lib/python3.11/site-packages/pennylane/workflow/qnode.py\", line 1052, in _execution_component\n",
      "    res = qml.execute(\n",
      "          ^^^^^^^^^^^^\n",
      "  File \"/Users/mateo/anaconda3/lib/python3.11/site-packages/pennylane/workflow/execution.py\", line 600, in execute\n",
      "    tapes, post_processing = transform_program(tapes)\n",
      "                             ^^^^^^^^^^^^^^^^^^^^^^^^\n",
      "  File \"/Users/mateo/anaconda3/lib/python3.11/site-packages/pennylane/transforms/core/transform_program.py\", line 509, in __call__\n",
      "    new_tapes, fn = transform(tape, *targs, **tkwargs)\n",
      "                    ^^^^^^^^^^^^^^^^^^^^^^^^^^^^^^^^^^\n",
      "  File \"/Users/mateo/anaconda3/lib/python3.11/site-packages/pennylane/devices/preprocess.py\", line 131, in validate_device_wires\n",
      "    raise WireError(\n",
      "pennylane.wires.WireError: Cannot run circuit(s) on default.qubit as they contain wires not found on the device: {7}\n"
     ]
    },
    {
     "name": "stdout",
     "output_type": "stream",
     "text": [
      "Error during execution: Cannot run circuit(s) on default.qubit as they contain wires not found on the device: {7}\n"
     ]
    },
    {
     "name": "stderr",
     "output_type": "stream",
     "text": [
      "  0%|          | 0/185 [00:00<?, ?it/s]\n",
      "Traceback (most recent call last):\n",
      "  File \"/var/folders/wl/7wlprxgn5hxbwxmhbsvvsyj40000gs/T/ipykernel_28212/106676976.py\", line 320, in <module>\n",
      "    out = cost(param_init, train_x[i:i+25], train_y[i:i+25])\n",
      "          ^^^^^^^^^^^^^^^^^^^^^^^^^^^^^^^^^^^^^^^^^^^^^^^^^^\n",
      "  File \"/var/folders/wl/7wlprxgn5hxbwxmhbsvvsyj40000gs/T/ipykernel_28212/106676976.py\", line 312, in cost\n",
      "    predictions = m(circuit(weights, X))\n",
      "                    ^^^^^^^^^^^^^^^^^^^\n",
      "  File \"/Users/mateo/anaconda3/lib/python3.11/site-packages/pennylane/workflow/qnode.py\", line 1098, in __call__\n",
      "    res = self._execution_component(args, kwargs, override_shots=override_shots)\n",
      "          ^^^^^^^^^^^^^^^^^^^^^^^^^^^^^^^^^^^^^^^^^^^^^^^^^^^^^^^^^^^^^^^^^^^^^^\n",
      "  File \"/Users/mateo/anaconda3/lib/python3.11/site-packages/pennylane/workflow/qnode.py\", line 1052, in _execution_component\n",
      "    res = qml.execute(\n",
      "          ^^^^^^^^^^^^\n",
      "  File \"/Users/mateo/anaconda3/lib/python3.11/site-packages/pennylane/workflow/execution.py\", line 600, in execute\n",
      "    tapes, post_processing = transform_program(tapes)\n",
      "                             ^^^^^^^^^^^^^^^^^^^^^^^^\n",
      "  File \"/Users/mateo/anaconda3/lib/python3.11/site-packages/pennylane/transforms/core/transform_program.py\", line 509, in __call__\n",
      "    new_tapes, fn = transform(tape, *targs, **tkwargs)\n",
      "                    ^^^^^^^^^^^^^^^^^^^^^^^^^^^^^^^^^^\n",
      "  File \"/Users/mateo/anaconda3/lib/python3.11/site-packages/pennylane/devices/preprocess.py\", line 131, in validate_device_wires\n",
      "    raise WireError(\n",
      "pennylane.wires.WireError: Cannot run circuit(s) on default.qubit as they contain wires not found on the device: {7}\n"
     ]
    },
    {
     "name": "stdout",
     "output_type": "stream",
     "text": [
      "Error during execution: Cannot run circuit(s) on default.qubit as they contain wires not found on the device: {7}\n"
     ]
    },
    {
     "name": "stderr",
     "output_type": "stream",
     "text": [
      "  0%|          | 0/185 [00:00<?, ?it/s]\n",
      "Traceback (most recent call last):\n",
      "  File \"/var/folders/wl/7wlprxgn5hxbwxmhbsvvsyj40000gs/T/ipykernel_28212/106676976.py\", line 320, in <module>\n",
      "    out = cost(param_init, train_x[i:i+25], train_y[i:i+25])\n",
      "          ^^^^^^^^^^^^^^^^^^^^^^^^^^^^^^^^^^^^^^^^^^^^^^^^^^\n",
      "  File \"/var/folders/wl/7wlprxgn5hxbwxmhbsvvsyj40000gs/T/ipykernel_28212/106676976.py\", line 312, in cost\n",
      "    predictions = m(circuit(weights, X))\n",
      "                    ^^^^^^^^^^^^^^^^^^^\n",
      "  File \"/Users/mateo/anaconda3/lib/python3.11/site-packages/pennylane/workflow/qnode.py\", line 1098, in __call__\n",
      "    res = self._execution_component(args, kwargs, override_shots=override_shots)\n",
      "          ^^^^^^^^^^^^^^^^^^^^^^^^^^^^^^^^^^^^^^^^^^^^^^^^^^^^^^^^^^^^^^^^^^^^^^\n",
      "  File \"/Users/mateo/anaconda3/lib/python3.11/site-packages/pennylane/workflow/qnode.py\", line 1052, in _execution_component\n",
      "    res = qml.execute(\n",
      "          ^^^^^^^^^^^^\n",
      "  File \"/Users/mateo/anaconda3/lib/python3.11/site-packages/pennylane/workflow/execution.py\", line 600, in execute\n",
      "    tapes, post_processing = transform_program(tapes)\n",
      "                             ^^^^^^^^^^^^^^^^^^^^^^^^\n",
      "  File \"/Users/mateo/anaconda3/lib/python3.11/site-packages/pennylane/transforms/core/transform_program.py\", line 509, in __call__\n",
      "    new_tapes, fn = transform(tape, *targs, **tkwargs)\n",
      "                    ^^^^^^^^^^^^^^^^^^^^^^^^^^^^^^^^^^\n",
      "  File \"/Users/mateo/anaconda3/lib/python3.11/site-packages/pennylane/devices/preprocess.py\", line 131, in validate_device_wires\n",
      "    raise WireError(\n",
      "pennylane.wires.WireError: Cannot run circuit(s) on default.qubit as they contain wires not found on the device: {7}\n"
     ]
    },
    {
     "name": "stdout",
     "output_type": "stream",
     "text": [
      "Error during execution: Cannot run circuit(s) on default.qubit as they contain wires not found on the device: {7}\n",
      "(5788, 8)\n",
      "3\n"
     ]
    },
    {
     "name": "stderr",
     "output_type": "stream",
     "text": [
      "186it [00:02, 76.75it/s]                         \n",
      "186it [00:02, 71.66it/s]                         \n",
      "186it [00:02, 77.56it/s]                         \n",
      "186it [00:02, 78.43it/s]                         \n",
      "186it [00:02, 73.91it/s]                         \n",
      "186it [00:02, 72.12it/s]                         \n",
      "186it [00:02, 76.17it/s]                         \n",
      "186it [00:02, 73.53it/s]                         \n",
      "186it [00:02, 76.99it/s]                         \n",
      "186it [00:02, 76.97it/s]                         \n",
      "186it [00:02, 73.75it/s]                         \n",
      "186it [00:02, 76.49it/s]                         \n",
      "186it [00:02, 72.74it/s]                         \n",
      "186it [00:02, 75.39it/s]                         \n",
      "186it [00:02, 72.23it/s]                         \n",
      "186it [00:02, 77.06it/s]                         \n",
      "186it [00:02, 73.69it/s]                         \n",
      "186it [00:02, 76.93it/s]                         \n"
     ]
    },
    {
     "name": "stdout",
     "output_type": "stream",
     "text": [
      "15\n"
     ]
    },
    {
     "name": "stderr",
     "output_type": "stream",
     "text": [
      "186it [00:02, 76.09it/s]                         \n",
      "186it [00:02, 70.85it/s]                         \n",
      "186it [00:02, 77.11it/s]                         \n",
      "186it [00:02, 76.87it/s]                         \n",
      "186it [00:02, 69.97it/s]                         \n",
      "186it [00:02, 77.70it/s]                         \n",
      "186it [00:02, 73.16it/s]                         \n",
      "186it [00:02, 76.15it/s]                         \n",
      "186it [00:02, 73.69it/s]                         \n",
      "186it [00:02, 76.92it/s]                         \n",
      "186it [00:02, 74.07it/s]                         \n",
      "186it [00:02, 73.36it/s]                         \n",
      "186it [00:02, 76.21it/s]                         \n",
      "186it [00:02, 74.95it/s]                         \n",
      "186it [00:02, 75.92it/s]                         \n",
      "186it [00:02, 73.78it/s]                         \n",
      "186it [00:02, 74.03it/s]                         \n",
      "186it [00:02, 72.23it/s]                         \n"
     ]
    },
    {
     "name": "stdout",
     "output_type": "stream",
     "text": [
      "2\n"
     ]
    },
    {
     "name": "stderr",
     "output_type": "stream",
     "text": [
      "186it [00:02, 75.51it/s]                         \n",
      "186it [00:02, 71.76it/s]                         \n",
      "186it [00:02, 72.93it/s]                         \n",
      "186it [00:02, 75.76it/s]                         \n",
      "186it [00:02, 68.89it/s]                         \n",
      "186it [00:02, 75.52it/s]                         \n",
      "186it [00:02, 71.80it/s]                         \n",
      "186it [00:02, 76.36it/s]                         \n",
      "186it [00:02, 72.20it/s]                         \n",
      "186it [00:02, 71.27it/s]                         \n",
      "186it [00:02, 73.82it/s]                         \n",
      "186it [00:02, 76.47it/s]                         \n",
      "186it [00:02, 77.24it/s]                         \n",
      "186it [00:02, 73.96it/s]                         \n",
      "186it [00:02, 76.42it/s]                         \n",
      "186it [00:02, 71.37it/s]                         \n",
      "186it [00:02, 73.87it/s]                         \n",
      "186it [00:02, 72.47it/s]                         \n"
     ]
    },
    {
     "name": "stdout",
     "output_type": "stream",
     "text": [
      "2\n"
     ]
    },
    {
     "name": "stderr",
     "output_type": "stream",
     "text": [
      "186it [00:02, 69.21it/s]                         \n",
      "186it [00:02, 77.30it/s]                         \n",
      "186it [00:02, 77.78it/s]                         \n",
      "186it [00:02, 74.63it/s]                         \n",
      "186it [00:02, 76.62it/s]                         \n",
      "186it [00:02, 78.07it/s]                         \n",
      "186it [00:02, 76.99it/s]                         \n",
      "186it [00:02, 73.47it/s]                         \n",
      "186it [00:02, 75.47it/s]                         \n",
      "186it [00:02, 75.98it/s]                         \n",
      "186it [00:02, 71.61it/s]                         \n",
      "186it [00:02, 72.75it/s]                         \n",
      "186it [00:02, 75.17it/s]                         \n",
      "186it [00:02, 72.32it/s]                         \n",
      "186it [00:02, 67.89it/s]                         \n",
      "186it [00:02, 74.42it/s]                         \n",
      "186it [00:02, 69.30it/s]                         \n",
      "186it [00:02, 74.37it/s]                         \n"
     ]
    },
    {
     "name": "stdout",
     "output_type": "stream",
     "text": [
      "4\n"
     ]
    },
    {
     "name": "stderr",
     "output_type": "stream",
     "text": [
      "186it [00:02, 73.18it/s]                         \n",
      "186it [00:02, 76.90it/s]                         \n",
      "186it [00:02, 76.17it/s]                         \n",
      "186it [00:02, 69.63it/s]                         \n",
      "186it [00:02, 75.12it/s]                         \n",
      "186it [00:02, 74.86it/s]                         \n",
      "186it [00:02, 69.90it/s]                         \n",
      "186it [00:02, 75.68it/s]                         \n",
      "186it [00:02, 71.67it/s]                         \n",
      "186it [00:02, 62.91it/s]                         \n",
      "186it [00:02, 68.69it/s]                         \n",
      "186it [00:03, 61.32it/s]                         \n",
      "186it [00:02, 65.21it/s]                         \n",
      "186it [00:02, 71.33it/s]                         \n",
      "186it [00:02, 74.87it/s]                         \n",
      "186it [00:02, 74.73it/s]                         \n",
      "186it [00:02, 68.61it/s]                         \n",
      "186it [00:02, 74.60it/s]                         \n"
     ]
    },
    {
     "name": "stdout",
     "output_type": "stream",
     "text": [
      "6\n"
     ]
    },
    {
     "name": "stderr",
     "output_type": "stream",
     "text": [
      "186it [00:02, 67.60it/s]                         \n",
      "186it [00:02, 72.68it/s]                         \n",
      "186it [00:02, 70.94it/s]                         \n",
      "186it [00:02, 69.13it/s]                         \n",
      "186it [00:02, 70.89it/s]                         \n",
      "186it [00:02, 71.07it/s]                         \n",
      "186it [00:02, 70.64it/s]                         \n",
      "186it [00:02, 65.83it/s]                         \n",
      "186it [00:02, 72.69it/s]                         \n",
      "186it [00:02, 73.26it/s]                         \n",
      "186it [00:02, 68.30it/s]                         \n",
      "186it [00:02, 73.47it/s]                         \n",
      "186it [00:02, 73.61it/s]                         \n",
      "186it [00:02, 71.34it/s]                         \n",
      "186it [00:02, 69.54it/s]                         \n",
      "186it [00:02, 68.38it/s]                         \n",
      "186it [00:02, 70.87it/s]                         \n",
      "186it [00:02, 68.13it/s]                         \n"
     ]
    },
    {
     "name": "stdout",
     "output_type": "stream",
     "text": [
      "6\n"
     ]
    },
    {
     "name": "stderr",
     "output_type": "stream",
     "text": [
      "186it [00:02, 68.91it/s]                         \n",
      "186it [00:02, 67.56it/s]                         \n",
      "186it [00:02, 68.11it/s]                         \n",
      "186it [00:02, 71.31it/s]                         \n",
      "186it [00:02, 70.18it/s]                         \n",
      "186it [00:02, 72.07it/s]                         \n",
      "186it [00:02, 70.19it/s]                         \n",
      "186it [00:02, 69.56it/s]                         \n",
      "186it [00:02, 72.34it/s]                         \n",
      "186it [00:02, 69.23it/s]                         \n",
      "186it [00:02, 68.80it/s]                         \n",
      "186it [00:02, 69.88it/s]                         \n",
      "186it [00:02, 69.52it/s]                         \n",
      "186it [00:02, 72.26it/s]                         \n",
      "186it [00:04, 46.29it/s]                         \n",
      "186it [00:03, 58.34it/s]                         \n",
      "186it [00:03, 54.08it/s]                         \n",
      "186it [00:02, 65.32it/s]                         \n"
     ]
    },
    {
     "name": "stdout",
     "output_type": "stream",
     "text": [
      "6\n"
     ]
    },
    {
     "name": "stderr",
     "output_type": "stream",
     "text": [
      "186it [00:02, 64.48it/s]                         \n",
      "186it [00:02, 71.18it/s]                         \n",
      "186it [00:02, 70.27it/s]                         \n",
      "186it [00:02, 65.38it/s]                         \n",
      "186it [00:02, 71.85it/s]                         \n",
      "186it [00:02, 71.29it/s]                         \n",
      "186it [00:02, 68.70it/s]                         \n",
      "186it [00:02, 68.78it/s]                         \n",
      "186it [00:02, 73.17it/s]                         \n",
      "186it [00:02, 70.05it/s]                         \n",
      "186it [00:03, 61.09it/s]                         \n",
      "186it [00:02, 67.47it/s]                         \n",
      "186it [00:02, 67.99it/s]                         \n",
      "186it [00:03, 59.54it/s]                         \n",
      "186it [00:04, 46.35it/s]                         \n",
      "186it [00:03, 59.52it/s]                         \n",
      "186it [00:03, 60.33it/s]                         \n",
      "186it [00:02, 62.36it/s]                         \n"
     ]
    },
    {
     "name": "stdout",
     "output_type": "stream",
     "text": [
      "10\n"
     ]
    },
    {
     "name": "stderr",
     "output_type": "stream",
     "text": [
      "186it [00:03, 57.74it/s]                         \n",
      "186it [00:02, 65.31it/s]                         \n",
      "186it [00:03, 61.24it/s]                         \n",
      "186it [00:03, 59.41it/s]                         \n",
      "186it [00:02, 63.41it/s]                         \n",
      "186it [00:02, 64.43it/s]                         \n",
      "186it [00:03, 60.05it/s]                         \n",
      "186it [00:03, 56.47it/s]                         \n",
      "186it [00:02, 62.60it/s]                         \n",
      "186it [00:03, 59.57it/s]                         \n",
      "186it [00:02, 66.17it/s]                         \n",
      "186it [00:02, 63.25it/s]                         \n",
      "186it [00:03, 61.69it/s]                         \n",
      "186it [00:03, 61.82it/s]                         \n",
      "186it [00:02, 63.94it/s]                         \n",
      "186it [00:03, 57.04it/s]                         \n",
      "186it [00:02, 64.56it/s]                         \n",
      "186it [00:02, 66.08it/s]                         \n"
     ]
    },
    {
     "name": "stdout",
     "output_type": "stream",
     "text": [
      "10\n"
     ]
    },
    {
     "name": "stderr",
     "output_type": "stream",
     "text": [
      "186it [00:02, 63.45it/s]                         \n",
      "186it [00:02, 67.44it/s]                         \n",
      "186it [00:03, 61.53it/s]                         \n",
      "186it [00:03, 53.42it/s]                         \n",
      "186it [00:03, 53.37it/s]                         \n",
      "186it [00:02, 71.96it/s]                         \n",
      "186it [00:02, 64.24it/s]                         \n",
      "186it [00:02, 70.45it/s]                         \n",
      "186it [00:02, 67.73it/s]                         \n",
      "186it [00:02, 71.79it/s]                         \n",
      "186it [00:02, 74.45it/s]                         \n",
      "186it [00:02, 68.68it/s]                         \n",
      "186it [00:02, 70.68it/s]                         \n",
      "186it [00:02, 68.81it/s]                         \n",
      "186it [00:02, 71.70it/s]                         \n",
      "186it [00:02, 67.34it/s]                         \n",
      "186it [00:03, 61.19it/s]                         \n",
      "186it [00:02, 62.98it/s]                         \n"
     ]
    },
    {
     "name": "stdout",
     "output_type": "stream",
     "text": [
      "3\n"
     ]
    },
    {
     "name": "stderr",
     "output_type": "stream",
     "text": [
      "  0%|          | 0/185 [00:00<?, ?it/s]\n",
      "Traceback (most recent call last):\n",
      "  File \"/var/folders/wl/7wlprxgn5hxbwxmhbsvvsyj40000gs/T/ipykernel_28212/106676976.py\", line 320, in <module>\n",
      "    out = cost(param_init, train_x[i:i+25], train_y[i:i+25])\n",
      "          ^^^^^^^^^^^^^^^^^^^^^^^^^^^^^^^^^^^^^^^^^^^^^^^^^^\n",
      "  File \"/var/folders/wl/7wlprxgn5hxbwxmhbsvvsyj40000gs/T/ipykernel_28212/106676976.py\", line 312, in cost\n",
      "    predictions = m(circuit(weights, X))\n",
      "                    ^^^^^^^^^^^^^^^^^^^\n",
      "  File \"/Users/mateo/anaconda3/lib/python3.11/site-packages/pennylane/workflow/qnode.py\", line 1098, in __call__\n",
      "    res = self._execution_component(args, kwargs, override_shots=override_shots)\n",
      "          ^^^^^^^^^^^^^^^^^^^^^^^^^^^^^^^^^^^^^^^^^^^^^^^^^^^^^^^^^^^^^^^^^^^^^^\n",
      "  File \"/Users/mateo/anaconda3/lib/python3.11/site-packages/pennylane/workflow/qnode.py\", line 1052, in _execution_component\n",
      "    res = qml.execute(\n",
      "          ^^^^^^^^^^^^\n",
      "  File \"/Users/mateo/anaconda3/lib/python3.11/site-packages/pennylane/workflow/execution.py\", line 600, in execute\n",
      "    tapes, post_processing = transform_program(tapes)\n",
      "                             ^^^^^^^^^^^^^^^^^^^^^^^^\n",
      "  File \"/Users/mateo/anaconda3/lib/python3.11/site-packages/pennylane/transforms/core/transform_program.py\", line 509, in __call__\n",
      "    new_tapes, fn = transform(tape, *targs, **tkwargs)\n",
      "                    ^^^^^^^^^^^^^^^^^^^^^^^^^^^^^^^^^^\n",
      "  File \"/Users/mateo/anaconda3/lib/python3.11/site-packages/pennylane/devices/preprocess.py\", line 131, in validate_device_wires\n",
      "    raise WireError(\n",
      "pennylane.wires.WireError: Cannot run circuit(s) on default.qubit as they contain wires not found on the device: {7}\n"
     ]
    },
    {
     "name": "stdout",
     "output_type": "stream",
     "text": [
      "Error during execution: Cannot run circuit(s) on default.qubit as they contain wires not found on the device: {7}\n"
     ]
    },
    {
     "name": "stderr",
     "output_type": "stream",
     "text": [
      "  0%|          | 0/185 [00:00<?, ?it/s]\n",
      "Traceback (most recent call last):\n",
      "  File \"/var/folders/wl/7wlprxgn5hxbwxmhbsvvsyj40000gs/T/ipykernel_28212/106676976.py\", line 320, in <module>\n",
      "    out = cost(param_init, train_x[i:i+25], train_y[i:i+25])\n",
      "          ^^^^^^^^^^^^^^^^^^^^^^^^^^^^^^^^^^^^^^^^^^^^^^^^^^\n",
      "  File \"/var/folders/wl/7wlprxgn5hxbwxmhbsvvsyj40000gs/T/ipykernel_28212/106676976.py\", line 312, in cost\n",
      "    predictions = m(circuit(weights, X))\n",
      "                    ^^^^^^^^^^^^^^^^^^^\n",
      "  File \"/Users/mateo/anaconda3/lib/python3.11/site-packages/pennylane/workflow/qnode.py\", line 1098, in __call__\n",
      "    res = self._execution_component(args, kwargs, override_shots=override_shots)\n",
      "          ^^^^^^^^^^^^^^^^^^^^^^^^^^^^^^^^^^^^^^^^^^^^^^^^^^^^^^^^^^^^^^^^^^^^^^\n",
      "  File \"/Users/mateo/anaconda3/lib/python3.11/site-packages/pennylane/workflow/qnode.py\", line 1052, in _execution_component\n",
      "    res = qml.execute(\n",
      "          ^^^^^^^^^^^^\n",
      "  File \"/Users/mateo/anaconda3/lib/python3.11/site-packages/pennylane/workflow/execution.py\", line 600, in execute\n",
      "    tapes, post_processing = transform_program(tapes)\n",
      "                             ^^^^^^^^^^^^^^^^^^^^^^^^\n",
      "  File \"/Users/mateo/anaconda3/lib/python3.11/site-packages/pennylane/transforms/core/transform_program.py\", line 509, in __call__\n",
      "    new_tapes, fn = transform(tape, *targs, **tkwargs)\n",
      "                    ^^^^^^^^^^^^^^^^^^^^^^^^^^^^^^^^^^\n",
      "  File \"/Users/mateo/anaconda3/lib/python3.11/site-packages/pennylane/devices/preprocess.py\", line 131, in validate_device_wires\n",
      "    raise WireError(\n",
      "pennylane.wires.WireError: Cannot run circuit(s) on default.qubit as they contain wires not found on the device: {7}\n"
     ]
    },
    {
     "name": "stdout",
     "output_type": "stream",
     "text": [
      "Error during execution: Cannot run circuit(s) on default.qubit as they contain wires not found on the device: {7}\n"
     ]
    },
    {
     "name": "stderr",
     "output_type": "stream",
     "text": [
      "  0%|          | 0/185 [00:00<?, ?it/s]\n",
      "Traceback (most recent call last):\n",
      "  File \"/var/folders/wl/7wlprxgn5hxbwxmhbsvvsyj40000gs/T/ipykernel_28212/106676976.py\", line 320, in <module>\n",
      "    out = cost(param_init, train_x[i:i+25], train_y[i:i+25])\n",
      "          ^^^^^^^^^^^^^^^^^^^^^^^^^^^^^^^^^^^^^^^^^^^^^^^^^^\n",
      "  File \"/var/folders/wl/7wlprxgn5hxbwxmhbsvvsyj40000gs/T/ipykernel_28212/106676976.py\", line 312, in cost\n",
      "    predictions = m(circuit(weights, X))\n",
      "                    ^^^^^^^^^^^^^^^^^^^\n",
      "  File \"/Users/mateo/anaconda3/lib/python3.11/site-packages/pennylane/workflow/qnode.py\", line 1098, in __call__\n",
      "    res = self._execution_component(args, kwargs, override_shots=override_shots)\n",
      "          ^^^^^^^^^^^^^^^^^^^^^^^^^^^^^^^^^^^^^^^^^^^^^^^^^^^^^^^^^^^^^^^^^^^^^^\n",
      "  File \"/Users/mateo/anaconda3/lib/python3.11/site-packages/pennylane/workflow/qnode.py\", line 1052, in _execution_component\n",
      "    res = qml.execute(\n",
      "          ^^^^^^^^^^^^\n",
      "  File \"/Users/mateo/anaconda3/lib/python3.11/site-packages/pennylane/workflow/execution.py\", line 600, in execute\n",
      "    tapes, post_processing = transform_program(tapes)\n",
      "                             ^^^^^^^^^^^^^^^^^^^^^^^^\n",
      "  File \"/Users/mateo/anaconda3/lib/python3.11/site-packages/pennylane/transforms/core/transform_program.py\", line 509, in __call__\n",
      "    new_tapes, fn = transform(tape, *targs, **tkwargs)\n",
      "                    ^^^^^^^^^^^^^^^^^^^^^^^^^^^^^^^^^^\n",
      "  File \"/Users/mateo/anaconda3/lib/python3.11/site-packages/pennylane/devices/preprocess.py\", line 131, in validate_device_wires\n",
      "    raise WireError(\n",
      "pennylane.wires.WireError: Cannot run circuit(s) on default.qubit as they contain wires not found on the device: {7}\n"
     ]
    },
    {
     "name": "stdout",
     "output_type": "stream",
     "text": [
      "Error during execution: Cannot run circuit(s) on default.qubit as they contain wires not found on the device: {7}\n"
     ]
    },
    {
     "name": "stderr",
     "output_type": "stream",
     "text": [
      "  0%|          | 0/185 [00:00<?, ?it/s]\n",
      "Traceback (most recent call last):\n",
      "  File \"/var/folders/wl/7wlprxgn5hxbwxmhbsvvsyj40000gs/T/ipykernel_28212/106676976.py\", line 320, in <module>\n",
      "    out = cost(param_init, train_x[i:i+25], train_y[i:i+25])\n",
      "          ^^^^^^^^^^^^^^^^^^^^^^^^^^^^^^^^^^^^^^^^^^^^^^^^^^\n",
      "  File \"/var/folders/wl/7wlprxgn5hxbwxmhbsvvsyj40000gs/T/ipykernel_28212/106676976.py\", line 312, in cost\n",
      "    predictions = m(circuit(weights, X))\n",
      "                    ^^^^^^^^^^^^^^^^^^^\n",
      "  File \"/Users/mateo/anaconda3/lib/python3.11/site-packages/pennylane/workflow/qnode.py\", line 1098, in __call__\n",
      "    res = self._execution_component(args, kwargs, override_shots=override_shots)\n",
      "          ^^^^^^^^^^^^^^^^^^^^^^^^^^^^^^^^^^^^^^^^^^^^^^^^^^^^^^^^^^^^^^^^^^^^^^\n",
      "  File \"/Users/mateo/anaconda3/lib/python3.11/site-packages/pennylane/workflow/qnode.py\", line 1052, in _execution_component\n",
      "    res = qml.execute(\n",
      "          ^^^^^^^^^^^^\n",
      "  File \"/Users/mateo/anaconda3/lib/python3.11/site-packages/pennylane/workflow/execution.py\", line 600, in execute\n",
      "    tapes, post_processing = transform_program(tapes)\n",
      "                             ^^^^^^^^^^^^^^^^^^^^^^^^\n",
      "  File \"/Users/mateo/anaconda3/lib/python3.11/site-packages/pennylane/transforms/core/transform_program.py\", line 509, in __call__\n",
      "    new_tapes, fn = transform(tape, *targs, **tkwargs)\n",
      "                    ^^^^^^^^^^^^^^^^^^^^^^^^^^^^^^^^^^\n",
      "  File \"/Users/mateo/anaconda3/lib/python3.11/site-packages/pennylane/devices/preprocess.py\", line 131, in validate_device_wires\n",
      "    raise WireError(\n",
      "pennylane.wires.WireError: Cannot run circuit(s) on default.qubit as they contain wires not found on the device: {7}\n"
     ]
    },
    {
     "name": "stdout",
     "output_type": "stream",
     "text": [
      "Error during execution: Cannot run circuit(s) on default.qubit as they contain wires not found on the device: {7}\n"
     ]
    },
    {
     "name": "stderr",
     "output_type": "stream",
     "text": [
      "  0%|          | 0/185 [00:00<?, ?it/s]\n",
      "Traceback (most recent call last):\n",
      "  File \"/var/folders/wl/7wlprxgn5hxbwxmhbsvvsyj40000gs/T/ipykernel_28212/106676976.py\", line 320, in <module>\n",
      "    out = cost(param_init, train_x[i:i+25], train_y[i:i+25])\n",
      "          ^^^^^^^^^^^^^^^^^^^^^^^^^^^^^^^^^^^^^^^^^^^^^^^^^^\n",
      "  File \"/var/folders/wl/7wlprxgn5hxbwxmhbsvvsyj40000gs/T/ipykernel_28212/106676976.py\", line 312, in cost\n",
      "    predictions = m(circuit(weights, X))\n",
      "                    ^^^^^^^^^^^^^^^^^^^\n",
      "  File \"/Users/mateo/anaconda3/lib/python3.11/site-packages/pennylane/workflow/qnode.py\", line 1098, in __call__\n",
      "    res = self._execution_component(args, kwargs, override_shots=override_shots)\n",
      "          ^^^^^^^^^^^^^^^^^^^^^^^^^^^^^^^^^^^^^^^^^^^^^^^^^^^^^^^^^^^^^^^^^^^^^^\n",
      "  File \"/Users/mateo/anaconda3/lib/python3.11/site-packages/pennylane/workflow/qnode.py\", line 1052, in _execution_component\n",
      "    res = qml.execute(\n",
      "          ^^^^^^^^^^^^\n",
      "  File \"/Users/mateo/anaconda3/lib/python3.11/site-packages/pennylane/workflow/execution.py\", line 600, in execute\n",
      "    tapes, post_processing = transform_program(tapes)\n",
      "                             ^^^^^^^^^^^^^^^^^^^^^^^^\n",
      "  File \"/Users/mateo/anaconda3/lib/python3.11/site-packages/pennylane/transforms/core/transform_program.py\", line 509, in __call__\n",
      "    new_tapes, fn = transform(tape, *targs, **tkwargs)\n",
      "                    ^^^^^^^^^^^^^^^^^^^^^^^^^^^^^^^^^^\n",
      "  File \"/Users/mateo/anaconda3/lib/python3.11/site-packages/pennylane/devices/preprocess.py\", line 131, in validate_device_wires\n",
      "    raise WireError(\n",
      "pennylane.wires.WireError: Cannot run circuit(s) on default.qubit as they contain wires not found on the device: {7}\n"
     ]
    },
    {
     "name": "stdout",
     "output_type": "stream",
     "text": [
      "Error during execution: Cannot run circuit(s) on default.qubit as they contain wires not found on the device: {7}\n"
     ]
    },
    {
     "name": "stderr",
     "output_type": "stream",
     "text": [
      "  0%|          | 0/185 [00:00<?, ?it/s]\n",
      "Traceback (most recent call last):\n",
      "  File \"/var/folders/wl/7wlprxgn5hxbwxmhbsvvsyj40000gs/T/ipykernel_28212/106676976.py\", line 320, in <module>\n",
      "    out = cost(param_init, train_x[i:i+25], train_y[i:i+25])\n",
      "          ^^^^^^^^^^^^^^^^^^^^^^^^^^^^^^^^^^^^^^^^^^^^^^^^^^\n",
      "  File \"/var/folders/wl/7wlprxgn5hxbwxmhbsvvsyj40000gs/T/ipykernel_28212/106676976.py\", line 312, in cost\n",
      "    predictions = m(circuit(weights, X))\n",
      "                    ^^^^^^^^^^^^^^^^^^^\n",
      "  File \"/Users/mateo/anaconda3/lib/python3.11/site-packages/pennylane/workflow/qnode.py\", line 1098, in __call__\n",
      "    res = self._execution_component(args, kwargs, override_shots=override_shots)\n",
      "          ^^^^^^^^^^^^^^^^^^^^^^^^^^^^^^^^^^^^^^^^^^^^^^^^^^^^^^^^^^^^^^^^^^^^^^\n",
      "  File \"/Users/mateo/anaconda3/lib/python3.11/site-packages/pennylane/workflow/qnode.py\", line 1052, in _execution_component\n",
      "    res = qml.execute(\n",
      "          ^^^^^^^^^^^^\n",
      "  File \"/Users/mateo/anaconda3/lib/python3.11/site-packages/pennylane/workflow/execution.py\", line 600, in execute\n",
      "    tapes, post_processing = transform_program(tapes)\n",
      "                             ^^^^^^^^^^^^^^^^^^^^^^^^\n",
      "  File \"/Users/mateo/anaconda3/lib/python3.11/site-packages/pennylane/transforms/core/transform_program.py\", line 509, in __call__\n",
      "    new_tapes, fn = transform(tape, *targs, **tkwargs)\n",
      "                    ^^^^^^^^^^^^^^^^^^^^^^^^^^^^^^^^^^\n",
      "  File \"/Users/mateo/anaconda3/lib/python3.11/site-packages/pennylane/devices/preprocess.py\", line 131, in validate_device_wires\n",
      "    raise WireError(\n",
      "pennylane.wires.WireError: Cannot run circuit(s) on default.qubit as they contain wires not found on the device: {7}\n"
     ]
    },
    {
     "name": "stdout",
     "output_type": "stream",
     "text": [
      "Error during execution: Cannot run circuit(s) on default.qubit as they contain wires not found on the device: {7}\n",
      "15\n"
     ]
    },
    {
     "name": "stderr",
     "output_type": "stream",
     "text": [
      "  0%|          | 0/185 [00:00<?, ?it/s]\n",
      "Traceback (most recent call last):\n",
      "  File \"/var/folders/wl/7wlprxgn5hxbwxmhbsvvsyj40000gs/T/ipykernel_28212/106676976.py\", line 320, in <module>\n",
      "    out = cost(param_init, train_x[i:i+25], train_y[i:i+25])\n",
      "          ^^^^^^^^^^^^^^^^^^^^^^^^^^^^^^^^^^^^^^^^^^^^^^^^^^\n",
      "  File \"/var/folders/wl/7wlprxgn5hxbwxmhbsvvsyj40000gs/T/ipykernel_28212/106676976.py\", line 312, in cost\n",
      "    predictions = m(circuit(weights, X))\n",
      "                    ^^^^^^^^^^^^^^^^^^^\n",
      "  File \"/Users/mateo/anaconda3/lib/python3.11/site-packages/pennylane/workflow/qnode.py\", line 1098, in __call__\n",
      "    res = self._execution_component(args, kwargs, override_shots=override_shots)\n",
      "          ^^^^^^^^^^^^^^^^^^^^^^^^^^^^^^^^^^^^^^^^^^^^^^^^^^^^^^^^^^^^^^^^^^^^^^\n",
      "  File \"/Users/mateo/anaconda3/lib/python3.11/site-packages/pennylane/workflow/qnode.py\", line 1052, in _execution_component\n",
      "    res = qml.execute(\n",
      "          ^^^^^^^^^^^^\n",
      "  File \"/Users/mateo/anaconda3/lib/python3.11/site-packages/pennylane/workflow/execution.py\", line 600, in execute\n",
      "    tapes, post_processing = transform_program(tapes)\n",
      "                             ^^^^^^^^^^^^^^^^^^^^^^^^\n",
      "  File \"/Users/mateo/anaconda3/lib/python3.11/site-packages/pennylane/transforms/core/transform_program.py\", line 509, in __call__\n",
      "    new_tapes, fn = transform(tape, *targs, **tkwargs)\n",
      "                    ^^^^^^^^^^^^^^^^^^^^^^^^^^^^^^^^^^\n",
      "  File \"/Users/mateo/anaconda3/lib/python3.11/site-packages/pennylane/devices/preprocess.py\", line 131, in validate_device_wires\n",
      "    raise WireError(\n",
      "pennylane.wires.WireError: Cannot run circuit(s) on default.qubit as they contain wires not found on the device: {7}\n"
     ]
    },
    {
     "name": "stdout",
     "output_type": "stream",
     "text": [
      "Error during execution: Cannot run circuit(s) on default.qubit as they contain wires not found on the device: {7}\n"
     ]
    },
    {
     "name": "stderr",
     "output_type": "stream",
     "text": [
      "  0%|          | 0/185 [00:00<?, ?it/s]\n",
      "Traceback (most recent call last):\n",
      "  File \"/var/folders/wl/7wlprxgn5hxbwxmhbsvvsyj40000gs/T/ipykernel_28212/106676976.py\", line 320, in <module>\n",
      "    out = cost(param_init, train_x[i:i+25], train_y[i:i+25])\n",
      "          ^^^^^^^^^^^^^^^^^^^^^^^^^^^^^^^^^^^^^^^^^^^^^^^^^^\n",
      "  File \"/var/folders/wl/7wlprxgn5hxbwxmhbsvvsyj40000gs/T/ipykernel_28212/106676976.py\", line 312, in cost\n",
      "    predictions = m(circuit(weights, X))\n",
      "                    ^^^^^^^^^^^^^^^^^^^\n",
      "  File \"/Users/mateo/anaconda3/lib/python3.11/site-packages/pennylane/workflow/qnode.py\", line 1098, in __call__\n",
      "    res = self._execution_component(args, kwargs, override_shots=override_shots)\n",
      "          ^^^^^^^^^^^^^^^^^^^^^^^^^^^^^^^^^^^^^^^^^^^^^^^^^^^^^^^^^^^^^^^^^^^^^^\n",
      "  File \"/Users/mateo/anaconda3/lib/python3.11/site-packages/pennylane/workflow/qnode.py\", line 1052, in _execution_component\n",
      "    res = qml.execute(\n",
      "          ^^^^^^^^^^^^\n",
      "  File \"/Users/mateo/anaconda3/lib/python3.11/site-packages/pennylane/workflow/execution.py\", line 600, in execute\n",
      "    tapes, post_processing = transform_program(tapes)\n",
      "                             ^^^^^^^^^^^^^^^^^^^^^^^^\n",
      "  File \"/Users/mateo/anaconda3/lib/python3.11/site-packages/pennylane/transforms/core/transform_program.py\", line 509, in __call__\n",
      "    new_tapes, fn = transform(tape, *targs, **tkwargs)\n",
      "                    ^^^^^^^^^^^^^^^^^^^^^^^^^^^^^^^^^^\n",
      "  File \"/Users/mateo/anaconda3/lib/python3.11/site-packages/pennylane/devices/preprocess.py\", line 131, in validate_device_wires\n",
      "    raise WireError(\n",
      "pennylane.wires.WireError: Cannot run circuit(s) on default.qubit as they contain wires not found on the device: {7}\n"
     ]
    },
    {
     "name": "stdout",
     "output_type": "stream",
     "text": [
      "Error during execution: Cannot run circuit(s) on default.qubit as they contain wires not found on the device: {7}\n"
     ]
    },
    {
     "name": "stderr",
     "output_type": "stream",
     "text": [
      "  0%|          | 0/185 [00:00<?, ?it/s]\n",
      "Traceback (most recent call last):\n",
      "  File \"/var/folders/wl/7wlprxgn5hxbwxmhbsvvsyj40000gs/T/ipykernel_28212/106676976.py\", line 320, in <module>\n",
      "    out = cost(param_init, train_x[i:i+25], train_y[i:i+25])\n",
      "          ^^^^^^^^^^^^^^^^^^^^^^^^^^^^^^^^^^^^^^^^^^^^^^^^^^\n",
      "  File \"/var/folders/wl/7wlprxgn5hxbwxmhbsvvsyj40000gs/T/ipykernel_28212/106676976.py\", line 312, in cost\n",
      "    predictions = m(circuit(weights, X))\n",
      "                    ^^^^^^^^^^^^^^^^^^^\n",
      "  File \"/Users/mateo/anaconda3/lib/python3.11/site-packages/pennylane/workflow/qnode.py\", line 1098, in __call__\n",
      "    res = self._execution_component(args, kwargs, override_shots=override_shots)\n",
      "          ^^^^^^^^^^^^^^^^^^^^^^^^^^^^^^^^^^^^^^^^^^^^^^^^^^^^^^^^^^^^^^^^^^^^^^\n",
      "  File \"/Users/mateo/anaconda3/lib/python3.11/site-packages/pennylane/workflow/qnode.py\", line 1052, in _execution_component\n",
      "    res = qml.execute(\n",
      "          ^^^^^^^^^^^^\n",
      "  File \"/Users/mateo/anaconda3/lib/python3.11/site-packages/pennylane/workflow/execution.py\", line 600, in execute\n",
      "    tapes, post_processing = transform_program(tapes)\n",
      "                             ^^^^^^^^^^^^^^^^^^^^^^^^\n",
      "  File \"/Users/mateo/anaconda3/lib/python3.11/site-packages/pennylane/transforms/core/transform_program.py\", line 509, in __call__\n",
      "    new_tapes, fn = transform(tape, *targs, **tkwargs)\n",
      "                    ^^^^^^^^^^^^^^^^^^^^^^^^^^^^^^^^^^\n",
      "  File \"/Users/mateo/anaconda3/lib/python3.11/site-packages/pennylane/devices/preprocess.py\", line 131, in validate_device_wires\n",
      "    raise WireError(\n",
      "pennylane.wires.WireError: Cannot run circuit(s) on default.qubit as they contain wires not found on the device: {7}\n"
     ]
    },
    {
     "name": "stdout",
     "output_type": "stream",
     "text": [
      "Error during execution: Cannot run circuit(s) on default.qubit as they contain wires not found on the device: {7}\n"
     ]
    },
    {
     "name": "stderr",
     "output_type": "stream",
     "text": [
      "  0%|          | 0/185 [00:00<?, ?it/s]\n",
      "Traceback (most recent call last):\n",
      "  File \"/var/folders/wl/7wlprxgn5hxbwxmhbsvvsyj40000gs/T/ipykernel_28212/106676976.py\", line 320, in <module>\n",
      "    out = cost(param_init, train_x[i:i+25], train_y[i:i+25])\n",
      "          ^^^^^^^^^^^^^^^^^^^^^^^^^^^^^^^^^^^^^^^^^^^^^^^^^^\n",
      "  File \"/var/folders/wl/7wlprxgn5hxbwxmhbsvvsyj40000gs/T/ipykernel_28212/106676976.py\", line 312, in cost\n",
      "    predictions = m(circuit(weights, X))\n",
      "                    ^^^^^^^^^^^^^^^^^^^\n",
      "  File \"/Users/mateo/anaconda3/lib/python3.11/site-packages/pennylane/workflow/qnode.py\", line 1098, in __call__\n",
      "    res = self._execution_component(args, kwargs, override_shots=override_shots)\n",
      "          ^^^^^^^^^^^^^^^^^^^^^^^^^^^^^^^^^^^^^^^^^^^^^^^^^^^^^^^^^^^^^^^^^^^^^^\n",
      "  File \"/Users/mateo/anaconda3/lib/python3.11/site-packages/pennylane/workflow/qnode.py\", line 1052, in _execution_component\n",
      "    res = qml.execute(\n",
      "          ^^^^^^^^^^^^\n",
      "  File \"/Users/mateo/anaconda3/lib/python3.11/site-packages/pennylane/workflow/execution.py\", line 600, in execute\n",
      "    tapes, post_processing = transform_program(tapes)\n",
      "                             ^^^^^^^^^^^^^^^^^^^^^^^^\n",
      "  File \"/Users/mateo/anaconda3/lib/python3.11/site-packages/pennylane/transforms/core/transform_program.py\", line 509, in __call__\n",
      "    new_tapes, fn = transform(tape, *targs, **tkwargs)\n",
      "                    ^^^^^^^^^^^^^^^^^^^^^^^^^^^^^^^^^^\n",
      "  File \"/Users/mateo/anaconda3/lib/python3.11/site-packages/pennylane/devices/preprocess.py\", line 131, in validate_device_wires\n",
      "    raise WireError(\n",
      "pennylane.wires.WireError: Cannot run circuit(s) on default.qubit as they contain wires not found on the device: {7}\n"
     ]
    },
    {
     "name": "stdout",
     "output_type": "stream",
     "text": [
      "Error during execution: Cannot run circuit(s) on default.qubit as they contain wires not found on the device: {7}\n"
     ]
    },
    {
     "name": "stderr",
     "output_type": "stream",
     "text": [
      "  0%|          | 0/185 [00:00<?, ?it/s]\n",
      "Traceback (most recent call last):\n",
      "  File \"/var/folders/wl/7wlprxgn5hxbwxmhbsvvsyj40000gs/T/ipykernel_28212/106676976.py\", line 320, in <module>\n",
      "    out = cost(param_init, train_x[i:i+25], train_y[i:i+25])\n",
      "          ^^^^^^^^^^^^^^^^^^^^^^^^^^^^^^^^^^^^^^^^^^^^^^^^^^\n",
      "  File \"/var/folders/wl/7wlprxgn5hxbwxmhbsvvsyj40000gs/T/ipykernel_28212/106676976.py\", line 312, in cost\n",
      "    predictions = m(circuit(weights, X))\n",
      "                    ^^^^^^^^^^^^^^^^^^^\n",
      "  File \"/Users/mateo/anaconda3/lib/python3.11/site-packages/pennylane/workflow/qnode.py\", line 1098, in __call__\n",
      "    res = self._execution_component(args, kwargs, override_shots=override_shots)\n",
      "          ^^^^^^^^^^^^^^^^^^^^^^^^^^^^^^^^^^^^^^^^^^^^^^^^^^^^^^^^^^^^^^^^^^^^^^\n",
      "  File \"/Users/mateo/anaconda3/lib/python3.11/site-packages/pennylane/workflow/qnode.py\", line 1052, in _execution_component\n",
      "    res = qml.execute(\n",
      "          ^^^^^^^^^^^^\n",
      "  File \"/Users/mateo/anaconda3/lib/python3.11/site-packages/pennylane/workflow/execution.py\", line 600, in execute\n",
      "    tapes, post_processing = transform_program(tapes)\n",
      "                             ^^^^^^^^^^^^^^^^^^^^^^^^\n",
      "  File \"/Users/mateo/anaconda3/lib/python3.11/site-packages/pennylane/transforms/core/transform_program.py\", line 509, in __call__\n",
      "    new_tapes, fn = transform(tape, *targs, **tkwargs)\n",
      "                    ^^^^^^^^^^^^^^^^^^^^^^^^^^^^^^^^^^\n",
      "  File \"/Users/mateo/anaconda3/lib/python3.11/site-packages/pennylane/devices/preprocess.py\", line 131, in validate_device_wires\n",
      "    raise WireError(\n",
      "pennylane.wires.WireError: Cannot run circuit(s) on default.qubit as they contain wires not found on the device: {7}\n"
     ]
    },
    {
     "name": "stdout",
     "output_type": "stream",
     "text": [
      "Error during execution: Cannot run circuit(s) on default.qubit as they contain wires not found on the device: {7}\n"
     ]
    },
    {
     "name": "stderr",
     "output_type": "stream",
     "text": [
      "  0%|          | 0/185 [00:00<?, ?it/s]\n",
      "Traceback (most recent call last):\n",
      "  File \"/var/folders/wl/7wlprxgn5hxbwxmhbsvvsyj40000gs/T/ipykernel_28212/106676976.py\", line 320, in <module>\n",
      "    out = cost(param_init, train_x[i:i+25], train_y[i:i+25])\n",
      "          ^^^^^^^^^^^^^^^^^^^^^^^^^^^^^^^^^^^^^^^^^^^^^^^^^^\n",
      "  File \"/var/folders/wl/7wlprxgn5hxbwxmhbsvvsyj40000gs/T/ipykernel_28212/106676976.py\", line 312, in cost\n",
      "    predictions = m(circuit(weights, X))\n",
      "                    ^^^^^^^^^^^^^^^^^^^\n",
      "  File \"/Users/mateo/anaconda3/lib/python3.11/site-packages/pennylane/workflow/qnode.py\", line 1098, in __call__\n",
      "    res = self._execution_component(args, kwargs, override_shots=override_shots)\n",
      "          ^^^^^^^^^^^^^^^^^^^^^^^^^^^^^^^^^^^^^^^^^^^^^^^^^^^^^^^^^^^^^^^^^^^^^^\n",
      "  File \"/Users/mateo/anaconda3/lib/python3.11/site-packages/pennylane/workflow/qnode.py\", line 1052, in _execution_component\n",
      "    res = qml.execute(\n",
      "          ^^^^^^^^^^^^\n",
      "  File \"/Users/mateo/anaconda3/lib/python3.11/site-packages/pennylane/workflow/execution.py\", line 600, in execute\n",
      "    tapes, post_processing = transform_program(tapes)\n",
      "                             ^^^^^^^^^^^^^^^^^^^^^^^^\n",
      "  File \"/Users/mateo/anaconda3/lib/python3.11/site-packages/pennylane/transforms/core/transform_program.py\", line 509, in __call__\n",
      "    new_tapes, fn = transform(tape, *targs, **tkwargs)\n",
      "                    ^^^^^^^^^^^^^^^^^^^^^^^^^^^^^^^^^^\n",
      "  File \"/Users/mateo/anaconda3/lib/python3.11/site-packages/pennylane/devices/preprocess.py\", line 131, in validate_device_wires\n",
      "    raise WireError(\n",
      "pennylane.wires.WireError: Cannot run circuit(s) on default.qubit as they contain wires not found on the device: {7}\n"
     ]
    },
    {
     "name": "stdout",
     "output_type": "stream",
     "text": [
      "Error during execution: Cannot run circuit(s) on default.qubit as they contain wires not found on the device: {7}\n",
      "2\n"
     ]
    },
    {
     "name": "stderr",
     "output_type": "stream",
     "text": [
      "  0%|          | 0/185 [00:00<?, ?it/s]\n",
      "Traceback (most recent call last):\n",
      "  File \"/var/folders/wl/7wlprxgn5hxbwxmhbsvvsyj40000gs/T/ipykernel_28212/106676976.py\", line 320, in <module>\n",
      "    out = cost(param_init, train_x[i:i+25], train_y[i:i+25])\n",
      "          ^^^^^^^^^^^^^^^^^^^^^^^^^^^^^^^^^^^^^^^^^^^^^^^^^^\n",
      "  File \"/var/folders/wl/7wlprxgn5hxbwxmhbsvvsyj40000gs/T/ipykernel_28212/106676976.py\", line 312, in cost\n",
      "    predictions = m(circuit(weights, X))\n",
      "                    ^^^^^^^^^^^^^^^^^^^\n",
      "  File \"/Users/mateo/anaconda3/lib/python3.11/site-packages/pennylane/workflow/qnode.py\", line 1098, in __call__\n",
      "    res = self._execution_component(args, kwargs, override_shots=override_shots)\n",
      "          ^^^^^^^^^^^^^^^^^^^^^^^^^^^^^^^^^^^^^^^^^^^^^^^^^^^^^^^^^^^^^^^^^^^^^^\n",
      "  File \"/Users/mateo/anaconda3/lib/python3.11/site-packages/pennylane/workflow/qnode.py\", line 1052, in _execution_component\n",
      "    res = qml.execute(\n",
      "          ^^^^^^^^^^^^\n",
      "  File \"/Users/mateo/anaconda3/lib/python3.11/site-packages/pennylane/workflow/execution.py\", line 600, in execute\n",
      "    tapes, post_processing = transform_program(tapes)\n",
      "                             ^^^^^^^^^^^^^^^^^^^^^^^^\n",
      "  File \"/Users/mateo/anaconda3/lib/python3.11/site-packages/pennylane/transforms/core/transform_program.py\", line 509, in __call__\n",
      "    new_tapes, fn = transform(tape, *targs, **tkwargs)\n",
      "                    ^^^^^^^^^^^^^^^^^^^^^^^^^^^^^^^^^^\n",
      "  File \"/Users/mateo/anaconda3/lib/python3.11/site-packages/pennylane/devices/preprocess.py\", line 131, in validate_device_wires\n",
      "    raise WireError(\n",
      "pennylane.wires.WireError: Cannot run circuit(s) on default.qubit as they contain wires not found on the device: {7}\n"
     ]
    },
    {
     "name": "stdout",
     "output_type": "stream",
     "text": [
      "Error during execution: Cannot run circuit(s) on default.qubit as they contain wires not found on the device: {7}\n"
     ]
    },
    {
     "name": "stderr",
     "output_type": "stream",
     "text": [
      "  0%|          | 0/185 [00:00<?, ?it/s]\n"
     ]
    },
    {
     "name": "stdout",
     "output_type": "stream",
     "text": [
      "Error during execution: Cannot run circuit(s) on default.qubit as they contain wires not found on the device: {7}\n"
     ]
    },
    {
     "name": "stderr",
     "output_type": "stream",
     "text": [
      "Traceback (most recent call last):\n",
      "  File \"/var/folders/wl/7wlprxgn5hxbwxmhbsvvsyj40000gs/T/ipykernel_28212/106676976.py\", line 320, in <module>\n",
      "    out = cost(param_init, train_x[i:i+25], train_y[i:i+25])\n",
      "          ^^^^^^^^^^^^^^^^^^^^^^^^^^^^^^^^^^^^^^^^^^^^^^^^^^\n",
      "  File \"/var/folders/wl/7wlprxgn5hxbwxmhbsvvsyj40000gs/T/ipykernel_28212/106676976.py\", line 312, in cost\n",
      "    predictions = m(circuit(weights, X))\n",
      "                    ^^^^^^^^^^^^^^^^^^^\n",
      "  File \"/Users/mateo/anaconda3/lib/python3.11/site-packages/pennylane/workflow/qnode.py\", line 1098, in __call__\n",
      "    res = self._execution_component(args, kwargs, override_shots=override_shots)\n",
      "          ^^^^^^^^^^^^^^^^^^^^^^^^^^^^^^^^^^^^^^^^^^^^^^^^^^^^^^^^^^^^^^^^^^^^^^\n",
      "  File \"/Users/mateo/anaconda3/lib/python3.11/site-packages/pennylane/workflow/qnode.py\", line 1052, in _execution_component\n",
      "    res = qml.execute(\n",
      "          ^^^^^^^^^^^^\n",
      "  File \"/Users/mateo/anaconda3/lib/python3.11/site-packages/pennylane/workflow/execution.py\", line 600, in execute\n",
      "    tapes, post_processing = transform_program(tapes)\n",
      "                             ^^^^^^^^^^^^^^^^^^^^^^^^\n",
      "  File \"/Users/mateo/anaconda3/lib/python3.11/site-packages/pennylane/transforms/core/transform_program.py\", line 509, in __call__\n",
      "    new_tapes, fn = transform(tape, *targs, **tkwargs)\n",
      "                    ^^^^^^^^^^^^^^^^^^^^^^^^^^^^^^^^^^\n",
      "  File \"/Users/mateo/anaconda3/lib/python3.11/site-packages/pennylane/devices/preprocess.py\", line 131, in validate_device_wires\n",
      "    raise WireError(\n",
      "pennylane.wires.WireError: Cannot run circuit(s) on default.qubit as they contain wires not found on the device: {7}\n",
      "  0%|          | 0/185 [00:00<?, ?it/s]\n",
      "Traceback (most recent call last):\n",
      "  File \"/var/folders/wl/7wlprxgn5hxbwxmhbsvvsyj40000gs/T/ipykernel_28212/106676976.py\", line 320, in <module>\n",
      "    out = cost(param_init, train_x[i:i+25], train_y[i:i+25])\n",
      "          ^^^^^^^^^^^^^^^^^^^^^^^^^^^^^^^^^^^^^^^^^^^^^^^^^^\n",
      "  File \"/var/folders/wl/7wlprxgn5hxbwxmhbsvvsyj40000gs/T/ipykernel_28212/106676976.py\", line 312, in cost\n",
      "    predictions = m(circuit(weights, X))\n",
      "                    ^^^^^^^^^^^^^^^^^^^\n",
      "  File \"/Users/mateo/anaconda3/lib/python3.11/site-packages/pennylane/workflow/qnode.py\", line 1098, in __call__\n",
      "    res = self._execution_component(args, kwargs, override_shots=override_shots)\n",
      "          ^^^^^^^^^^^^^^^^^^^^^^^^^^^^^^^^^^^^^^^^^^^^^^^^^^^^^^^^^^^^^^^^^^^^^^\n",
      "  File \"/Users/mateo/anaconda3/lib/python3.11/site-packages/pennylane/workflow/qnode.py\", line 1052, in _execution_component\n",
      "    res = qml.execute(\n",
      "          ^^^^^^^^^^^^\n",
      "  File \"/Users/mateo/anaconda3/lib/python3.11/site-packages/pennylane/workflow/execution.py\", line 600, in execute\n",
      "    tapes, post_processing = transform_program(tapes)\n",
      "                             ^^^^^^^^^^^^^^^^^^^^^^^^\n",
      "  File \"/Users/mateo/anaconda3/lib/python3.11/site-packages/pennylane/transforms/core/transform_program.py\", line 509, in __call__\n",
      "    new_tapes, fn = transform(tape, *targs, **tkwargs)\n",
      "                    ^^^^^^^^^^^^^^^^^^^^^^^^^^^^^^^^^^\n",
      "  File \"/Users/mateo/anaconda3/lib/python3.11/site-packages/pennylane/devices/preprocess.py\", line 131, in validate_device_wires\n",
      "    raise WireError(\n",
      "pennylane.wires.WireError: Cannot run circuit(s) on default.qubit as they contain wires not found on the device: {7}\n"
     ]
    },
    {
     "name": "stdout",
     "output_type": "stream",
     "text": [
      "Error during execution: Cannot run circuit(s) on default.qubit as they contain wires not found on the device: {7}\n"
     ]
    },
    {
     "name": "stderr",
     "output_type": "stream",
     "text": [
      "  0%|          | 0/185 [00:00<?, ?it/s]\n",
      "Traceback (most recent call last):\n",
      "  File \"/var/folders/wl/7wlprxgn5hxbwxmhbsvvsyj40000gs/T/ipykernel_28212/106676976.py\", line 320, in <module>\n",
      "    out = cost(param_init, train_x[i:i+25], train_y[i:i+25])\n",
      "          ^^^^^^^^^^^^^^^^^^^^^^^^^^^^^^^^^^^^^^^^^^^^^^^^^^\n",
      "  File \"/var/folders/wl/7wlprxgn5hxbwxmhbsvvsyj40000gs/T/ipykernel_28212/106676976.py\", line 312, in cost\n",
      "    predictions = m(circuit(weights, X))\n",
      "                    ^^^^^^^^^^^^^^^^^^^\n",
      "  File \"/Users/mateo/anaconda3/lib/python3.11/site-packages/pennylane/workflow/qnode.py\", line 1098, in __call__\n",
      "    res = self._execution_component(args, kwargs, override_shots=override_shots)\n",
      "          ^^^^^^^^^^^^^^^^^^^^^^^^^^^^^^^^^^^^^^^^^^^^^^^^^^^^^^^^^^^^^^^^^^^^^^\n",
      "  File \"/Users/mateo/anaconda3/lib/python3.11/site-packages/pennylane/workflow/qnode.py\", line 1052, in _execution_component\n",
      "    res = qml.execute(\n",
      "          ^^^^^^^^^^^^\n",
      "  File \"/Users/mateo/anaconda3/lib/python3.11/site-packages/pennylane/workflow/execution.py\", line 600, in execute\n",
      "    tapes, post_processing = transform_program(tapes)\n",
      "                             ^^^^^^^^^^^^^^^^^^^^^^^^\n",
      "  File \"/Users/mateo/anaconda3/lib/python3.11/site-packages/pennylane/transforms/core/transform_program.py\", line 509, in __call__\n",
      "    new_tapes, fn = transform(tape, *targs, **tkwargs)\n",
      "                    ^^^^^^^^^^^^^^^^^^^^^^^^^^^^^^^^^^\n",
      "  File \"/Users/mateo/anaconda3/lib/python3.11/site-packages/pennylane/devices/preprocess.py\", line 131, in validate_device_wires\n",
      "    raise WireError(\n",
      "pennylane.wires.WireError: Cannot run circuit(s) on default.qubit as they contain wires not found on the device: {7}\n"
     ]
    },
    {
     "name": "stdout",
     "output_type": "stream",
     "text": [
      "Error during execution: Cannot run circuit(s) on default.qubit as they contain wires not found on the device: {7}\n"
     ]
    },
    {
     "name": "stderr",
     "output_type": "stream",
     "text": [
      "  0%|          | 0/185 [00:00<?, ?it/s]\n",
      "Traceback (most recent call last):\n",
      "  File \"/var/folders/wl/7wlprxgn5hxbwxmhbsvvsyj40000gs/T/ipykernel_28212/106676976.py\", line 320, in <module>\n",
      "    out = cost(param_init, train_x[i:i+25], train_y[i:i+25])\n",
      "          ^^^^^^^^^^^^^^^^^^^^^^^^^^^^^^^^^^^^^^^^^^^^^^^^^^\n",
      "  File \"/var/folders/wl/7wlprxgn5hxbwxmhbsvvsyj40000gs/T/ipykernel_28212/106676976.py\", line 312, in cost\n",
      "    predictions = m(circuit(weights, X))\n",
      "                    ^^^^^^^^^^^^^^^^^^^\n",
      "  File \"/Users/mateo/anaconda3/lib/python3.11/site-packages/pennylane/workflow/qnode.py\", line 1098, in __call__\n",
      "    res = self._execution_component(args, kwargs, override_shots=override_shots)\n",
      "          ^^^^^^^^^^^^^^^^^^^^^^^^^^^^^^^^^^^^^^^^^^^^^^^^^^^^^^^^^^^^^^^^^^^^^^\n",
      "  File \"/Users/mateo/anaconda3/lib/python3.11/site-packages/pennylane/workflow/qnode.py\", line 1052, in _execution_component\n",
      "    res = qml.execute(\n",
      "          ^^^^^^^^^^^^\n",
      "  File \"/Users/mateo/anaconda3/lib/python3.11/site-packages/pennylane/workflow/execution.py\", line 600, in execute\n",
      "    tapes, post_processing = transform_program(tapes)\n",
      "                             ^^^^^^^^^^^^^^^^^^^^^^^^\n",
      "  File \"/Users/mateo/anaconda3/lib/python3.11/site-packages/pennylane/transforms/core/transform_program.py\", line 509, in __call__\n",
      "    new_tapes, fn = transform(tape, *targs, **tkwargs)\n",
      "                    ^^^^^^^^^^^^^^^^^^^^^^^^^^^^^^^^^^\n",
      "  File \"/Users/mateo/anaconda3/lib/python3.11/site-packages/pennylane/devices/preprocess.py\", line 131, in validate_device_wires\n",
      "    raise WireError(\n",
      "pennylane.wires.WireError: Cannot run circuit(s) on default.qubit as they contain wires not found on the device: {7}\n"
     ]
    },
    {
     "name": "stdout",
     "output_type": "stream",
     "text": [
      "Error during execution: Cannot run circuit(s) on default.qubit as they contain wires not found on the device: {7}\n"
     ]
    },
    {
     "name": "stderr",
     "output_type": "stream",
     "text": [
      "  0%|          | 0/185 [00:00<?, ?it/s]\n",
      "Traceback (most recent call last):\n",
      "  File \"/var/folders/wl/7wlprxgn5hxbwxmhbsvvsyj40000gs/T/ipykernel_28212/106676976.py\", line 320, in <module>\n",
      "    out = cost(param_init, train_x[i:i+25], train_y[i:i+25])\n",
      "          ^^^^^^^^^^^^^^^^^^^^^^^^^^^^^^^^^^^^^^^^^^^^^^^^^^\n",
      "  File \"/var/folders/wl/7wlprxgn5hxbwxmhbsvvsyj40000gs/T/ipykernel_28212/106676976.py\", line 312, in cost\n",
      "    predictions = m(circuit(weights, X))\n",
      "                    ^^^^^^^^^^^^^^^^^^^\n",
      "  File \"/Users/mateo/anaconda3/lib/python3.11/site-packages/pennylane/workflow/qnode.py\", line 1098, in __call__\n",
      "    res = self._execution_component(args, kwargs, override_shots=override_shots)\n",
      "          ^^^^^^^^^^^^^^^^^^^^^^^^^^^^^^^^^^^^^^^^^^^^^^^^^^^^^^^^^^^^^^^^^^^^^^\n",
      "  File \"/Users/mateo/anaconda3/lib/python3.11/site-packages/pennylane/workflow/qnode.py\", line 1052, in _execution_component\n",
      "    res = qml.execute(\n",
      "          ^^^^^^^^^^^^\n",
      "  File \"/Users/mateo/anaconda3/lib/python3.11/site-packages/pennylane/workflow/execution.py\", line 600, in execute\n",
      "    tapes, post_processing = transform_program(tapes)\n",
      "                             ^^^^^^^^^^^^^^^^^^^^^^^^\n",
      "  File \"/Users/mateo/anaconda3/lib/python3.11/site-packages/pennylane/transforms/core/transform_program.py\", line 509, in __call__\n",
      "    new_tapes, fn = transform(tape, *targs, **tkwargs)\n",
      "                    ^^^^^^^^^^^^^^^^^^^^^^^^^^^^^^^^^^\n",
      "  File \"/Users/mateo/anaconda3/lib/python3.11/site-packages/pennylane/devices/preprocess.py\", line 131, in validate_device_wires\n",
      "    raise WireError(\n",
      "pennylane.wires.WireError: Cannot run circuit(s) on default.qubit as they contain wires not found on the device: {7}\n"
     ]
    },
    {
     "name": "stdout",
     "output_type": "stream",
     "text": [
      "Error during execution: Cannot run circuit(s) on default.qubit as they contain wires not found on the device: {7}\n",
      "2\n"
     ]
    },
    {
     "name": "stderr",
     "output_type": "stream",
     "text": [
      "  0%|          | 0/185 [00:00<?, ?it/s]\n",
      "Traceback (most recent call last):\n",
      "  File \"/var/folders/wl/7wlprxgn5hxbwxmhbsvvsyj40000gs/T/ipykernel_28212/106676976.py\", line 320, in <module>\n",
      "    out = cost(param_init, train_x[i:i+25], train_y[i:i+25])\n",
      "          ^^^^^^^^^^^^^^^^^^^^^^^^^^^^^^^^^^^^^^^^^^^^^^^^^^\n",
      "  File \"/var/folders/wl/7wlprxgn5hxbwxmhbsvvsyj40000gs/T/ipykernel_28212/106676976.py\", line 312, in cost\n",
      "    predictions = m(circuit(weights, X))\n",
      "                    ^^^^^^^^^^^^^^^^^^^\n",
      "  File \"/Users/mateo/anaconda3/lib/python3.11/site-packages/pennylane/workflow/qnode.py\", line 1098, in __call__\n",
      "    res = self._execution_component(args, kwargs, override_shots=override_shots)\n",
      "          ^^^^^^^^^^^^^^^^^^^^^^^^^^^^^^^^^^^^^^^^^^^^^^^^^^^^^^^^^^^^^^^^^^^^^^\n",
      "  File \"/Users/mateo/anaconda3/lib/python3.11/site-packages/pennylane/workflow/qnode.py\", line 1052, in _execution_component\n",
      "    res = qml.execute(\n",
      "          ^^^^^^^^^^^^\n",
      "  File \"/Users/mateo/anaconda3/lib/python3.11/site-packages/pennylane/workflow/execution.py\", line 600, in execute\n",
      "    tapes, post_processing = transform_program(tapes)\n",
      "                             ^^^^^^^^^^^^^^^^^^^^^^^^\n",
      "  File \"/Users/mateo/anaconda3/lib/python3.11/site-packages/pennylane/transforms/core/transform_program.py\", line 509, in __call__\n",
      "    new_tapes, fn = transform(tape, *targs, **tkwargs)\n",
      "                    ^^^^^^^^^^^^^^^^^^^^^^^^^^^^^^^^^^\n",
      "  File \"/Users/mateo/anaconda3/lib/python3.11/site-packages/pennylane/devices/preprocess.py\", line 131, in validate_device_wires\n",
      "    raise WireError(\n",
      "pennylane.wires.WireError: Cannot run circuit(s) on default.qubit as they contain wires not found on the device: {7}\n"
     ]
    },
    {
     "name": "stdout",
     "output_type": "stream",
     "text": [
      "Error during execution: Cannot run circuit(s) on default.qubit as they contain wires not found on the device: {7}\n"
     ]
    },
    {
     "name": "stderr",
     "output_type": "stream",
     "text": [
      "  0%|          | 0/185 [00:00<?, ?it/s]\n",
      "Traceback (most recent call last):\n",
      "  File \"/var/folders/wl/7wlprxgn5hxbwxmhbsvvsyj40000gs/T/ipykernel_28212/106676976.py\", line 320, in <module>\n",
      "    out = cost(param_init, train_x[i:i+25], train_y[i:i+25])\n",
      "          ^^^^^^^^^^^^^^^^^^^^^^^^^^^^^^^^^^^^^^^^^^^^^^^^^^\n",
      "  File \"/var/folders/wl/7wlprxgn5hxbwxmhbsvvsyj40000gs/T/ipykernel_28212/106676976.py\", line 312, in cost\n",
      "    predictions = m(circuit(weights, X))\n",
      "                    ^^^^^^^^^^^^^^^^^^^\n",
      "  File \"/Users/mateo/anaconda3/lib/python3.11/site-packages/pennylane/workflow/qnode.py\", line 1098, in __call__\n",
      "    res = self._execution_component(args, kwargs, override_shots=override_shots)\n",
      "          ^^^^^^^^^^^^^^^^^^^^^^^^^^^^^^^^^^^^^^^^^^^^^^^^^^^^^^^^^^^^^^^^^^^^^^\n",
      "  File \"/Users/mateo/anaconda3/lib/python3.11/site-packages/pennylane/workflow/qnode.py\", line 1052, in _execution_component\n",
      "    res = qml.execute(\n",
      "          ^^^^^^^^^^^^\n",
      "  File \"/Users/mateo/anaconda3/lib/python3.11/site-packages/pennylane/workflow/execution.py\", line 600, in execute\n",
      "    tapes, post_processing = transform_program(tapes)\n",
      "                             ^^^^^^^^^^^^^^^^^^^^^^^^\n",
      "  File \"/Users/mateo/anaconda3/lib/python3.11/site-packages/pennylane/transforms/core/transform_program.py\", line 509, in __call__\n",
      "    new_tapes, fn = transform(tape, *targs, **tkwargs)\n",
      "                    ^^^^^^^^^^^^^^^^^^^^^^^^^^^^^^^^^^\n",
      "  File \"/Users/mateo/anaconda3/lib/python3.11/site-packages/pennylane/devices/preprocess.py\", line 131, in validate_device_wires\n",
      "    raise WireError(\n",
      "pennylane.wires.WireError: Cannot run circuit(s) on default.qubit as they contain wires not found on the device: {7}\n"
     ]
    },
    {
     "name": "stdout",
     "output_type": "stream",
     "text": [
      "Error during execution: Cannot run circuit(s) on default.qubit as they contain wires not found on the device: {7}\n"
     ]
    },
    {
     "name": "stderr",
     "output_type": "stream",
     "text": [
      "  0%|          | 0/185 [00:00<?, ?it/s]\n",
      "Traceback (most recent call last):\n",
      "  File \"/var/folders/wl/7wlprxgn5hxbwxmhbsvvsyj40000gs/T/ipykernel_28212/106676976.py\", line 320, in <module>\n",
      "    out = cost(param_init, train_x[i:i+25], train_y[i:i+25])\n",
      "          ^^^^^^^^^^^^^^^^^^^^^^^^^^^^^^^^^^^^^^^^^^^^^^^^^^\n",
      "  File \"/var/folders/wl/7wlprxgn5hxbwxmhbsvvsyj40000gs/T/ipykernel_28212/106676976.py\", line 312, in cost\n",
      "    predictions = m(circuit(weights, X))\n",
      "                    ^^^^^^^^^^^^^^^^^^^\n",
      "  File \"/Users/mateo/anaconda3/lib/python3.11/site-packages/pennylane/workflow/qnode.py\", line 1098, in __call__\n",
      "    res = self._execution_component(args, kwargs, override_shots=override_shots)\n",
      "          ^^^^^^^^^^^^^^^^^^^^^^^^^^^^^^^^^^^^^^^^^^^^^^^^^^^^^^^^^^^^^^^^^^^^^^\n",
      "  File \"/Users/mateo/anaconda3/lib/python3.11/site-packages/pennylane/workflow/qnode.py\", line 1052, in _execution_component\n",
      "    res = qml.execute(\n",
      "          ^^^^^^^^^^^^\n",
      "  File \"/Users/mateo/anaconda3/lib/python3.11/site-packages/pennylane/workflow/execution.py\", line 600, in execute\n",
      "    tapes, post_processing = transform_program(tapes)\n",
      "                             ^^^^^^^^^^^^^^^^^^^^^^^^\n",
      "  File \"/Users/mateo/anaconda3/lib/python3.11/site-packages/pennylane/transforms/core/transform_program.py\", line 509, in __call__\n",
      "    new_tapes, fn = transform(tape, *targs, **tkwargs)\n",
      "                    ^^^^^^^^^^^^^^^^^^^^^^^^^^^^^^^^^^\n",
      "  File \"/Users/mateo/anaconda3/lib/python3.11/site-packages/pennylane/devices/preprocess.py\", line 131, in validate_device_wires\n",
      "    raise WireError(\n",
      "pennylane.wires.WireError: Cannot run circuit(s) on default.qubit as they contain wires not found on the device: {7}\n"
     ]
    },
    {
     "name": "stdout",
     "output_type": "stream",
     "text": [
      "Error during execution: Cannot run circuit(s) on default.qubit as they contain wires not found on the device: {7}\n"
     ]
    },
    {
     "name": "stderr",
     "output_type": "stream",
     "text": [
      "  0%|          | 0/185 [00:00<?, ?it/s]\n",
      "Traceback (most recent call last):\n",
      "  File \"/var/folders/wl/7wlprxgn5hxbwxmhbsvvsyj40000gs/T/ipykernel_28212/106676976.py\", line 320, in <module>\n",
      "    out = cost(param_init, train_x[i:i+25], train_y[i:i+25])\n",
      "          ^^^^^^^^^^^^^^^^^^^^^^^^^^^^^^^^^^^^^^^^^^^^^^^^^^\n",
      "  File \"/var/folders/wl/7wlprxgn5hxbwxmhbsvvsyj40000gs/T/ipykernel_28212/106676976.py\", line 312, in cost\n",
      "    predictions = m(circuit(weights, X))\n",
      "                    ^^^^^^^^^^^^^^^^^^^\n",
      "  File \"/Users/mateo/anaconda3/lib/python3.11/site-packages/pennylane/workflow/qnode.py\", line 1098, in __call__\n",
      "    res = self._execution_component(args, kwargs, override_shots=override_shots)\n",
      "          ^^^^^^^^^^^^^^^^^^^^^^^^^^^^^^^^^^^^^^^^^^^^^^^^^^^^^^^^^^^^^^^^^^^^^^\n",
      "  File \"/Users/mateo/anaconda3/lib/python3.11/site-packages/pennylane/workflow/qnode.py\", line 1052, in _execution_component\n",
      "    res = qml.execute(\n",
      "          ^^^^^^^^^^^^\n",
      "  File \"/Users/mateo/anaconda3/lib/python3.11/site-packages/pennylane/workflow/execution.py\", line 600, in execute\n",
      "    tapes, post_processing = transform_program(tapes)\n",
      "                             ^^^^^^^^^^^^^^^^^^^^^^^^\n",
      "  File \"/Users/mateo/anaconda3/lib/python3.11/site-packages/pennylane/transforms/core/transform_program.py\", line 509, in __call__\n",
      "    new_tapes, fn = transform(tape, *targs, **tkwargs)\n",
      "                    ^^^^^^^^^^^^^^^^^^^^^^^^^^^^^^^^^^\n",
      "  File \"/Users/mateo/anaconda3/lib/python3.11/site-packages/pennylane/devices/preprocess.py\", line 131, in validate_device_wires\n",
      "    raise WireError(\n",
      "pennylane.wires.WireError: Cannot run circuit(s) on default.qubit as they contain wires not found on the device: {7}\n"
     ]
    },
    {
     "name": "stdout",
     "output_type": "stream",
     "text": [
      "Error during execution: Cannot run circuit(s) on default.qubit as they contain wires not found on the device: {7}\n"
     ]
    },
    {
     "name": "stderr",
     "output_type": "stream",
     "text": [
      "  0%|          | 0/185 [00:00<?, ?it/s]\n",
      "Traceback (most recent call last):\n",
      "  File \"/var/folders/wl/7wlprxgn5hxbwxmhbsvvsyj40000gs/T/ipykernel_28212/106676976.py\", line 320, in <module>\n",
      "    out = cost(param_init, train_x[i:i+25], train_y[i:i+25])\n",
      "          ^^^^^^^^^^^^^^^^^^^^^^^^^^^^^^^^^^^^^^^^^^^^^^^^^^\n",
      "  File \"/var/folders/wl/7wlprxgn5hxbwxmhbsvvsyj40000gs/T/ipykernel_28212/106676976.py\", line 312, in cost\n",
      "    predictions = m(circuit(weights, X))\n",
      "                    ^^^^^^^^^^^^^^^^^^^\n",
      "  File \"/Users/mateo/anaconda3/lib/python3.11/site-packages/pennylane/workflow/qnode.py\", line 1098, in __call__\n",
      "    res = self._execution_component(args, kwargs, override_shots=override_shots)\n",
      "          ^^^^^^^^^^^^^^^^^^^^^^^^^^^^^^^^^^^^^^^^^^^^^^^^^^^^^^^^^^^^^^^^^^^^^^\n",
      "  File \"/Users/mateo/anaconda3/lib/python3.11/site-packages/pennylane/workflow/qnode.py\", line 1052, in _execution_component\n",
      "    res = qml.execute(\n",
      "          ^^^^^^^^^^^^\n",
      "  File \"/Users/mateo/anaconda3/lib/python3.11/site-packages/pennylane/workflow/execution.py\", line 600, in execute\n",
      "    tapes, post_processing = transform_program(tapes)\n",
      "                             ^^^^^^^^^^^^^^^^^^^^^^^^\n",
      "  File \"/Users/mateo/anaconda3/lib/python3.11/site-packages/pennylane/transforms/core/transform_program.py\", line 509, in __call__\n",
      "    new_tapes, fn = transform(tape, *targs, **tkwargs)\n",
      "                    ^^^^^^^^^^^^^^^^^^^^^^^^^^^^^^^^^^\n",
      "  File \"/Users/mateo/anaconda3/lib/python3.11/site-packages/pennylane/devices/preprocess.py\", line 131, in validate_device_wires\n",
      "    raise WireError(\n",
      "pennylane.wires.WireError: Cannot run circuit(s) on default.qubit as they contain wires not found on the device: {7}\n"
     ]
    },
    {
     "name": "stdout",
     "output_type": "stream",
     "text": [
      "Error during execution: Cannot run circuit(s) on default.qubit as they contain wires not found on the device: {7}\n"
     ]
    },
    {
     "name": "stderr",
     "output_type": "stream",
     "text": [
      "  0%|          | 0/185 [00:00<?, ?it/s]\n",
      "Traceback (most recent call last):\n",
      "  File \"/var/folders/wl/7wlprxgn5hxbwxmhbsvvsyj40000gs/T/ipykernel_28212/106676976.py\", line 320, in <module>\n",
      "    out = cost(param_init, train_x[i:i+25], train_y[i:i+25])\n",
      "          ^^^^^^^^^^^^^^^^^^^^^^^^^^^^^^^^^^^^^^^^^^^^^^^^^^\n",
      "  File \"/var/folders/wl/7wlprxgn5hxbwxmhbsvvsyj40000gs/T/ipykernel_28212/106676976.py\", line 312, in cost\n",
      "    predictions = m(circuit(weights, X))\n",
      "                    ^^^^^^^^^^^^^^^^^^^\n",
      "  File \"/Users/mateo/anaconda3/lib/python3.11/site-packages/pennylane/workflow/qnode.py\", line 1098, in __call__\n",
      "    res = self._execution_component(args, kwargs, override_shots=override_shots)\n",
      "          ^^^^^^^^^^^^^^^^^^^^^^^^^^^^^^^^^^^^^^^^^^^^^^^^^^^^^^^^^^^^^^^^^^^^^^\n",
      "  File \"/Users/mateo/anaconda3/lib/python3.11/site-packages/pennylane/workflow/qnode.py\", line 1052, in _execution_component\n",
      "    res = qml.execute(\n",
      "          ^^^^^^^^^^^^\n",
      "  File \"/Users/mateo/anaconda3/lib/python3.11/site-packages/pennylane/workflow/execution.py\", line 600, in execute\n",
      "    tapes, post_processing = transform_program(tapes)\n",
      "                             ^^^^^^^^^^^^^^^^^^^^^^^^\n",
      "  File \"/Users/mateo/anaconda3/lib/python3.11/site-packages/pennylane/transforms/core/transform_program.py\", line 509, in __call__\n",
      "    new_tapes, fn = transform(tape, *targs, **tkwargs)\n",
      "                    ^^^^^^^^^^^^^^^^^^^^^^^^^^^^^^^^^^\n",
      "  File \"/Users/mateo/anaconda3/lib/python3.11/site-packages/pennylane/devices/preprocess.py\", line 131, in validate_device_wires\n",
      "    raise WireError(\n",
      "pennylane.wires.WireError: Cannot run circuit(s) on default.qubit as they contain wires not found on the device: {7}\n"
     ]
    },
    {
     "name": "stdout",
     "output_type": "stream",
     "text": [
      "Error during execution: Cannot run circuit(s) on default.qubit as they contain wires not found on the device: {7}\n",
      "4\n"
     ]
    },
    {
     "name": "stderr",
     "output_type": "stream",
     "text": [
      "  0%|          | 0/185 [00:00<?, ?it/s]\n",
      "Traceback (most recent call last):\n",
      "  File \"/var/folders/wl/7wlprxgn5hxbwxmhbsvvsyj40000gs/T/ipykernel_28212/106676976.py\", line 320, in <module>\n",
      "    out = cost(param_init, train_x[i:i+25], train_y[i:i+25])\n",
      "          ^^^^^^^^^^^^^^^^^^^^^^^^^^^^^^^^^^^^^^^^^^^^^^^^^^\n",
      "  File \"/var/folders/wl/7wlprxgn5hxbwxmhbsvvsyj40000gs/T/ipykernel_28212/106676976.py\", line 312, in cost\n",
      "    predictions = m(circuit(weights, X))\n",
      "                    ^^^^^^^^^^^^^^^^^^^\n",
      "  File \"/Users/mateo/anaconda3/lib/python3.11/site-packages/pennylane/workflow/qnode.py\", line 1098, in __call__\n",
      "    res = self._execution_component(args, kwargs, override_shots=override_shots)\n",
      "          ^^^^^^^^^^^^^^^^^^^^^^^^^^^^^^^^^^^^^^^^^^^^^^^^^^^^^^^^^^^^^^^^^^^^^^\n",
      "  File \"/Users/mateo/anaconda3/lib/python3.11/site-packages/pennylane/workflow/qnode.py\", line 1052, in _execution_component\n",
      "    res = qml.execute(\n",
      "          ^^^^^^^^^^^^\n",
      "  File \"/Users/mateo/anaconda3/lib/python3.11/site-packages/pennylane/workflow/execution.py\", line 600, in execute\n",
      "    tapes, post_processing = transform_program(tapes)\n",
      "                             ^^^^^^^^^^^^^^^^^^^^^^^^\n",
      "  File \"/Users/mateo/anaconda3/lib/python3.11/site-packages/pennylane/transforms/core/transform_program.py\", line 509, in __call__\n",
      "    new_tapes, fn = transform(tape, *targs, **tkwargs)\n",
      "                    ^^^^^^^^^^^^^^^^^^^^^^^^^^^^^^^^^^\n",
      "  File \"/Users/mateo/anaconda3/lib/python3.11/site-packages/pennylane/devices/preprocess.py\", line 131, in validate_device_wires\n",
      "    raise WireError(\n",
      "pennylane.wires.WireError: Cannot run circuit(s) on default.qubit as they contain wires not found on the device: {7}\n"
     ]
    },
    {
     "name": "stdout",
     "output_type": "stream",
     "text": [
      "Error during execution: Cannot run circuit(s) on default.qubit as they contain wires not found on the device: {7}\n"
     ]
    },
    {
     "name": "stderr",
     "output_type": "stream",
     "text": [
      "  0%|          | 0/185 [00:00<?, ?it/s]\n",
      "Traceback (most recent call last):\n",
      "  File \"/var/folders/wl/7wlprxgn5hxbwxmhbsvvsyj40000gs/T/ipykernel_28212/106676976.py\", line 320, in <module>\n",
      "    out = cost(param_init, train_x[i:i+25], train_y[i:i+25])\n",
      "          ^^^^^^^^^^^^^^^^^^^^^^^^^^^^^^^^^^^^^^^^^^^^^^^^^^\n",
      "  File \"/var/folders/wl/7wlprxgn5hxbwxmhbsvvsyj40000gs/T/ipykernel_28212/106676976.py\", line 312, in cost\n",
      "    predictions = m(circuit(weights, X))\n",
      "                    ^^^^^^^^^^^^^^^^^^^\n",
      "  File \"/Users/mateo/anaconda3/lib/python3.11/site-packages/pennylane/workflow/qnode.py\", line 1098, in __call__\n",
      "    res = self._execution_component(args, kwargs, override_shots=override_shots)\n",
      "          ^^^^^^^^^^^^^^^^^^^^^^^^^^^^^^^^^^^^^^^^^^^^^^^^^^^^^^^^^^^^^^^^^^^^^^\n",
      "  File \"/Users/mateo/anaconda3/lib/python3.11/site-packages/pennylane/workflow/qnode.py\", line 1052, in _execution_component\n",
      "    res = qml.execute(\n",
      "          ^^^^^^^^^^^^\n",
      "  File \"/Users/mateo/anaconda3/lib/python3.11/site-packages/pennylane/workflow/execution.py\", line 600, in execute\n",
      "    tapes, post_processing = transform_program(tapes)\n",
      "                             ^^^^^^^^^^^^^^^^^^^^^^^^\n",
      "  File \"/Users/mateo/anaconda3/lib/python3.11/site-packages/pennylane/transforms/core/transform_program.py\", line 509, in __call__\n",
      "    new_tapes, fn = transform(tape, *targs, **tkwargs)\n",
      "                    ^^^^^^^^^^^^^^^^^^^^^^^^^^^^^^^^^^\n",
      "  File \"/Users/mateo/anaconda3/lib/python3.11/site-packages/pennylane/devices/preprocess.py\", line 131, in validate_device_wires\n",
      "    raise WireError(\n",
      "pennylane.wires.WireError: Cannot run circuit(s) on default.qubit as they contain wires not found on the device: {7}\n"
     ]
    },
    {
     "name": "stdout",
     "output_type": "stream",
     "text": [
      "Error during execution: Cannot run circuit(s) on default.qubit as they contain wires not found on the device: {7}\n"
     ]
    },
    {
     "name": "stderr",
     "output_type": "stream",
     "text": [
      "  0%|          | 0/185 [00:00<?, ?it/s]\n",
      "Traceback (most recent call last):\n"
     ]
    },
    {
     "name": "stdout",
     "output_type": "stream",
     "text": [
      "Error during execution: Cannot run circuit(s) on default.qubit as they contain wires not found on the device: {7}\n"
     ]
    },
    {
     "name": "stderr",
     "output_type": "stream",
     "text": [
      "  File \"/var/folders/wl/7wlprxgn5hxbwxmhbsvvsyj40000gs/T/ipykernel_28212/106676976.py\", line 320, in <module>\n",
      "    out = cost(param_init, train_x[i:i+25], train_y[i:i+25])\n",
      "          ^^^^^^^^^^^^^^^^^^^^^^^^^^^^^^^^^^^^^^^^^^^^^^^^^^\n",
      "  File \"/var/folders/wl/7wlprxgn5hxbwxmhbsvvsyj40000gs/T/ipykernel_28212/106676976.py\", line 312, in cost\n",
      "    predictions = m(circuit(weights, X))\n",
      "                    ^^^^^^^^^^^^^^^^^^^\n",
      "  File \"/Users/mateo/anaconda3/lib/python3.11/site-packages/pennylane/workflow/qnode.py\", line 1098, in __call__\n",
      "    res = self._execution_component(args, kwargs, override_shots=override_shots)\n",
      "          ^^^^^^^^^^^^^^^^^^^^^^^^^^^^^^^^^^^^^^^^^^^^^^^^^^^^^^^^^^^^^^^^^^^^^^\n",
      "  File \"/Users/mateo/anaconda3/lib/python3.11/site-packages/pennylane/workflow/qnode.py\", line 1052, in _execution_component\n",
      "    res = qml.execute(\n",
      "          ^^^^^^^^^^^^\n",
      "  File \"/Users/mateo/anaconda3/lib/python3.11/site-packages/pennylane/workflow/execution.py\", line 600, in execute\n",
      "    tapes, post_processing = transform_program(tapes)\n",
      "                             ^^^^^^^^^^^^^^^^^^^^^^^^\n",
      "  File \"/Users/mateo/anaconda3/lib/python3.11/site-packages/pennylane/transforms/core/transform_program.py\", line 509, in __call__\n",
      "    new_tapes, fn = transform(tape, *targs, **tkwargs)\n",
      "                    ^^^^^^^^^^^^^^^^^^^^^^^^^^^^^^^^^^\n",
      "  File \"/Users/mateo/anaconda3/lib/python3.11/site-packages/pennylane/devices/preprocess.py\", line 131, in validate_device_wires\n",
      "    raise WireError(\n",
      "pennylane.wires.WireError: Cannot run circuit(s) on default.qubit as they contain wires not found on the device: {7}\n",
      "  0%|          | 0/185 [00:00<?, ?it/s]\n",
      "Traceback (most recent call last):\n",
      "  File \"/var/folders/wl/7wlprxgn5hxbwxmhbsvvsyj40000gs/T/ipykernel_28212/106676976.py\", line 320, in <module>\n",
      "    out = cost(param_init, train_x[i:i+25], train_y[i:i+25])\n",
      "          ^^^^^^^^^^^^^^^^^^^^^^^^^^^^^^^^^^^^^^^^^^^^^^^^^^\n",
      "  File \"/var/folders/wl/7wlprxgn5hxbwxmhbsvvsyj40000gs/T/ipykernel_28212/106676976.py\", line 312, in cost\n",
      "    predictions = m(circuit(weights, X))\n",
      "                    ^^^^^^^^^^^^^^^^^^^\n",
      "  File \"/Users/mateo/anaconda3/lib/python3.11/site-packages/pennylane/workflow/qnode.py\", line 1098, in __call__\n",
      "    res = self._execution_component(args, kwargs, override_shots=override_shots)\n",
      "          ^^^^^^^^^^^^^^^^^^^^^^^^^^^^^^^^^^^^^^^^^^^^^^^^^^^^^^^^^^^^^^^^^^^^^^\n",
      "  File \"/Users/mateo/anaconda3/lib/python3.11/site-packages/pennylane/workflow/qnode.py\", line 1052, in _execution_component\n",
      "    res = qml.execute(\n",
      "          ^^^^^^^^^^^^\n",
      "  File \"/Users/mateo/anaconda3/lib/python3.11/site-packages/pennylane/workflow/execution.py\", line 600, in execute\n",
      "    tapes, post_processing = transform_program(tapes)\n",
      "                             ^^^^^^^^^^^^^^^^^^^^^^^^\n",
      "  File \"/Users/mateo/anaconda3/lib/python3.11/site-packages/pennylane/transforms/core/transform_program.py\", line 509, in __call__\n",
      "    new_tapes, fn = transform(tape, *targs, **tkwargs)\n",
      "                    ^^^^^^^^^^^^^^^^^^^^^^^^^^^^^^^^^^\n",
      "  File \"/Users/mateo/anaconda3/lib/python3.11/site-packages/pennylane/devices/preprocess.py\", line 131, in validate_device_wires\n",
      "    raise WireError(\n",
      "pennylane.wires.WireError: Cannot run circuit(s) on default.qubit as they contain wires not found on the device: {7}\n"
     ]
    },
    {
     "name": "stdout",
     "output_type": "stream",
     "text": [
      "Error during execution: Cannot run circuit(s) on default.qubit as they contain wires not found on the device: {7}\n"
     ]
    },
    {
     "name": "stderr",
     "output_type": "stream",
     "text": [
      "  0%|          | 0/185 [00:00<?, ?it/s]\n",
      "Traceback (most recent call last):\n",
      "  File \"/var/folders/wl/7wlprxgn5hxbwxmhbsvvsyj40000gs/T/ipykernel_28212/106676976.py\", line 320, in <module>\n",
      "    out = cost(param_init, train_x[i:i+25], train_y[i:i+25])\n",
      "          ^^^^^^^^^^^^^^^^^^^^^^^^^^^^^^^^^^^^^^^^^^^^^^^^^^\n",
      "  File \"/var/folders/wl/7wlprxgn5hxbwxmhbsvvsyj40000gs/T/ipykernel_28212/106676976.py\", line 312, in cost\n",
      "    predictions = m(circuit(weights, X))\n",
      "                    ^^^^^^^^^^^^^^^^^^^\n",
      "  File \"/Users/mateo/anaconda3/lib/python3.11/site-packages/pennylane/workflow/qnode.py\", line 1098, in __call__\n",
      "    res = self._execution_component(args, kwargs, override_shots=override_shots)\n",
      "          ^^^^^^^^^^^^^^^^^^^^^^^^^^^^^^^^^^^^^^^^^^^^^^^^^^^^^^^^^^^^^^^^^^^^^^\n",
      "  File \"/Users/mateo/anaconda3/lib/python3.11/site-packages/pennylane/workflow/qnode.py\", line 1052, in _execution_component\n",
      "    res = qml.execute(\n",
      "          ^^^^^^^^^^^^\n",
      "  File \"/Users/mateo/anaconda3/lib/python3.11/site-packages/pennylane/workflow/execution.py\", line 600, in execute\n",
      "    tapes, post_processing = transform_program(tapes)\n",
      "                             ^^^^^^^^^^^^^^^^^^^^^^^^\n",
      "  File \"/Users/mateo/anaconda3/lib/python3.11/site-packages/pennylane/transforms/core/transform_program.py\", line 509, in __call__\n",
      "    new_tapes, fn = transform(tape, *targs, **tkwargs)\n",
      "                    ^^^^^^^^^^^^^^^^^^^^^^^^^^^^^^^^^^\n",
      "  File \"/Users/mateo/anaconda3/lib/python3.11/site-packages/pennylane/devices/preprocess.py\", line 131, in validate_device_wires\n",
      "    raise WireError(\n",
      "pennylane.wires.WireError: Cannot run circuit(s) on default.qubit as they contain wires not found on the device: {7}\n"
     ]
    },
    {
     "name": "stdout",
     "output_type": "stream",
     "text": [
      "Error during execution: Cannot run circuit(s) on default.qubit as they contain wires not found on the device: {7}\n"
     ]
    },
    {
     "name": "stderr",
     "output_type": "stream",
     "text": [
      "  0%|          | 0/185 [00:00<?, ?it/s]\n",
      "Traceback (most recent call last):\n",
      "  File \"/var/folders/wl/7wlprxgn5hxbwxmhbsvvsyj40000gs/T/ipykernel_28212/106676976.py\", line 320, in <module>\n",
      "    out = cost(param_init, train_x[i:i+25], train_y[i:i+25])\n",
      "          ^^^^^^^^^^^^^^^^^^^^^^^^^^^^^^^^^^^^^^^^^^^^^^^^^^\n",
      "  File \"/var/folders/wl/7wlprxgn5hxbwxmhbsvvsyj40000gs/T/ipykernel_28212/106676976.py\", line 312, in cost\n",
      "    predictions = m(circuit(weights, X))\n",
      "                    ^^^^^^^^^^^^^^^^^^^\n",
      "  File \"/Users/mateo/anaconda3/lib/python3.11/site-packages/pennylane/workflow/qnode.py\", line 1098, in __call__\n",
      "    res = self._execution_component(args, kwargs, override_shots=override_shots)\n",
      "          ^^^^^^^^^^^^^^^^^^^^^^^^^^^^^^^^^^^^^^^^^^^^^^^^^^^^^^^^^^^^^^^^^^^^^^\n",
      "  File \"/Users/mateo/anaconda3/lib/python3.11/site-packages/pennylane/workflow/qnode.py\", line 1052, in _execution_component\n",
      "    res = qml.execute(\n",
      "          ^^^^^^^^^^^^\n",
      "  File \"/Users/mateo/anaconda3/lib/python3.11/site-packages/pennylane/workflow/execution.py\", line 600, in execute\n",
      "    tapes, post_processing = transform_program(tapes)\n",
      "                             ^^^^^^^^^^^^^^^^^^^^^^^^\n",
      "  File \"/Users/mateo/anaconda3/lib/python3.11/site-packages/pennylane/transforms/core/transform_program.py\", line 509, in __call__\n",
      "    new_tapes, fn = transform(tape, *targs, **tkwargs)\n",
      "                    ^^^^^^^^^^^^^^^^^^^^^^^^^^^^^^^^^^\n",
      "  File \"/Users/mateo/anaconda3/lib/python3.11/site-packages/pennylane/devices/preprocess.py\", line 131, in validate_device_wires\n",
      "    raise WireError(\n",
      "pennylane.wires.WireError: Cannot run circuit(s) on default.qubit as they contain wires not found on the device: {7}\n"
     ]
    },
    {
     "name": "stdout",
     "output_type": "stream",
     "text": [
      "Error during execution: Cannot run circuit(s) on default.qubit as they contain wires not found on the device: {7}\n",
      "6\n"
     ]
    },
    {
     "name": "stderr",
     "output_type": "stream",
     "text": [
      "  0%|          | 0/185 [00:00<?, ?it/s]\n",
      "Traceback (most recent call last):\n",
      "  File \"/var/folders/wl/7wlprxgn5hxbwxmhbsvvsyj40000gs/T/ipykernel_28212/106676976.py\", line 320, in <module>\n",
      "    out = cost(param_init, train_x[i:i+25], train_y[i:i+25])\n",
      "          ^^^^^^^^^^^^^^^^^^^^^^^^^^^^^^^^^^^^^^^^^^^^^^^^^^\n",
      "  File \"/var/folders/wl/7wlprxgn5hxbwxmhbsvvsyj40000gs/T/ipykernel_28212/106676976.py\", line 312, in cost\n",
      "    predictions = m(circuit(weights, X))\n",
      "                    ^^^^^^^^^^^^^^^^^^^\n",
      "  File \"/Users/mateo/anaconda3/lib/python3.11/site-packages/pennylane/workflow/qnode.py\", line 1098, in __call__\n",
      "    res = self._execution_component(args, kwargs, override_shots=override_shots)\n",
      "          ^^^^^^^^^^^^^^^^^^^^^^^^^^^^^^^^^^^^^^^^^^^^^^^^^^^^^^^^^^^^^^^^^^^^^^\n",
      "  File \"/Users/mateo/anaconda3/lib/python3.11/site-packages/pennylane/workflow/qnode.py\", line 1052, in _execution_component\n",
      "    res = qml.execute(\n",
      "          ^^^^^^^^^^^^\n",
      "  File \"/Users/mateo/anaconda3/lib/python3.11/site-packages/pennylane/workflow/execution.py\", line 600, in execute\n",
      "    tapes, post_processing = transform_program(tapes)\n",
      "                             ^^^^^^^^^^^^^^^^^^^^^^^^\n",
      "  File \"/Users/mateo/anaconda3/lib/python3.11/site-packages/pennylane/transforms/core/transform_program.py\", line 509, in __call__\n",
      "    new_tapes, fn = transform(tape, *targs, **tkwargs)\n",
      "                    ^^^^^^^^^^^^^^^^^^^^^^^^^^^^^^^^^^\n",
      "  File \"/Users/mateo/anaconda3/lib/python3.11/site-packages/pennylane/devices/preprocess.py\", line 131, in validate_device_wires\n",
      "    raise WireError(\n",
      "pennylane.wires.WireError: Cannot run circuit(s) on default.qubit as they contain wires not found on the device: {7}\n"
     ]
    },
    {
     "name": "stdout",
     "output_type": "stream",
     "text": [
      "Error during execution: Cannot run circuit(s) on default.qubit as they contain wires not found on the device: {7}\n"
     ]
    },
    {
     "name": "stderr",
     "output_type": "stream",
     "text": [
      "  0%|          | 0/185 [00:00<?, ?it/s]\n",
      "Traceback (most recent call last):\n",
      "  File \"/var/folders/wl/7wlprxgn5hxbwxmhbsvvsyj40000gs/T/ipykernel_28212/106676976.py\", line 320, in <module>\n",
      "    out = cost(param_init, train_x[i:i+25], train_y[i:i+25])\n",
      "          ^^^^^^^^^^^^^^^^^^^^^^^^^^^^^^^^^^^^^^^^^^^^^^^^^^\n",
      "  File \"/var/folders/wl/7wlprxgn5hxbwxmhbsvvsyj40000gs/T/ipykernel_28212/106676976.py\", line 312, in cost\n",
      "    predictions = m(circuit(weights, X))\n",
      "                    ^^^^^^^^^^^^^^^^^^^\n",
      "  File \"/Users/mateo/anaconda3/lib/python3.11/site-packages/pennylane/workflow/qnode.py\", line 1098, in __call__\n",
      "    res = self._execution_component(args, kwargs, override_shots=override_shots)\n",
      "          ^^^^^^^^^^^^^^^^^^^^^^^^^^^^^^^^^^^^^^^^^^^^^^^^^^^^^^^^^^^^^^^^^^^^^^\n",
      "  File \"/Users/mateo/anaconda3/lib/python3.11/site-packages/pennylane/workflow/qnode.py\", line 1052, in _execution_component\n",
      "    res = qml.execute(\n",
      "          ^^^^^^^^^^^^\n",
      "  File \"/Users/mateo/anaconda3/lib/python3.11/site-packages/pennylane/workflow/execution.py\", line 600, in execute\n",
      "    tapes, post_processing = transform_program(tapes)\n",
      "                             ^^^^^^^^^^^^^^^^^^^^^^^^\n",
      "  File \"/Users/mateo/anaconda3/lib/python3.11/site-packages/pennylane/transforms/core/transform_program.py\", line 509, in __call__\n",
      "    new_tapes, fn = transform(tape, *targs, **tkwargs)\n",
      "                    ^^^^^^^^^^^^^^^^^^^^^^^^^^^^^^^^^^\n",
      "  File \"/Users/mateo/anaconda3/lib/python3.11/site-packages/pennylane/devices/preprocess.py\", line 131, in validate_device_wires\n",
      "    raise WireError(\n",
      "pennylane.wires.WireError: Cannot run circuit(s) on default.qubit as they contain wires not found on the device: {7}\n"
     ]
    },
    {
     "name": "stdout",
     "output_type": "stream",
     "text": [
      "Error during execution: Cannot run circuit(s) on default.qubit as they contain wires not found on the device: {7}\n"
     ]
    },
    {
     "name": "stderr",
     "output_type": "stream",
     "text": [
      "  0%|          | 0/185 [00:00<?, ?it/s]\n",
      "Traceback (most recent call last):\n",
      "  File \"/var/folders/wl/7wlprxgn5hxbwxmhbsvvsyj40000gs/T/ipykernel_28212/106676976.py\", line 320, in <module>\n",
      "    out = cost(param_init, train_x[i:i+25], train_y[i:i+25])\n",
      "          ^^^^^^^^^^^^^^^^^^^^^^^^^^^^^^^^^^^^^^^^^^^^^^^^^^\n",
      "  File \"/var/folders/wl/7wlprxgn5hxbwxmhbsvvsyj40000gs/T/ipykernel_28212/106676976.py\", line 312, in cost\n",
      "    predictions = m(circuit(weights, X))\n",
      "                    ^^^^^^^^^^^^^^^^^^^\n",
      "  File \"/Users/mateo/anaconda3/lib/python3.11/site-packages/pennylane/workflow/qnode.py\", line 1098, in __call__\n",
      "    res = self._execution_component(args, kwargs, override_shots=override_shots)\n",
      "          ^^^^^^^^^^^^^^^^^^^^^^^^^^^^^^^^^^^^^^^^^^^^^^^^^^^^^^^^^^^^^^^^^^^^^^\n",
      "  File \"/Users/mateo/anaconda3/lib/python3.11/site-packages/pennylane/workflow/qnode.py\", line 1052, in _execution_component\n",
      "    res = qml.execute(\n",
      "          ^^^^^^^^^^^^\n",
      "  File \"/Users/mateo/anaconda3/lib/python3.11/site-packages/pennylane/workflow/execution.py\", line 600, in execute\n",
      "    tapes, post_processing = transform_program(tapes)\n",
      "                             ^^^^^^^^^^^^^^^^^^^^^^^^\n",
      "  File \"/Users/mateo/anaconda3/lib/python3.11/site-packages/pennylane/transforms/core/transform_program.py\", line 509, in __call__\n",
      "    new_tapes, fn = transform(tape, *targs, **tkwargs)\n",
      "                    ^^^^^^^^^^^^^^^^^^^^^^^^^^^^^^^^^^\n",
      "  File \"/Users/mateo/anaconda3/lib/python3.11/site-packages/pennylane/devices/preprocess.py\", line 131, in validate_device_wires\n",
      "    raise WireError(\n",
      "pennylane.wires.WireError: Cannot run circuit(s) on default.qubit as they contain wires not found on the device: {7}\n"
     ]
    },
    {
     "name": "stdout",
     "output_type": "stream",
     "text": [
      "Error during execution: Cannot run circuit(s) on default.qubit as they contain wires not found on the device: {7}\n"
     ]
    },
    {
     "name": "stderr",
     "output_type": "stream",
     "text": [
      "  0%|          | 0/185 [00:00<?, ?it/s]\n",
      "Traceback (most recent call last):\n",
      "  File \"/var/folders/wl/7wlprxgn5hxbwxmhbsvvsyj40000gs/T/ipykernel_28212/106676976.py\", line 320, in <module>\n",
      "    out = cost(param_init, train_x[i:i+25], train_y[i:i+25])\n",
      "          ^^^^^^^^^^^^^^^^^^^^^^^^^^^^^^^^^^^^^^^^^^^^^^^^^^\n",
      "  File \"/var/folders/wl/7wlprxgn5hxbwxmhbsvvsyj40000gs/T/ipykernel_28212/106676976.py\", line 312, in cost\n",
      "    predictions = m(circuit(weights, X))\n",
      "                    ^^^^^^^^^^^^^^^^^^^\n",
      "  File \"/Users/mateo/anaconda3/lib/python3.11/site-packages/pennylane/workflow/qnode.py\", line 1098, in __call__\n",
      "    res = self._execution_component(args, kwargs, override_shots=override_shots)\n",
      "          ^^^^^^^^^^^^^^^^^^^^^^^^^^^^^^^^^^^^^^^^^^^^^^^^^^^^^^^^^^^^^^^^^^^^^^\n",
      "  File \"/Users/mateo/anaconda3/lib/python3.11/site-packages/pennylane/workflow/qnode.py\", line 1052, in _execution_component\n",
      "    res = qml.execute(\n",
      "          ^^^^^^^^^^^^\n",
      "  File \"/Users/mateo/anaconda3/lib/python3.11/site-packages/pennylane/workflow/execution.py\", line 600, in execute\n",
      "    tapes, post_processing = transform_program(tapes)\n",
      "                             ^^^^^^^^^^^^^^^^^^^^^^^^\n",
      "  File \"/Users/mateo/anaconda3/lib/python3.11/site-packages/pennylane/transforms/core/transform_program.py\", line 509, in __call__\n",
      "    new_tapes, fn = transform(tape, *targs, **tkwargs)\n",
      "                    ^^^^^^^^^^^^^^^^^^^^^^^^^^^^^^^^^^\n",
      "  File \"/Users/mateo/anaconda3/lib/python3.11/site-packages/pennylane/devices/preprocess.py\", line 131, in validate_device_wires\n",
      "    raise WireError(\n",
      "pennylane.wires.WireError: Cannot run circuit(s) on default.qubit as they contain wires not found on the device: {7}\n"
     ]
    },
    {
     "name": "stdout",
     "output_type": "stream",
     "text": [
      "Error during execution: Cannot run circuit(s) on default.qubit as they contain wires not found on the device: {7}\n"
     ]
    },
    {
     "name": "stderr",
     "output_type": "stream",
     "text": [
      "  0%|          | 0/185 [00:00<?, ?it/s]\n",
      "Traceback (most recent call last):\n",
      "  File \"/var/folders/wl/7wlprxgn5hxbwxmhbsvvsyj40000gs/T/ipykernel_28212/106676976.py\", line 320, in <module>\n",
      "    out = cost(param_init, train_x[i:i+25], train_y[i:i+25])\n",
      "          ^^^^^^^^^^^^^^^^^^^^^^^^^^^^^^^^^^^^^^^^^^^^^^^^^^\n",
      "  File \"/var/folders/wl/7wlprxgn5hxbwxmhbsvvsyj40000gs/T/ipykernel_28212/106676976.py\", line 312, in cost\n",
      "    predictions = m(circuit(weights, X))\n",
      "                    ^^^^^^^^^^^^^^^^^^^\n",
      "  File \"/Users/mateo/anaconda3/lib/python3.11/site-packages/pennylane/workflow/qnode.py\", line 1098, in __call__\n",
      "    res = self._execution_component(args, kwargs, override_shots=override_shots)\n",
      "          ^^^^^^^^^^^^^^^^^^^^^^^^^^^^^^^^^^^^^^^^^^^^^^^^^^^^^^^^^^^^^^^^^^^^^^\n",
      "  File \"/Users/mateo/anaconda3/lib/python3.11/site-packages/pennylane/workflow/qnode.py\", line 1052, in _execution_component\n",
      "    res = qml.execute(\n",
      "          ^^^^^^^^^^^^\n",
      "  File \"/Users/mateo/anaconda3/lib/python3.11/site-packages/pennylane/workflow/execution.py\", line 600, in execute\n",
      "    tapes, post_processing = transform_program(tapes)\n",
      "                             ^^^^^^^^^^^^^^^^^^^^^^^^\n",
      "  File \"/Users/mateo/anaconda3/lib/python3.11/site-packages/pennylane/transforms/core/transform_program.py\", line 509, in __call__\n",
      "    new_tapes, fn = transform(tape, *targs, **tkwargs)\n",
      "                    ^^^^^^^^^^^^^^^^^^^^^^^^^^^^^^^^^^\n",
      "  File \"/Users/mateo/anaconda3/lib/python3.11/site-packages/pennylane/devices/preprocess.py\", line 131, in validate_device_wires\n",
      "    raise WireError(\n",
      "pennylane.wires.WireError: Cannot run circuit(s) on default.qubit as they contain wires not found on the device: {7}\n"
     ]
    },
    {
     "name": "stdout",
     "output_type": "stream",
     "text": [
      "Error during execution: Cannot run circuit(s) on default.qubit as they contain wires not found on the device: {7}\n"
     ]
    },
    {
     "name": "stderr",
     "output_type": "stream",
     "text": [
      "  0%|          | 0/185 [00:00<?, ?it/s]\n",
      "Traceback (most recent call last):\n",
      "  File \"/var/folders/wl/7wlprxgn5hxbwxmhbsvvsyj40000gs/T/ipykernel_28212/106676976.py\", line 320, in <module>\n",
      "    out = cost(param_init, train_x[i:i+25], train_y[i:i+25])\n",
      "          ^^^^^^^^^^^^^^^^^^^^^^^^^^^^^^^^^^^^^^^^^^^^^^^^^^\n",
      "  File \"/var/folders/wl/7wlprxgn5hxbwxmhbsvvsyj40000gs/T/ipykernel_28212/106676976.py\", line 312, in cost\n",
      "    predictions = m(circuit(weights, X))\n",
      "                    ^^^^^^^^^^^^^^^^^^^\n",
      "  File \"/Users/mateo/anaconda3/lib/python3.11/site-packages/pennylane/workflow/qnode.py\", line 1098, in __call__\n",
      "    res = self._execution_component(args, kwargs, override_shots=override_shots)\n",
      "          ^^^^^^^^^^^^^^^^^^^^^^^^^^^^^^^^^^^^^^^^^^^^^^^^^^^^^^^^^^^^^^^^^^^^^^\n",
      "  File \"/Users/mateo/anaconda3/lib/python3.11/site-packages/pennylane/workflow/qnode.py\", line 1052, in _execution_component\n",
      "    res = qml.execute(\n",
      "          ^^^^^^^^^^^^\n",
      "  File \"/Users/mateo/anaconda3/lib/python3.11/site-packages/pennylane/workflow/execution.py\", line 600, in execute\n",
      "    tapes, post_processing = transform_program(tapes)\n",
      "                             ^^^^^^^^^^^^^^^^^^^^^^^^\n",
      "  File \"/Users/mateo/anaconda3/lib/python3.11/site-packages/pennylane/transforms/core/transform_program.py\", line 509, in __call__\n",
      "    new_tapes, fn = transform(tape, *targs, **tkwargs)\n",
      "                    ^^^^^^^^^^^^^^^^^^^^^^^^^^^^^^^^^^\n",
      "  File \"/Users/mateo/anaconda3/lib/python3.11/site-packages/pennylane/devices/preprocess.py\", line 131, in validate_device_wires\n",
      "    raise WireError(\n",
      "pennylane.wires.WireError: Cannot run circuit(s) on default.qubit as they contain wires not found on the device: {7}\n"
     ]
    },
    {
     "name": "stdout",
     "output_type": "stream",
     "text": [
      "Error during execution: Cannot run circuit(s) on default.qubit as they contain wires not found on the device: {7}\n",
      "6\n"
     ]
    },
    {
     "name": "stderr",
     "output_type": "stream",
     "text": [
      "  0%|          | 0/185 [00:00<?, ?it/s]\n",
      "Traceback (most recent call last):\n",
      "  File \"/var/folders/wl/7wlprxgn5hxbwxmhbsvvsyj40000gs/T/ipykernel_28212/106676976.py\", line 320, in <module>\n",
      "    out = cost(param_init, train_x[i:i+25], train_y[i:i+25])\n",
      "          ^^^^^^^^^^^^^^^^^^^^^^^^^^^^^^^^^^^^^^^^^^^^^^^^^^\n",
      "  File \"/var/folders/wl/7wlprxgn5hxbwxmhbsvvsyj40000gs/T/ipykernel_28212/106676976.py\", line 312, in cost\n",
      "    predictions = m(circuit(weights, X))\n",
      "                    ^^^^^^^^^^^^^^^^^^^\n",
      "  File \"/Users/mateo/anaconda3/lib/python3.11/site-packages/pennylane/workflow/qnode.py\", line 1098, in __call__\n",
      "    res = self._execution_component(args, kwargs, override_shots=override_shots)\n",
      "          ^^^^^^^^^^^^^^^^^^^^^^^^^^^^^^^^^^^^^^^^^^^^^^^^^^^^^^^^^^^^^^^^^^^^^^\n",
      "  File \"/Users/mateo/anaconda3/lib/python3.11/site-packages/pennylane/workflow/qnode.py\", line 1052, in _execution_component\n",
      "    res = qml.execute(\n",
      "          ^^^^^^^^^^^^\n",
      "  File \"/Users/mateo/anaconda3/lib/python3.11/site-packages/pennylane/workflow/execution.py\", line 600, in execute\n",
      "    tapes, post_processing = transform_program(tapes)\n",
      "                             ^^^^^^^^^^^^^^^^^^^^^^^^\n",
      "  File \"/Users/mateo/anaconda3/lib/python3.11/site-packages/pennylane/transforms/core/transform_program.py\", line 509, in __call__\n",
      "    new_tapes, fn = transform(tape, *targs, **tkwargs)\n",
      "                    ^^^^^^^^^^^^^^^^^^^^^^^^^^^^^^^^^^\n",
      "  File \"/Users/mateo/anaconda3/lib/python3.11/site-packages/pennylane/devices/preprocess.py\", line 131, in validate_device_wires\n",
      "    raise WireError(\n",
      "pennylane.wires.WireError: Cannot run circuit(s) on default.qubit as they contain wires not found on the device: {7}\n"
     ]
    },
    {
     "name": "stdout",
     "output_type": "stream",
     "text": [
      "Error during execution: Cannot run circuit(s) on default.qubit as they contain wires not found on the device: {7}\n"
     ]
    },
    {
     "name": "stderr",
     "output_type": "stream",
     "text": [
      "  0%|          | 0/185 [00:00<?, ?it/s]\n",
      "Traceback (most recent call last):\n",
      "  File \"/var/folders/wl/7wlprxgn5hxbwxmhbsvvsyj40000gs/T/ipykernel_28212/106676976.py\", line 320, in <module>\n",
      "    out = cost(param_init, train_x[i:i+25], train_y[i:i+25])\n",
      "          ^^^^^^^^^^^^^^^^^^^^^^^^^^^^^^^^^^^^^^^^^^^^^^^^^^\n",
      "  File \"/var/folders/wl/7wlprxgn5hxbwxmhbsvvsyj40000gs/T/ipykernel_28212/106676976.py\", line 312, in cost\n",
      "    predictions = m(circuit(weights, X))\n",
      "                    ^^^^^^^^^^^^^^^^^^^\n",
      "  File \"/Users/mateo/anaconda3/lib/python3.11/site-packages/pennylane/workflow/qnode.py\", line 1098, in __call__\n",
      "    res = self._execution_component(args, kwargs, override_shots=override_shots)\n",
      "          ^^^^^^^^^^^^^^^^^^^^^^^^^^^^^^^^^^^^^^^^^^^^^^^^^^^^^^^^^^^^^^^^^^^^^^\n",
      "  File \"/Users/mateo/anaconda3/lib/python3.11/site-packages/pennylane/workflow/qnode.py\", line 1052, in _execution_component\n",
      "    res = qml.execute(\n",
      "          ^^^^^^^^^^^^\n",
      "  File \"/Users/mateo/anaconda3/lib/python3.11/site-packages/pennylane/workflow/execution.py\", line 600, in execute\n",
      "    tapes, post_processing = transform_program(tapes)\n",
      "                             ^^^^^^^^^^^^^^^^^^^^^^^^\n",
      "  File \"/Users/mateo/anaconda3/lib/python3.11/site-packages/pennylane/transforms/core/transform_program.py\", line 509, in __call__\n",
      "    new_tapes, fn = transform(tape, *targs, **tkwargs)\n",
      "                    ^^^^^^^^^^^^^^^^^^^^^^^^^^^^^^^^^^\n",
      "  File \"/Users/mateo/anaconda3/lib/python3.11/site-packages/pennylane/devices/preprocess.py\", line 131, in validate_device_wires\n",
      "    raise WireError(\n",
      "pennylane.wires.WireError: Cannot run circuit(s) on default.qubit as they contain wires not found on the device: {7}\n"
     ]
    },
    {
     "name": "stdout",
     "output_type": "stream",
     "text": [
      "Error during execution: Cannot run circuit(s) on default.qubit as they contain wires not found on the device: {7}\n"
     ]
    },
    {
     "name": "stderr",
     "output_type": "stream",
     "text": [
      "  0%|          | 0/185 [00:00<?, ?it/s]\n",
      "Traceback (most recent call last):\n",
      "  File \"/var/folders/wl/7wlprxgn5hxbwxmhbsvvsyj40000gs/T/ipykernel_28212/106676976.py\", line 320, in <module>\n",
      "    out = cost(param_init, train_x[i:i+25], train_y[i:i+25])\n",
      "          ^^^^^^^^^^^^^^^^^^^^^^^^^^^^^^^^^^^^^^^^^^^^^^^^^^\n",
      "  File \"/var/folders/wl/7wlprxgn5hxbwxmhbsvvsyj40000gs/T/ipykernel_28212/106676976.py\", line 312, in cost\n",
      "    predictions = m(circuit(weights, X))\n",
      "                    ^^^^^^^^^^^^^^^^^^^\n",
      "  File \"/Users/mateo/anaconda3/lib/python3.11/site-packages/pennylane/workflow/qnode.py\", line 1098, in __call__\n",
      "    res = self._execution_component(args, kwargs, override_shots=override_shots)\n",
      "          ^^^^^^^^^^^^^^^^^^^^^^^^^^^^^^^^^^^^^^^^^^^^^^^^^^^^^^^^^^^^^^^^^^^^^^\n",
      "  File \"/Users/mateo/anaconda3/lib/python3.11/site-packages/pennylane/workflow/qnode.py\", line 1052, in _execution_component\n",
      "    res = qml.execute(\n",
      "          ^^^^^^^^^^^^\n",
      "  File \"/Users/mateo/anaconda3/lib/python3.11/site-packages/pennylane/workflow/execution.py\", line 600, in execute\n",
      "    tapes, post_processing = transform_program(tapes)\n",
      "                             ^^^^^^^^^^^^^^^^^^^^^^^^\n",
      "  File \"/Users/mateo/anaconda3/lib/python3.11/site-packages/pennylane/transforms/core/transform_program.py\", line 509, in __call__\n",
      "    new_tapes, fn = transform(tape, *targs, **tkwargs)\n",
      "                    ^^^^^^^^^^^^^^^^^^^^^^^^^^^^^^^^^^\n",
      "  File \"/Users/mateo/anaconda3/lib/python3.11/site-packages/pennylane/devices/preprocess.py\", line 131, in validate_device_wires\n",
      "    raise WireError(\n",
      "pennylane.wires.WireError: Cannot run circuit(s) on default.qubit as they contain wires not found on the device: {7}\n"
     ]
    },
    {
     "name": "stdout",
     "output_type": "stream",
     "text": [
      "Error during execution: Cannot run circuit(s) on default.qubit as they contain wires not found on the device: {7}\n"
     ]
    },
    {
     "name": "stderr",
     "output_type": "stream",
     "text": [
      "  0%|          | 0/185 [00:00<?, ?it/s]\n",
      "Traceback (most recent call last):\n",
      "  File \"/var/folders/wl/7wlprxgn5hxbwxmhbsvvsyj40000gs/T/ipykernel_28212/106676976.py\", line 320, in <module>\n",
      "    out = cost(param_init, train_x[i:i+25], train_y[i:i+25])\n",
      "          ^^^^^^^^^^^^^^^^^^^^^^^^^^^^^^^^^^^^^^^^^^^^^^^^^^\n",
      "  File \"/var/folders/wl/7wlprxgn5hxbwxmhbsvvsyj40000gs/T/ipykernel_28212/106676976.py\", line 312, in cost\n",
      "    predictions = m(circuit(weights, X))\n",
      "                    ^^^^^^^^^^^^^^^^^^^\n",
      "  File \"/Users/mateo/anaconda3/lib/python3.11/site-packages/pennylane/workflow/qnode.py\", line 1098, in __call__\n",
      "    res = self._execution_component(args, kwargs, override_shots=override_shots)\n",
      "          ^^^^^^^^^^^^^^^^^^^^^^^^^^^^^^^^^^^^^^^^^^^^^^^^^^^^^^^^^^^^^^^^^^^^^^\n",
      "  File \"/Users/mateo/anaconda3/lib/python3.11/site-packages/pennylane/workflow/qnode.py\", line 1052, in _execution_component\n",
      "    res = qml.execute(\n",
      "          ^^^^^^^^^^^^\n",
      "  File \"/Users/mateo/anaconda3/lib/python3.11/site-packages/pennylane/workflow/execution.py\", line 600, in execute\n",
      "    tapes, post_processing = transform_program(tapes)\n",
      "                             ^^^^^^^^^^^^^^^^^^^^^^^^\n",
      "  File \"/Users/mateo/anaconda3/lib/python3.11/site-packages/pennylane/transforms/core/transform_program.py\", line 509, in __call__\n",
      "    new_tapes, fn = transform(tape, *targs, **tkwargs)\n",
      "                    ^^^^^^^^^^^^^^^^^^^^^^^^^^^^^^^^^^\n",
      "  File \"/Users/mateo/anaconda3/lib/python3.11/site-packages/pennylane/devices/preprocess.py\", line 131, in validate_device_wires\n",
      "    raise WireError(\n",
      "pennylane.wires.WireError: Cannot run circuit(s) on default.qubit as they contain wires not found on the device: {7}\n"
     ]
    },
    {
     "name": "stdout",
     "output_type": "stream",
     "text": [
      "Error during execution: Cannot run circuit(s) on default.qubit as they contain wires not found on the device: {7}\n"
     ]
    },
    {
     "name": "stderr",
     "output_type": "stream",
     "text": [
      "  0%|          | 0/185 [00:00<?, ?it/s]\n",
      "Traceback (most recent call last):\n",
      "  File \"/var/folders/wl/7wlprxgn5hxbwxmhbsvvsyj40000gs/T/ipykernel_28212/106676976.py\", line 320, in <module>\n",
      "    out = cost(param_init, train_x[i:i+25], train_y[i:i+25])\n",
      "          ^^^^^^^^^^^^^^^^^^^^^^^^^^^^^^^^^^^^^^^^^^^^^^^^^^\n",
      "  File \"/var/folders/wl/7wlprxgn5hxbwxmhbsvvsyj40000gs/T/ipykernel_28212/106676976.py\", line 312, in cost\n",
      "    predictions = m(circuit(weights, X))\n",
      "                    ^^^^^^^^^^^^^^^^^^^\n",
      "  File \"/Users/mateo/anaconda3/lib/python3.11/site-packages/pennylane/workflow/qnode.py\", line 1098, in __call__\n",
      "    res = self._execution_component(args, kwargs, override_shots=override_shots)\n",
      "          ^^^^^^^^^^^^^^^^^^^^^^^^^^^^^^^^^^^^^^^^^^^^^^^^^^^^^^^^^^^^^^^^^^^^^^\n",
      "  File \"/Users/mateo/anaconda3/lib/python3.11/site-packages/pennylane/workflow/qnode.py\", line 1052, in _execution_component\n",
      "    res = qml.execute(\n",
      "          ^^^^^^^^^^^^\n",
      "  File \"/Users/mateo/anaconda3/lib/python3.11/site-packages/pennylane/workflow/execution.py\", line 600, in execute\n",
      "    tapes, post_processing = transform_program(tapes)\n",
      "                             ^^^^^^^^^^^^^^^^^^^^^^^^\n",
      "  File \"/Users/mateo/anaconda3/lib/python3.11/site-packages/pennylane/transforms/core/transform_program.py\", line 509, in __call__\n",
      "    new_tapes, fn = transform(tape, *targs, **tkwargs)\n",
      "                    ^^^^^^^^^^^^^^^^^^^^^^^^^^^^^^^^^^\n",
      "  File \"/Users/mateo/anaconda3/lib/python3.11/site-packages/pennylane/devices/preprocess.py\", line 131, in validate_device_wires\n",
      "    raise WireError(\n",
      "pennylane.wires.WireError: Cannot run circuit(s) on default.qubit as they contain wires not found on the device: {7}\n"
     ]
    },
    {
     "name": "stdout",
     "output_type": "stream",
     "text": [
      "Error during execution: Cannot run circuit(s) on default.qubit as they contain wires not found on the device: {7}\n"
     ]
    },
    {
     "name": "stderr",
     "output_type": "stream",
     "text": [
      "  0%|          | 0/185 [00:00<?, ?it/s]\n",
      "Traceback (most recent call last):\n",
      "  File \"/var/folders/wl/7wlprxgn5hxbwxmhbsvvsyj40000gs/T/ipykernel_28212/106676976.py\", line 320, in <module>\n",
      "    out = cost(param_init, train_x[i:i+25], train_y[i:i+25])\n",
      "          ^^^^^^^^^^^^^^^^^^^^^^^^^^^^^^^^^^^^^^^^^^^^^^^^^^\n",
      "  File \"/var/folders/wl/7wlprxgn5hxbwxmhbsvvsyj40000gs/T/ipykernel_28212/106676976.py\", line 312, in cost\n",
      "    predictions = m(circuit(weights, X))\n",
      "                    ^^^^^^^^^^^^^^^^^^^\n",
      "  File \"/Users/mateo/anaconda3/lib/python3.11/site-packages/pennylane/workflow/qnode.py\", line 1098, in __call__\n",
      "    res = self._execution_component(args, kwargs, override_shots=override_shots)\n",
      "          ^^^^^^^^^^^^^^^^^^^^^^^^^^^^^^^^^^^^^^^^^^^^^^^^^^^^^^^^^^^^^^^^^^^^^^\n",
      "  File \"/Users/mateo/anaconda3/lib/python3.11/site-packages/pennylane/workflow/qnode.py\", line 1052, in _execution_component\n",
      "    res = qml.execute(\n",
      "          ^^^^^^^^^^^^\n",
      "  File \"/Users/mateo/anaconda3/lib/python3.11/site-packages/pennylane/workflow/execution.py\", line 600, in execute\n",
      "    tapes, post_processing = transform_program(tapes)\n",
      "                             ^^^^^^^^^^^^^^^^^^^^^^^^\n",
      "  File \"/Users/mateo/anaconda3/lib/python3.11/site-packages/pennylane/transforms/core/transform_program.py\", line 509, in __call__\n",
      "    new_tapes, fn = transform(tape, *targs, **tkwargs)\n",
      "                    ^^^^^^^^^^^^^^^^^^^^^^^^^^^^^^^^^^\n",
      "  File \"/Users/mateo/anaconda3/lib/python3.11/site-packages/pennylane/devices/preprocess.py\", line 131, in validate_device_wires\n",
      "    raise WireError(\n",
      "pennylane.wires.WireError: Cannot run circuit(s) on default.qubit as they contain wires not found on the device: {7}\n"
     ]
    },
    {
     "name": "stdout",
     "output_type": "stream",
     "text": [
      "Error during execution: Cannot run circuit(s) on default.qubit as they contain wires not found on the device: {7}\n",
      "6\n"
     ]
    },
    {
     "name": "stderr",
     "output_type": "stream",
     "text": [
      "  0%|          | 0/185 [00:00<?, ?it/s]"
     ]
    },
    {
     "name": "stdout",
     "output_type": "stream",
     "text": [
      "Error during execution: Cannot run circuit(s) on default.qubit as they contain wires not found on the device: {7}\n"
     ]
    },
    {
     "name": "stderr",
     "output_type": "stream",
     "text": [
      "\n",
      "Traceback (most recent call last):\n",
      "  File \"/var/folders/wl/7wlprxgn5hxbwxmhbsvvsyj40000gs/T/ipykernel_28212/106676976.py\", line 320, in <module>\n",
      "    out = cost(param_init, train_x[i:i+25], train_y[i:i+25])\n",
      "          ^^^^^^^^^^^^^^^^^^^^^^^^^^^^^^^^^^^^^^^^^^^^^^^^^^\n",
      "  File \"/var/folders/wl/7wlprxgn5hxbwxmhbsvvsyj40000gs/T/ipykernel_28212/106676976.py\", line 312, in cost\n",
      "    predictions = m(circuit(weights, X))\n",
      "                    ^^^^^^^^^^^^^^^^^^^\n",
      "  File \"/Users/mateo/anaconda3/lib/python3.11/site-packages/pennylane/workflow/qnode.py\", line 1098, in __call__\n",
      "    res = self._execution_component(args, kwargs, override_shots=override_shots)\n",
      "          ^^^^^^^^^^^^^^^^^^^^^^^^^^^^^^^^^^^^^^^^^^^^^^^^^^^^^^^^^^^^^^^^^^^^^^\n",
      "  File \"/Users/mateo/anaconda3/lib/python3.11/site-packages/pennylane/workflow/qnode.py\", line 1052, in _execution_component\n",
      "    res = qml.execute(\n",
      "          ^^^^^^^^^^^^\n",
      "  File \"/Users/mateo/anaconda3/lib/python3.11/site-packages/pennylane/workflow/execution.py\", line 600, in execute\n",
      "    tapes, post_processing = transform_program(tapes)\n",
      "                             ^^^^^^^^^^^^^^^^^^^^^^^^\n",
      "  File \"/Users/mateo/anaconda3/lib/python3.11/site-packages/pennylane/transforms/core/transform_program.py\", line 509, in __call__\n",
      "    new_tapes, fn = transform(tape, *targs, **tkwargs)\n",
      "                    ^^^^^^^^^^^^^^^^^^^^^^^^^^^^^^^^^^\n",
      "  File \"/Users/mateo/anaconda3/lib/python3.11/site-packages/pennylane/devices/preprocess.py\", line 131, in validate_device_wires\n",
      "    raise WireError(\n",
      "pennylane.wires.WireError: Cannot run circuit(s) on default.qubit as they contain wires not found on the device: {7}\n",
      "  0%|          | 0/185 [00:00<?, ?it/s]\n",
      "Traceback (most recent call last):\n",
      "  File \"/var/folders/wl/7wlprxgn5hxbwxmhbsvvsyj40000gs/T/ipykernel_28212/106676976.py\", line 320, in <module>\n",
      "    out = cost(param_init, train_x[i:i+25], train_y[i:i+25])\n",
      "          ^^^^^^^^^^^^^^^^^^^^^^^^^^^^^^^^^^^^^^^^^^^^^^^^^^\n",
      "  File \"/var/folders/wl/7wlprxgn5hxbwxmhbsvvsyj40000gs/T/ipykernel_28212/106676976.py\", line 312, in cost\n",
      "    predictions = m(circuit(weights, X))\n",
      "                    ^^^^^^^^^^^^^^^^^^^\n",
      "  File \"/Users/mateo/anaconda3/lib/python3.11/site-packages/pennylane/workflow/qnode.py\", line 1098, in __call__\n",
      "    res = self._execution_component(args, kwargs, override_shots=override_shots)\n",
      "          ^^^^^^^^^^^^^^^^^^^^^^^^^^^^^^^^^^^^^^^^^^^^^^^^^^^^^^^^^^^^^^^^^^^^^^\n",
      "  File \"/Users/mateo/anaconda3/lib/python3.11/site-packages/pennylane/workflow/qnode.py\", line 1052, in _execution_component\n",
      "    res = qml.execute(\n",
      "          ^^^^^^^^^^^^\n",
      "  File \"/Users/mateo/anaconda3/lib/python3.11/site-packages/pennylane/workflow/execution.py\", line 600, in execute\n",
      "    tapes, post_processing = transform_program(tapes)\n",
      "                             ^^^^^^^^^^^^^^^^^^^^^^^^\n",
      "  File \"/Users/mateo/anaconda3/lib/python3.11/site-packages/pennylane/transforms/core/transform_program.py\", line 509, in __call__\n",
      "    new_tapes, fn = transform(tape, *targs, **tkwargs)\n",
      "                    ^^^^^^^^^^^^^^^^^^^^^^^^^^^^^^^^^^\n",
      "  File \"/Users/mateo/anaconda3/lib/python3.11/site-packages/pennylane/devices/preprocess.py\", line 131, in validate_device_wires\n",
      "    raise WireError(\n",
      "pennylane.wires.WireError: Cannot run circuit(s) on default.qubit as they contain wires not found on the device: {7}\n"
     ]
    },
    {
     "name": "stdout",
     "output_type": "stream",
     "text": [
      "Error during execution: Cannot run circuit(s) on default.qubit as they contain wires not found on the device: {7}\n"
     ]
    },
    {
     "name": "stderr",
     "output_type": "stream",
     "text": [
      "  0%|          | 0/185 [00:00<?, ?it/s]\n",
      "Traceback (most recent call last):\n",
      "  File \"/var/folders/wl/7wlprxgn5hxbwxmhbsvvsyj40000gs/T/ipykernel_28212/106676976.py\", line 320, in <module>\n",
      "    out = cost(param_init, train_x[i:i+25], train_y[i:i+25])\n",
      "          ^^^^^^^^^^^^^^^^^^^^^^^^^^^^^^^^^^^^^^^^^^^^^^^^^^\n",
      "  File \"/var/folders/wl/7wlprxgn5hxbwxmhbsvvsyj40000gs/T/ipykernel_28212/106676976.py\", line 312, in cost\n",
      "    predictions = m(circuit(weights, X))\n",
      "                    ^^^^^^^^^^^^^^^^^^^\n",
      "  File \"/Users/mateo/anaconda3/lib/python3.11/site-packages/pennylane/workflow/qnode.py\", line 1098, in __call__\n",
      "    res = self._execution_component(args, kwargs, override_shots=override_shots)\n",
      "          ^^^^^^^^^^^^^^^^^^^^^^^^^^^^^^^^^^^^^^^^^^^^^^^^^^^^^^^^^^^^^^^^^^^^^^\n",
      "  File \"/Users/mateo/anaconda3/lib/python3.11/site-packages/pennylane/workflow/qnode.py\", line 1052, in _execution_component\n",
      "    res = qml.execute(\n",
      "          ^^^^^^^^^^^^\n",
      "  File \"/Users/mateo/anaconda3/lib/python3.11/site-packages/pennylane/workflow/execution.py\", line 600, in execute\n",
      "    tapes, post_processing = transform_program(tapes)\n",
      "                             ^^^^^^^^^^^^^^^^^^^^^^^^\n",
      "  File \"/Users/mateo/anaconda3/lib/python3.11/site-packages/pennylane/transforms/core/transform_program.py\", line 509, in __call__\n",
      "    new_tapes, fn = transform(tape, *targs, **tkwargs)\n",
      "                    ^^^^^^^^^^^^^^^^^^^^^^^^^^^^^^^^^^\n",
      "  File \"/Users/mateo/anaconda3/lib/python3.11/site-packages/pennylane/devices/preprocess.py\", line 131, in validate_device_wires\n",
      "    raise WireError(\n",
      "pennylane.wires.WireError: Cannot run circuit(s) on default.qubit as they contain wires not found on the device: {7}\n"
     ]
    },
    {
     "name": "stdout",
     "output_type": "stream",
     "text": [
      "Error during execution: Cannot run circuit(s) on default.qubit as they contain wires not found on the device: {7}\n"
     ]
    },
    {
     "name": "stderr",
     "output_type": "stream",
     "text": [
      "  0%|          | 0/185 [00:00<?, ?it/s]\n",
      "Traceback (most recent call last):\n",
      "  File \"/var/folders/wl/7wlprxgn5hxbwxmhbsvvsyj40000gs/T/ipykernel_28212/106676976.py\", line 320, in <module>\n",
      "    out = cost(param_init, train_x[i:i+25], train_y[i:i+25])\n",
      "          ^^^^^^^^^^^^^^^^^^^^^^^^^^^^^^^^^^^^^^^^^^^^^^^^^^\n",
      "  File \"/var/folders/wl/7wlprxgn5hxbwxmhbsvvsyj40000gs/T/ipykernel_28212/106676976.py\", line 312, in cost\n",
      "    predictions = m(circuit(weights, X))\n",
      "                    ^^^^^^^^^^^^^^^^^^^\n",
      "  File \"/Users/mateo/anaconda3/lib/python3.11/site-packages/pennylane/workflow/qnode.py\", line 1098, in __call__\n",
      "    res = self._execution_component(args, kwargs, override_shots=override_shots)\n",
      "          ^^^^^^^^^^^^^^^^^^^^^^^^^^^^^^^^^^^^^^^^^^^^^^^^^^^^^^^^^^^^^^^^^^^^^^\n",
      "  File \"/Users/mateo/anaconda3/lib/python3.11/site-packages/pennylane/workflow/qnode.py\", line 1052, in _execution_component\n",
      "    res = qml.execute(\n",
      "          ^^^^^^^^^^^^\n",
      "  File \"/Users/mateo/anaconda3/lib/python3.11/site-packages/pennylane/workflow/execution.py\", line 600, in execute\n",
      "    tapes, post_processing = transform_program(tapes)\n",
      "                             ^^^^^^^^^^^^^^^^^^^^^^^^\n",
      "  File \"/Users/mateo/anaconda3/lib/python3.11/site-packages/pennylane/transforms/core/transform_program.py\", line 509, in __call__\n",
      "    new_tapes, fn = transform(tape, *targs, **tkwargs)\n",
      "                    ^^^^^^^^^^^^^^^^^^^^^^^^^^^^^^^^^^\n",
      "  File \"/Users/mateo/anaconda3/lib/python3.11/site-packages/pennylane/devices/preprocess.py\", line 131, in validate_device_wires\n",
      "    raise WireError(\n",
      "pennylane.wires.WireError: Cannot run circuit(s) on default.qubit as they contain wires not found on the device: {7}\n"
     ]
    },
    {
     "name": "stdout",
     "output_type": "stream",
     "text": [
      "Error during execution: Cannot run circuit(s) on default.qubit as they contain wires not found on the device: {7}\n"
     ]
    },
    {
     "name": "stderr",
     "output_type": "stream",
     "text": [
      "  0%|          | 0/185 [00:00<?, ?it/s]\n",
      "Traceback (most recent call last):\n",
      "  File \"/var/folders/wl/7wlprxgn5hxbwxmhbsvvsyj40000gs/T/ipykernel_28212/106676976.py\", line 320, in <module>\n",
      "    out = cost(param_init, train_x[i:i+25], train_y[i:i+25])\n",
      "          ^^^^^^^^^^^^^^^^^^^^^^^^^^^^^^^^^^^^^^^^^^^^^^^^^^\n",
      "  File \"/var/folders/wl/7wlprxgn5hxbwxmhbsvvsyj40000gs/T/ipykernel_28212/106676976.py\", line 312, in cost\n",
      "    predictions = m(circuit(weights, X))\n",
      "                    ^^^^^^^^^^^^^^^^^^^\n",
      "  File \"/Users/mateo/anaconda3/lib/python3.11/site-packages/pennylane/workflow/qnode.py\", line 1098, in __call__\n",
      "    res = self._execution_component(args, kwargs, override_shots=override_shots)\n",
      "          ^^^^^^^^^^^^^^^^^^^^^^^^^^^^^^^^^^^^^^^^^^^^^^^^^^^^^^^^^^^^^^^^^^^^^^\n",
      "  File \"/Users/mateo/anaconda3/lib/python3.11/site-packages/pennylane/workflow/qnode.py\", line 1052, in _execution_component\n",
      "    res = qml.execute(\n",
      "          ^^^^^^^^^^^^\n",
      "  File \"/Users/mateo/anaconda3/lib/python3.11/site-packages/pennylane/workflow/execution.py\", line 600, in execute\n",
      "    tapes, post_processing = transform_program(tapes)\n",
      "                             ^^^^^^^^^^^^^^^^^^^^^^^^\n",
      "  File \"/Users/mateo/anaconda3/lib/python3.11/site-packages/pennylane/transforms/core/transform_program.py\", line 509, in __call__\n",
      "    new_tapes, fn = transform(tape, *targs, **tkwargs)\n",
      "                    ^^^^^^^^^^^^^^^^^^^^^^^^^^^^^^^^^^\n",
      "  File \"/Users/mateo/anaconda3/lib/python3.11/site-packages/pennylane/devices/preprocess.py\", line 131, in validate_device_wires\n",
      "    raise WireError(\n",
      "pennylane.wires.WireError: Cannot run circuit(s) on default.qubit as they contain wires not found on the device: {7}\n"
     ]
    },
    {
     "name": "stdout",
     "output_type": "stream",
     "text": [
      "Error during execution: Cannot run circuit(s) on default.qubit as they contain wires not found on the device: {7}\n"
     ]
    },
    {
     "name": "stderr",
     "output_type": "stream",
     "text": [
      "  0%|          | 0/185 [00:00<?, ?it/s]\n",
      "Traceback (most recent call last):\n",
      "  File \"/var/folders/wl/7wlprxgn5hxbwxmhbsvvsyj40000gs/T/ipykernel_28212/106676976.py\", line 320, in <module>\n",
      "    out = cost(param_init, train_x[i:i+25], train_y[i:i+25])\n",
      "          ^^^^^^^^^^^^^^^^^^^^^^^^^^^^^^^^^^^^^^^^^^^^^^^^^^\n",
      "  File \"/var/folders/wl/7wlprxgn5hxbwxmhbsvvsyj40000gs/T/ipykernel_28212/106676976.py\", line 312, in cost\n",
      "    predictions = m(circuit(weights, X))\n",
      "                    ^^^^^^^^^^^^^^^^^^^\n",
      "  File \"/Users/mateo/anaconda3/lib/python3.11/site-packages/pennylane/workflow/qnode.py\", line 1098, in __call__\n",
      "    res = self._execution_component(args, kwargs, override_shots=override_shots)\n",
      "          ^^^^^^^^^^^^^^^^^^^^^^^^^^^^^^^^^^^^^^^^^^^^^^^^^^^^^^^^^^^^^^^^^^^^^^\n",
      "  File \"/Users/mateo/anaconda3/lib/python3.11/site-packages/pennylane/workflow/qnode.py\", line 1052, in _execution_component\n",
      "    res = qml.execute(\n",
      "          ^^^^^^^^^^^^\n",
      "  File \"/Users/mateo/anaconda3/lib/python3.11/site-packages/pennylane/workflow/execution.py\", line 600, in execute\n",
      "    tapes, post_processing = transform_program(tapes)\n",
      "                             ^^^^^^^^^^^^^^^^^^^^^^^^\n",
      "  File \"/Users/mateo/anaconda3/lib/python3.11/site-packages/pennylane/transforms/core/transform_program.py\", line 509, in __call__\n",
      "    new_tapes, fn = transform(tape, *targs, **tkwargs)\n",
      "                    ^^^^^^^^^^^^^^^^^^^^^^^^^^^^^^^^^^\n",
      "  File \"/Users/mateo/anaconda3/lib/python3.11/site-packages/pennylane/devices/preprocess.py\", line 131, in validate_device_wires\n",
      "    raise WireError(\n",
      "pennylane.wires.WireError: Cannot run circuit(s) on default.qubit as they contain wires not found on the device: {7}\n"
     ]
    },
    {
     "name": "stdout",
     "output_type": "stream",
     "text": [
      "Error during execution: Cannot run circuit(s) on default.qubit as they contain wires not found on the device: {7}\n",
      "10\n"
     ]
    },
    {
     "name": "stderr",
     "output_type": "stream",
     "text": [
      "  0%|          | 0/185 [00:00<?, ?it/s]\n",
      "Traceback (most recent call last):\n",
      "  File \"/var/folders/wl/7wlprxgn5hxbwxmhbsvvsyj40000gs/T/ipykernel_28212/106676976.py\", line 320, in <module>\n",
      "    out = cost(param_init, train_x[i:i+25], train_y[i:i+25])\n",
      "          ^^^^^^^^^^^^^^^^^^^^^^^^^^^^^^^^^^^^^^^^^^^^^^^^^^\n",
      "  File \"/var/folders/wl/7wlprxgn5hxbwxmhbsvvsyj40000gs/T/ipykernel_28212/106676976.py\", line 312, in cost\n",
      "    predictions = m(circuit(weights, X))\n",
      "                    ^^^^^^^^^^^^^^^^^^^\n",
      "  File \"/Users/mateo/anaconda3/lib/python3.11/site-packages/pennylane/workflow/qnode.py\", line 1098, in __call__\n",
      "    res = self._execution_component(args, kwargs, override_shots=override_shots)\n",
      "          ^^^^^^^^^^^^^^^^^^^^^^^^^^^^^^^^^^^^^^^^^^^^^^^^^^^^^^^^^^^^^^^^^^^^^^\n",
      "  File \"/Users/mateo/anaconda3/lib/python3.11/site-packages/pennylane/workflow/qnode.py\", line 1052, in _execution_component\n",
      "    res = qml.execute(\n",
      "          ^^^^^^^^^^^^\n",
      "  File \"/Users/mateo/anaconda3/lib/python3.11/site-packages/pennylane/workflow/execution.py\", line 600, in execute\n",
      "    tapes, post_processing = transform_program(tapes)\n",
      "                             ^^^^^^^^^^^^^^^^^^^^^^^^\n",
      "  File \"/Users/mateo/anaconda3/lib/python3.11/site-packages/pennylane/transforms/core/transform_program.py\", line 509, in __call__\n",
      "    new_tapes, fn = transform(tape, *targs, **tkwargs)\n",
      "                    ^^^^^^^^^^^^^^^^^^^^^^^^^^^^^^^^^^\n",
      "  File \"/Users/mateo/anaconda3/lib/python3.11/site-packages/pennylane/devices/preprocess.py\", line 131, in validate_device_wires\n",
      "    raise WireError(\n",
      "pennylane.wires.WireError: Cannot run circuit(s) on default.qubit as they contain wires not found on the device: {7}\n"
     ]
    },
    {
     "name": "stdout",
     "output_type": "stream",
     "text": [
      "Error during execution: Cannot run circuit(s) on default.qubit as they contain wires not found on the device: {7}\n"
     ]
    },
    {
     "name": "stderr",
     "output_type": "stream",
     "text": [
      "  0%|          | 0/185 [00:00<?, ?it/s]\n",
      "Traceback (most recent call last):\n",
      "  File \"/var/folders/wl/7wlprxgn5hxbwxmhbsvvsyj40000gs/T/ipykernel_28212/106676976.py\", line 320, in <module>\n",
      "    out = cost(param_init, train_x[i:i+25], train_y[i:i+25])\n",
      "          ^^^^^^^^^^^^^^^^^^^^^^^^^^^^^^^^^^^^^^^^^^^^^^^^^^\n",
      "  File \"/var/folders/wl/7wlprxgn5hxbwxmhbsvvsyj40000gs/T/ipykernel_28212/106676976.py\", line 312, in cost\n",
      "    predictions = m(circuit(weights, X))\n",
      "                    ^^^^^^^^^^^^^^^^^^^\n",
      "  File \"/Users/mateo/anaconda3/lib/python3.11/site-packages/pennylane/workflow/qnode.py\", line 1098, in __call__\n",
      "    res = self._execution_component(args, kwargs, override_shots=override_shots)\n",
      "          ^^^^^^^^^^^^^^^^^^^^^^^^^^^^^^^^^^^^^^^^^^^^^^^^^^^^^^^^^^^^^^^^^^^^^^\n",
      "  File \"/Users/mateo/anaconda3/lib/python3.11/site-packages/pennylane/workflow/qnode.py\", line 1052, in _execution_component\n",
      "    res = qml.execute(\n",
      "          ^^^^^^^^^^^^\n",
      "  File \"/Users/mateo/anaconda3/lib/python3.11/site-packages/pennylane/workflow/execution.py\", line 600, in execute\n",
      "    tapes, post_processing = transform_program(tapes)\n",
      "                             ^^^^^^^^^^^^^^^^^^^^^^^^\n",
      "  File \"/Users/mateo/anaconda3/lib/python3.11/site-packages/pennylane/transforms/core/transform_program.py\", line 509, in __call__\n",
      "    new_tapes, fn = transform(tape, *targs, **tkwargs)\n",
      "                    ^^^^^^^^^^^^^^^^^^^^^^^^^^^^^^^^^^\n",
      "  File \"/Users/mateo/anaconda3/lib/python3.11/site-packages/pennylane/devices/preprocess.py\", line 131, in validate_device_wires\n",
      "    raise WireError(\n",
      "pennylane.wires.WireError: Cannot run circuit(s) on default.qubit as they contain wires not found on the device: {7}\n"
     ]
    },
    {
     "name": "stdout",
     "output_type": "stream",
     "text": [
      "Error during execution: Cannot run circuit(s) on default.qubit as they contain wires not found on the device: {7}\n"
     ]
    },
    {
     "name": "stderr",
     "output_type": "stream",
     "text": [
      "  0%|          | 0/185 [00:00<?, ?it/s]\n",
      "Traceback (most recent call last):\n",
      "  File \"/var/folders/wl/7wlprxgn5hxbwxmhbsvvsyj40000gs/T/ipykernel_28212/106676976.py\", line 320, in <module>\n",
      "    out = cost(param_init, train_x[i:i+25], train_y[i:i+25])\n",
      "          ^^^^^^^^^^^^^^^^^^^^^^^^^^^^^^^^^^^^^^^^^^^^^^^^^^\n",
      "  File \"/var/folders/wl/7wlprxgn5hxbwxmhbsvvsyj40000gs/T/ipykernel_28212/106676976.py\", line 312, in cost\n",
      "    predictions = m(circuit(weights, X))\n",
      "                    ^^^^^^^^^^^^^^^^^^^\n",
      "  File \"/Users/mateo/anaconda3/lib/python3.11/site-packages/pennylane/workflow/qnode.py\", line 1098, in __call__\n",
      "    res = self._execution_component(args, kwargs, override_shots=override_shots)\n",
      "          ^^^^^^^^^^^^^^^^^^^^^^^^^^^^^^^^^^^^^^^^^^^^^^^^^^^^^^^^^^^^^^^^^^^^^^\n",
      "  File \"/Users/mateo/anaconda3/lib/python3.11/site-packages/pennylane/workflow/qnode.py\", line 1052, in _execution_component\n",
      "    res = qml.execute(\n",
      "          ^^^^^^^^^^^^\n",
      "  File \"/Users/mateo/anaconda3/lib/python3.11/site-packages/pennylane/workflow/execution.py\", line 600, in execute\n",
      "    tapes, post_processing = transform_program(tapes)\n",
      "                             ^^^^^^^^^^^^^^^^^^^^^^^^\n",
      "  File \"/Users/mateo/anaconda3/lib/python3.11/site-packages/pennylane/transforms/core/transform_program.py\", line 509, in __call__\n",
      "    new_tapes, fn = transform(tape, *targs, **tkwargs)\n",
      "                    ^^^^^^^^^^^^^^^^^^^^^^^^^^^^^^^^^^\n",
      "  File \"/Users/mateo/anaconda3/lib/python3.11/site-packages/pennylane/devices/preprocess.py\", line 131, in validate_device_wires\n",
      "    raise WireError(\n",
      "pennylane.wires.WireError: Cannot run circuit(s) on default.qubit as they contain wires not found on the device: {7}\n"
     ]
    },
    {
     "name": "stdout",
     "output_type": "stream",
     "text": [
      "Error during execution: Cannot run circuit(s) on default.qubit as they contain wires not found on the device: {7}\n"
     ]
    },
    {
     "name": "stderr",
     "output_type": "stream",
     "text": [
      "  0%|          | 0/185 [00:00<?, ?it/s]\n",
      "Traceback (most recent call last):\n",
      "  File \"/var/folders/wl/7wlprxgn5hxbwxmhbsvvsyj40000gs/T/ipykernel_28212/106676976.py\", line 320, in <module>\n",
      "    out = cost(param_init, train_x[i:i+25], train_y[i:i+25])\n",
      "          ^^^^^^^^^^^^^^^^^^^^^^^^^^^^^^^^^^^^^^^^^^^^^^^^^^\n",
      "  File \"/var/folders/wl/7wlprxgn5hxbwxmhbsvvsyj40000gs/T/ipykernel_28212/106676976.py\", line 312, in cost\n",
      "    predictions = m(circuit(weights, X))\n",
      "                    ^^^^^^^^^^^^^^^^^^^\n",
      "  File \"/Users/mateo/anaconda3/lib/python3.11/site-packages/pennylane/workflow/qnode.py\", line 1098, in __call__\n",
      "    res = self._execution_component(args, kwargs, override_shots=override_shots)\n",
      "          ^^^^^^^^^^^^^^^^^^^^^^^^^^^^^^^^^^^^^^^^^^^^^^^^^^^^^^^^^^^^^^^^^^^^^^\n",
      "  File \"/Users/mateo/anaconda3/lib/python3.11/site-packages/pennylane/workflow/qnode.py\", line 1052, in _execution_component\n",
      "    res = qml.execute(\n",
      "          ^^^^^^^^^^^^\n",
      "  File \"/Users/mateo/anaconda3/lib/python3.11/site-packages/pennylane/workflow/execution.py\", line 600, in execute\n",
      "    tapes, post_processing = transform_program(tapes)\n",
      "                             ^^^^^^^^^^^^^^^^^^^^^^^^\n",
      "  File \"/Users/mateo/anaconda3/lib/python3.11/site-packages/pennylane/transforms/core/transform_program.py\", line 509, in __call__\n",
      "    new_tapes, fn = transform(tape, *targs, **tkwargs)\n",
      "                    ^^^^^^^^^^^^^^^^^^^^^^^^^^^^^^^^^^\n",
      "  File \"/Users/mateo/anaconda3/lib/python3.11/site-packages/pennylane/devices/preprocess.py\", line 131, in validate_device_wires\n",
      "    raise WireError(\n",
      "pennylane.wires.WireError: Cannot run circuit(s) on default.qubit as they contain wires not found on the device: {7}\n"
     ]
    },
    {
     "name": "stdout",
     "output_type": "stream",
     "text": [
      "Error during execution: Cannot run circuit(s) on default.qubit as they contain wires not found on the device: {7}\n"
     ]
    },
    {
     "name": "stderr",
     "output_type": "stream",
     "text": [
      "  0%|          | 0/185 [00:00<?, ?it/s]\n",
      "Traceback (most recent call last):\n",
      "  File \"/var/folders/wl/7wlprxgn5hxbwxmhbsvvsyj40000gs/T/ipykernel_28212/106676976.py\", line 320, in <module>\n",
      "    out = cost(param_init, train_x[i:i+25], train_y[i:i+25])\n",
      "          ^^^^^^^^^^^^^^^^^^^^^^^^^^^^^^^^^^^^^^^^^^^^^^^^^^\n",
      "  File \"/var/folders/wl/7wlprxgn5hxbwxmhbsvvsyj40000gs/T/ipykernel_28212/106676976.py\", line 312, in cost\n",
      "    predictions = m(circuit(weights, X))\n",
      "                    ^^^^^^^^^^^^^^^^^^^\n",
      "  File \"/Users/mateo/anaconda3/lib/python3.11/site-packages/pennylane/workflow/qnode.py\", line 1098, in __call__\n",
      "    res = self._execution_component(args, kwargs, override_shots=override_shots)\n",
      "          ^^^^^^^^^^^^^^^^^^^^^^^^^^^^^^^^^^^^^^^^^^^^^^^^^^^^^^^^^^^^^^^^^^^^^^\n",
      "  File \"/Users/mateo/anaconda3/lib/python3.11/site-packages/pennylane/workflow/qnode.py\", line 1052, in _execution_component\n",
      "    res = qml.execute(\n",
      "          ^^^^^^^^^^^^\n",
      "  File \"/Users/mateo/anaconda3/lib/python3.11/site-packages/pennylane/workflow/execution.py\", line 600, in execute\n",
      "    tapes, post_processing = transform_program(tapes)\n",
      "                             ^^^^^^^^^^^^^^^^^^^^^^^^\n",
      "  File \"/Users/mateo/anaconda3/lib/python3.11/site-packages/pennylane/transforms/core/transform_program.py\", line 509, in __call__\n",
      "    new_tapes, fn = transform(tape, *targs, **tkwargs)\n",
      "                    ^^^^^^^^^^^^^^^^^^^^^^^^^^^^^^^^^^\n",
      "  File \"/Users/mateo/anaconda3/lib/python3.11/site-packages/pennylane/devices/preprocess.py\", line 131, in validate_device_wires\n",
      "    raise WireError(\n",
      "pennylane.wires.WireError: Cannot run circuit(s) on default.qubit as they contain wires not found on the device: {7}\n"
     ]
    },
    {
     "name": "stdout",
     "output_type": "stream",
     "text": [
      "Error during execution: Cannot run circuit(s) on default.qubit as they contain wires not found on the device: {7}\n"
     ]
    },
    {
     "name": "stderr",
     "output_type": "stream",
     "text": [
      "  0%|          | 0/185 [00:00<?, ?it/s]\n",
      "Traceback (most recent call last):\n",
      "  File \"/var/folders/wl/7wlprxgn5hxbwxmhbsvvsyj40000gs/T/ipykernel_28212/106676976.py\", line 320, in <module>\n",
      "    out = cost(param_init, train_x[i:i+25], train_y[i:i+25])\n",
      "          ^^^^^^^^^^^^^^^^^^^^^^^^^^^^^^^^^^^^^^^^^^^^^^^^^^\n",
      "  File \"/var/folders/wl/7wlprxgn5hxbwxmhbsvvsyj40000gs/T/ipykernel_28212/106676976.py\", line 312, in cost\n",
      "    predictions = m(circuit(weights, X))\n",
      "                    ^^^^^^^^^^^^^^^^^^^\n",
      "  File \"/Users/mateo/anaconda3/lib/python3.11/site-packages/pennylane/workflow/qnode.py\", line 1098, in __call__\n",
      "    res = self._execution_component(args, kwargs, override_shots=override_shots)\n",
      "          ^^^^^^^^^^^^^^^^^^^^^^^^^^^^^^^^^^^^^^^^^^^^^^^^^^^^^^^^^^^^^^^^^^^^^^\n",
      "  File \"/Users/mateo/anaconda3/lib/python3.11/site-packages/pennylane/workflow/qnode.py\", line 1052, in _execution_component\n",
      "    res = qml.execute(\n",
      "          ^^^^^^^^^^^^\n",
      "  File \"/Users/mateo/anaconda3/lib/python3.11/site-packages/pennylane/workflow/execution.py\", line 600, in execute\n",
      "    tapes, post_processing = transform_program(tapes)\n",
      "                             ^^^^^^^^^^^^^^^^^^^^^^^^\n",
      "  File \"/Users/mateo/anaconda3/lib/python3.11/site-packages/pennylane/transforms/core/transform_program.py\", line 509, in __call__\n",
      "    new_tapes, fn = transform(tape, *targs, **tkwargs)\n",
      "                    ^^^^^^^^^^^^^^^^^^^^^^^^^^^^^^^^^^\n",
      "  File \"/Users/mateo/anaconda3/lib/python3.11/site-packages/pennylane/devices/preprocess.py\", line 131, in validate_device_wires\n",
      "    raise WireError(\n",
      "pennylane.wires.WireError: Cannot run circuit(s) on default.qubit as they contain wires not found on the device: {7}\n"
     ]
    },
    {
     "name": "stdout",
     "output_type": "stream",
     "text": [
      "Error during execution: Cannot run circuit(s) on default.qubit as they contain wires not found on the device: {7}\n",
      "10\n"
     ]
    },
    {
     "name": "stderr",
     "output_type": "stream",
     "text": [
      "  0%|          | 0/185 [00:00<?, ?it/s]\n",
      "Traceback (most recent call last):\n",
      "  File \"/var/folders/wl/7wlprxgn5hxbwxmhbsvvsyj40000gs/T/ipykernel_28212/106676976.py\", line 320, in <module>\n",
      "    out = cost(param_init, train_x[i:i+25], train_y[i:i+25])\n",
      "          ^^^^^^^^^^^^^^^^^^^^^^^^^^^^^^^^^^^^^^^^^^^^^^^^^^\n",
      "  File \"/var/folders/wl/7wlprxgn5hxbwxmhbsvvsyj40000gs/T/ipykernel_28212/106676976.py\", line 312, in cost\n",
      "    predictions = m(circuit(weights, X))\n",
      "                    ^^^^^^^^^^^^^^^^^^^\n",
      "  File \"/Users/mateo/anaconda3/lib/python3.11/site-packages/pennylane/workflow/qnode.py\", line 1098, in __call__\n",
      "    res = self._execution_component(args, kwargs, override_shots=override_shots)\n",
      "          ^^^^^^^^^^^^^^^^^^^^^^^^^^^^^^^^^^^^^^^^^^^^^^^^^^^^^^^^^^^^^^^^^^^^^^\n",
      "  File \"/Users/mateo/anaconda3/lib/python3.11/site-packages/pennylane/workflow/qnode.py\", line 1052, in _execution_component\n",
      "    res = qml.execute(\n",
      "          ^^^^^^^^^^^^\n",
      "  File \"/Users/mateo/anaconda3/lib/python3.11/site-packages/pennylane/workflow/execution.py\", line 600, in execute\n",
      "    tapes, post_processing = transform_program(tapes)\n",
      "                             ^^^^^^^^^^^^^^^^^^^^^^^^\n",
      "  File \"/Users/mateo/anaconda3/lib/python3.11/site-packages/pennylane/transforms/core/transform_program.py\", line 509, in __call__\n",
      "    new_tapes, fn = transform(tape, *targs, **tkwargs)\n",
      "                    ^^^^^^^^^^^^^^^^^^^^^^^^^^^^^^^^^^\n",
      "  File \"/Users/mateo/anaconda3/lib/python3.11/site-packages/pennylane/devices/preprocess.py\", line 131, in validate_device_wires\n",
      "    raise WireError(\n",
      "pennylane.wires.WireError: Cannot run circuit(s) on default.qubit as they contain wires not found on the device: {7}\n"
     ]
    },
    {
     "name": "stdout",
     "output_type": "stream",
     "text": [
      "Error during execution: Cannot run circuit(s) on default.qubit as they contain wires not found on the device: {7}\n"
     ]
    },
    {
     "name": "stderr",
     "output_type": "stream",
     "text": [
      "  0%|          | 0/185 [00:00<?, ?it/s]\n",
      "Traceback (most recent call last):\n",
      "  File \"/var/folders/wl/7wlprxgn5hxbwxmhbsvvsyj40000gs/T/ipykernel_28212/106676976.py\", line 320, in <module>\n",
      "    out = cost(param_init, train_x[i:i+25], train_y[i:i+25])\n",
      "          ^^^^^^^^^^^^^^^^^^^^^^^^^^^^^^^^^^^^^^^^^^^^^^^^^^\n",
      "  File \"/var/folders/wl/7wlprxgn5hxbwxmhbsvvsyj40000gs/T/ipykernel_28212/106676976.py\", line 312, in cost\n",
      "    predictions = m(circuit(weights, X))\n",
      "                    ^^^^^^^^^^^^^^^^^^^\n",
      "  File \"/Users/mateo/anaconda3/lib/python3.11/site-packages/pennylane/workflow/qnode.py\", line 1098, in __call__\n",
      "    res = self._execution_component(args, kwargs, override_shots=override_shots)\n",
      "          ^^^^^^^^^^^^^^^^^^^^^^^^^^^^^^^^^^^^^^^^^^^^^^^^^^^^^^^^^^^^^^^^^^^^^^\n",
      "  File \"/Users/mateo/anaconda3/lib/python3.11/site-packages/pennylane/workflow/qnode.py\", line 1052, in _execution_component\n",
      "    res = qml.execute(\n",
      "          ^^^^^^^^^^^^\n",
      "  File \"/Users/mateo/anaconda3/lib/python3.11/site-packages/pennylane/workflow/execution.py\", line 600, in execute\n",
      "    tapes, post_processing = transform_program(tapes)\n",
      "                             ^^^^^^^^^^^^^^^^^^^^^^^^\n",
      "  File \"/Users/mateo/anaconda3/lib/python3.11/site-packages/pennylane/transforms/core/transform_program.py\", line 509, in __call__\n",
      "    new_tapes, fn = transform(tape, *targs, **tkwargs)\n",
      "                    ^^^^^^^^^^^^^^^^^^^^^^^^^^^^^^^^^^\n",
      "  File \"/Users/mateo/anaconda3/lib/python3.11/site-packages/pennylane/devices/preprocess.py\", line 131, in validate_device_wires\n",
      "    raise WireError(\n",
      "pennylane.wires.WireError: Cannot run circuit(s) on default.qubit as they contain wires not found on the device: {7}\n"
     ]
    },
    {
     "name": "stdout",
     "output_type": "stream",
     "text": [
      "Error during execution: Cannot run circuit(s) on default.qubit as they contain wires not found on the device: {7}\n"
     ]
    },
    {
     "name": "stderr",
     "output_type": "stream",
     "text": [
      "  0%|          | 0/185 [00:00<?, ?it/s]\n",
      "Traceback (most recent call last):\n",
      "  File \"/var/folders/wl/7wlprxgn5hxbwxmhbsvvsyj40000gs/T/ipykernel_28212/106676976.py\", line 320, in <module>\n",
      "    out = cost(param_init, train_x[i:i+25], train_y[i:i+25])\n",
      "          ^^^^^^^^^^^^^^^^^^^^^^^^^^^^^^^^^^^^^^^^^^^^^^^^^^\n",
      "  File \"/var/folders/wl/7wlprxgn5hxbwxmhbsvvsyj40000gs/T/ipykernel_28212/106676976.py\", line 312, in cost\n",
      "    predictions = m(circuit(weights, X))\n",
      "                    ^^^^^^^^^^^^^^^^^^^\n",
      "  File \"/Users/mateo/anaconda3/lib/python3.11/site-packages/pennylane/workflow/qnode.py\", line 1098, in __call__\n",
      "    res = self._execution_component(args, kwargs, override_shots=override_shots)\n",
      "          ^^^^^^^^^^^^^^^^^^^^^^^^^^^^^^^^^^^^^^^^^^^^^^^^^^^^^^^^^^^^^^^^^^^^^^\n",
      "  File \"/Users/mateo/anaconda3/lib/python3.11/site-packages/pennylane/workflow/qnode.py\", line 1052, in _execution_component\n",
      "    res = qml.execute(\n",
      "          ^^^^^^^^^^^^\n",
      "  File \"/Users/mateo/anaconda3/lib/python3.11/site-packages/pennylane/workflow/execution.py\", line 600, in execute\n",
      "    tapes, post_processing = transform_program(tapes)\n",
      "                             ^^^^^^^^^^^^^^^^^^^^^^^^\n",
      "  File \"/Users/mateo/anaconda3/lib/python3.11/site-packages/pennylane/transforms/core/transform_program.py\", line 509, in __call__\n",
      "    new_tapes, fn = transform(tape, *targs, **tkwargs)\n",
      "                    ^^^^^^^^^^^^^^^^^^^^^^^^^^^^^^^^^^\n",
      "  File \"/Users/mateo/anaconda3/lib/python3.11/site-packages/pennylane/devices/preprocess.py\", line 131, in validate_device_wires\n",
      "    raise WireError(\n",
      "pennylane.wires.WireError: Cannot run circuit(s) on default.qubit as they contain wires not found on the device: {7}\n"
     ]
    },
    {
     "name": "stdout",
     "output_type": "stream",
     "text": [
      "Error during execution: Cannot run circuit(s) on default.qubit as they contain wires not found on the device: {7}\n"
     ]
    },
    {
     "name": "stderr",
     "output_type": "stream",
     "text": [
      "  0%|          | 0/185 [00:00<?, ?it/s]\n",
      "Traceback (most recent call last):\n",
      "  File \"/var/folders/wl/7wlprxgn5hxbwxmhbsvvsyj40000gs/T/ipykernel_28212/106676976.py\", line 320, in <module>\n",
      "    out = cost(param_init, train_x[i:i+25], train_y[i:i+25])\n",
      "          ^^^^^^^^^^^^^^^^^^^^^^^^^^^^^^^^^^^^^^^^^^^^^^^^^^\n",
      "  File \"/var/folders/wl/7wlprxgn5hxbwxmhbsvvsyj40000gs/T/ipykernel_28212/106676976.py\", line 312, in cost\n",
      "    predictions = m(circuit(weights, X))\n",
      "                    ^^^^^^^^^^^^^^^^^^^\n",
      "  File \"/Users/mateo/anaconda3/lib/python3.11/site-packages/pennylane/workflow/qnode.py\", line 1098, in __call__\n",
      "    res = self._execution_component(args, kwargs, override_shots=override_shots)\n",
      "          ^^^^^^^^^^^^^^^^^^^^^^^^^^^^^^^^^^^^^^^^^^^^^^^^^^^^^^^^^^^^^^^^^^^^^^\n",
      "  File \"/Users/mateo/anaconda3/lib/python3.11/site-packages/pennylane/workflow/qnode.py\", line 1052, in _execution_component\n",
      "    res = qml.execute(\n",
      "          ^^^^^^^^^^^^\n",
      "  File \"/Users/mateo/anaconda3/lib/python3.11/site-packages/pennylane/workflow/execution.py\", line 600, in execute\n",
      "    tapes, post_processing = transform_program(tapes)\n",
      "                             ^^^^^^^^^^^^^^^^^^^^^^^^\n",
      "  File \"/Users/mateo/anaconda3/lib/python3.11/site-packages/pennylane/transforms/core/transform_program.py\", line 509, in __call__\n",
      "    new_tapes, fn = transform(tape, *targs, **tkwargs)\n",
      "                    ^^^^^^^^^^^^^^^^^^^^^^^^^^^^^^^^^^\n",
      "  File \"/Users/mateo/anaconda3/lib/python3.11/site-packages/pennylane/devices/preprocess.py\", line 131, in validate_device_wires\n",
      "    raise WireError(\n",
      "pennylane.wires.WireError: Cannot run circuit(s) on default.qubit as they contain wires not found on the device: {7}\n"
     ]
    },
    {
     "name": "stdout",
     "output_type": "stream",
     "text": [
      "Error during execution: Cannot run circuit(s) on default.qubit as they contain wires not found on the device: {7}\n"
     ]
    },
    {
     "name": "stderr",
     "output_type": "stream",
     "text": [
      "  0%|          | 0/185 [00:00<?, ?it/s]\n",
      "Traceback (most recent call last):\n",
      "  File \"/var/folders/wl/7wlprxgn5hxbwxmhbsvvsyj40000gs/T/ipykernel_28212/106676976.py\", line 320, in <module>\n",
      "    out = cost(param_init, train_x[i:i+25], train_y[i:i+25])\n",
      "          ^^^^^^^^^^^^^^^^^^^^^^^^^^^^^^^^^^^^^^^^^^^^^^^^^^\n",
      "  File \"/var/folders/wl/7wlprxgn5hxbwxmhbsvvsyj40000gs/T/ipykernel_28212/106676976.py\", line 312, in cost\n",
      "    predictions = m(circuit(weights, X))\n",
      "                    ^^^^^^^^^^^^^^^^^^^\n",
      "  File \"/Users/mateo/anaconda3/lib/python3.11/site-packages/pennylane/workflow/qnode.py\", line 1098, in __call__\n",
      "    res = self._execution_component(args, kwargs, override_shots=override_shots)\n",
      "          ^^^^^^^^^^^^^^^^^^^^^^^^^^^^^^^^^^^^^^^^^^^^^^^^^^^^^^^^^^^^^^^^^^^^^^\n",
      "  File \"/Users/mateo/anaconda3/lib/python3.11/site-packages/pennylane/workflow/qnode.py\", line 1052, in _execution_component\n",
      "    res = qml.execute(\n",
      "          ^^^^^^^^^^^^\n",
      "  File \"/Users/mateo/anaconda3/lib/python3.11/site-packages/pennylane/workflow/execution.py\", line 600, in execute\n",
      "    tapes, post_processing = transform_program(tapes)\n",
      "                             ^^^^^^^^^^^^^^^^^^^^^^^^\n",
      "  File \"/Users/mateo/anaconda3/lib/python3.11/site-packages/pennylane/transforms/core/transform_program.py\", line 509, in __call__\n",
      "    new_tapes, fn = transform(tape, *targs, **tkwargs)\n",
      "                    ^^^^^^^^^^^^^^^^^^^^^^^^^^^^^^^^^^\n",
      "  File \"/Users/mateo/anaconda3/lib/python3.11/site-packages/pennylane/devices/preprocess.py\", line 131, in validate_device_wires\n",
      "    raise WireError(\n",
      "pennylane.wires.WireError: Cannot run circuit(s) on default.qubit as they contain wires not found on the device: {7}\n"
     ]
    },
    {
     "name": "stdout",
     "output_type": "stream",
     "text": [
      "Error during execution: Cannot run circuit(s) on default.qubit as they contain wires not found on the device: {7}\n"
     ]
    },
    {
     "name": "stderr",
     "output_type": "stream",
     "text": [
      "  0%|          | 0/185 [00:00<?, ?it/s]\n",
      "Traceback (most recent call last):\n",
      "  File \"/var/folders/wl/7wlprxgn5hxbwxmhbsvvsyj40000gs/T/ipykernel_28212/106676976.py\", line 320, in <module>\n",
      "    out = cost(param_init, train_x[i:i+25], train_y[i:i+25])\n",
      "          ^^^^^^^^^^^^^^^^^^^^^^^^^^^^^^^^^^^^^^^^^^^^^^^^^^\n",
      "  File \"/var/folders/wl/7wlprxgn5hxbwxmhbsvvsyj40000gs/T/ipykernel_28212/106676976.py\", line 312, in cost\n",
      "    predictions = m(circuit(weights, X))\n",
      "                    ^^^^^^^^^^^^^^^^^^^\n",
      "  File \"/Users/mateo/anaconda3/lib/python3.11/site-packages/pennylane/workflow/qnode.py\", line 1098, in __call__\n",
      "    res = self._execution_component(args, kwargs, override_shots=override_shots)\n",
      "          ^^^^^^^^^^^^^^^^^^^^^^^^^^^^^^^^^^^^^^^^^^^^^^^^^^^^^^^^^^^^^^^^^^^^^^\n",
      "  File \"/Users/mateo/anaconda3/lib/python3.11/site-packages/pennylane/workflow/qnode.py\", line 1052, in _execution_component\n",
      "    res = qml.execute(\n",
      "          ^^^^^^^^^^^^\n",
      "  File \"/Users/mateo/anaconda3/lib/python3.11/site-packages/pennylane/workflow/execution.py\", line 600, in execute\n",
      "    tapes, post_processing = transform_program(tapes)\n",
      "                             ^^^^^^^^^^^^^^^^^^^^^^^^\n",
      "  File \"/Users/mateo/anaconda3/lib/python3.11/site-packages/pennylane/transforms/core/transform_program.py\", line 509, in __call__\n",
      "    new_tapes, fn = transform(tape, *targs, **tkwargs)\n",
      "                    ^^^^^^^^^^^^^^^^^^^^^^^^^^^^^^^^^^\n",
      "  File \"/Users/mateo/anaconda3/lib/python3.11/site-packages/pennylane/devices/preprocess.py\", line 131, in validate_device_wires\n",
      "    raise WireError(\n",
      "pennylane.wires.WireError: Cannot run circuit(s) on default.qubit as they contain wires not found on the device: {7}\n"
     ]
    },
    {
     "name": "stdout",
     "output_type": "stream",
     "text": [
      "Error during execution: Cannot run circuit(s) on default.qubit as they contain wires not found on the device: {7}\n"
     ]
    }
   ],
   "source": [
    "#--------------------------------- Choose PreProcessing Techniques ---------------------------------------------------\n",
    "#Initializes metrics chart \n",
    "with open('/Users/mateo/Repos/Deep-Learning-of-ECG-signals/Performance/QCNN_Performance_Scores.csv', mode='a', newline='') as file:\n",
    "    writer = csv.writer(file)\n",
    "    writer.writerow(['Preprocessing Method','Num of Features', 'Encoding Method', 'Convolutional Layer Architecture', 'Num of Params', 'Pooling Architecture', 'Num of Params', 'Convs per Layer', 'Special Pooling', 'Pooling Direction','Accuracy','Precision', 'Recall' ,'F1 Score' , 'AUROC' , 'AUPRC', 'Confusion Matrix'])\n",
    "\n",
    "for i in range(6):\n",
    "    j = 8\n",
    "\n",
    "    #'Please select the classical data preprocessing technique: \\n 1. PCA \\n 2. Autoencoder \\n 3. Undersampling \\n 4. Laplacian Eigenmaps \\n 5. Locality Preserving Projections \\n 6. Compressive sensing with FFT \\n 7. Compressive sensing \\n Selection is: ')\n",
    "    selection = i+1\n",
    "    if selection == 1:\n",
    "        c = 8\n",
    "        num_of_features = c\n",
    "        x = pca(x, c)\n",
    "    elif selection == 2:\n",
    "        c = 8\n",
    "        num_of_features = c\n",
    "        x = autoencoder(x, c)\n",
    "    elif selection == 3:\n",
    "        c = j\n",
    "        x = undersampling(x, c)\n",
    "    elif selection == 4:\n",
    "        c = j\n",
    "        x = laplacian_eigenmaps(x, c)\n",
    "    elif selection == 5:\n",
    "        c = j\n",
    "        x = locality_preserving_projections(x, c)\n",
    "    elif selection == 6:\n",
    "        c = j\n",
    "        x = compressive_sensing_fft(x, c)\n",
    "    elif selection == 7:\n",
    "        c = j\n",
    "        x = compressive_sensing(x, c)\n",
    "    print(\"Shape of data: \", x.shape)\n",
    "    \n",
    "\n",
    "    #--------------------------------- Choose Encoding Method ---------------------------------------------------\n",
    "    for i in range(2):\n",
    "        try:   \n",
    "            #input('Please select the quantum feature map: \\n 1. Angle Embedding \\n 2. Amplitude Embedding \\n 3. FRQI \\n Selection is: ')\n",
    "            encode_selection = i+1\n",
    "            if encode_selection == 1:\n",
    "                n_qubits = x.shape[1]\n",
    "                embedding = AngleEmbedding\n",
    "            elif encode_selection == 2:\n",
    "                n_qubits = int(np.log2(x.shape[1]))\n",
    "                x = normalize(x)\n",
    "                embedding = AmplitudeEmbedding\n",
    "            elif encode_selection == 3:\n",
    "                n_qubits = 9\n",
    "                x = normalize(x)\n",
    "                embedding = FRQI\n",
    "\n",
    "            # train test split\n",
    "            split = 0.8*x.shape[0]\n",
    "            train_x, train_y = x[:int(split), :], y[:int(split)]\n",
    "            test_x, test_y = x[int(split):, :], y[int(split):]\n",
    "        except Exception as e:\n",
    "            print(f'Error during execution: {e}')\n",
    "            traceback.print_exc()\n",
    "            continue # Skips the PreProcessing technique\n",
    "        \n",
    "        #--------------------------------- Choosing Convolutional Layer Architectures ---------------------------------------------------\n",
    "\n",
    "        params_per_conv_layer_map = {\n",
    "            1: 3,\n",
    "            2: 15,\n",
    "            3: 2,\n",
    "            4: 2,\n",
    "            5: 4,\n",
    "            6: 6,\n",
    "            7: 6,\n",
    "            8: 6,\n",
    "            9: 10,\n",
    "            10: 10,\n",
    "            11: 15\n",
    "        }\n",
    "        for i in range(10):\n",
    "            try:\n",
    "                #input(\"Select the convolutional layer you want to use (1-11): \")\n",
    "                conv_selection = f\"{i+1}\"\n",
    "                conv = globals()[f\"conv{conv_selection}\"]\n",
    "                params_per_conv = params_per_conv_layer_map[int(conv_selection)]\n",
    "                conv_selection = i+1\n",
    "                print(params_per_conv)\n",
    "            except Exception as e:\n",
    "                print(f'Error during execution: {e}')\n",
    "                traceback.print_exc()\n",
    "                continue # Skips the PreProcessing technique\n",
    "\n",
    "            #--------------------------------- Choosing Pooling Layer Architectures ---------------------------------------------------\n",
    "\n",
    "            params_per_pool_layer_map = {\n",
    "                1: 3,\n",
    "                2: 9,\n",
    "                3: 2,\n",
    "                4: 1\n",
    "            }\n",
    "            for i in range(3):\n",
    "                try:\n",
    "\n",
    "                    #input(\"Select the pooling layer you want to use (1-4): \")\n",
    "                    pooling_selection = f\"{i+1}\"\n",
    "                    pool = globals()[f\"pool{pooling_selection}\"]\n",
    "                    params_per_pool = params_per_pool_layer_map[int(pooling_selection)]\n",
    "                    pooling_selection = i+1\n",
    "\n",
    "                    #--------------------------------- Construct QCNN ---------------------------------------------------\n",
    "\n",
    "                    # set up the quantum device\n",
    "                    dev = qml.device('default.qubit', wires = n_qubits)\n",
    "\n",
    "                    #Applies standard pooling operation between pairs of qubits\n",
    "                    def pooling_layer(sources, sinks, params):\n",
    "                        param_index = 0\n",
    "                        for source, sink in zip(sources, sinks):\n",
    "                            pool(params[param_index:param_index+params_per_pool], wires=[source, sink])\n",
    "                            param_index += params_per_pool\n",
    "\n",
    "                    inv_mapping = {\n",
    "                        1:4,\n",
    "                        2:2,\n",
    "                        4:1,\n",
    "                    }\n",
    "\n",
    "                    #Applies alternative pooling layer which applies a conditional rotaion. \n",
    "                    def pooling_layer_other(sources, sinks, params):\n",
    "                        measurements = [np.nan for i in range(8)]\n",
    "                        for i in sources:\n",
    "                            measurements[i] = qml.measure(wires=i)\n",
    "                        print(f\"sources: {sources} | sinks: {sinks} | measurements: {measurements}\")\n",
    "                        if len(sources) > 1:\n",
    "                            for count, j in enumerate(sinks):\n",
    "                                qml.cond(measurements[j-inv_mapping[len(sources)]] == 1, qml.RZ)(params[count], wires=j)\n",
    "                                qml.cond(measurements[j+inv_mapping[len(sources)]] == 1, qml.RZ)(params[count], wires=j)\n",
    "                        else:\n",
    "                            qml.cond(measurements[4] == 1, qml.RZ)(params[0], wires=sinks[0])\n",
    "\n",
    "                    def conv_layer(wires, params, convs_per_layer):\n",
    "                        param_index = 0\n",
    "\n",
    "                        for i in range(convs_per_layer):\n",
    "                            for q1, q2 in zip(wires[::2], wires[1::2]):\n",
    "                                conv(params[param_index:param_index+params_per_conv], wires=[q1, q2])\n",
    "                                param_index += params_per_conv\n",
    "                            for q1, q2 in zip(wires[1::2], wires[2::2] + [min(wires)]):\n",
    "                                conv(params[param_index:param_index+params_per_conv], wires=[q1, q2])\n",
    "                                param_index += params_per_conv\n",
    "\n",
    "                        \n",
    "                except Exception as e:\n",
    "                    print(f'Error during execution: {e}')\n",
    "                    traceback.print_exc()\n",
    "                    continue # Skips the PreProcessing technique\n",
    "\n",
    "                for i in range(2):\n",
    "                    try:\n",
    "\n",
    "                        #int(input(\"Select the number of covolutions per layer you want to use (1-3): \"))\n",
    "\n",
    "                        convs_per_layer = i+1\n",
    "\n",
    "                        assert convs_per_layer in [1, 2, 3], \"You must select 1, 2, or 3 convolutions per layer\"\n",
    "\n",
    "                        #----------------------------------------------------------------------------------------------------------------------\n",
    "                        for i in range(1):\n",
    "                            try: \n",
    "                                special_pooling = bool(int(i))\n",
    "                                \n",
    "                                if special_pooling:\n",
    "                                    specialPooling = 'Yes'\n",
    "                                    poolingDirection = 'None'\n",
    "                                    pooling_direction = 2\n",
    "                                    params_per_pool = 1\n",
    "\n",
    "                                for i in range(1):\n",
    "                                    try:\n",
    "                                        if not special_pooling:\n",
    "                                            \n",
    "                                                specialPooling = 'No'\n",
    "                                                if i == 0:\n",
    "                                                    poolingDirection = 'Top half'\n",
    "                                                else:\n",
    "                                                    poolingDirection = 'Every Other'\n",
    "\n",
    "                                                pooling_direction = int(i)\n",
    "                                                assert pooling_direction in [0, 1], \"Invalid pooling direction\"\n",
    "\n",
    "                                        layers = [n_qubits] + [int(n_qubits/(2**i)) for i in range(1, int(np.log2(n_qubits))+1)]\n",
    "                                        num_params = ceil(sum(layers)*(params_per_conv*convs_per_layer + params_per_pool/2))\n",
    "\n",
    "                                        # list of tensors with initial values of 0.01*np.random.randn(num_params)\n",
    "                                        param_init = [torch.tensor(np.random.rand(), requires_grad=True) for _ in range(num_params)]\n",
    "\n",
    "                                        @qml.qnode(dev, interface='torch')\n",
    "                                        def circuit(params, x):\n",
    "                                            embedding(x, wires=range(n_qubits))\n",
    "                                            \n",
    "                                            # create a list, starting with n_qubits, then floor(n_qubits/2), then floor(n_qubits/4), etc.\n",
    "                                            layers = [n_qubits] + [int(n_qubits/(2**i)) for i in range(1, int(np.log2(n_qubits))+1)]\n",
    "\n",
    "                                            param_starting_index = 0\n",
    "                                            if pooling_direction == 0:\n",
    "                                                # Shrinking towards the bottom\n",
    "                                                for layer_qubits in layers[:-1]:\n",
    "                                                    conv_layer(wires=list(range(n_qubits - layer_qubits, n_qubits)), params=params[param_starting_index:param_starting_index+params_per_conv*int(layer_qubits*convs_per_layer)], convs_per_layer=convs_per_layer)\n",
    "                                                    param_starting_index += params_per_conv*int(layer_qubits*convs_per_layer)\n",
    "                                                    qml.Barrier()\n",
    "                                                    pooling_layer(sources=list(range(n_qubits - layer_qubits, n_qubits - layer_qubits + int(layer_qubits/2))), sinks=list(range(n_qubits - layer_qubits + int(layer_qubits/2), n_qubits)), params=params[param_starting_index:param_starting_index+params_per_pool*int(layer_qubits/2)])\n",
    "                                                    param_starting_index += params_per_pool*int(layer_qubits/2)\n",
    "                                                    qml.Barrier()\n",
    "\n",
    "                                                return qml.expval(qml.PauliZ(n_qubits - 1))\n",
    "                                            else:\n",
    "                                                # Shrinking every other qubit\n",
    "                                                source_factor = 1\n",
    "                                                for layer_qubits in layers[:-1]:\n",
    "                                                    conv_layer(wires=list(range(0, n_qubits, n_qubits//layer_qubits)), params=params[param_starting_index:param_starting_index+params_per_conv*int(layer_qubits*convs_per_layer)], convs_per_layer=convs_per_layer)\n",
    "                                                    param_starting_index += params_per_conv*int(layer_qubits*convs_per_layer)\n",
    "                                                    qml.Barrier()\n",
    "                                                    if special_pooling:\n",
    "                                                        pooling_layer_other(sources=list(range(source_factor, n_qubits, 2*(n_qubits//layer_qubits))), sinks=list(range(0, n_qubits, 2*(n_qubits//layer_qubits))), params=params[param_starting_index:param_starting_index+params_per_pool*int(layer_qubits/2)])\n",
    "                                                    else:\n",
    "                                                        pooling_layer(sources=list(range(source_factor, n_qubits, 2*(n_qubits//layer_qubits))), sinks=list(range(0, n_qubits, 2*(n_qubits//layer_qubits))), params=params[param_starting_index:param_starting_index+params_per_pool*int(layer_qubits/2)])\n",
    "                                                    param_starting_index += params_per_pool*int(layer_qubits/2)\n",
    "                                                    source_factor *= 2\n",
    "                                                    qml.Barrier()\n",
    "\n",
    "                                                return qml.expval(qml.PauliZ(0))\n",
    "\n",
    "                                        # print(qml.draw(circuit)(param_init, x[0]))\n",
    "                                        with open('circuit.txt', 'w') as f:\n",
    "                                            try:\n",
    "                                                f.write(qml.draw(circuit)(param_init, x[0]))\n",
    "                                            except Exception as e:\n",
    "                                                print(str(e))\n",
    "                                                f.write(traceback.format_exc())\n",
    "\n",
    "                                        #--------------------------------- Construct the MPS ---------------------------------------------------\n",
    "\n",
    "                                        pauli_x = torch.tensor([[0, 1], [1, 0]])\n",
    "                                        pauli_y = torch.tensor([[0, -1j], [1j, 0]])\n",
    "                                        pauli_z = torch.tensor([[1, 0], [0, -1]])\n",
    "                                        pauli_i = torch.tensor([[1, 0], [0, 1]])\n",
    "\n",
    "                                        mapping = {\n",
    "                                            0: pauli_i,\n",
    "                                            1: pauli_x,\n",
    "                                            2: pauli_y,\n",
    "                                            3: pauli_z\n",
    "                                        }\n",
    "\n",
    "                                        def block(weights, wires):\n",
    "                                            weights.insert(0, torch.tensor([0.], requires_grad=False))\n",
    "                                            matrices = []\n",
    "                                            for i in range(4):\n",
    "                                                for j in range(4):\n",
    "                                                    matrices.append(torch.kron(mapping[i], mapping[j])*weights[4*i+j])\n",
    "                                            weight_matrix = sum(matrices)*(-1j/2)\n",
    "                                            weight_matrix = torch.linalg.matrix_exp(weight_matrix)\n",
    "                                            qml.QubitUnitary(weight_matrix, wires=wires)\n",
    "\n",
    "                                        # n_params_per_block = 15\n",
    "                                        # n_qubits = 9\n",
    "\n",
    "                                        # list of tensors with initial values of 0.01*np.random.randn(num_params)\n",
    "                                        param_init = [torch.tensor(np.random.rand(), requires_grad=True) for _ in range(2*(n_qubits-1)*15)]\n",
    "\n",
    "                                        @qml.qnode(dev, interface='torch')\n",
    "                                        def circuit(params, x):\n",
    "                                            embedding(x, wires=range(n_qubits))\n",
    "                                            for i in range(0, n_qubits-1):\n",
    "                                                # print(f\"{i*15}:{(i+1)*15}\")\n",
    "                                                block(params[i*15:(i+1)*15], wires=range(i, i+2))\n",
    "                                            for i in range(0, n_qubits-1):\n",
    "                                                # print(f\"{i*15}:{(i+1)*15}\")\n",
    "                                                block(params[i*15:(i+1)*15], wires=range(i, i+2))\n",
    "                                            return qml.expval(qml.PauliZ(7))\n",
    "\n",
    "                                        with open('circuit.txt', 'w') as f:\n",
    "                                            try:#, x[0]\n",
    "                                                f.write(qml.draw(circuit)(param_init, x[0]))\n",
    "                                            except Exception as e:\n",
    "                                                print(str(e))\n",
    "                                                f.write(traceback.format_exc())\n",
    "\n",
    "                                        #--------------------------------- Train QCNN ---------------------------------------------------\n",
    "\n",
    "                                        from torcheval.metrics.functional import binary_accuracy\n",
    "                                        from concurrent.futures import ThreadPoolExecutor, as_completed\n",
    "                                        from tqdm import tqdm\n",
    "                                        opt = optim.SGD(params=param_init, lr=0.001, nesterov=True, momentum=0.9)\n",
    "                                        loss = nn.BCELoss()\n",
    "                                        m = nn.Sigmoid()\n",
    "\n",
    "                                        # Initialize an empty list to store loss values\n",
    "                                        loss_values = []\n",
    "\n",
    "                                        def parallel_eval(weights, x):\n",
    "                                            return m(circuit(weights, x))\n",
    "\n",
    "                                        def cost(weights, X, Y):\n",
    "                                            if embedding == FRQI:\n",
    "                                                with ThreadPoolExecutor(max_workers=20) as executor:\n",
    "                                                    futures = [executor.submit(parallel_eval, weights, x) for x in X]\n",
    "                                                    predictions = torch.stack([future.result() for future in as_completed(futures)])\n",
    "                                                    np_preds = [np.round(prediction.detach().numpy()) for prediction in predictions]\n",
    "                                                    train_acc = binary_accuracy(torch.tensor(np_preds, dtype=torch.int), torch.tensor(Y, dtype=torch.int))\n",
    "                                                    print(\"train_acc: {}\".format(train_acc))\n",
    "                                            else:\n",
    "                                                predictions = m(circuit(weights, X))\n",
    "                                            return loss(predictions, torch.tensor(Y, dtype=torch.double))\n",
    "\n",
    "\n",
    "                                        for i in range(3):\n",
    "                                            # this will take a very long time to run for FRQI\n",
    "                                            for iter, i in tqdm(enumerate(range(0, train_x.shape[0], 25)), total=train_x.shape[0]//25):\n",
    "                                                opt.zero_grad()\n",
    "                                                out = cost(param_init, train_x[i:i+25], train_y[i:i+25])\n",
    "                                                out.backward()\n",
    "                                                opt.step()\n",
    "\n",
    "                                                loss_values.append(out.item())\n",
    "\n",
    "                                                # Print loss value \n",
    "                                                #print(f\"Iteration {iter}, Loss: {out.item()}\")\n",
    "\n",
    "                                            if embedding == FRQI:\n",
    "                                                with ThreadPoolExecutor(max_workers=10) as executor:\n",
    "                                                    futures = [executor.submit(parallel_eval, param_init, x) for x in test_x]\n",
    "                                                    test_preds = [np.round(future.result().detach().numpy()) for future in tqdm(as_completed(futures), total=len(futures))]\n",
    "                                            else:\n",
    "                                                test_preds = np.round(m(circuit(param_init, test_x)).detach().numpy())\n",
    "\n",
    "                                            #Convert predictions to array\n",
    "                                            test_preds_np = np.array(test_preds)\n",
    "                                            test_y_np = np.array(test_y)\n",
    "\n",
    "                                            #Calculate metrics    \n",
    "                                            accuracy = binary_accuracy(torch.tensor(test_preds, dtype=torch.int), torch.tensor(test_y, dtype=torch.int))\n",
    "                                            precision = precision_score(test_y_np, test_preds_np, average = 'binary')\n",
    "                                            recall = recall_score(test_y_np, test_preds_np, average = 'binary')\n",
    "                                            f1 = f1_score(test_y_np, test_preds_np, average = 'binary')\n",
    "                                            auroc = roc_auc_score(test_y_np, test_preds_np)\n",
    "                                            auprc = average_precision_score(test_y_np, test_preds_np)\n",
    "                                            conf_matrix = confusion_matrix(test_y_np, test_preds_np)\n",
    "\n",
    "                                            #QCNN Configuration Array\n",
    "                                            preProcSelection = { \n",
    "                                                1:'PCA',\n",
    "                                                2:'Autoencoder',\n",
    "                                                3:'Undersampling',\n",
    "                                                4:'Laplacian Eigenmaps',\n",
    "                                                5:'Locality Preservving Projections',\n",
    "                                                6:'Compressive sensing with FFT',\n",
    "                                                7:'Compressive sensing'\n",
    "                                            }\n",
    "                                            \n",
    "                                            encodeSelection = { \n",
    "                                                1:'Angle Embedding',\n",
    "                                                2:'Amplitude Embedding',\n",
    "                                                3:'FRQI'\n",
    "                                                }\n",
    "                                            \n",
    "                                            convSelection = {\n",
    "                                                1:'3',\n",
    "                                                2:'15',\n",
    "                                                3:'2',\n",
    "                                                4:'2',\n",
    "                                                5:'4',\n",
    "                                                6:'6',\n",
    "                                                7:'6',\n",
    "                                                8:'6',\n",
    "                                                9:'10',\n",
    "                                                10:'10',\n",
    "                                                11:'15'\n",
    "                                            }\n",
    "                                    \n",
    "                                            paramsPerPoolSelection = {\n",
    "                                                1:'3',\n",
    "                                                2:'9',\n",
    "                                                3:'2',\n",
    "                                                4:'1'\n",
    "                                            }\n",
    "\n",
    "                                            convsPerLayerSelection = {\n",
    "                                                1:'1',\n",
    "                                                2:'2',\n",
    "                                                3:'3'\n",
    "                                            }\n",
    "\n",
    "                                            #Uncomment to see Training Loss graph for each configuration \n",
    "                                            \"\"\"\n",
    "                                            # Plot the loss values\n",
    "                                            plt.figure(figsize=(10, 5))\n",
    "                                            plt.plot(loss_values, label='Loss')\n",
    "                                            plt.xlabel('Iteration')\n",
    "                                            plt.ylabel('Loss')\n",
    "                                            plt.title('Training Loss over Iterations')\n",
    "                                            plt.legend()\n",
    "                                            plt.show()\n",
    "                                            \"\"\"\n",
    "\n",
    "                                            # Store the results in a CSV file\n",
    "                                            with open('/Users/mateo/Repos/Deep-Learning-of-ECG-signals/Performance/QCNN_Performance_Scores.csv', mode='a', newline='') as file:\n",
    "                                                writer = csv.writer(file)\n",
    "                                                writer.writerow([preProcSelection[selection], num_of_features, encodeSelection[encode_selection], conv_selection, convSelection[conv_selection], pooling_selection, paramsPerPoolSelection[pooling_selection], convsPerLayerSelection[convs_per_layer], specialPooling, poolingDirection, accuracy, precision, recall, f1, auroc, auprc, conf_matrix.tolist()])\n",
    "\n",
    "                                           #Uncomment to display performance metrics for each configuration. These will be saved to .csv file \n",
    "                                            \"\"\"\n",
    "                                            #Print metrics  \n",
    "                                            print(f\"Metrics for configuration with {preProcSelection[selection]} with {num_of_features} features, and {encodeSelection[encode_selection]}\", end=' ') \n",
    "                                            print(f\"Convolutional Layer: {conv_selection}\", f\"with {convSelection[conv_selection]} parameters and\", end=' ')\n",
    "                                            print(f\"Pool Layer: {pooling_selection}\", f\" with {paramsPerPoolSelection[pooling_selection]} parameters.\", end=' ')\n",
    "                                            print(f\"Convolutions Per Layer: {convsPerLayerSelection[convs_per_layer]}\")\n",
    "                                            print(\"Special Pooling: \", specialPooling, end=' ')\n",
    "                                            print(\"Pooling Direction: \", poolingDirection)\n",
    "                                            print(\"\\nAccuracy: {:0.5f}\".format(accuracy))\n",
    "                                            print(\"Precision: {:0.5f}\".format(precision))\n",
    "                                            print(\"Recall: {:0.5f}\".format(recall))\n",
    "                                            print(\"F1 Score: {:0.5f}\".format(f1))\n",
    "                                            print(\"AUROC: {:0.5f}\".format(auroc))\n",
    "                                            print(\"AUPRC: {:0.5f}\".format(auprc))\n",
    "                                            \n",
    "                                            print(\"\\nConfusion Matrix: \")\n",
    "                                            print(conf_matrix)\n",
    "                                            print(\"\\n\\n\")\n",
    "                                            \"\"\"\n",
    "\n",
    "                                    except Exception as e:\n",
    "                                        print(f'Error during execution: {e}')\n",
    "                                        traceback.print_exc()\n",
    "                                        continue # Skips the PreProcessing technique\n",
    "\n",
    "                            except Exception as e:\n",
    "                                print(f'Error during execution: {e}')\n",
    "                                traceback.print_exc()\n",
    "                                continue # Skips the PreProcessing technique\n",
    "\n",
    "                    except Exception as e:\n",
    "                        print(f'Error during execution: {e}')\n",
    "                        traceback.print_exc()\n",
    "                        continue # Skips the PreProcessing technique\n",
    "\n"
   ]
  },
  {
   "cell_type": "markdown",
   "metadata": {},
   "source": [
    "# Results \n",
    "\n",
    "### Classical CNN Results\n",
    "The results for the Quantum CNN are saved in the the Performance folder in the file named CNN Performance Scores. This file is a .csv file that will savethe classical CNNs perfoemance scores each time the prgram is run. This Performance folder can also be used ot save the Training and Validation Loss graphs that the proogram generates. Below are the averge results for our model: \n",
    "\n",
    "Accuracy: <strong>0.9955 ± 0.0019</strong>\n",
    "\n",
    "Precision: <strong>0.9971 ± 0.0016</strong>\n",
    "\n",
    "Recall: <strong>0.9988 ± 0.0023</strong>\n",
    "\n",
    "F1 Score: <strong>0.9969 ± 0.0011</strong>\n",
    "\n",
    "AUROC: <strong>0.9998 ± 0.0001</strong>\n",
    "\n",
    "AUPRC: <strong>1.000 ± 0.0000</strong>\n",
    "\n",
    "<strong>Confusion Matrix: </strong> <br>\n",
    "[[ 226      3] <br>\n",
    " [   4   1554]]\n",
    "\n",
    "\n",
    "<br>\n",
    "\n",
    "### Quantum CNN Results\n",
    "The results for the Quantum CNN are saved in the the Performance folder in the file named QCNN Performance Scores. This file is a .csv file containing all the possible QCNN configurations and their performance scores. The overall best performing quantum circuit configuration was the the circuit with:\n",
    "\n",
    "• PreProcessing Method: <strong> AutoEncoder </strong>\n",
    "\n",
    "• # of Features: <strong> 8 </strong>\n",
    "\n",
    "• Encoding Method: <strong> Angle Embedding </strong>\n",
    "\n",
    "• Convolutional Layer Architechture: <strong> 3 with 3 params </strong>\n",
    "\n",
    "• Pooling Layer Architechture: <strong> 3 with 2 params </strong>\n",
    "\n",
    "• Convs per Layer: <strong> 2 </strong>\n",
    "\n",
    "<br> <br>\n",
    "which had a score of the following: \n",
    "\n",
    "• Accuracy: <strong> 0.7573 </strong>\n",
    "\n",
    "• Precision: <strong> 0.8876 </strong>\n",
    "\n",
    "• Recall: <strong> 0.8271 </strong>\n",
    "\n",
    "• F1: <strong> 0.8563 </strong>\n",
    "\n",
    "• AUROC: <strong> 0.5505 </strong>\n",
    "\n",
    "• AUPRC: <strong> 0.8852 </strong>\n",
    "\n",
    "<br>\n",
    "\n",
    "# Conclusion \n",
    "The results of the calssical CNN turned out to be very good at binary classification of ECG signals. These results were significantly better than we expected after implementing the hyperparameter optimization. However the results for the QCNN model were underwhelming. There is a lot of room for improvment in the future. By experimenting with different PreProcessing and Embedding tehcniques we can optimize the input data's dimensionality. We can also experiment with different quantum convolutional and pooling layers to help improve results as well. "
   ]
  }
 ],
 "metadata": {
  "kernelspec": {
   "display_name": "Python 3",
   "language": "python",
   "name": "python3"
  },
  "language_info": {
   "codemirror_mode": {
    "name": "ipython",
    "version": 3
   },
   "file_extension": ".py",
   "mimetype": "text/x-python",
   "name": "python",
   "nbconvert_exporter": "python",
   "pygments_lexer": "ipython3",
   "version": "3.11.4"
  }
 },
 "nbformat": 4,
 "nbformat_minor": 2
}
